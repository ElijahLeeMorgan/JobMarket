{
 "cells": [
  {
   "cell_type": "code",
   "execution_count": 1,
   "id": "initial_id",
   "metadata": {
    "collapsed": true,
    "ExecuteTime": {
     "end_time": "2024-07-09T11:24:52.326959800Z",
     "start_time": "2024-07-09T11:24:50.737347900Z"
    }
   },
   "outputs": [],
   "source": [
    "import pandas as pd"
   ]
  },
  {
   "cell_type": "code",
   "execution_count": 5,
   "outputs": [],
   "source": [
    "df = pd.read_csv('../data_acquisition/data/df_without_salary.csv')\n",
    "df_with = pd.read_csv('../data_acquisition/data/df_with_salary.csv')\n",
    "df_with_salary_few_shot = pd.read_csv('../data_acquisition/data/df_with_salary_few_shot.csv')"
   ],
   "metadata": {
    "collapsed": false,
    "ExecuteTime": {
     "end_time": "2024-07-09T11:26:02.684163600Z",
     "start_time": "2024-07-09T11:26:02.626290900Z"
    }
   },
   "id": "508a26773a6ec8f7"
  },
  {
   "cell_type": "code",
   "execution_count": 15,
   "outputs": [
    {
     "data": {
      "text/plain": "                                               title             company  \\\n0                             Software Engineer .Net  ELCA Informatik AG   \n1                      Digital Analyst / Web Analyst             Unic AG   \n2                             ICT Supporter 100% (a)       Spitex Zürich   \n3  KAUFMÄNNISCHES PRAKTIKUM (100%) - MIT FOKUS KU...           gebana AG   \n4  System Engineer für Microsoft-Technologien und...        konekkt GmbH   \n\n    contract_type                                        description  \\\n0  Festanstellung  Über ELCA Wir sind ELCA, einer der grössten Sc...   \n1  Festanstellung  Deine Aufgaben als Digital Analyst bei Unic   ...   \n2  Festanstellung  Möchtest du auch etwas bewegen und deine Arbei...   \n3       Praktikum  DEINE AUFGABEN IM KUND:INNENSERVICE – EINSATZ ...   \n4  Festanstellung  Wir präsentieren eine faszinierende Karrieremö...   \n\n   min_workload  max_workload  min_salary  max_salary  \n0            80           100      100000      130000  \n1            80           100       90000      113000  \n2           100           100       78000       96000  \n3           100           100       28300       28300  \n4            80           100       95000      125000  ",
      "text/html": "<div>\n<style scoped>\n    .dataframe tbody tr th:only-of-type {\n        vertical-align: middle;\n    }\n\n    .dataframe tbody tr th {\n        vertical-align: top;\n    }\n\n    .dataframe thead th {\n        text-align: right;\n    }\n</style>\n<table border=\"1\" class=\"dataframe\">\n  <thead>\n    <tr style=\"text-align: right;\">\n      <th></th>\n      <th>title</th>\n      <th>company</th>\n      <th>contract_type</th>\n      <th>description</th>\n      <th>min_workload</th>\n      <th>max_workload</th>\n      <th>min_salary</th>\n      <th>max_salary</th>\n    </tr>\n  </thead>\n  <tbody>\n    <tr>\n      <th>0</th>\n      <td>Software Engineer .Net</td>\n      <td>ELCA Informatik AG</td>\n      <td>Festanstellung</td>\n      <td>Über ELCA Wir sind ELCA, einer der grössten Sc...</td>\n      <td>80</td>\n      <td>100</td>\n      <td>100000</td>\n      <td>130000</td>\n    </tr>\n    <tr>\n      <th>1</th>\n      <td>Digital Analyst / Web Analyst</td>\n      <td>Unic AG</td>\n      <td>Festanstellung</td>\n      <td>Deine Aufgaben als Digital Analyst bei Unic   ...</td>\n      <td>80</td>\n      <td>100</td>\n      <td>90000</td>\n      <td>113000</td>\n    </tr>\n    <tr>\n      <th>2</th>\n      <td>ICT Supporter 100% (a)</td>\n      <td>Spitex Zürich</td>\n      <td>Festanstellung</td>\n      <td>Möchtest du auch etwas bewegen und deine Arbei...</td>\n      <td>100</td>\n      <td>100</td>\n      <td>78000</td>\n      <td>96000</td>\n    </tr>\n    <tr>\n      <th>3</th>\n      <td>KAUFMÄNNISCHES PRAKTIKUM (100%) - MIT FOKUS KU...</td>\n      <td>gebana AG</td>\n      <td>Praktikum</td>\n      <td>DEINE AUFGABEN IM KUND:INNENSERVICE – EINSATZ ...</td>\n      <td>100</td>\n      <td>100</td>\n      <td>28300</td>\n      <td>28300</td>\n    </tr>\n    <tr>\n      <th>4</th>\n      <td>System Engineer für Microsoft-Technologien und...</td>\n      <td>konekkt GmbH</td>\n      <td>Festanstellung</td>\n      <td>Wir präsentieren eine faszinierende Karrieremö...</td>\n      <td>80</td>\n      <td>100</td>\n      <td>95000</td>\n      <td>125000</td>\n    </tr>\n  </tbody>\n</table>\n</div>"
     },
     "execution_count": 15,
     "metadata": {},
     "output_type": "execute_result"
    }
   ],
   "source": [
    "df_with.head()"
   ],
   "metadata": {
    "collapsed": false,
    "ExecuteTime": {
     "end_time": "2024-07-09T11:40:49.138278200Z",
     "start_time": "2024-07-09T11:40:49.116281500Z"
    }
   },
   "id": "e7c27ef16b8e4c26"
  },
  {
   "cell_type": "code",
   "execution_count": 19,
   "outputs": [
    {
     "data": {
      "text/plain": "\"Über ELCA Wir sind ELCA, einer der grössten Schweizer IT-Stämme mit über 2'000 Experten. Wir sind multikulturell und haben Niederlassungen in der Schweiz, Spanien, Frankreich, Vietnam und Mauritius. Seit 1968 bietet unser Team aus Ingenieuren, Business-Analysten, Software-Architekten, Designern und Beratern massgeschneiderte und standardisierte Lösungen an, um die digitale Transformation von grossen öffentlichen Verwaltungen und privaten Unternehmen in der Schweiz zu unterstützen. Unsere Tätigkeit erstreckt sich über mehrere Bereiche von Spitzentechnologien wie KI, Machine & Deep Learning, BI/BD, RPA, Blockchain, IoT und CyberSecurity.     Deine Aufgaben     Aktives mitwirken bei der Konzeption und Definition von Lösungen und Entwicklung stabiler, zuverlässiger sowie leistungsstarker Software Sicherstellen, dass die Entwicklung des Produktes in Bezug auf Technologie und Qualität auf dem höchsten Standard erfolgt Enge Zusammenarbeit mit einem multidisziplinären Team aus Business Analysten, Architekten und Software Engineers Beteilige Dich am gesamten Projektzyklus, von der Bedarfsanalyse bis zur endgültigen Lieferung einer Individual-Lösung für unsere Kunden Mit Deiner technischen Expertise hilfst Du mit, neue Projekte zu gewinnen       Unser Angebot     Ein dynamisches Arbeitsumfeld mit einem jungen und hochmotivierten Team Vielfältige Möglichkeiten, Dein Wissen und Deine Erfahrung durch die Arbeit an einer breiten Palette an spannenden Projekten, Kunden und Technologien zu erweitern Attraktive Perspektiven für Karriere und persönliche Entwicklung durch Training und Coaching Eine flache Hierarchie und eine Kultur der Zusammenarbeit über alle Disziplinen hinweg Die Chance, durch den Aufbau grossartiger Software etwas im Leben der Menschen zu verändern Attraktive\\xa0Perspektiven\\xa0für die weitere berufliche und persönliche Entwicklung mit verschiedenen internen Karrierepfaden Work-Life-Balance\\xa0(41 Std/W in Gleitzeit, Möglichkeit für Homeoffice, mind. 25 Ferientage), ergonomischer und flexibler Arbeitsplatz in einem multikulturellen\\xa0Umfeld Interessante Benefits\\xa0wie z.B.: Beitrag an bestehendes Mobiltelefon oder Business Handy, 1/2- Tax Abonnement und geschäftlich unterwegs im Zug mit 1. Klasse, attraktive Pensionskassenmodelle, Übernahme der NBU (privat, weltweit), fortschrittliche Kranktaggeldversicherung sowie Flottenrabatt       Dein Profil     Technischer Abschluss an einer UNI/ETH/FH 5+ Jahre Erfahrung in der Analyse, Entwicklung, im Design sowie objektorientierten Programmieren von Softwarelösungen Mehrjährige Entwicklungserfahrung mit Microsoft-Technologien wie .Net, C#, ASP.Net, MVC und Visual Studio Erfahrung mit relationalen Datenbanken (z.B. Oracle oder MSSQL) und SQL queries Kenntnisse in HTML, XML, JavaScript und\\xa0Ajax,\\xa0CSS Erfahrung in Microsoft SharePoint\\xa0oder BizTalk Server von Vorteil Fliessend in Deutsch und Englisch   Lass Dich von unserem Leitsatz inspirieren: We make it work!\""
     },
     "execution_count": 19,
     "metadata": {},
     "output_type": "execute_result"
    }
   ],
   "source": [
    "df_with.loc[0, 'description']"
   ],
   "metadata": {
    "collapsed": false,
    "ExecuteTime": {
     "end_time": "2024-07-09T11:41:32.869977800Z",
     "start_time": "2024-07-09T11:41:32.837162500Z"
    }
   },
   "id": "e5e3e756fb282bdd"
  },
  {
   "cell_type": "code",
   "execution_count": 14,
   "outputs": [
    {
     "data": {
      "text/plain": "array(['Festanstellung', 'Praktikum', 'Freelance'], dtype=object)"
     },
     "execution_count": 14,
     "metadata": {},
     "output_type": "execute_result"
    }
   ],
   "source": [
    "df_with['contract_type'].unique()"
   ],
   "metadata": {
    "collapsed": false,
    "ExecuteTime": {
     "end_time": "2024-07-09T11:40:27.122686800Z",
     "start_time": "2024-07-09T11:40:27.115651300Z"
    }
   },
   "id": "201bc0a1e5fe2f7b"
  }
 ],
 "metadata": {
  "kernelspec": {
   "display_name": "Python 3",
   "language": "python",
   "name": "python3"
  },
  "language_info": {
   "codemirror_mode": {
    "name": "ipython",
    "version": 2
   },
   "file_extension": ".py",
   "mimetype": "text/x-python",
   "name": "python",
   "nbconvert_exporter": "python",
   "pygments_lexer": "ipython2",
   "version": "2.7.6"
  }
 },
 "nbformat": 4,
 "nbformat_minor": 5
}
