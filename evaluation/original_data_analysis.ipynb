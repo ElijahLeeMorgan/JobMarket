{
 "cells": [
  {
   "cell_type": "code",
   "execution_count": 1,
   "id": "initial_id",
   "metadata": {
    "collapsed": true,
    "ExecuteTime": {
     "end_time": "2024-07-09T11:24:52.326959800Z",
     "start_time": "2024-07-09T11:24:50.737347900Z"
    }
   },
   "outputs": [],
   "source": [
    "import pandas as pd"
   ]
  },
  {
   "cell_type": "code",
   "execution_count": 30,
   "outputs": [],
   "source": [
    "df = pd.read_csv('../data_acquisition/data/df_without_salary.csv')\n",
    "df_with = pd.read_csv('../data_acquisition/data/df_with_salary.csv')\n",
    "df_with_salary_few_shot = pd.read_csv('../data_acquisition/data/df_with_salary_few_shot.csv')"
   ],
   "metadata": {
    "collapsed": false,
    "ExecuteTime": {
     "end_time": "2024-07-09T12:57:09.383930700Z",
     "start_time": "2024-07-09T12:57:09.346067900Z"
    }
   },
   "id": "508a26773a6ec8f7"
  },
  {
   "cell_type": "code",
   "execution_count": 15,
   "outputs": [
    {
     "data": {
      "text/plain": "                                               title             company  \\\n0                             Software Engineer .Net  ELCA Informatik AG   \n1                      Digital Analyst / Web Analyst             Unic AG   \n2                             ICT Supporter 100% (a)       Spitex Zürich   \n3  KAUFMÄNNISCHES PRAKTIKUM (100%) - MIT FOKUS KU...           gebana AG   \n4  System Engineer für Microsoft-Technologien und...        konekkt GmbH   \n\n    contract_type                                        description  \\\n0  Festanstellung  Über ELCA Wir sind ELCA, einer der grössten Sc...   \n1  Festanstellung  Deine Aufgaben als Digital Analyst bei Unic   ...   \n2  Festanstellung  Möchtest du auch etwas bewegen und deine Arbei...   \n3       Praktikum  DEINE AUFGABEN IM KUND:INNENSERVICE – EINSATZ ...   \n4  Festanstellung  Wir präsentieren eine faszinierende Karrieremö...   \n\n   min_workload  max_workload  min_salary  max_salary  \n0            80           100      100000      130000  \n1            80           100       90000      113000  \n2           100           100       78000       96000  \n3           100           100       28300       28300  \n4            80           100       95000      125000  ",
      "text/html": "<div>\n<style scoped>\n    .dataframe tbody tr th:only-of-type {\n        vertical-align: middle;\n    }\n\n    .dataframe tbody tr th {\n        vertical-align: top;\n    }\n\n    .dataframe thead th {\n        text-align: right;\n    }\n</style>\n<table border=\"1\" class=\"dataframe\">\n  <thead>\n    <tr style=\"text-align: right;\">\n      <th></th>\n      <th>title</th>\n      <th>company</th>\n      <th>contract_type</th>\n      <th>description</th>\n      <th>min_workload</th>\n      <th>max_workload</th>\n      <th>min_salary</th>\n      <th>max_salary</th>\n    </tr>\n  </thead>\n  <tbody>\n    <tr>\n      <th>0</th>\n      <td>Software Engineer .Net</td>\n      <td>ELCA Informatik AG</td>\n      <td>Festanstellung</td>\n      <td>Über ELCA Wir sind ELCA, einer der grössten Sc...</td>\n      <td>80</td>\n      <td>100</td>\n      <td>100000</td>\n      <td>130000</td>\n    </tr>\n    <tr>\n      <th>1</th>\n      <td>Digital Analyst / Web Analyst</td>\n      <td>Unic AG</td>\n      <td>Festanstellung</td>\n      <td>Deine Aufgaben als Digital Analyst bei Unic   ...</td>\n      <td>80</td>\n      <td>100</td>\n      <td>90000</td>\n      <td>113000</td>\n    </tr>\n    <tr>\n      <th>2</th>\n      <td>ICT Supporter 100% (a)</td>\n      <td>Spitex Zürich</td>\n      <td>Festanstellung</td>\n      <td>Möchtest du auch etwas bewegen und deine Arbei...</td>\n      <td>100</td>\n      <td>100</td>\n      <td>78000</td>\n      <td>96000</td>\n    </tr>\n    <tr>\n      <th>3</th>\n      <td>KAUFMÄNNISCHES PRAKTIKUM (100%) - MIT FOKUS KU...</td>\n      <td>gebana AG</td>\n      <td>Praktikum</td>\n      <td>DEINE AUFGABEN IM KUND:INNENSERVICE – EINSATZ ...</td>\n      <td>100</td>\n      <td>100</td>\n      <td>28300</td>\n      <td>28300</td>\n    </tr>\n    <tr>\n      <th>4</th>\n      <td>System Engineer für Microsoft-Technologien und...</td>\n      <td>konekkt GmbH</td>\n      <td>Festanstellung</td>\n      <td>Wir präsentieren eine faszinierende Karrieremö...</td>\n      <td>80</td>\n      <td>100</td>\n      <td>95000</td>\n      <td>125000</td>\n    </tr>\n  </tbody>\n</table>\n</div>"
     },
     "execution_count": 15,
     "metadata": {},
     "output_type": "execute_result"
    }
   ],
   "source": [
    "df_with.head()"
   ],
   "metadata": {
    "collapsed": false,
    "ExecuteTime": {
     "end_time": "2024-07-09T11:40:49.138278200Z",
     "start_time": "2024-07-09T11:40:49.116281500Z"
    }
   },
   "id": "e7c27ef16b8e4c26"
  },
  {
   "cell_type": "code",
   "execution_count": 19,
   "outputs": [
    {
     "data": {
      "text/plain": "\"Über ELCA Wir sind ELCA, einer der grössten Schweizer IT-Stämme mit über 2'000 Experten. Wir sind multikulturell und haben Niederlassungen in der Schweiz, Spanien, Frankreich, Vietnam und Mauritius. Seit 1968 bietet unser Team aus Ingenieuren, Business-Analysten, Software-Architekten, Designern und Beratern massgeschneiderte und standardisierte Lösungen an, um die digitale Transformation von grossen öffentlichen Verwaltungen und privaten Unternehmen in der Schweiz zu unterstützen. Unsere Tätigkeit erstreckt sich über mehrere Bereiche von Spitzentechnologien wie KI, Machine & Deep Learning, BI/BD, RPA, Blockchain, IoT und CyberSecurity.     Deine Aufgaben     Aktives mitwirken bei der Konzeption und Definition von Lösungen und Entwicklung stabiler, zuverlässiger sowie leistungsstarker Software Sicherstellen, dass die Entwicklung des Produktes in Bezug auf Technologie und Qualität auf dem höchsten Standard erfolgt Enge Zusammenarbeit mit einem multidisziplinären Team aus Business Analysten, Architekten und Software Engineers Beteilige Dich am gesamten Projektzyklus, von der Bedarfsanalyse bis zur endgültigen Lieferung einer Individual-Lösung für unsere Kunden Mit Deiner technischen Expertise hilfst Du mit, neue Projekte zu gewinnen       Unser Angebot     Ein dynamisches Arbeitsumfeld mit einem jungen und hochmotivierten Team Vielfältige Möglichkeiten, Dein Wissen und Deine Erfahrung durch die Arbeit an einer breiten Palette an spannenden Projekten, Kunden und Technologien zu erweitern Attraktive Perspektiven für Karriere und persönliche Entwicklung durch Training und Coaching Eine flache Hierarchie und eine Kultur der Zusammenarbeit über alle Disziplinen hinweg Die Chance, durch den Aufbau grossartiger Software etwas im Leben der Menschen zu verändern Attraktive\\xa0Perspektiven\\xa0für die weitere berufliche und persönliche Entwicklung mit verschiedenen internen Karrierepfaden Work-Life-Balance\\xa0(41 Std/W in Gleitzeit, Möglichkeit für Homeoffice, mind. 25 Ferientage), ergonomischer und flexibler Arbeitsplatz in einem multikulturellen\\xa0Umfeld Interessante Benefits\\xa0wie z.B.: Beitrag an bestehendes Mobiltelefon oder Business Handy, 1/2- Tax Abonnement und geschäftlich unterwegs im Zug mit 1. Klasse, attraktive Pensionskassenmodelle, Übernahme der NBU (privat, weltweit), fortschrittliche Kranktaggeldversicherung sowie Flottenrabatt       Dein Profil     Technischer Abschluss an einer UNI/ETH/FH 5+ Jahre Erfahrung in der Analyse, Entwicklung, im Design sowie objektorientierten Programmieren von Softwarelösungen Mehrjährige Entwicklungserfahrung mit Microsoft-Technologien wie .Net, C#, ASP.Net, MVC und Visual Studio Erfahrung mit relationalen Datenbanken (z.B. Oracle oder MSSQL) und SQL queries Kenntnisse in HTML, XML, JavaScript und\\xa0Ajax,\\xa0CSS Erfahrung in Microsoft SharePoint\\xa0oder BizTalk Server von Vorteil Fliessend in Deutsch und Englisch   Lass Dich von unserem Leitsatz inspirieren: We make it work!\""
     },
     "execution_count": 19,
     "metadata": {},
     "output_type": "execute_result"
    }
   ],
   "source": [
    "df_with.loc[0, 'description']"
   ],
   "metadata": {
    "collapsed": false,
    "ExecuteTime": {
     "end_time": "2024-07-09T11:41:32.869977800Z",
     "start_time": "2024-07-09T11:41:32.837162500Z"
    }
   },
   "id": "e5e3e756fb282bdd"
  },
  {
   "cell_type": "code",
   "execution_count": 14,
   "outputs": [
    {
     "data": {
      "text/plain": "array(['Festanstellung', 'Praktikum', 'Freelance'], dtype=object)"
     },
     "execution_count": 14,
     "metadata": {},
     "output_type": "execute_result"
    }
   ],
   "source": [
    "df_with['contract_type'].unique()"
   ],
   "metadata": {
    "collapsed": false,
    "ExecuteTime": {
     "end_time": "2024-07-09T11:40:27.122686800Z",
     "start_time": "2024-07-09T11:40:27.115651300Z"
    }
   },
   "id": "201bc0a1e5fe2f7b"
  },
  {
   "cell_type": "code",
   "execution_count": 20,
   "outputs": [
    {
     "data": {
      "text/plain": "                                               title             company  \\\n0                             Software Engineer .Net  ELCA Informatik AG   \n1                      Digital Analyst / Web Analyst             Unic AG   \n2                             ICT Supporter 100% (a)       Spitex Zürich   \n3  KAUFMÄNNISCHES PRAKTIKUM (100%) - MIT FOKUS KU...           gebana AG   \n4  System Engineer für Microsoft-Technologien und...        konekkt GmbH   \n\n    contract_type                                        description  \\\n0  Festanstellung  Über ELCA Wir sind ELCA, einer der grössten Sc...   \n1  Festanstellung  Deine Aufgaben als Digital Analyst bei Unic   ...   \n2  Festanstellung  Möchtest du auch etwas bewegen und deine Arbei...   \n3       Praktikum  DEINE AUFGABEN IM KUND:INNENSERVICE – EINSATZ ...   \n4  Festanstellung  Wir präsentieren eine faszinierende Karrieremö...   \n\n   min_workload  max_workload  min_salary  max_salary  \n0            80           100      100000      130000  \n1            80           100       90000      113000  \n2           100           100       78000       96000  \n3           100           100       28300       28300  \n4            80           100       95000      125000  ",
      "text/html": "<div>\n<style scoped>\n    .dataframe tbody tr th:only-of-type {\n        vertical-align: middle;\n    }\n\n    .dataframe tbody tr th {\n        vertical-align: top;\n    }\n\n    .dataframe thead th {\n        text-align: right;\n    }\n</style>\n<table border=\"1\" class=\"dataframe\">\n  <thead>\n    <tr style=\"text-align: right;\">\n      <th></th>\n      <th>title</th>\n      <th>company</th>\n      <th>contract_type</th>\n      <th>description</th>\n      <th>min_workload</th>\n      <th>max_workload</th>\n      <th>min_salary</th>\n      <th>max_salary</th>\n    </tr>\n  </thead>\n  <tbody>\n    <tr>\n      <th>0</th>\n      <td>Software Engineer .Net</td>\n      <td>ELCA Informatik AG</td>\n      <td>Festanstellung</td>\n      <td>Über ELCA Wir sind ELCA, einer der grössten Sc...</td>\n      <td>80</td>\n      <td>100</td>\n      <td>100000</td>\n      <td>130000</td>\n    </tr>\n    <tr>\n      <th>1</th>\n      <td>Digital Analyst / Web Analyst</td>\n      <td>Unic AG</td>\n      <td>Festanstellung</td>\n      <td>Deine Aufgaben als Digital Analyst bei Unic   ...</td>\n      <td>80</td>\n      <td>100</td>\n      <td>90000</td>\n      <td>113000</td>\n    </tr>\n    <tr>\n      <th>2</th>\n      <td>ICT Supporter 100% (a)</td>\n      <td>Spitex Zürich</td>\n      <td>Festanstellung</td>\n      <td>Möchtest du auch etwas bewegen und deine Arbei...</td>\n      <td>100</td>\n      <td>100</td>\n      <td>78000</td>\n      <td>96000</td>\n    </tr>\n    <tr>\n      <th>3</th>\n      <td>KAUFMÄNNISCHES PRAKTIKUM (100%) - MIT FOKUS KU...</td>\n      <td>gebana AG</td>\n      <td>Praktikum</td>\n      <td>DEINE AUFGABEN IM KUND:INNENSERVICE – EINSATZ ...</td>\n      <td>100</td>\n      <td>100</td>\n      <td>28300</td>\n      <td>28300</td>\n    </tr>\n    <tr>\n      <th>4</th>\n      <td>System Engineer für Microsoft-Technologien und...</td>\n      <td>konekkt GmbH</td>\n      <td>Festanstellung</td>\n      <td>Wir präsentieren eine faszinierende Karrieremö...</td>\n      <td>80</td>\n      <td>100</td>\n      <td>95000</td>\n      <td>125000</td>\n    </tr>\n  </tbody>\n</table>\n</div>"
     },
     "execution_count": 20,
     "metadata": {},
     "output_type": "execute_result"
    }
   ],
   "source": [
    "df_with.head()"
   ],
   "metadata": {
    "collapsed": false,
    "ExecuteTime": {
     "end_time": "2024-07-09T12:40:56.405983400Z",
     "start_time": "2024-07-09T12:40:56.354909100Z"
    }
   },
   "id": "7edd0a42c0dea291"
  },
  {
   "cell_type": "markdown",
   "source": [
    "json"
   ],
   "metadata": {
    "collapsed": false
   },
   "id": "bbb796ccd8722a47"
  },
  {
   "cell_type": "code",
   "execution_count": 28,
   "outputs": [],
   "source": [
    "df_old = pd.read_json('../data_acquisition/data/all_jobs_data.json')"
   ],
   "metadata": {
    "collapsed": false,
    "ExecuteTime": {
     "end_time": "2024-07-09T12:56:57.574226600Z",
     "start_time": "2024-07-09T12:56:57.444360900Z"
    }
   },
   "id": "4b1f3a43984cd566"
  },
  {
   "cell_type": "code",
   "execution_count": 31,
   "outputs": [
    {
     "data": {
      "text/plain": "Empty DataFrame\nColumns: [title, company, contract_type, workload, salary, description, embedding]\nIndex: []",
      "text/html": "<div>\n<style scoped>\n    .dataframe tbody tr th:only-of-type {\n        vertical-align: middle;\n    }\n\n    .dataframe tbody tr th {\n        vertical-align: top;\n    }\n\n    .dataframe thead th {\n        text-align: right;\n    }\n</style>\n<table border=\"1\" class=\"dataframe\">\n  <thead>\n    <tr style=\"text-align: right;\">\n      <th></th>\n      <th>title</th>\n      <th>company</th>\n      <th>contract_type</th>\n      <th>workload</th>\n      <th>salary</th>\n      <th>description</th>\n      <th>embedding</th>\n    </tr>\n  </thead>\n  <tbody>\n  </tbody>\n</table>\n</div>"
     },
     "execution_count": 31,
     "metadata": {},
     "output_type": "execute_result"
    }
   ],
   "source": [
    "df_old[df_old.isnull().any(axis=1)]"
   ],
   "metadata": {
    "collapsed": false,
    "ExecuteTime": {
     "end_time": "2024-07-09T12:57:21.240770200Z",
     "start_time": "2024-07-09T12:57:21.231418700Z"
    }
   },
   "id": "1ec4d4bac3dea737"
  },
  {
   "cell_type": "code",
   "execution_count": 36,
   "outputs": [
    {
     "data": {
      "text/plain": "array(['Infogate AG', 'Wey Group AG', 'RMIT Professional Resources AG',\n       'EBP Schweiz AG', 'Migros-Genossenschafts-Bund', 'Hirslanden AG',\n       'Humanis AG', 'localsearch (Swisscom Directories AG)',\n       'Digitalmaterial AG', 'mimacom ag', 'KMS AG', 'UMB AG', 'Bucher',\n       'HANS KOHLER AG', 'SMG Swiss Marketplace Group AG',\n       'univativ Schweiz AG', 'Netcetera', 'LGT', 'Ratbacher AG',\n       'OBT AG', 'Syntegon Packaging Systems AG', 'Vebego AG', 'Unic AG',\n       'Freestar-Informatik AG', 'T&N AG', 'Dinotronic AG',\n       'Stutzer & Co. AG', 'armasuisse ar', 'Stadler Signalling',\n       'Swiss Life AG', 'Helsana Versicherungen AG', 'Loomis Schweiz AG',\n       'Two Spice AG', 'yellowshark', 'Evergreen Human Resources AG',\n       'BROMsolutions AG Biel', 'Migros Zürich', 'Spital Uster',\n       'Swisscard AECS GmbH', 'Ferag AG',\n       'WAGNER AG Informatik Dienstleistungen', 'Axians Infoma Schweiz',\n       'Sopra Steria AG', 'Luware AG', 'Kurath Engineering AG',\n       'Liechtensteinische Landesbank AG', 'Kinderspital Zürich',\n       'RMB Group AG', 'CISTEC AG', 'Persigo AG', 'ActVisual GmbH',\n       'bbv Software Services AG', 'Plexim GmbH',\n       'APG|SGA Allgemeine Plakatgesellschaft AG', 'Contauro AG',\n       \"Zürich Versicherungs-Gesellschaft AG / Zurich Insurance Company Ltd / Zurich Compagnie d'Assurances SA\",\n       'Schweizerischer Gehörlosenbund SGB-FSS', 'Confiserie Sprüngli AG',\n       'Elektrizitätswerke des Kantons Zürich', 'Office World Group',\n       'ERNI Schweiz AG (betterask.erni)', 'Flughafen Zürich AG',\n       'ZWEI Wealth Experts AG', 'Burckhardt Compression AG',\n       'Equans Services AG', 'Ascaion AG', 'Aon',\n       'CMS von Erlach Partners AG', 'Cognizant Technology Solutions AG',\n       'Kantonspolizei Zürich', 'AutoForm Development  GmbH',\n       'tessi document solutions', 'ELCA Informatik AG',\n       'GVZ Gebäudeversicherung Kanton Zürich',\n       'Kantonale Verwaltung Zürich', 'BEEyond Personalberatung GmbH',\n       'Pro Informatik AG', 'Generali Personenversicherung AG',\n       'Academic Work Switzerland SA', 'Wincasa AG', 'Albedis',\n       'Hays (Schweiz) AG', 'Consult & Pepper AG', 'mms solutions ag',\n       'emineo AG', 'Tocco AG', 'Digitec Galaxus AG', 'Estée Lauder GmbH',\n       'AKROS AG', 'Axept Business Software AG', 'Vision-Inside AG',\n       'SFC Koenig', 'A. Baggenstos & Co. AG',\n       'Dun & Bradstreet Schweiz AG', 'ZHAW',\n       'NOVO Business Consultants AG', 'Helbling Technik',\n       'workingFlow GmbH', 'VZ VermögensZentrum', 'skyguide',\n       'Avadis Vorsorge AG', 'Salt Mobile SA', 'ESPAS', 'Michael Page',\n       'Migros Bank AG', 'UBS Card Center AG',\n       'Rheinmetall Air Defence AG', 'Siemens Schweiz AG', 'humanik AG',\n       'ti&m AG', 'Bank J. Safra Sarasin AG', 'Wipf AG',\n       'Mercedes Benz Automobil AG', 'Clienia Littenheid AG', 'Bubu AG',\n       'Sunrise GmbH', 'IQ Plus AG', 'Festanstellung', 'SAG Schweiz AG',\n       'Fides Treasury Services AG', 'Huawei Technologies',\n       'Ärztekasse Genossenschaft', 'Fischer Personal', 'GRYPS AG',\n       'EMPA', 'Husqvarna Schweiz AG', 'Denner AG', 'Switch',\n       'Noser Engineering AG', 'Migros Supermarkt AG',\n       'Universitätsspital Zürich', 'Sonova AG', 'ETH Zürich',\n       'Puzzle ITC GmbH', 'Lufthansa Systems FlightNav AG',\n       'fenaco Informatik', 'Eraneos Switzerland AG',\n       'Dosenbach Ochsner & Companies', 'AXA', 'Maerki Baumann & Co. AG',\n       'PRODYNA (Schweiz) AG', 'SUISA', 'Accenture', 'Prime21',\n       'RHR CONSULTING AG', 'Switzerland Global Enterprise', 'Meron AG',\n       'Andeo AG', 'EveryWare AG', 'LEGIC Identsystems AG',\n       'EY (Ernst & Young AG)', 'Emil Frey AG', 'Gemeindeverwaltung',\n       'Serata, Stiftung für das Alter',\n       'Schweizerische Epilepsie-Stiftung', 'Designwerk Technologies AG',\n       'Schneider Electric Schweiz AG', 'Axia AG', 'RIZ AG',\n       'Deloitte AG', 'Agroscope', 'BlueCare AG', 'Universität Zürich',\n       'Leonteq Securities AG', 'Cembra Money Bank', 'Maerz Ofenbau AG',\n       'Kistler', 'SwissFEX', 'Blick-Gruppe', 'cablex AG', 'PwC',\n       'Spitex Zürich', 'CCCBusiness Service AG', 'Spital Affoltern AG',\n       'gebana AG', 'Forchbahn AG', 'Voicepoint AG',\n       'Bereuter Holding AG', 'PIDAS AG',\n       'Obergericht des Kantons Zürich', 'BR Bauhandel AG', 'VP Bank AG',\n       'NILT Switzerland GmbH',\n       'Stadt Zürich – Organisation und Informatik', 'Solcept AG',\n       'fernao somnitec AG', 'SUNCAR AG', 'Logismata AG', 'konekkt GmbH',\n       'Livit AG', 'Swiss Solar Group AG',\n       'SWICA Gesundheitsorganisation', 'KPMG', 'PROVIS AG',\n       'SOBACO Solutions AG', 'Condecta AG', 'Hitachi Zosen Inova AG',\n       'at rete ag', 'Stiftung myclimate', 'Aveniq AG', 'Swiss TXT',\n       'MACD AG', 'JobCloud AG', 'Health Info Net AG',\n       'mammut soft computing ag', 'foryouandyourcustomers',\n       'Planzer Transport AG', 'Schweiz. MS-Gesellschaft',\n       'HfH (Hochschule für Heilpädagogik)', 'Walo Bertschinger AG',\n       'GLOAEX GmbH', 'FIFA', 'NetPlans Schweiz AG', 'Aspectra AG',\n       'MTF Solutions AG', 'ZWZ AG', 'enersuisse ag',\n       'Helvetia Versicherungen', 'Swiss Casinos',\n       'Lifestage Solutions AG', 'ANCOTECH AG', 'Solid Solutions AG',\n       'Helbling Corporate Center', 'Data Quest AG', 'SRG SSR',\n       'Daimler Truck Schweiz AG', 'MAN Energy Solutions Schweiz AG',\n       'Swiss Medical Network', 'Inventx AG', 'Acons HR solutions AG',\n       'Schweizerische Nationalbank', 'Online Consulting AG',\n       'Eugen Seitz AG', 'HR Consulting Wehrli GmbH',\n       'Infrastruktur Zürichsee AG', 'RUAG AG', 'Ringier AG', 'PHZH',\n       'Bouygues E&S InTec Schweiz AG',\n       'Telecom Services SA - Eine Gesellschaft der Ofac-Gruppe',\n       'Elektro-Material AG', 'ServiceHunter AG - quitt.ch', 'CRIF AG',\n       'Frankfurter Bankgesellschaft (Schweiz) AG',\n       'dormakaba Schweiz AG', 'LANDERT Group AG', 'Edubase AG', 'EWZ',\n       'Brunau-Stiftung', 'goSecurity AG', 'sfb Bildungszentrum',\n       'braintec', 'Vertec AG', 'Telematix AG', 'Grant Thornton',\n       'Swiss AI AG', 'KUMAVISION AG', 'Universitätsklinik Balgrist',\n       'Glutz AG', 'HR Campus AG', 'win2you AG',\n       'Clue Security Services AG', 'FMS Force Measuring Systems AG',\n       'NZZ', 'Adnovum', 'Zühlke Engineering AG', 'Idea Creation GmbH',\n       'agogis', 'HOGALOG AG', 'Reichle & De-Massari AG',\n       'T-Systems Schweiz AG', 'Rieter', 'Opale Solutions AG',\n       'Premotec GmbH', 'ZEM CES', 'ostjob.ch',\n       'Genossenschaft Migros Zürich', 'EPAM Systems (Switzerland) GmbH',\n       'LGT Bank AG', 'APP Unternehmensberatung AG', 'Kanton Zürich',\n       'N:SYNC AG', 'Abraxas Informatik AG', 'BANTLEON AG',\n       'SIX Group AG', 'Persona services GmbH',\n       'Viseca Payment Services SA', 'Zürcher Kantonalbank', 'Wingtra AG',\n       'On AG', 'UPGREAT AG', 'Edelweiss Air AG', 'PQM Consulting AG',\n       'MÖKAH AG', 'EF Education AG', 'Brefis Personal AG', 'Zattoo AG',\n       'Trivarga AG', 'TalentCloud Group GmbH', 'PerfectHair AG',\n       'Local Cords GmbH', 'Zürich Versicherungs-Gesellschaft AG',\n       'embotech AG', 'Netcloud AG', 'PFS Pension Fund Services AG',\n       'BELIMO Automation AG', 'ISS Schweiz', 'Verity AG',\n       'Bank Julius Bär & Co. AG', 'Ernst & Young AG',\n       'SR Technics Switzerland AG', 'ORS Service AG', 'Open Systems AG',\n       'Graphax AG', 'Elca informatique SA', 'swisspro AG',\n       'Daedalean AG', 'Dr. Pascal Sieber & Partners AG',\n       'IVF HARTMANN AG', 'IT ADVANCED CONSULTING SA',\n       'Trinnovo Group GmbH', 'Art of Work Personalberatung AG',\n       'Stadler Rail Group', 'KENDRIS AG', 'Leica Geosystems AG',\n       'Schulthess Produktion AG', 'PKF Consulting AG', 'Stadt Dietikon',\n       'Energy Schweiz AG', 'Geschäftsstelle sozialinfo.ch',\n       'Genossenschaft Laborgemeinschaft 1', 'CH Media Holding AG',\n       'JOB SCHWEIZ AG', 'Hiltl AG', 'SkyCell AG', 'Entec AG',\n       'Die Karriereleiter GmbH', 'Swiss Casinos Holding AG', 'Globus',\n       'Ontrex AG', 'SBB CFF FFS', 'HRM Systems AG', 'Biotronik AG',\n       'Ergonomics AG', 'what. AG', 'M&S Software Engineering AG',\n       'Celeroton AG', 'Chimpy AG', 'Pädagogische Hochschule Zürich',\n       'Evangelisch-reformierte Kirchgemeinde Zürich',\n       'ETH Zürich Foundation', 'SPS Switzerland AG', 'comparis.ch AG',\n       'Customize AG', 'Glattwerk AG', 'Miele AG', 'Climeworks AG',\n       'Liip AG', 'Spital Uster AG', 'DXC Technology Switzerland GmbH',\n       'Best Smile AG', 'GFT Schweiz AG',\n       'Samsung Electronics Switzerland GmbH',\n       'ZHAW Zürcher Hochschule für Angewandte Wissenschaften',\n       'Spital Lachen AG', 'Aproda AG', 'Zurich Instruments AG',\n       'Beyond Gravity Schweiz AG', 'aietes ag', 'itesys AG',\n       'Hug Baustoffe AG', 'uniQconsulting ag', 'NOVENTI Systems AG',\n       'Auticon Swiss AG', 'Spetec AG', 'AGILITA AG',\n       'smahrt consulting AG', 'All for One Switzerland AG', 'Adcubum AG',\n       'BDO AG', 'Spital Limmattal', 'Oneconsult AG', 'BINT GmbH',\n       'Mattenbach AG', 'Entago AG', 'Lehrstelle', 'Open Circle AG',\n       'Naveum AG', 'ensec AG', 'Global IT AG', 'insign gmbh', 'XOR AG',\n       'Workbooster GmbH', 'Nexxiot AG', 'Inware AG', 'Eyekon AG',\n       'PROSE AG', 'Reishauer AG', 'Liebherr-Export AG',\n       'eyeBq engineering & consulting AG', 'Nine Internet Solutions AG',\n       'NTT DATA Business Solutions AG', 'BaXian AG', 'Asecus AG',\n       'Ubique Innovation AG', 'duagon AG', 'promotion-tools ag',\n       'Sidarion AG', 'zeb.rolfes.schierenbeck.associates gmbh',\n       'Comerge AG', 'Juice Technology AG',\n       'IPG Information Process Group AG', 'Wüest Partner AG', 'Akros AG',\n       'Arendi AG', 'Sihltal Zürich Uetliberg Bahn SZU AG',\n       'TeamWork Schweiz AG', 'Marionnaud Switzerland AG', 'Göbel AG',\n       'Beckhoff Automation AG', 'isolutions AG', 'Albis Technologies AG',\n       'Berest AG', 'onway ag', 'PIDAS Aktiengesellschaft', 'SWITCH',\n       'Trafag AG', 'Peoplefone AG', 'Schmid & Partner Engineering AG',\n       'HELP-TEC AUTOMATION AG', 'KastGroup GmbH', 'Centris AG',\n       'Apple Switzerland AG', 'Swissmem', 'PRIVERA AG', 'BNC AG',\n       'care4it.ch GmbH', 'Bechtle Holding Schweiz AG', 'Razoon AG',\n       'die Mobiliar', 'Vitol SA', 'BANK-now AG', 'Perspectix AG',\n       'HSO Enterprise Solutions AG', 'Forster Swiss Home AG',\n       'PB SWISS TOOLS AG', 'Medbase AG',\n       'Innovative Sensor Technology IST AG', 'Allgeier (Schweiz) AG',\n       'Walder Wyss AG', 'ADVANIS AG', 'Careum Weiterbildung AG',\n       'Pro Senectute Kanton Zürich', 'BEWIDA AG', 'Praktikum',\n       'Livesystems AG', 'PackSys Global AG', 'Econis AG',\n       'natürli zürioberland ag', 'Verein Appisberg',\n       'dynamic devices AG', 'InnoPark Schweiz AG', 'TEQABLE AG',\n       'ndd Medizintechnik AG', 'Exeon Analytics AG', 'Habasit AG',\n       'Xiting AG', 'Evulpo AG', 'Unit8 SA', 'Novelis AG',\n       'Raiffeisen Gruppe', 'TBF + Partner AG', 'Angst+Pfister AG',\n       'Sius AG', 'Kaulquappe AG',\n       'BOC Information Technologies Consulting GmbH', 'PV Computing AG',\n       'Quantum Digital AG', 'Beltronic IT AG', 'zurichnetgroup AG'],\n      dtype=object)"
     },
     "execution_count": 36,
     "metadata": {},
     "output_type": "execute_result"
    }
   ],
   "source": [
    "df_old['company'].unique()"
   ],
   "metadata": {
    "collapsed": false,
    "ExecuteTime": {
     "end_time": "2024-07-10T07:29:26.756217400Z",
     "start_time": "2024-07-10T07:29:26.730947100Z"
    }
   },
   "id": "51cf4d51151c7c99"
  },
  {
   "cell_type": "code",
   "execution_count": 38,
   "outputs": [
    {
     "data": {
      "text/plain": "array(['Salary not specified', 'CHF 80\\u202f000 - 140\\u202f000 /Jahr',\n       'CHF 100\\u202f000 - 130\\u202f000 /Jahr',\n       'CHF 90\\u202f000 - 113\\u202f000 /Jahr',\n       'CHF 78\\u202f000 - 96\\u202f000 /Jahr', 'CHF 28\\u202f300 /Jahr',\n       'CHF 95\\u202f000 - 125\\u202f000 /Jahr',\n       'CHF 112\\u202f000 - 132\\u202f000 /Jahr',\n       'CHF 100\\u202f000 - 112\\u202f000 /Jahr',\n       'CHF 84\\u202f000 - 102\\u202f000 /Jahr',\n       'CHF 94\\u202f000 - 115\\u202f000 /Jahr',\n       'CHF 85\\u202f000 - 120\\u202f000 /Jahr',\n       'CHF 104\\u202f200 - 130\\u202f800 /Jahr',\n       'CHF 92\\u202f000 - 110\\u202f000 /Jahr',\n       'CHF 75\\u202f000 - 85\\u202f000 /Jahr',\n       'CHF 90\\u202f000 - 110\\u202f000 /Jahr',\n       'CHF 110\\u202f000 - 135\\u202f000 /Jahr',\n       'CHF 130\\u202f000 - 145\\u202f000 /Jahr',\n       'CHF 60\\u202f000 - 80\\u202f000 /Jahr', 'CHF 110 min. /Stunde',\n       'CHF 120 min. /Stunde', 'CHF 115 min. /Stunde',\n       'CHF 100\\u202f000 - 120\\u202f000 /Jahr',\n       'CHF 95\\u202f000 - 115\\u202f000 /Jahr',\n       'CHF 105\\u202f000 - 125\\u202f000 /Jahr',\n       'CHF 75\\u202f000 - 95\\u202f000 /Jahr',\n       'CHF 110\\u202f000 - 130\\u202f000 /Jahr',\n       'CHF 120\\u202f000 - 140\\u202f000 /Jahr',\n       'CHF 105\\u202f000 - 140\\u202f000 /Jahr',\n       'CHF 100\\u202f000 - 125\\u202f000 /Jahr',\n       'CHF 85\\u202f000 - 110\\u202f000 /Jahr',\n       'CHF 105\\u202f000 - 130\\u202f000 /Jahr',\n       'CHF 115\\u202f000 - 135\\u202f000 /Jahr',\n       'CHF 115\\u202f000 - 140\\u202f000 /Jahr',\n       'CHF 125\\u202f000 - 150\\u202f000 /Jahr',\n       'CHF 70\\u202f000 - 95\\u202f000 /Jahr',\n       'CHF 105\\u202f000 - 135\\u202f000 /Jahr',\n       'CHF 70\\u202f000 - 90\\u202f000 /Jahr',\n       'CHF 90\\u202f000 - 115\\u202f000 /Jahr',\n       'CHF 65\\u202f000 - 85\\u202f000 /Jahr',\n       'CHF 90\\u202f000 - 105\\u202f000 /Jahr',\n       'CHF 200\\u202f000 min. /Jahr',\n       'CHF 95\\u202f000 - 180\\u202f000 /Jahr', 'CHF 100 min. /Stunde',\n       'CHF 140\\u202f000 - 180\\u202f000 /Jahr', 'CHF 28 /Stunde',\n       'CHF 110\\u202f000 - 120\\u202f000 /Jahr',\n       'CHF 80\\u202f000 - 120\\u202f000 /Jahr'], dtype=object)"
     },
     "execution_count": 38,
     "metadata": {},
     "output_type": "execute_result"
    }
   ],
   "source": [
    "df_old['salary'].unique()"
   ],
   "metadata": {
    "collapsed": false,
    "ExecuteTime": {
     "end_time": "2024-07-10T08:53:14.056609800Z",
     "start_time": "2024-07-10T08:53:14.034937600Z"
    }
   },
   "id": "cf5441da8915ebf2"
  },
  {
   "cell_type": "code",
   "execution_count": null,
   "outputs": [],
   "source": [],
   "metadata": {
    "collapsed": false
   },
   "id": "ee2cdacda93f9864"
  }
 ],
 "metadata": {
  "kernelspec": {
   "display_name": "Python 3",
   "language": "python",
   "name": "python3"
  },
  "language_info": {
   "codemirror_mode": {
    "name": "ipython",
    "version": 2
   },
   "file_extension": ".py",
   "mimetype": "text/x-python",
   "name": "python",
   "nbconvert_exporter": "python",
   "pygments_lexer": "ipython2",
   "version": "2.7.6"
  }
 },
 "nbformat": 4,
 "nbformat_minor": 5
}
