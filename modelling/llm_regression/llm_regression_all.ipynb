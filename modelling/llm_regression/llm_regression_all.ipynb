{
 "cells": [
  {
   "cell_type": "markdown",
   "source": [
    "# Regression over all Data"
   ],
   "metadata": {
    "collapsed": false
   },
   "id": "6870ea989ba7bd2b"
  },
  {
   "cell_type": "markdown",
   "source": [
    "Data prep"
   ],
   "metadata": {
    "collapsed": false
   },
   "id": "1c32ad8bb136a7de"
  },
  {
   "cell_type": "code",
   "execution_count": 14,
   "outputs": [],
   "source": [
    "from groq import Groq\n",
    "import pandas as pd\n",
    "import re\n",
    "import os"
   ],
   "metadata": {
    "collapsed": false,
    "ExecuteTime": {
     "end_time": "2024-07-09T07:36:21.437433Z",
     "start_time": "2024-07-09T07:36:21.420475Z"
    }
   },
   "id": "594ad67a2e405ace"
  },
  {
   "cell_type": "code",
   "execution_count": 15,
   "outputs": [],
   "source": [
    "df = pd.read_csv('../../data_acquisition/data/df_without_salary.csv')\n",
    "df_with_salary_few_shot = pd.read_csv('../../data_acquisition/data/df_with_salary_few_shot.csv')"
   ],
   "metadata": {
    "collapsed": false,
    "ExecuteTime": {
     "end_time": "2024-07-09T07:36:22.694940Z",
     "start_time": "2024-07-09T07:36:22.660128300Z"
    }
   },
   "id": "b061752ca933637f"
  },
  {
   "cell_type": "code",
   "execution_count": 16,
   "outputs": [],
   "source": [
    "df.drop('salary', axis=1, inplace=True)"
   ],
   "metadata": {
    "collapsed": false,
    "ExecuteTime": {
     "end_time": "2024-07-09T07:36:24.009620900Z",
     "start_time": "2024-07-09T07:36:24.002326600Z"
    }
   },
   "id": "fb6af1893217269e"
  },
  {
   "cell_type": "code",
   "execution_count": 10,
   "outputs": [],
   "source": [
    "#df['min_salary']=None\n",
    "#df['max_salary']=None"
   ],
   "metadata": {
    "collapsed": false,
    "ExecuteTime": {
     "end_time": "2024-07-09T07:32:57.131354600Z",
     "start_time": "2024-07-09T07:32:57.110864800Z"
    }
   },
   "id": "834b9bc1f655498f"
  },
  {
   "cell_type": "code",
   "execution_count": 17,
   "outputs": [
    {
     "data": {
      "text/plain": "                                                  title  \\\n0                 Projektleiter / Consultant e-Case.Net   \n1            Senior Software Engineer 80 - 100% (m/w/d)   \n2                             System Engineer - Ansible   \n3     Softwareentwickler/in mit GIS-Erfahrung, Profe...   \n4                          SAP Consultant PP-PI (m/w/d)   \n...                                                 ...   \n1586                                    System Engineer   \n1587                    Cloud Engineer Modern Workplace   \n1588                         System Engineer Operations   \n1589             Projektleiter / Senior System Engineer   \n1590                          Senior IT System Engineer   \n\n                             company   contract_type  \\\n0                        Infogate AG  Festanstellung   \n1                       Wey Group AG  Festanstellung   \n2     RMIT Professional Resources AG       Freelance   \n3                     EBP Schweiz AG  Festanstellung   \n4        Migros-Genossenschafts-Bund  Festanstellung   \n...                              ...             ...   \n1586                 Beltronic IT AG  Festanstellung   \n1587                    EveryWare AG  Festanstellung   \n1588                 Beltronic IT AG  Festanstellung   \n1589                 Beltronic IT AG  Festanstellung   \n1590               zurichnetgroup AG  Festanstellung   \n\n                                            description min_workload  \\\n0     Wer braucht Deine Verstärkung? 1991 waren wir ...           80   \n1     Deine Aufgaben:   Als Senior Software Engineer...           80   \n2     System Engineer Position einhergehend mit Kenn...           80   \n3     Dein Beitrag in unserem Team  Du entwickelst b...           60   \n4     \"Teamwork makes the dream work\" ist für dich k...           60   \n...                                                 ...          ...   \n1586  Wer braucht Deine Verstärkung? Wir entwickeln ...           60   \n1587  Wer braucht deine Verstärkung? EveryWare ist d...           80   \n1588  Wer braucht Deine Verstärkung? Wir entwickeln ...           60   \n1589  Wer braucht Deine Verstärkung? Wir entwickeln ...           80   \n1590  Wer braucht deine Verstärkung? Dich erwartet e...           80   \n\n     max_workload  \n0             100  \n1             100  \n2             100  \n3             100  \n4             100  \n...           ...  \n1586          100  \n1587          100  \n1588          100  \n1589          100  \n1590          100  \n\n[1591 rows x 6 columns]",
      "text/html": "<div>\n<style scoped>\n    .dataframe tbody tr th:only-of-type {\n        vertical-align: middle;\n    }\n\n    .dataframe tbody tr th {\n        vertical-align: top;\n    }\n\n    .dataframe thead th {\n        text-align: right;\n    }\n</style>\n<table border=\"1\" class=\"dataframe\">\n  <thead>\n    <tr style=\"text-align: right;\">\n      <th></th>\n      <th>title</th>\n      <th>company</th>\n      <th>contract_type</th>\n      <th>description</th>\n      <th>min_workload</th>\n      <th>max_workload</th>\n    </tr>\n  </thead>\n  <tbody>\n    <tr>\n      <th>0</th>\n      <td>Projektleiter / Consultant e-Case.Net</td>\n      <td>Infogate AG</td>\n      <td>Festanstellung</td>\n      <td>Wer braucht Deine Verstärkung? 1991 waren wir ...</td>\n      <td>80</td>\n      <td>100</td>\n    </tr>\n    <tr>\n      <th>1</th>\n      <td>Senior Software Engineer 80 - 100% (m/w/d)</td>\n      <td>Wey Group AG</td>\n      <td>Festanstellung</td>\n      <td>Deine Aufgaben:   Als Senior Software Engineer...</td>\n      <td>80</td>\n      <td>100</td>\n    </tr>\n    <tr>\n      <th>2</th>\n      <td>System Engineer - Ansible</td>\n      <td>RMIT Professional Resources AG</td>\n      <td>Freelance</td>\n      <td>System Engineer Position einhergehend mit Kenn...</td>\n      <td>80</td>\n      <td>100</td>\n    </tr>\n    <tr>\n      <th>3</th>\n      <td>Softwareentwickler/in mit GIS-Erfahrung, Profe...</td>\n      <td>EBP Schweiz AG</td>\n      <td>Festanstellung</td>\n      <td>Dein Beitrag in unserem Team  Du entwickelst b...</td>\n      <td>60</td>\n      <td>100</td>\n    </tr>\n    <tr>\n      <th>4</th>\n      <td>SAP Consultant PP-PI (m/w/d)</td>\n      <td>Migros-Genossenschafts-Bund</td>\n      <td>Festanstellung</td>\n      <td>\"Teamwork makes the dream work\" ist für dich k...</td>\n      <td>60</td>\n      <td>100</td>\n    </tr>\n    <tr>\n      <th>...</th>\n      <td>...</td>\n      <td>...</td>\n      <td>...</td>\n      <td>...</td>\n      <td>...</td>\n      <td>...</td>\n    </tr>\n    <tr>\n      <th>1586</th>\n      <td>System Engineer</td>\n      <td>Beltronic IT AG</td>\n      <td>Festanstellung</td>\n      <td>Wer braucht Deine Verstärkung? Wir entwickeln ...</td>\n      <td>60</td>\n      <td>100</td>\n    </tr>\n    <tr>\n      <th>1587</th>\n      <td>Cloud Engineer Modern Workplace</td>\n      <td>EveryWare AG</td>\n      <td>Festanstellung</td>\n      <td>Wer braucht deine Verstärkung? EveryWare ist d...</td>\n      <td>80</td>\n      <td>100</td>\n    </tr>\n    <tr>\n      <th>1588</th>\n      <td>System Engineer Operations</td>\n      <td>Beltronic IT AG</td>\n      <td>Festanstellung</td>\n      <td>Wer braucht Deine Verstärkung? Wir entwickeln ...</td>\n      <td>60</td>\n      <td>100</td>\n    </tr>\n    <tr>\n      <th>1589</th>\n      <td>Projektleiter / Senior System Engineer</td>\n      <td>Beltronic IT AG</td>\n      <td>Festanstellung</td>\n      <td>Wer braucht Deine Verstärkung? Wir entwickeln ...</td>\n      <td>80</td>\n      <td>100</td>\n    </tr>\n    <tr>\n      <th>1590</th>\n      <td>Senior IT System Engineer</td>\n      <td>zurichnetgroup AG</td>\n      <td>Festanstellung</td>\n      <td>Wer braucht deine Verstärkung? Dich erwartet e...</td>\n      <td>80</td>\n      <td>100</td>\n    </tr>\n  </tbody>\n</table>\n<p>1591 rows × 6 columns</p>\n</div>"
     },
     "execution_count": 17,
     "metadata": {},
     "output_type": "execute_result"
    }
   ],
   "source": [
    "df"
   ],
   "metadata": {
    "collapsed": false,
    "ExecuteTime": {
     "end_time": "2024-07-09T07:36:25.960342300Z",
     "start_time": "2024-07-09T07:36:25.927438Z"
    }
   },
   "id": "e59e6a7a781e7603"
  },
  {
   "cell_type": "markdown",
   "source": [
    "Usage Setup"
   ],
   "metadata": {
    "collapsed": false
   },
   "id": "4cd7b30fa5266691"
  },
  {
   "cell_type": "code",
   "execution_count": 18,
   "outputs": [],
   "source": [
    "client = Groq(\n",
    "    api_key=\"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\",\n",
    ")\n",
    "\n",
    "\n",
    "def extract_salaries(response):\n",
    "    # General regex pattern - covers most cases\n",
    "    general_pattern = re.compile(r\"(\\d{1,3}(?:['\\s]\\d{3})*)\\s*(?:-|und)\\s*(\\d{1,3}(?:['\\s]\\d{3})*)\\s*CHF\")\n",
    "    # Special regex pattern - handles \"CHF\" before the numbers and potential markdown\n",
    "    special_pattern = re.compile(r\"CHF\\s*(\\d{1,3}(?:[',\\s]\\d{3})*)\\s*[-–]\\s*CHF\\s*(\\d{1,3}(?:[',\\s]\\d{3})*)\")\n",
    "    # New pattern for numbers inside parentheses with \"und\" and possibly no formatting\n",
    "    parentheses_pattern = re.compile(r\"\\((\\d{1,3}(?:['\\s]?\\d{3})*)\\)\\s*und\\s*\\((\\d{1,3}(?:['\\s]?\\d{3})*)\\)\\s*CHF\")\n",
    "    # New pattern for a range inside parentheses with a dash\n",
    "    range_parentheses_pattern = re.compile(r\"\\((\\d{1,3}(?:['\\s]\\d{3})*)\\s*-\\s*(\\d{1,3}(?:['\\s]\\d{3})*)\\)\\s*CHF\")\n",
    "\n",
    "    # Try the general pattern first\n",
    "    matches = general_pattern.findall(response)\n",
    "    if matches:\n",
    "        min_salary, max_salary = [int(salary.replace(\"'\", \"\").replace(\",\", \"\").replace(\" \", \"\")) for salary in matches[0]]\n",
    "        return min_salary, max_salary\n",
    "    \n",
    "    # If no matches, try the special pattern\n",
    "    matches = special_pattern.findall(response)\n",
    "    if matches:\n",
    "        min_salary, max_salary = [int(salary.replace(\"'\", \"\").replace(\",\", \"\").replace(\" \", \"\")) for salary in matches[0]]\n",
    "        return min_salary, max_salary\n",
    "\n",
    "    # Try the new parentheses pattern\n",
    "    matches = parentheses_pattern.findall(response)\n",
    "    if matches:\n",
    "        min_salary, max_salary = [int(salary.replace(\"'\", \"\").replace(\",\", \"\").replace(\" \", \"\")) for salary in matches[0]]\n",
    "        return min_salary, max_salary\n",
    "\n",
    "    # Try the range inside parentheses pattern\n",
    "    matches = range_parentheses_pattern.findall(response)\n",
    "    if matches:\n",
    "        min_salary, max_salary = [int(salary.replace(\"'\", \"\").replace(\",\", \"\").replace(\" \", \"\")) for salary in matches[0]]\n",
    "        return min_salary, max_salary\n",
    "\n",
    "    return None, None"
   ],
   "metadata": {
    "collapsed": false,
    "ExecuteTime": {
     "end_time": "2024-07-09T07:39:24.651448600Z",
     "start_time": "2024-07-09T07:39:24.619777200Z"
    }
   },
   "id": "167eaeff842cb694"
  },
  {
   "cell_type": "markdown",
   "source": [
    "Calculation"
   ],
   "metadata": {
    "collapsed": false
   },
   "id": "a0939dea1ca5525f"
  },
  {
   "cell_type": "code",
   "execution_count": 34,
   "outputs": [
    {
     "name": "stdout",
     "output_type": "stream",
     "text": [
      "1156\n",
      "80000 100000\n",
      "1157\n",
      "90000 110000\n",
      "1158\n",
      "90000 110000\n",
      "1159\n",
      "110000 130000\n",
      "1160\n",
      "90000 110000\n",
      "1161\n",
      "110000 130000\n",
      "1162\n",
      "60000 80000\n",
      "1163\n",
      "90000 110000\n",
      "1164\n",
      "110000 130000\n",
      "1165\n",
      "90000 110000\n",
      "1166\n",
      "110000 130000\n",
      "1167\n",
      "90000 110000\n",
      "1168\n",
      "90000 110000\n",
      "1169\n",
      "110000 130000\n",
      "1170\n",
      "110000 130000\n",
      "1171\n",
      "90000 110000\n",
      "1172\n",
      "80000 100000\n",
      "1173\n",
      "80000 100000\n",
      "1174\n",
      "95000 115000\n",
      "1175\n",
      "90000 110000\n",
      "1176\n",
      "80000 100000\n",
      "1177\n",
      "90000 110000\n",
      "1178\n",
      "90000 110000\n",
      "1179\n",
      "90000 110000\n",
      "1180\n",
      "90000 110000\n",
      "1181\n",
      "60000 80000\n",
      "1182\n",
      "90000 110000\n",
      "1183\n",
      "90000 110000\n",
      "1184\n",
      "110000 130000\n",
      "1185\n",
      "80000 100000\n",
      "1186\n",
      "110000 130000\n",
      "1187\n",
      "110000 130000\n",
      "1188\n",
      "90000 110000\n",
      "1189\n",
      "110000 130000\n",
      "1190\n",
      "90000 110000\n",
      "1191\n",
      "90000 110000\n",
      "1192\n",
      "90000 110000\n",
      "1193\n",
      "90000 110000\n",
      "1194\n",
      "90000 110000\n",
      "1195\n",
      "90000 110000\n",
      "1196\n",
      "90000 110000\n",
      "1197\n",
      "90000 110000\n",
      "1198\n",
      "90000 110000\n",
      "1199\n",
      "80000 100000\n",
      "1200\n",
      "110000 130000\n",
      "1201\n",
      "40000 60000\n",
      "1202\n",
      "80000 100000\n",
      "1203\n",
      "90000 110000\n",
      "1204\n",
      "80000 100000\n",
      "1205\n",
      "90000 110000\n",
      "1206\n",
      "90000 110000\n",
      "1207\n",
      "90000 110000\n",
      "1208\n",
      "90000 110000\n",
      "1209\n",
      "110000 130000\n",
      "1210\n",
      "90000 110000\n",
      "1211\n",
      "110000 130000\n",
      "1212\n",
      "110000 130000\n",
      "1213\n",
      "120000 140000\n",
      "1214\n",
      "90000 110000\n",
      "1215\n",
      "90000 110000\n",
      "1216\n",
      "110000 130000\n",
      "1217\n",
      "80000 100000\n",
      "1218\n",
      "None None\n",
      "1219\n",
      "110000 130000\n",
      "1220\n",
      "None None\n",
      "1221\n",
      "90000 110000\n",
      "1222\n",
      "None None\n",
      "1223\n",
      "90000 110000\n",
      "1224\n",
      "None None\n",
      "1225\n",
      "90000 110000\n",
      "1226\n",
      "90000 110000\n",
      "1227\n",
      "90000 110000\n",
      "1228\n",
      "90000 110000\n",
      "1229\n",
      "90000 110000\n",
      "1230\n",
      "110000 130000\n",
      "1231\n",
      "90000 110000\n",
      "1232\n",
      "90000 110000\n",
      "1233\n",
      "None None\n",
      "1234\n",
      "70000 90000\n",
      "1235\n",
      "90000 110000\n",
      "1236\n",
      "110000 130000\n",
      "1237\n",
      "110000 130000\n",
      "1238\n",
      "70000 90000\n",
      "1239\n",
      "120000 140000\n",
      "1240\n",
      "90000 110000\n",
      "1241\n",
      "90000 110000\n",
      "1242\n",
      "90000 110000\n",
      "1243\n",
      "80000 100000\n",
      "1244\n",
      "80000 100000\n",
      "1245\n",
      "90000 110000\n",
      "1246\n",
      "90000 110000\n",
      "1247\n",
      "80000 100000\n",
      "1248\n",
      "110000 130000\n",
      "1249\n",
      "90000 110000\n",
      "1250\n",
      "90000 110000\n",
      "1251\n",
      "90000 110000\n",
      "1252\n",
      "90000 110000\n",
      "1253\n",
      "90000 110000\n",
      "1254\n",
      "60000 80000\n",
      "1255\n",
      "80000 100000\n",
      "1256\n",
      "80000 100000\n",
      "1257\n",
      "None None\n",
      "1258\n",
      "90000 110000\n",
      "1259\n",
      "90000 110000\n",
      "1260\n",
      "90000 110000\n",
      "1261\n",
      "None None\n",
      "1262\n",
      "90000 110000\n",
      "1263\n",
      "110000 130000\n",
      "1264\n",
      "90000 110000\n",
      "1265\n",
      "90000 110000\n",
      "1266\n",
      "90000 110000\n",
      "1267\n",
      "90000 110000\n",
      "1268\n",
      "80000 100000\n",
      "1269\n",
      "110000 130000\n",
      "1270\n",
      "110000 130000\n",
      "1271\n",
      "90000 110000\n",
      "1272\n",
      "80000 100000\n",
      "1273\n",
      "None None\n",
      "1274\n",
      "None None\n",
      "1275\n",
      "110000 130000\n",
      "1276\n",
      "90000 110000\n",
      "1277\n",
      "90000 110000\n",
      "1278\n",
      "90000 110000\n",
      "1279\n",
      "90000 110000\n",
      "1280\n",
      "90000 110000\n",
      "1281\n",
      "90000 110000\n",
      "1282\n",
      "90000 110000\n",
      "1283\n",
      "90000 110000\n",
      "1284\n",
      "110000 130000\n",
      "1285\n",
      "90000 110000\n",
      "1286\n",
      "90000 110000\n",
      "1287\n",
      "90000 110000\n",
      "1288\n",
      "90000 110000\n",
      "1289\n",
      "110000 130000\n",
      "1290\n",
      "90000 110000\n",
      "1291\n",
      "90000 110000\n",
      "1292\n",
      "90000 110000\n",
      "1293\n",
      "90000 110000\n",
      "1294\n",
      "90000 110000\n",
      "1295\n",
      "110000 130000\n",
      "1296\n",
      "110000 130000\n",
      "1297\n",
      "None None\n",
      "1298\n",
      "70000 90000\n",
      "1299\n",
      "70000 90000\n",
      "1300\n",
      "70000 90000\n",
      "1301\n",
      "90000 110000\n",
      "1302\n",
      "90000 110000\n",
      "1303\n",
      "90000 110000\n",
      "1304\n",
      "110000 130000\n",
      "1305\n",
      "90000 110000\n",
      "1306\n",
      "90000 110000\n",
      "1307\n",
      "90000 110000\n",
      "1308\n",
      "90000 110000\n",
      "1309\n",
      "90000 110000\n",
      "1310\n",
      "None None\n",
      "1311\n",
      "70000 90000\n",
      "1312\n",
      "120000 140000\n",
      "1313\n",
      "90000 110000\n",
      "1314\n",
      "None None\n",
      "1315\n",
      "110000 130000\n",
      "1316\n",
      "80000 100000\n",
      "1317\n",
      "80000 100000\n",
      "1318\n",
      "90000 110000\n",
      "1319\n",
      "90000 110000\n",
      "1320\n",
      "90000 110000\n",
      "1321\n",
      "90000 110000\n",
      "1322\n",
      "90000 110000\n",
      "1323\n",
      "90000 110000\n",
      "1324\n",
      "90000 110000\n",
      "1325\n",
      "110000 130000\n",
      "1326\n",
      "90000 110000\n",
      "1327\n",
      "90000 110000\n",
      "1328\n",
      "110000 130000\n",
      "1329\n",
      "90000 110000\n",
      "1330\n",
      "120000 140000\n",
      "1331\n",
      "110000 130000\n",
      "1332\n",
      "110000 130000\n",
      "1333\n",
      "50000 70000\n",
      "1334\n",
      "90000 110000\n",
      "1335\n",
      "90000 110000\n",
      "1336\n",
      "120000 140000\n",
      "1337\n",
      "90000 110000\n",
      "1338\n",
      "90000 110000\n",
      "1339\n",
      "None None\n",
      "1340\n",
      "90000 110000\n",
      "1341\n",
      "110000 130000\n",
      "1342\n",
      "90000 110000\n",
      "1343\n",
      "90000 110000\n",
      "1344\n",
      "90000 110000\n",
      "1345\n",
      "110000 130000\n",
      "1346\n",
      "90000 110000\n",
      "1347\n",
      "90000 110000\n",
      "1348\n",
      "80000 100000\n",
      "1349\n",
      "90000 110000\n",
      "1350\n",
      "90000 110000\n",
      "1351\n",
      "90000 110000\n",
      "1352\n",
      "90000 110000\n",
      "1353\n",
      "90000 110000\n",
      "1354\n",
      "None None\n",
      "1355\n",
      "90000 110000\n",
      "1356\n",
      "110000 130000\n",
      "1357\n",
      "90000 110000\n",
      "1358\n",
      "80000 100000\n",
      "1359\n",
      "90000 110000\n",
      "1360\n",
      "70000 90000\n",
      "1361\n",
      "90000 110000\n",
      "1362\n",
      "60000 80000\n",
      "1363\n",
      "90000 110000\n",
      "1364\n",
      "110000 130000\n",
      "1365\n",
      "110000 130000\n",
      "1366\n",
      "90000 110000\n",
      "1367\n",
      "90000 110000\n",
      "1368\n",
      "110000 130000\n",
      "1369\n",
      "110000 130000\n",
      "1370\n",
      "90000 110000\n",
      "1371\n",
      "90000 110000\n",
      "1372\n",
      "90000 110000\n",
      "1373\n",
      "90000 110000\n",
      "1374\n",
      "80000 100000\n",
      "1375\n",
      "70000 90000\n",
      "1376\n",
      "110000 130000\n",
      "1377\n",
      "80000 100000\n",
      "1378\n",
      "90000 110000\n",
      "1379\n",
      "90000 110000\n",
      "1380\n",
      "120000 140000\n",
      "1381\n",
      "90000 110000\n",
      "1382\n",
      "90000 110000\n",
      "1383\n",
      "60000 80000\n",
      "1384\n",
      "90000 110000\n",
      "1385\n",
      "40000 60000\n",
      "1386\n",
      "80000 100000\n",
      "1387\n",
      "110000 130000\n",
      "1388\n",
      "80000 100000\n",
      "1389\n",
      "90000 110000\n",
      "1390\n",
      "110000 130000\n",
      "1391\n",
      "90000 110000\n",
      "1392\n",
      "110000 130000\n",
      "1393\n",
      "90000 110000\n",
      "1394\n",
      "90000 110000\n",
      "1395\n",
      "75000 95000\n",
      "1396\n",
      "90000 110000\n",
      "1397\n",
      "90000 110000\n",
      "1398\n",
      "90000 110000\n",
      "1399\n",
      "110000 130000\n",
      "1400\n",
      "110000 130000\n",
      "1401\n",
      "90000 110000\n",
      "1402\n",
      "90000 110000\n",
      "1403\n",
      "80000 100000\n",
      "1404\n",
      "90000 110000\n",
      "1405\n",
      "90000 110000\n",
      "1406\n",
      "80000 100000\n",
      "1407\n",
      "80000 100000\n",
      "1408\n",
      "80000 100000\n",
      "1409\n",
      "90000 110000\n",
      "1410\n",
      "None None\n",
      "1411\n",
      "90000 110000\n",
      "1412\n",
      "90000 110000\n",
      "1413\n",
      "80000 100000\n",
      "1414\n",
      "80000 100000\n",
      "1415\n",
      "90000 110000\n",
      "1416\n",
      "110000 130000\n",
      "1417\n",
      "80000 100000\n",
      "1418\n",
      "70000 90000\n",
      "1419\n",
      "60000 80000\n",
      "1420\n",
      "60000 80000\n",
      "1421\n",
      "None None\n",
      "1422\n",
      "80000 100000\n",
      "1423\n",
      "90000 110000\n",
      "1424\n",
      "110000 130000\n",
      "1425\n",
      "80000 100000\n",
      "1426\n",
      "90000 110000\n",
      "1427\n",
      "80000 100000\n",
      "1428\n",
      "90000 110000\n",
      "1429\n",
      "90000 110000\n",
      "1430\n",
      "110000 130000\n",
      "1431\n",
      "80000 100000\n",
      "1432\n",
      "90000 110000\n",
      "1433\n",
      "90000 110000\n",
      "1434\n",
      "90000 110000\n",
      "1435\n",
      "90000 110000\n",
      "1436\n",
      "60000 80000\n",
      "1437\n",
      "90000 110000\n",
      "1438\n",
      "60000 80000\n",
      "1439\n",
      "70000 90000\n",
      "1440\n",
      "None None\n",
      "1441\n",
      "None None\n",
      "1442\n",
      "None None\n",
      "1443\n",
      "90000 110000\n",
      "1444\n",
      "90000 110000\n",
      "1445\n",
      "90000 110000\n",
      "1446\n",
      "90000 110000\n",
      "1447\n",
      "110000 130000\n",
      "1448\n",
      "90000 110000\n",
      "1449\n",
      "110000 130000\n",
      "1450\n",
      "90000 110000\n",
      "1451\n",
      "110000 130000\n",
      "1452\n",
      "80000 100000\n",
      "1453\n",
      "90000 110000\n",
      "1454\n",
      "90000 110000\n",
      "1455\n",
      "90000 110000\n",
      "1456\n",
      "90000 110000\n",
      "1457\n",
      "110000 130000\n",
      "1458\n",
      "90000 110000\n",
      "1459\n",
      "90000 110000\n",
      "1460\n",
      "90000 110000\n",
      "1461\n",
      "90000 110000\n",
      "1462\n",
      "80000 100000\n",
      "1463\n",
      "70000 90000\n",
      "1464\n",
      "90000 110000\n",
      "1465\n",
      "110000 130000\n",
      "1466\n",
      "90000 110000\n",
      "1467\n",
      "90000 110000\n",
      "1468\n",
      "110000 130000\n",
      "1469\n",
      "120000 140000\n",
      "1470\n",
      "90000 110000\n",
      "1471\n",
      "110000 130000\n",
      "1472\n",
      "110000 130000\n",
      "1473\n",
      "90000 110000\n",
      "1474\n",
      "92000 112000\n",
      "1475\n",
      "110000 130000\n",
      "1476\n",
      "90000 110000\n",
      "1477\n",
      "90000 110000\n",
      "1478\n",
      "90000 110000\n",
      "1479\n",
      "90000 110000\n",
      "1480\n",
      "90000 110000\n",
      "1481\n",
      "110000 130000\n",
      "1482\n",
      "90000 110000\n",
      "1483\n",
      "90000 110000\n",
      "1484\n",
      "90000 110000\n",
      "1485\n",
      "90000 110000\n",
      "1486\n",
      "90000 110000\n",
      "1487\n",
      "90000 110000\n",
      "1488\n",
      "110000 130000\n",
      "1489\n",
      "90000 110000\n",
      "1490\n",
      "90000 110000\n",
      "1491\n",
      "90000 110000\n",
      "1492\n",
      "90000 110000\n",
      "1493\n",
      "90000 110000\n",
      "1494\n",
      "90000 110000\n",
      "1495\n",
      "110000 130000\n",
      "1496\n",
      "80000 100000\n",
      "1497\n",
      "80000 100000\n",
      "1498\n",
      "90000 110000\n",
      "1499\n",
      "90000 110000\n",
      "1500\n",
      "90000 110000\n",
      "1501\n",
      "90000 110000\n",
      "1502\n",
      "90000 110000\n",
      "1503\n",
      "80000 100000\n",
      "1504\n",
      "90000 110000\n",
      "1505\n",
      "90000 110000\n",
      "1506\n",
      "90000 110000\n",
      "1507\n",
      "80000 100000\n",
      "1508\n",
      "90000 110000\n",
      "1509\n",
      "90000 110000\n",
      "1510\n",
      "90000 110000\n",
      "1511\n",
      "90000 110000\n",
      "1512\n",
      "110000 130000\n",
      "1513\n",
      "90000 110000\n",
      "1514\n",
      "90000 110000\n",
      "1515\n",
      "90000 110000\n",
      "1516\n",
      "90000 110000\n",
      "1517\n",
      "90000 110000\n",
      "1518\n",
      "90000 110000\n",
      "1519\n",
      "90000 110000\n",
      "1520\n",
      "90000 110000\n",
      "1521\n",
      "90000 110000\n",
      "1522\n",
      "90000 110000\n",
      "1523\n",
      "90000 110000\n",
      "1524\n",
      "110000 130000\n",
      "1525\n",
      "110000 130000\n",
      "1526\n",
      "90000 110000\n",
      "1527\n",
      "80000 100000\n",
      "1528\n",
      "90000 110000\n",
      "1529\n",
      "80000 100000\n",
      "1530\n",
      "90000 110000\n",
      "1531\n",
      "80000 100000\n",
      "1532\n",
      "110000 130000\n",
      "1533\n",
      "90000 110000\n",
      "1534\n",
      "90000 110000\n",
      "1535\n",
      "90000 110000\n",
      "1536\n",
      "90000 110000\n",
      "1537\n",
      "80000 100000\n",
      "1538\n",
      "90000 110000\n",
      "1539\n",
      "90000 110000\n",
      "1540\n",
      "90000 110000\n",
      "1541\n",
      "90000 110000\n",
      "1542\n",
      "90000 110000\n",
      "1543\n",
      "90000 110000\n",
      "1544\n",
      "80000 100000\n",
      "1545\n",
      "90000 110000\n",
      "1546\n",
      "90000 110000\n",
      "1547\n",
      "None None\n",
      "1548\n",
      "80000 100000\n",
      "1549\n",
      "90000 110000\n",
      "1550\n",
      "90000 110000\n",
      "1551\n",
      "110000 130000\n",
      "1552\n",
      "90000 110000\n",
      "1553\n",
      "90000 110000\n",
      "1554\n",
      "90000 110000\n",
      "1555\n",
      "80000 100000\n",
      "1556\n",
      "90000 110000\n",
      "1557\n",
      "80000 100000\n",
      "1558\n",
      "90000 110000\n",
      "1559\n",
      "80000 100000\n",
      "1560\n",
      "110000 130000\n",
      "1561\n",
      "90000 110000\n",
      "1562\n",
      "110000 130000\n",
      "1563\n",
      "None None\n",
      "1564\n",
      "90000 110000\n",
      "1565\n",
      "90000 110000\n",
      "1566\n",
      "60000 80000\n",
      "1567\n",
      "90000 110000\n",
      "1568\n",
      "90000 110000\n",
      "1569\n",
      "90000 110000\n",
      "1570\n",
      "80000 100000\n",
      "1571\n",
      "60000 80000\n",
      "1572\n",
      "90000 110000\n",
      "1573\n",
      "90000 110000\n",
      "1574\n",
      "80000 100000\n",
      "1575\n",
      "90000 110000\n",
      "1576\n",
      "90000 110000\n",
      "1577\n",
      "90000 110000\n",
      "1578\n",
      "90000 110000\n",
      "1579\n",
      "90000 110000\n",
      "1580\n",
      "None None\n",
      "1581\n",
      "80000 100000\n",
      "1582\n",
      "90000 110000\n",
      "1583\n",
      "90000 110000\n",
      "1584\n",
      "60000 80000\n",
      "1585\n",
      "90000 110000\n",
      "1586\n",
      "90000 110000\n",
      "1587\n",
      "90000 110000\n",
      "1588\n",
      "90000 110000\n",
      "1589\n",
      "80000 100000\n",
      "1590\n",
      "90000 110000\n"
     ]
    }
   ],
   "source": [
    "# change here for new prompt and message below ------------\n",
    "results_file = '../../data_acquisition/prepared_data/regression_all.csv'\n",
    "min = 'min_salary'\n",
    "max = 'max_salary'\n",
    "answer = 'block1_answer_fewshot'\n",
    "# Setup and load initial data\n",
    "if os.path.exists(results_file):\n",
    "    df = pd.read_csv(results_file)\n",
    "else:\n",
    "    df[min] = None  # Initialize columns if starting fresh\n",
    "    df[max] = None\n",
    "    df[answer] = None \n",
    "\n",
    "# change content here for new prompt and message below ------------\n",
    "def generate_query(row):\n",
    "    return {\n",
    "        \"role\": \"user\",\n",
    "        \"content\": f\"Gib mir nur das Gehalt im Format (\\d{1,3}(?:'\\d{3})*) und (\\d{1,3}(?:'\\d{3})) CHF für die Position {row['title']} in Zürich, Schweiz. Wenn du kein exaktes Gehalt hast gib eine Schätzung an. Der angegebene Gehaltsbereich sollte dabei eine maximale Spanne von 20000 CHF nicht überschreiten.\"\n",
    "    }\n",
    "\n",
    "def generate_message(title, company, min_salary, max_salary, min_workload, max_workload, description):\n",
    "    return {\n",
    "        \"role\": \"user\",\n",
    "        \"content\": f\"Das Gehalt für die Position {title}  liegt zwischen {min_salary} und {max_salary}.\"\n",
    "    }\n",
    "\n",
    "def run_model(limit):\n",
    "    start_index = df[min].last_valid_index() + 1 if df[max].last_valid_index() != None else 0\n",
    "    example_messages = [generate_message(row['title'], row['company'], row['min_salary'], row['max_salary'], row['min_workload'], row['max_workload'], row['description']) for index, row in df_with_salary_few_shot.iterrows()]\n",
    "    \n",
    "    for index, row in df.iloc[start_index:start_index + limit].iterrows():\n",
    "        query_message = generate_query(row)\n",
    "        chat_completion = client.chat.completions.create(\n",
    "            messages= example_messages + [query_message], # change message for new prompt ------------\n",
    "            model=\"llama3-70b-8192\",\n",
    "            temperature=0.0\n",
    "        )\n",
    "        min_salary, max_salary = extract_salaries(chat_completion.choices[0].message.content)\n",
    "        print(index)\n",
    "        print(min_salary, max_salary)\n",
    "        \n",
    "        \n",
    "        # Update DataFrame\n",
    "        df.at[index, min] = min_salary\n",
    "        df.at[index, max] = max_salary\n",
    "        df.at[index, answer] = chat_completion.choices[0].message.content\n",
    "        \n",
    "        # Save updated DataFrame in chunks or fully, depending on your preference\n",
    "        df.to_csv(results_file, index=False)\n",
    "\n",
    "# Testing the function with a limited number of entries\n",
    "run_model(10000)"
   ],
   "metadata": {
    "collapsed": false,
    "ExecuteTime": {
     "end_time": "2024-07-09T09:10:59.877735800Z",
     "start_time": "2024-07-09T08:47:19.886430Z"
    }
   },
   "id": "644c58689ee3506c"
  },
  {
   "cell_type": "code",
   "execution_count": 35,
   "outputs": [],
   "source": [
    "data_check = pd.read_csv('../../data_acquisition/prepared_data/regression_all.csv')"
   ],
   "metadata": {
    "collapsed": false,
    "ExecuteTime": {
     "end_time": "2024-07-09T09:11:15.290150800Z",
     "start_time": "2024-07-09T09:11:15.250941800Z"
    }
   },
   "id": "ff190b0affccfd1e"
  },
  {
   "cell_type": "code",
   "execution_count": 37,
   "outputs": [
    {
     "data": {
      "text/plain": "                                                  title  \\\n0                 Projektleiter / Consultant e-Case.Net   \n1            Senior Software Engineer 80 - 100% (m/w/d)   \n2                             System Engineer - Ansible   \n3     Softwareentwickler/in mit GIS-Erfahrung, Profe...   \n4                          SAP Consultant PP-PI (m/w/d)   \n...                                                 ...   \n1586                                    System Engineer   \n1587                    Cloud Engineer Modern Workplace   \n1588                         System Engineer Operations   \n1589             Projektleiter / Senior System Engineer   \n1590                          Senior IT System Engineer   \n\n                             company   contract_type  \\\n0                        Infogate AG  Festanstellung   \n1                       Wey Group AG  Festanstellung   \n2     RMIT Professional Resources AG       Freelance   \n3                     EBP Schweiz AG  Festanstellung   \n4        Migros-Genossenschafts-Bund  Festanstellung   \n...                              ...             ...   \n1586                 Beltronic IT AG  Festanstellung   \n1587                    EveryWare AG  Festanstellung   \n1588                 Beltronic IT AG  Festanstellung   \n1589                 Beltronic IT AG  Festanstellung   \n1590               zurichnetgroup AG  Festanstellung   \n\n                                            description min_workload  \\\n0     Wer braucht Deine Verstärkung? 1991 waren wir ...           80   \n1     Deine Aufgaben:   Als Senior Software Engineer...           80   \n2     System Engineer Position einhergehend mit Kenn...           80   \n3     Dein Beitrag in unserem Team  Du entwickelst b...           60   \n4     \"Teamwork makes the dream work\" ist für dich k...           60   \n...                                                 ...          ...   \n1586  Wer braucht Deine Verstärkung? Wir entwickeln ...           60   \n1587  Wer braucht deine Verstärkung? EveryWare ist d...           80   \n1588  Wer braucht Deine Verstärkung? Wir entwickeln ...           60   \n1589  Wer braucht Deine Verstärkung? Wir entwickeln ...           80   \n1590  Wer braucht deine Verstärkung? Dich erwartet e...           80   \n\n     max_workload  min_salary  max_salary       block1_answer_fewshot  \n0             100     90000.0    110000.0  (90'000) und (110'000) CHF  \n1             100    110000.0    130000.0   (110000) und (130000) CHF  \n2             100     90000.0    110000.0  (90'000) und (110'000) CHF  \n3             100     90000.0    110000.0      (90'000 - 110'000) CHF  \n4             100     90000.0    110000.0  (90'000) und (110'000) CHF  \n...           ...         ...         ...                         ...  \n1586          100     90000.0    110000.0  (90'000) und (110'000) CHF  \n1587          100     90000.0    110000.0  (90'000) und (110'000) CHF  \n1588          100     90000.0    110000.0  (90'000) und (110'000) CHF  \n1589          100     80000.0    100000.0      (80'000 - 100'000) CHF  \n1590          100     90000.0    110000.0  (90'000) und (110'000) CHF  \n\n[1591 rows x 9 columns]",
      "text/html": "<div>\n<style scoped>\n    .dataframe tbody tr th:only-of-type {\n        vertical-align: middle;\n    }\n\n    .dataframe tbody tr th {\n        vertical-align: top;\n    }\n\n    .dataframe thead th {\n        text-align: right;\n    }\n</style>\n<table border=\"1\" class=\"dataframe\">\n  <thead>\n    <tr style=\"text-align: right;\">\n      <th></th>\n      <th>title</th>\n      <th>company</th>\n      <th>contract_type</th>\n      <th>description</th>\n      <th>min_workload</th>\n      <th>max_workload</th>\n      <th>min_salary</th>\n      <th>max_salary</th>\n      <th>block1_answer_fewshot</th>\n    </tr>\n  </thead>\n  <tbody>\n    <tr>\n      <th>0</th>\n      <td>Projektleiter / Consultant e-Case.Net</td>\n      <td>Infogate AG</td>\n      <td>Festanstellung</td>\n      <td>Wer braucht Deine Verstärkung? 1991 waren wir ...</td>\n      <td>80</td>\n      <td>100</td>\n      <td>90000.0</td>\n      <td>110000.0</td>\n      <td>(90'000) und (110'000) CHF</td>\n    </tr>\n    <tr>\n      <th>1</th>\n      <td>Senior Software Engineer 80 - 100% (m/w/d)</td>\n      <td>Wey Group AG</td>\n      <td>Festanstellung</td>\n      <td>Deine Aufgaben:   Als Senior Software Engineer...</td>\n      <td>80</td>\n      <td>100</td>\n      <td>110000.0</td>\n      <td>130000.0</td>\n      <td>(110000) und (130000) CHF</td>\n    </tr>\n    <tr>\n      <th>2</th>\n      <td>System Engineer - Ansible</td>\n      <td>RMIT Professional Resources AG</td>\n      <td>Freelance</td>\n      <td>System Engineer Position einhergehend mit Kenn...</td>\n      <td>80</td>\n      <td>100</td>\n      <td>90000.0</td>\n      <td>110000.0</td>\n      <td>(90'000) und (110'000) CHF</td>\n    </tr>\n    <tr>\n      <th>3</th>\n      <td>Softwareentwickler/in mit GIS-Erfahrung, Profe...</td>\n      <td>EBP Schweiz AG</td>\n      <td>Festanstellung</td>\n      <td>Dein Beitrag in unserem Team  Du entwickelst b...</td>\n      <td>60</td>\n      <td>100</td>\n      <td>90000.0</td>\n      <td>110000.0</td>\n      <td>(90'000 - 110'000) CHF</td>\n    </tr>\n    <tr>\n      <th>4</th>\n      <td>SAP Consultant PP-PI (m/w/d)</td>\n      <td>Migros-Genossenschafts-Bund</td>\n      <td>Festanstellung</td>\n      <td>\"Teamwork makes the dream work\" ist für dich k...</td>\n      <td>60</td>\n      <td>100</td>\n      <td>90000.0</td>\n      <td>110000.0</td>\n      <td>(90'000) und (110'000) CHF</td>\n    </tr>\n    <tr>\n      <th>...</th>\n      <td>...</td>\n      <td>...</td>\n      <td>...</td>\n      <td>...</td>\n      <td>...</td>\n      <td>...</td>\n      <td>...</td>\n      <td>...</td>\n      <td>...</td>\n    </tr>\n    <tr>\n      <th>1586</th>\n      <td>System Engineer</td>\n      <td>Beltronic IT AG</td>\n      <td>Festanstellung</td>\n      <td>Wer braucht Deine Verstärkung? Wir entwickeln ...</td>\n      <td>60</td>\n      <td>100</td>\n      <td>90000.0</td>\n      <td>110000.0</td>\n      <td>(90'000) und (110'000) CHF</td>\n    </tr>\n    <tr>\n      <th>1587</th>\n      <td>Cloud Engineer Modern Workplace</td>\n      <td>EveryWare AG</td>\n      <td>Festanstellung</td>\n      <td>Wer braucht deine Verstärkung? EveryWare ist d...</td>\n      <td>80</td>\n      <td>100</td>\n      <td>90000.0</td>\n      <td>110000.0</td>\n      <td>(90'000) und (110'000) CHF</td>\n    </tr>\n    <tr>\n      <th>1588</th>\n      <td>System Engineer Operations</td>\n      <td>Beltronic IT AG</td>\n      <td>Festanstellung</td>\n      <td>Wer braucht Deine Verstärkung? Wir entwickeln ...</td>\n      <td>60</td>\n      <td>100</td>\n      <td>90000.0</td>\n      <td>110000.0</td>\n      <td>(90'000) und (110'000) CHF</td>\n    </tr>\n    <tr>\n      <th>1589</th>\n      <td>Projektleiter / Senior System Engineer</td>\n      <td>Beltronic IT AG</td>\n      <td>Festanstellung</td>\n      <td>Wer braucht Deine Verstärkung? Wir entwickeln ...</td>\n      <td>80</td>\n      <td>100</td>\n      <td>80000.0</td>\n      <td>100000.0</td>\n      <td>(80'000 - 100'000) CHF</td>\n    </tr>\n    <tr>\n      <th>1590</th>\n      <td>Senior IT System Engineer</td>\n      <td>zurichnetgroup AG</td>\n      <td>Festanstellung</td>\n      <td>Wer braucht deine Verstärkung? Dich erwartet e...</td>\n      <td>80</td>\n      <td>100</td>\n      <td>90000.0</td>\n      <td>110000.0</td>\n      <td>(90'000) und (110'000) CHF</td>\n    </tr>\n  </tbody>\n</table>\n<p>1591 rows × 9 columns</p>\n</div>"
     },
     "execution_count": 37,
     "metadata": {},
     "output_type": "execute_result"
    }
   ],
   "source": [
    "data_check.head(2000)"
   ],
   "metadata": {
    "collapsed": false,
    "ExecuteTime": {
     "end_time": "2024-07-09T09:11:38.481002100Z",
     "start_time": "2024-07-09T09:11:38.427548300Z"
    }
   },
   "id": "8ec43458be127df7"
  },
  {
   "cell_type": "markdown",
   "source": [
    "Data Cleaning"
   ],
   "metadata": {
    "collapsed": false
   },
   "id": "58ffc1aeb66b08f0"
  },
  {
   "cell_type": "code",
   "execution_count": 177,
   "outputs": [
    {
     "data": {
      "text/plain": "Empty DataFrame\nColumns: [title, company, contract_type, description, min_workload, max_workload, min_salary, max_salary, block1_answer_fewshot]\nIndex: []",
      "text/html": "<div>\n<style scoped>\n    .dataframe tbody tr th:only-of-type {\n        vertical-align: middle;\n    }\n\n    .dataframe tbody tr th {\n        vertical-align: top;\n    }\n\n    .dataframe thead th {\n        text-align: right;\n    }\n</style>\n<table border=\"1\" class=\"dataframe\">\n  <thead>\n    <tr style=\"text-align: right;\">\n      <th></th>\n      <th>title</th>\n      <th>company</th>\n      <th>contract_type</th>\n      <th>description</th>\n      <th>min_workload</th>\n      <th>max_workload</th>\n      <th>min_salary</th>\n      <th>max_salary</th>\n      <th>block1_answer_fewshot</th>\n    </tr>\n  </thead>\n  <tbody>\n  </tbody>\n</table>\n</div>"
     },
     "execution_count": 177,
     "metadata": {},
     "output_type": "execute_result"
    }
   ],
   "source": [
    "data_check[data_check['max_salary'].isna()]"
   ],
   "metadata": {
    "collapsed": false,
    "ExecuteTime": {
     "end_time": "2024-07-09T09:48:05.836850200Z",
     "start_time": "2024-07-09T09:48:05.773148800Z"
    }
   },
   "id": "2b20a1de426b97ec"
  },
  {
   "cell_type": "code",
   "execution_count": 174,
   "outputs": [
    {
     "data": {
      "text/plain": "'120000 und 140000 CHF'"
     },
     "execution_count": 174,
     "metadata": {},
     "output_type": "execute_result"
    }
   ],
   "source": [
    "data_check.loc[1547,\"block1_answer_fewshot\"]"
   ],
   "metadata": {
    "collapsed": false,
    "ExecuteTime": {
     "end_time": "2024-07-09T09:47:47.725248700Z",
     "start_time": "2024-07-09T09:47:47.684176900Z"
    }
   },
   "id": "b57d43f10879dd4"
  },
  {
   "cell_type": "code",
   "execution_count": 173,
   "outputs": [],
   "source": [
    "data_check.loc[1580, 'min_salary'] = 110000\n",
    "data_check.loc[1580, 'max_salary'] = 130000"
   ],
   "metadata": {
    "collapsed": false,
    "ExecuteTime": {
     "end_time": "2024-07-09T09:47:42.918221600Z",
     "start_time": "2024-07-09T09:47:42.877747100Z"
    }
   },
   "id": "1993a4a9d23b8b38"
  },
  {
   "cell_type": "code",
   "execution_count": 175,
   "outputs": [],
   "source": [
    "data_check.loc[1547, 'min_salary'] = 120000\n",
    "data_check.loc[1547, 'max_salary'] = 140000"
   ],
   "metadata": {
    "collapsed": false,
    "ExecuteTime": {
     "end_time": "2024-07-09T09:47:57.379586Z",
     "start_time": "2024-07-09T09:47:57.352225700Z"
    }
   },
   "id": "35efa960113a2eb0"
  },
  {
   "cell_type": "code",
   "execution_count": 169,
   "outputs": [],
   "source": [
    "data_check.loc[1563, 'min_salary'] = 120000\n",
    "data_check.loc[1563, 'max_salary'] = 140000"
   ],
   "metadata": {
    "collapsed": false,
    "ExecuteTime": {
     "end_time": "2024-07-09T09:46:54.663812300Z",
     "start_time": "2024-07-09T09:46:54.637457800Z"
    }
   },
   "id": "5205c005c103940d"
  },
  {
   "cell_type": "code",
   "execution_count": 167,
   "outputs": [],
   "source": [
    "data_check.loc[1547, 'min_salary'] = 120000\n",
    "data_check.loc[1547, 'max_salary'] = 140000"
   ],
   "metadata": {
    "collapsed": false,
    "ExecuteTime": {
     "end_time": "2024-07-09T09:46:30.899345300Z",
     "start_time": "2024-07-09T09:46:30.872061700Z"
    }
   },
   "id": "86d8604cbff824f3"
  },
  {
   "cell_type": "code",
   "execution_count": 165,
   "outputs": [],
   "source": [
    "data_check.loc[1442, 'min_salary'] = 80000\n",
    "data_check.loc[1442, 'max_salary'] = 100000"
   ],
   "metadata": {
    "collapsed": false,
    "ExecuteTime": {
     "end_time": "2024-07-09T09:45:57.777745400Z",
     "start_time": "2024-07-09T09:45:57.744686300Z"
    }
   },
   "id": "ff3888cef74717a3"
  },
  {
   "cell_type": "code",
   "execution_count": 163,
   "outputs": [],
   "source": [
    "data_check.loc[1441, 'min_salary'] = 80000\n",
    "data_check.loc[1441, 'max_salary'] = 100000"
   ],
   "metadata": {
    "collapsed": false,
    "ExecuteTime": {
     "end_time": "2024-07-09T09:45:44.790011900Z",
     "start_time": "2024-07-09T09:45:44.682776200Z"
    }
   },
   "id": "558ecd9580bf36bc"
  },
  {
   "cell_type": "code",
   "execution_count": 160,
   "outputs": [],
   "source": [
    "data_check.loc[1440, 'min_salary'] = 80000\n",
    "data_check.loc[1440, 'max_salary'] = 100000"
   ],
   "metadata": {
    "collapsed": false,
    "ExecuteTime": {
     "end_time": "2024-07-09T09:45:23.094064300Z",
     "start_time": "2024-07-09T09:45:23.071111400Z"
    }
   },
   "id": "47510326169cf8b2"
  },
  {
   "cell_type": "code",
   "execution_count": 158,
   "outputs": [],
   "source": [
    "data_check.loc[1421, 'min_salary'] = 70000\n",
    "data_check.loc[1421, 'max_salary'] = 90000"
   ],
   "metadata": {
    "collapsed": false,
    "ExecuteTime": {
     "end_time": "2024-07-09T09:44:49.709059100Z",
     "start_time": "2024-07-09T09:44:49.672083900Z"
    }
   },
   "id": "1146b52247c4e523"
  },
  {
   "cell_type": "code",
   "execution_count": 155,
   "outputs": [],
   "source": [
    "data_check.loc[1410, 'min_salary'] = 80000\n",
    "data_check.loc[1410, 'max_salary'] = 100000"
   ],
   "metadata": {
    "collapsed": false,
    "ExecuteTime": {
     "end_time": "2024-07-09T09:40:56.839466900Z",
     "start_time": "2024-07-09T09:40:56.808636100Z"
    }
   },
   "id": "302e017e8fa9aba"
  },
  {
   "cell_type": "code",
   "execution_count": 153,
   "outputs": [],
   "source": [
    "data_check.loc[1354, 'min_salary'] = 80000\n",
    "data_check.loc[1354, 'max_salary'] = 100000"
   ],
   "metadata": {
    "collapsed": false,
    "ExecuteTime": {
     "end_time": "2024-07-09T09:40:22.629683800Z",
     "start_time": "2024-07-09T09:40:22.594428500Z"
    }
   },
   "id": "1cefa42e4ab7d98a"
  },
  {
   "cell_type": "code",
   "execution_count": 151,
   "outputs": [],
   "source": [
    "data_check.loc[1339, 'min_salary'] = 120000\n",
    "data_check.loc[1339, 'max_salary'] = 140000"
   ],
   "metadata": {
    "collapsed": false,
    "ExecuteTime": {
     "end_time": "2024-07-09T09:39:53.924137200Z",
     "start_time": "2024-07-09T09:39:53.907531500Z"
    }
   },
   "id": "ad68059f284e1467"
  },
  {
   "cell_type": "code",
   "execution_count": 148,
   "outputs": [],
   "source": [
    "data_check.loc[1314, 'min_salary'] = 5000\n",
    "data_check.loc[1314, 'max_salary'] = 7000"
   ],
   "metadata": {
    "collapsed": false,
    "ExecuteTime": {
     "end_time": "2024-07-09T09:39:26.141395900Z",
     "start_time": "2024-07-09T09:39:26.126187400Z"
    }
   },
   "id": "a2a4e80a301977b9"
  },
  {
   "cell_type": "code",
   "execution_count": 146,
   "outputs": [],
   "source": [
    "data_check.loc[1310, 'min_salary'] = 120000\n",
    "data_check.loc[1310, 'max_salary'] = 140000"
   ],
   "metadata": {
    "collapsed": false,
    "ExecuteTime": {
     "end_time": "2024-07-09T09:38:25.467511500Z",
     "start_time": "2024-07-09T09:38:25.444589900Z"
    }
   },
   "id": "ee00ff45c625c246"
  },
  {
   "cell_type": "code",
   "execution_count": 144,
   "outputs": [],
   "source": [
    "data_check.loc[1297, 'min_salary'] = 90000\n",
    "data_check.loc[1297, 'max_salary'] = 110000"
   ],
   "metadata": {
    "collapsed": false,
    "ExecuteTime": {
     "end_time": "2024-07-09T09:38:01.203126700Z",
     "start_time": "2024-07-09T09:38:01.179847900Z"
    }
   },
   "id": "4ed11512387ddccc"
  },
  {
   "cell_type": "code",
   "execution_count": 142,
   "outputs": [],
   "source": [
    "data_check.loc[1274, 'min_salary'] = 120000\n",
    "data_check.loc[1274, 'max_salary'] = 140000"
   ],
   "metadata": {
    "collapsed": false,
    "ExecuteTime": {
     "end_time": "2024-07-09T09:37:25.508998600Z",
     "start_time": "2024-07-09T09:37:25.487071900Z"
    }
   },
   "id": "fa9024bceb1f294f"
  },
  {
   "cell_type": "code",
   "execution_count": 140,
   "outputs": [],
   "source": [
    "data_check.loc[1273, 'min_salary'] = 120000\n",
    "data_check.loc[1273, 'max_salary'] = 140000"
   ],
   "metadata": {
    "collapsed": false,
    "ExecuteTime": {
     "end_time": "2024-07-09T09:37:07.683272600Z",
     "start_time": "2024-07-09T09:37:07.652842200Z"
    }
   },
   "id": "a5cd33bc21747fab"
  },
  {
   "cell_type": "code",
   "execution_count": 137,
   "outputs": [],
   "source": [
    "data_check.loc[1261, 'min_salary'] = 120000\n",
    "data_check.loc[1261, 'max_salary'] = 140000"
   ],
   "metadata": {
    "collapsed": false,
    "ExecuteTime": {
     "end_time": "2024-07-09T09:36:36.892706500Z",
     "start_time": "2024-07-09T09:36:36.877431600Z"
    }
   },
   "id": "c63d0745aea74b96"
  },
  {
   "cell_type": "code",
   "execution_count": 135,
   "outputs": [],
   "source": [
    "data_check.loc[1257, 'min_salary'] = 55000\n",
    "data_check.loc[1257, 'max_salary'] = 75000"
   ],
   "metadata": {
    "collapsed": false,
    "ExecuteTime": {
     "end_time": "2024-07-09T09:36:14.230234800Z",
     "start_time": "2024-07-09T09:36:14.193637800Z"
    }
   },
   "id": "1f664cbb2fba04b3"
  },
  {
   "cell_type": "code",
   "execution_count": 133,
   "outputs": [],
   "source": [
    "data_check.loc[1233, 'min_salary'] = 120000\n",
    "data_check.loc[1233, 'max_salary'] = 140000"
   ],
   "metadata": {
    "collapsed": false,
    "ExecuteTime": {
     "end_time": "2024-07-09T09:35:42.086960400Z",
     "start_time": "2024-07-09T09:35:42.063559200Z"
    }
   },
   "id": "7c93214969a5308"
  },
  {
   "cell_type": "code",
   "execution_count": 131,
   "outputs": [],
   "source": [
    "data_check.loc[1224, 'min_salary'] = 120000\n",
    "data_check.loc[1224, 'max_salary'] = 140000"
   ],
   "metadata": {
    "collapsed": false,
    "ExecuteTime": {
     "end_time": "2024-07-09T09:35:20.968202600Z",
     "start_time": "2024-07-09T09:35:20.917863800Z"
    }
   },
   "id": "e96c80c081d555e1"
  },
  {
   "cell_type": "code",
   "execution_count": 124,
   "outputs": [],
   "source": [
    "data_check.loc[1218, 'min_salary'] = 120000\n",
    "data_check.loc[1218, 'max_salary'] = 140000"
   ],
   "metadata": {
    "collapsed": false,
    "ExecuteTime": {
     "end_time": "2024-07-09T09:34:00.355268700Z",
     "start_time": "2024-07-09T09:34:00.323892Z"
    }
   },
   "id": "9c9e22323bb52f77"
  },
  {
   "cell_type": "code",
   "execution_count": 122,
   "outputs": [],
   "source": [
    "data_check.loc[1126, 'min_salary'] = 120000\n",
    "data_check.loc[1126, 'max_salary'] = 140000"
   ],
   "metadata": {
    "collapsed": false,
    "ExecuteTime": {
     "end_time": "2024-07-09T09:33:08.184875600Z",
     "start_time": "2024-07-09T09:33:08.144234700Z"
    }
   },
   "id": "774b8659f50e21f2"
  },
  {
   "cell_type": "code",
   "execution_count": 120,
   "outputs": [],
   "source": [
    "data_check.loc[1115, 'min_salary'] = 110000\n",
    "data_check.loc[1115, 'max_salary'] = 130000"
   ],
   "metadata": {
    "collapsed": false,
    "ExecuteTime": {
     "end_time": "2024-07-09T09:32:44.656270500Z",
     "start_time": "2024-07-09T09:32:44.632052700Z"
    }
   },
   "id": "3dffecfbcb51ab77"
  },
  {
   "cell_type": "code",
   "execution_count": 117,
   "outputs": [],
   "source": [
    "data_check.loc[1111, 'min_salary'] = 90000\n",
    "data_check.loc[1111, 'max_salary'] = 110000"
   ],
   "metadata": {
    "collapsed": false,
    "ExecuteTime": {
     "end_time": "2024-07-09T09:31:37.821170400Z",
     "start_time": "2024-07-09T09:31:37.784596500Z"
    }
   },
   "id": "3f8e898f0b9a4cab"
  },
  {
   "cell_type": "code",
   "execution_count": 115,
   "outputs": [],
   "source": [
    "data_check.loc[1109, 'min_salary'] = 90000\n",
    "data_check.loc[1109, 'max_salary'] = 110000"
   ],
   "metadata": {
    "collapsed": false,
    "ExecuteTime": {
     "end_time": "2024-07-09T09:31:17.896608Z",
     "start_time": "2024-07-09T09:31:17.884142700Z"
    }
   },
   "id": "6e1af067d93cab9d"
  },
  {
   "cell_type": "code",
   "execution_count": 113,
   "outputs": [],
   "source": [
    "data_check.loc[1081, 'min_salary'] = 90000\n",
    "data_check.loc[1081, 'max_salary'] = 110000"
   ],
   "metadata": {
    "collapsed": false,
    "ExecuteTime": {
     "end_time": "2024-07-09T09:30:55.490035300Z",
     "start_time": "2024-07-09T09:30:55.475598900Z"
    }
   },
   "id": "2b4ce3ccba6f5d6"
  },
  {
   "cell_type": "code",
   "execution_count": 111,
   "outputs": [],
   "source": [
    "data_check.loc[1050, 'min_salary'] = 120000\n",
    "data_check.loc[1050, 'max_salary'] = 140000"
   ],
   "metadata": {
    "collapsed": false,
    "ExecuteTime": {
     "end_time": "2024-07-09T09:30:35.201394100Z",
     "start_time": "2024-07-09T09:30:35.180908300Z"
    }
   },
   "id": "a1dc2d41c66f0a78"
  },
  {
   "cell_type": "code",
   "execution_count": 109,
   "outputs": [],
   "source": [
    "data_check.loc[1049, 'min_salary'] = 90000\n",
    "data_check.loc[1049, 'max_salary'] = 110000"
   ],
   "metadata": {
    "collapsed": false,
    "ExecuteTime": {
     "end_time": "2024-07-09T09:30:13.624217500Z",
     "start_time": "2024-07-09T09:30:13.609264400Z"
    }
   },
   "id": "ee5515831350810e"
  },
  {
   "cell_type": "code",
   "execution_count": 107,
   "outputs": [],
   "source": [
    "data_check.loc[1039, 'min_salary'] = 60000\n",
    "data_check.loc[1039, 'max_salary'] = 80000"
   ],
   "metadata": {
    "collapsed": false,
    "ExecuteTime": {
     "end_time": "2024-07-09T09:29:52.981690400Z",
     "start_time": "2024-07-09T09:29:52.950058Z"
    }
   },
   "id": "68f6809d20aa0347"
  },
  {
   "cell_type": "code",
   "execution_count": 105,
   "outputs": [],
   "source": [
    "data_check.loc[1007, 'min_salary'] = 90000\n",
    "data_check.loc[1007, 'max_salary'] = 110000"
   ],
   "metadata": {
    "collapsed": false,
    "ExecuteTime": {
     "end_time": "2024-07-09T09:29:24.379715100Z",
     "start_time": "2024-07-09T09:29:24.373037800Z"
    }
   },
   "id": "cc78dc769b07d972"
  },
  {
   "cell_type": "code",
   "execution_count": 103,
   "outputs": [],
   "source": [
    "data_check.loc[1005, 'min_salary'] = 90000\n",
    "data_check.loc[1005, 'max_salary'] = 110000"
   ],
   "metadata": {
    "collapsed": false,
    "ExecuteTime": {
     "end_time": "2024-07-09T09:29:07.810479700Z",
     "start_time": "2024-07-09T09:29:07.796544700Z"
    }
   },
   "id": "3c6e1207eec4fecf"
  },
  {
   "cell_type": "code",
   "execution_count": 101,
   "outputs": [],
   "source": [
    "data_check.loc[1004, 'min_salary'] = 90000\n",
    "data_check.loc[1004, 'max_salary'] = 110000"
   ],
   "metadata": {
    "collapsed": false,
    "ExecuteTime": {
     "end_time": "2024-07-09T09:28:50.543050200Z",
     "start_time": "2024-07-09T09:28:50.524779300Z"
    }
   },
   "id": "b2338d178de8fc99"
  },
  {
   "cell_type": "code",
   "execution_count": 98,
   "outputs": [],
   "source": [
    "data_check.loc[999, 'min_salary'] =120000\n",
    "data_check.loc[999, 'max_salary'] = 140000"
   ],
   "metadata": {
    "collapsed": false,
    "ExecuteTime": {
     "end_time": "2024-07-09T09:28:12.846933300Z",
     "start_time": "2024-07-09T09:28:12.823752600Z"
    }
   },
   "id": "26199a58ad9f9ae4"
  },
  {
   "cell_type": "code",
   "execution_count": 96,
   "outputs": [],
   "source": [
    "data_check.loc[986, 'min_salary'] = 80000\n",
    "data_check.loc[986, 'max_salary'] = 100000"
   ],
   "metadata": {
    "collapsed": false,
    "ExecuteTime": {
     "end_time": "2024-07-09T09:27:36.652882700Z",
     "start_time": "2024-07-09T09:27:36.628959100Z"
    }
   },
   "id": "568d994ad2a068a2"
  },
  {
   "cell_type": "code",
   "execution_count": 94,
   "outputs": [],
   "source": [
    "data_check.loc[984, 'min_salary'] = 80000\n",
    "data_check.loc[984, 'max_salary'] = 100000"
   ],
   "metadata": {
    "collapsed": false,
    "ExecuteTime": {
     "end_time": "2024-07-09T09:27:04.631342200Z",
     "start_time": "2024-07-09T09:27:04.606225600Z"
    }
   },
   "id": "d80d4a93c87fc5a9"
  },
  {
   "cell_type": "code",
   "execution_count": 90,
   "outputs": [],
   "source": [
    "data_check.loc[900, 'min_salary'] = 120000\n",
    "data_check.loc[900, 'max_salary'] = 140000"
   ],
   "metadata": {
    "collapsed": false,
    "ExecuteTime": {
     "end_time": "2024-07-09T09:26:13.158562400Z",
     "start_time": "2024-07-09T09:26:13.133336200Z"
    }
   },
   "id": "fa0823adfb257c32"
  },
  {
   "cell_type": "code",
   "execution_count": 87,
   "outputs": [],
   "source": [
    "data_check.loc[893, 'min_salary'] = 90000\n",
    "data_check.loc[893, 'max_salary'] = 110000"
   ],
   "metadata": {
    "collapsed": false,
    "ExecuteTime": {
     "end_time": "2024-07-09T09:25:33.380043100Z",
     "start_time": "2024-07-09T09:25:33.333303200Z"
    }
   },
   "id": "51e0b25eef838124"
  },
  {
   "cell_type": "code",
   "execution_count": 85,
   "outputs": [],
   "source": [
    "data_check.loc[891, 'min_salary'] = 90000\n",
    "data_check.loc[891, 'max_salary'] = 110000"
   ],
   "metadata": {
    "collapsed": false,
    "ExecuteTime": {
     "end_time": "2024-07-09T09:24:59.820694900Z",
     "start_time": "2024-07-09T09:24:59.801209600Z"
    }
   },
   "id": "1298f6fde5962449"
  },
  {
   "cell_type": "code",
   "execution_count": 83,
   "outputs": [],
   "source": [
    "data_check.loc[879, 'min_salary'] = 70000\n",
    "data_check.loc[879, 'max_salary'] = 90000"
   ],
   "metadata": {
    "collapsed": false,
    "ExecuteTime": {
     "end_time": "2024-07-09T09:24:23.182599800Z",
     "start_time": "2024-07-09T09:24:23.143307800Z"
    }
   },
   "id": "b42b7b0b0794180f"
  },
  {
   "cell_type": "code",
   "execution_count": 81,
   "outputs": [],
   "source": [
    "data_check.loc[842, 'min_salary'] = 45000\n",
    "data_check.loc[842, 'max_salary'] = 65000"
   ],
   "metadata": {
    "collapsed": false,
    "ExecuteTime": {
     "end_time": "2024-07-09T09:23:40.239026800Z",
     "start_time": "2024-07-09T09:23:40.223074100Z"
    }
   },
   "id": "80271059cf22ebb4"
  },
  {
   "cell_type": "code",
   "execution_count": 79,
   "outputs": [],
   "source": [
    "data_check.loc[816, 'min_salary'] = 120000\n",
    "data_check.loc[816, 'max_salary'] = 140000"
   ],
   "metadata": {
    "collapsed": false,
    "ExecuteTime": {
     "end_time": "2024-07-09T09:22:59.908119800Z",
     "start_time": "2024-07-09T09:22:59.891389100Z"
    }
   },
   "id": "de5fca2746659607"
  },
  {
   "cell_type": "code",
   "execution_count": 75,
   "outputs": [],
   "source": [
    "data_check.loc[719, 'min_salary'] = 120000\n",
    "data_check.loc[719, 'max_salary'] = 140000"
   ],
   "metadata": {
    "collapsed": false,
    "ExecuteTime": {
     "end_time": "2024-07-09T09:22:27.208748100Z",
     "start_time": "2024-07-09T09:22:27.194142900Z"
    }
   },
   "id": "16f3b55534f77845"
  },
  {
   "cell_type": "code",
   "execution_count": 73,
   "outputs": [],
   "source": [
    "data_check.loc[713, 'min_salary'] = 120000\n",
    "data_check.loc[713, 'max_salary'] = 140000"
   ],
   "metadata": {
    "collapsed": false,
    "ExecuteTime": {
     "end_time": "2024-07-09T09:22:09.994584500Z",
     "start_time": "2024-07-09T09:22:09.970813900Z"
    }
   },
   "id": "9e446ba880e73ec3"
  },
  {
   "cell_type": "code",
   "execution_count": 71,
   "outputs": [],
   "source": [
    "data_check.loc[712, 'min_salary'] = 120000\n",
    "data_check.loc[712, 'max_salary'] = 140000"
   ],
   "metadata": {
    "collapsed": false,
    "ExecuteTime": {
     "end_time": "2024-07-09T09:21:40.831486500Z",
     "start_time": "2024-07-09T09:21:40.805566200Z"
    }
   },
   "id": "6aee02d2320c2298"
  },
  {
   "cell_type": "code",
   "execution_count": 69,
   "outputs": [],
   "source": [
    "data_check.loc[529, 'min_salary'] = 120000\n",
    "data_check.loc[529, 'max_salary'] = 140000"
   ],
   "metadata": {
    "collapsed": false,
    "ExecuteTime": {
     "end_time": "2024-07-09T09:21:09.921029400Z",
     "start_time": "2024-07-09T09:21:09.901377700Z"
    }
   },
   "id": "60c469b5ec83b165"
  },
  {
   "cell_type": "code",
   "execution_count": 66,
   "outputs": [],
   "source": [
    "data_check.loc[482, 'min_salary'] = 90000\n",
    "data_check.loc[482, 'max_salary'] = 110000"
   ],
   "metadata": {
    "collapsed": false,
    "ExecuteTime": {
     "end_time": "2024-07-09T09:20:31.876928Z",
     "start_time": "2024-07-09T09:20:31.860962900Z"
    }
   },
   "id": "8df93418a1590710"
  },
  {
   "cell_type": "code",
   "execution_count": 64,
   "outputs": [],
   "source": [
    "data_check.loc[480, 'min_salary'] = 90000\n",
    "data_check.loc[480, 'max_salary'] = 110000"
   ],
   "metadata": {
    "collapsed": false,
    "ExecuteTime": {
     "end_time": "2024-07-09T09:20:10.970581600Z",
     "start_time": "2024-07-09T09:20:10.953115800Z"
    }
   },
   "id": "cbde0019fe5480b5"
  },
  {
   "cell_type": "code",
   "execution_count": 62,
   "outputs": [],
   "source": [
    "data_check.loc[479, 'min_salary'] = 70000\n",
    "data_check.loc[479, 'max_salary'] = 90000"
   ],
   "metadata": {
    "collapsed": false,
    "ExecuteTime": {
     "end_time": "2024-07-09T09:19:40.124655700Z",
     "start_time": "2024-07-09T09:19:40.083661700Z"
    }
   },
   "id": "11fa08aa0d3336f2"
  },
  {
   "cell_type": "code",
   "execution_count": 59,
   "outputs": [],
   "source": [
    "data_check.loc[478, 'min_salary'] = 90000\n",
    "data_check.loc[478, 'max_salary'] = 110000"
   ],
   "metadata": {
    "collapsed": false,
    "ExecuteTime": {
     "end_time": "2024-07-09T09:19:10.355820800Z",
     "start_time": "2024-07-09T09:19:10.331423300Z"
    }
   },
   "id": "85d361871f60cf2e"
  },
  {
   "cell_type": "code",
   "execution_count": 57,
   "outputs": [],
   "source": [
    "data_check.loc[363, 'min_salary'] = 90000\n",
    "data_check.loc[363, 'max_salary'] = 110000"
   ],
   "metadata": {
    "collapsed": false,
    "ExecuteTime": {
     "end_time": "2024-07-09T09:18:48.545025400Z",
     "start_time": "2024-07-09T09:18:48.531392100Z"
    }
   },
   "id": "a90d890303a2388e"
  },
  {
   "cell_type": "code",
   "execution_count": 53,
   "outputs": [],
   "source": [
    "data_check.loc[250, 'min_salary'] = 90000\n",
    "data_check.loc[250, 'max_salary'] = 110000"
   ],
   "metadata": {
    "collapsed": false,
    "ExecuteTime": {
     "end_time": "2024-07-09T09:18:10.554044400Z",
     "start_time": "2024-07-09T09:18:10.543258600Z"
    }
   },
   "id": "2d535f858bb49cff"
  },
  {
   "cell_type": "code",
   "execution_count": 50,
   "outputs": [],
   "source": [
    "data_check.loc[246, 'min_salary'] = 70000\n",
    "data_check.loc[246, 'max_salary'] = 90000"
   ],
   "metadata": {
    "collapsed": false,
    "ExecuteTime": {
     "end_time": "2024-07-09T09:17:36.705812100Z",
     "start_time": "2024-07-09T09:17:36.680407Z"
    }
   },
   "id": "7680dec77bde0479"
  },
  {
   "cell_type": "code",
   "execution_count": 47,
   "outputs": [],
   "source": [
    "data_check.loc[219, 'min_salary'] = 45000\n",
    "data_check.loc[219, 'max_salary'] = 65000"
   ],
   "metadata": {
    "collapsed": false,
    "ExecuteTime": {
     "end_time": "2024-07-09T09:16:56.131183700Z",
     "start_time": "2024-07-09T09:16:56.093872700Z"
    }
   },
   "id": "c317a0337b692ecc"
  },
  {
   "cell_type": "code",
   "execution_count": 44,
   "outputs": [],
   "source": [
    "# Update the specified rows for block1_min_salary_fewshot\n",
    "data_check.loc[168, 'min_salary'] = 90000\n",
    "data_check.loc[168, 'max_salary'] = 110000"
   ],
   "metadata": {
    "collapsed": false,
    "ExecuteTime": {
     "end_time": "2024-07-09T09:16:09.142341100Z",
     "start_time": "2024-07-09T09:16:09.100382800Z"
    }
   },
   "id": "bd54276e615351cd"
  },
  {
   "cell_type": "markdown",
   "source": [
    "Save Data"
   ],
   "metadata": {
    "collapsed": false
   },
   "id": "1e895636fe4d6b19"
  },
  {
   "cell_type": "markdown",
   "source": [],
   "metadata": {
    "collapsed": false
   },
   "id": "48b737626dec6d3"
  },
  {
   "cell_type": "code",
   "execution_count": 187,
   "outputs": [
    {
     "data": {
      "text/plain": "Empty DataFrame\nColumns: [title, company, contract_type, description, min_workload, max_workload, min_salary, max_salary, block1_answer_fewshot]\nIndex: []",
      "text/html": "<div>\n<style scoped>\n    .dataframe tbody tr th:only-of-type {\n        vertical-align: middle;\n    }\n\n    .dataframe tbody tr th {\n        vertical-align: top;\n    }\n\n    .dataframe thead th {\n        text-align: right;\n    }\n</style>\n<table border=\"1\" class=\"dataframe\">\n  <thead>\n    <tr style=\"text-align: right;\">\n      <th></th>\n      <th>title</th>\n      <th>company</th>\n      <th>contract_type</th>\n      <th>description</th>\n      <th>min_workload</th>\n      <th>max_workload</th>\n      <th>min_salary</th>\n      <th>max_salary</th>\n      <th>block1_answer_fewshot</th>\n    </tr>\n  </thead>\n  <tbody>\n  </tbody>\n</table>\n</div>"
     },
     "execution_count": 187,
     "metadata": {},
     "output_type": "execute_result"
    }
   ],
   "source": [
    "data_check[data_check.isna().any(axis=1)]"
   ],
   "metadata": {
    "collapsed": false,
    "ExecuteTime": {
     "end_time": "2024-07-09T11:07:45.352591100Z",
     "start_time": "2024-07-09T11:07:45.324189400Z"
    }
   },
   "id": "a9cbf41623c00251"
  },
  {
   "cell_type": "code",
   "execution_count": 181,
   "outputs": [
    {
     "data": {
      "text/plain": "                                               title  \\\n0              Projektleiter / Consultant e-Case.Net   \n1         Senior Software Engineer 80 - 100% (m/w/d)   \n2                          System Engineer - Ansible   \n3  Softwareentwickler/in mit GIS-Erfahrung, Profe...   \n4                       SAP Consultant PP-PI (m/w/d)   \n\n                          company   contract_type  \\\n0                     Infogate AG  Festanstellung   \n1                    Wey Group AG  Festanstellung   \n2  RMIT Professional Resources AG       Freelance   \n3                  EBP Schweiz AG  Festanstellung   \n4     Migros-Genossenschafts-Bund  Festanstellung   \n\n                                         description min_workload  \\\n0  Wer braucht Deine Verstärkung? 1991 waren wir ...           80   \n1  Deine Aufgaben:   Als Senior Software Engineer...           80   \n2  System Engineer Position einhergehend mit Kenn...           80   \n3  Dein Beitrag in unserem Team  Du entwickelst b...           60   \n4  \"Teamwork makes the dream work\" ist für dich k...           60   \n\n  max_workload  min_salary  max_salary       block1_answer_fewshot  \n0          100     90000.0    110000.0  (90'000) und (110'000) CHF  \n1          100    110000.0    130000.0   (110000) und (130000) CHF  \n2          100     90000.0    110000.0  (90'000) und (110'000) CHF  \n3          100     90000.0    110000.0      (90'000 - 110'000) CHF  \n4          100     90000.0    110000.0  (90'000) und (110'000) CHF  ",
      "text/html": "<div>\n<style scoped>\n    .dataframe tbody tr th:only-of-type {\n        vertical-align: middle;\n    }\n\n    .dataframe tbody tr th {\n        vertical-align: top;\n    }\n\n    .dataframe thead th {\n        text-align: right;\n    }\n</style>\n<table border=\"1\" class=\"dataframe\">\n  <thead>\n    <tr style=\"text-align: right;\">\n      <th></th>\n      <th>title</th>\n      <th>company</th>\n      <th>contract_type</th>\n      <th>description</th>\n      <th>min_workload</th>\n      <th>max_workload</th>\n      <th>min_salary</th>\n      <th>max_salary</th>\n      <th>block1_answer_fewshot</th>\n    </tr>\n  </thead>\n  <tbody>\n    <tr>\n      <th>0</th>\n      <td>Projektleiter / Consultant e-Case.Net</td>\n      <td>Infogate AG</td>\n      <td>Festanstellung</td>\n      <td>Wer braucht Deine Verstärkung? 1991 waren wir ...</td>\n      <td>80</td>\n      <td>100</td>\n      <td>90000.0</td>\n      <td>110000.0</td>\n      <td>(90'000) und (110'000) CHF</td>\n    </tr>\n    <tr>\n      <th>1</th>\n      <td>Senior Software Engineer 80 - 100% (m/w/d)</td>\n      <td>Wey Group AG</td>\n      <td>Festanstellung</td>\n      <td>Deine Aufgaben:   Als Senior Software Engineer...</td>\n      <td>80</td>\n      <td>100</td>\n      <td>110000.0</td>\n      <td>130000.0</td>\n      <td>(110000) und (130000) CHF</td>\n    </tr>\n    <tr>\n      <th>2</th>\n      <td>System Engineer - Ansible</td>\n      <td>RMIT Professional Resources AG</td>\n      <td>Freelance</td>\n      <td>System Engineer Position einhergehend mit Kenn...</td>\n      <td>80</td>\n      <td>100</td>\n      <td>90000.0</td>\n      <td>110000.0</td>\n      <td>(90'000) und (110'000) CHF</td>\n    </tr>\n    <tr>\n      <th>3</th>\n      <td>Softwareentwickler/in mit GIS-Erfahrung, Profe...</td>\n      <td>EBP Schweiz AG</td>\n      <td>Festanstellung</td>\n      <td>Dein Beitrag in unserem Team  Du entwickelst b...</td>\n      <td>60</td>\n      <td>100</td>\n      <td>90000.0</td>\n      <td>110000.0</td>\n      <td>(90'000 - 110'000) CHF</td>\n    </tr>\n    <tr>\n      <th>4</th>\n      <td>SAP Consultant PP-PI (m/w/d)</td>\n      <td>Migros-Genossenschafts-Bund</td>\n      <td>Festanstellung</td>\n      <td>\"Teamwork makes the dream work\" ist für dich k...</td>\n      <td>60</td>\n      <td>100</td>\n      <td>90000.0</td>\n      <td>110000.0</td>\n      <td>(90'000) und (110'000) CHF</td>\n    </tr>\n  </tbody>\n</table>\n</div>"
     },
     "execution_count": 181,
     "metadata": {},
     "output_type": "execute_result"
    }
   ],
   "source": [
    "data_check.head()"
   ],
   "metadata": {
    "collapsed": false,
    "ExecuteTime": {
     "end_time": "2024-07-09T11:06:52.815900900Z",
     "start_time": "2024-07-09T11:06:52.767731700Z"
    }
   },
   "id": "e03a5d7dc8247fc6"
  },
  {
   "cell_type": "code",
   "execution_count": 188,
   "outputs": [],
   "source": [
    "data_check.to_csv('../../data_acquisition/prepared_data/regression_all_clean.csv', index=False)"
   ],
   "metadata": {
    "collapsed": false,
    "ExecuteTime": {
     "end_time": "2024-07-09T11:07:52.787283Z",
     "start_time": "2024-07-09T11:07:52.728877700Z"
    }
   },
   "id": "9ab5c004c34f878d"
  },
  {
   "cell_type": "markdown",
   "source": [
    "safe as json"
   ],
   "metadata": {
    "collapsed": false
   },
   "id": "5e1d466d49e7f599"
  },
  {
   "cell_type": "code",
   "execution_count": 193,
   "outputs": [
    {
     "name": "stdout",
     "output_type": "stream",
     "text": [
      "JSON file has been created successfully.\n"
     ]
    }
   ],
   "source": [
    "import pandas as pd\n",
    "\n",
    "# Load the CSV file\n",
    "df = pd.read_csv('../../data_acquisition/prepared_data/regression_all_clean.csv', encoding='utf-8')\n",
    "\n",
    "\n",
    "\n",
    "with open('../../data_acquisition/prepared_data/regression_all_clean.json', 'w', encoding='utf-8') as file:\n",
    "    df.to_json(file, orient='records', force_ascii=False)\n",
    "print(\"JSON file has been created successfully.\")\n"
   ],
   "metadata": {
    "collapsed": false,
    "ExecuteTime": {
     "end_time": "2024-07-09T12:17:26.950973Z",
     "start_time": "2024-07-09T12:17:26.894596400Z"
    }
   },
   "id": "7c6f479bfae56531"
  }
 ],
 "metadata": {
  "kernelspec": {
   "display_name": "Python 3",
   "language": "python",
   "name": "python3"
  },
  "language_info": {
   "codemirror_mode": {
    "name": "ipython",
    "version": 2
   },
   "file_extension": ".py",
   "mimetype": "text/x-python",
   "name": "python",
   "nbconvert_exporter": "python",
   "pygments_lexer": "ipython2",
   "version": "2.7.6"
  }
 },
 "nbformat": 4,
 "nbformat_minor": 5
}
