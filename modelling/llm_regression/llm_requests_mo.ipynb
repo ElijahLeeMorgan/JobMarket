{
 "cells": [
  {
   "cell_type": "code",
   "outputs": [],
   "source": [
    "from groq import Groq\n",
    "import pandas as pd\n",
    "import re\n",
    "import os"
   ],
   "metadata": {
    "collapsed": false,
    "ExecuteTime": {
     "end_time": "2024-07-04T08:17:33.402400800Z",
     "start_time": "2024-07-04T08:17:31.748388800Z"
    }
   },
   "id": "68c14ca81e61966d",
   "execution_count": 1
  },
  {
   "cell_type": "code",
   "execution_count": 5,
   "outputs": [],
   "source": [
    "df = pd.read_csv('../../data_acquisition/data/df_with_salary.csv')"
   ],
   "metadata": {
    "collapsed": false,
    "ExecuteTime": {
     "end_time": "2024-07-04T08:36:11.982985800Z",
     "start_time": "2024-07-04T08:36:11.941258900Z"
    }
   },
   "id": "344a393be813049c"
  },
  {
   "cell_type": "code",
   "outputs": [
    {
     "data": {
      "text/plain": "                                               title             company  \\\n0                             Software Engineer .Net  ELCA Informatik AG   \n1                      Digital Analyst / Web Analyst             Unic AG   \n2                             ICT Supporter 100% (a)       Spitex Zürich   \n3  KAUFMÄNNISCHES PRAKTIKUM (100%) - MIT FOKUS KU...           gebana AG   \n4  System Engineer für Microsoft-Technologien und...        konekkt GmbH   \n\n    contract_type                                        description  \\\n0  Festanstellung  Über ELCA Wir sind ELCA, einer der grössten Sc...   \n1  Festanstellung  Deine Aufgaben als Digital Analyst bei Unic   ...   \n2  Festanstellung  Möchtest du auch etwas bewegen und deine Arbei...   \n3       Praktikum  DEINE AUFGABEN IM KUND:INNENSERVICE – EINSATZ ...   \n4  Festanstellung  Wir präsentieren eine faszinierende Karrieremö...   \n\n   min_workload  max_workload  min_salary  max_salary block1_2_min_salary  \\\n0            80           100      100000      130000                None   \n1            80           100       90000      113000                None   \n2           100           100       78000       96000                None   \n3           100           100       28300       28300                None   \n4            80           100       95000      125000                None   \n\n  block1_2_max_salary block1_2_answer  \n0                None            None  \n1                None            None  \n2                None            None  \n3                None            None  \n4                None            None  ",
      "text/html": "<div>\n<style scoped>\n    .dataframe tbody tr th:only-of-type {\n        vertical-align: middle;\n    }\n\n    .dataframe tbody tr th {\n        vertical-align: top;\n    }\n\n    .dataframe thead th {\n        text-align: right;\n    }\n</style>\n<table border=\"1\" class=\"dataframe\">\n  <thead>\n    <tr style=\"text-align: right;\">\n      <th></th>\n      <th>title</th>\n      <th>company</th>\n      <th>contract_type</th>\n      <th>description</th>\n      <th>min_workload</th>\n      <th>max_workload</th>\n      <th>min_salary</th>\n      <th>max_salary</th>\n      <th>block1_2_min_salary</th>\n      <th>block1_2_max_salary</th>\n      <th>block1_2_answer</th>\n    </tr>\n  </thead>\n  <tbody>\n    <tr>\n      <th>0</th>\n      <td>Software Engineer .Net</td>\n      <td>ELCA Informatik AG</td>\n      <td>Festanstellung</td>\n      <td>Über ELCA Wir sind ELCA, einer der grössten Sc...</td>\n      <td>80</td>\n      <td>100</td>\n      <td>100000</td>\n      <td>130000</td>\n      <td>None</td>\n      <td>None</td>\n      <td>None</td>\n    </tr>\n    <tr>\n      <th>1</th>\n      <td>Digital Analyst / Web Analyst</td>\n      <td>Unic AG</td>\n      <td>Festanstellung</td>\n      <td>Deine Aufgaben als Digital Analyst bei Unic   ...</td>\n      <td>80</td>\n      <td>100</td>\n      <td>90000</td>\n      <td>113000</td>\n      <td>None</td>\n      <td>None</td>\n      <td>None</td>\n    </tr>\n    <tr>\n      <th>2</th>\n      <td>ICT Supporter 100% (a)</td>\n      <td>Spitex Zürich</td>\n      <td>Festanstellung</td>\n      <td>Möchtest du auch etwas bewegen und deine Arbei...</td>\n      <td>100</td>\n      <td>100</td>\n      <td>78000</td>\n      <td>96000</td>\n      <td>None</td>\n      <td>None</td>\n      <td>None</td>\n    </tr>\n    <tr>\n      <th>3</th>\n      <td>KAUFMÄNNISCHES PRAKTIKUM (100%) - MIT FOKUS KU...</td>\n      <td>gebana AG</td>\n      <td>Praktikum</td>\n      <td>DEINE AUFGABEN IM KUND:INNENSERVICE – EINSATZ ...</td>\n      <td>100</td>\n      <td>100</td>\n      <td>28300</td>\n      <td>28300</td>\n      <td>None</td>\n      <td>None</td>\n      <td>None</td>\n    </tr>\n    <tr>\n      <th>4</th>\n      <td>System Engineer für Microsoft-Technologien und...</td>\n      <td>konekkt GmbH</td>\n      <td>Festanstellung</td>\n      <td>Wir präsentieren eine faszinierende Karrieremö...</td>\n      <td>80</td>\n      <td>100</td>\n      <td>95000</td>\n      <td>125000</td>\n      <td>None</td>\n      <td>None</td>\n      <td>None</td>\n    </tr>\n  </tbody>\n</table>\n</div>"
     },
     "execution_count": 10,
     "metadata": {},
     "output_type": "execute_result"
    }
   ],
   "source": [
    "df.head()"
   ],
   "metadata": {
    "collapsed": false,
    "ExecuteTime": {
     "end_time": "2024-07-04T08:38:05.900656700Z",
     "start_time": "2024-07-04T08:38:05.854795700Z"
    }
   },
   "id": "b48f5a62fc082c7d",
   "execution_count": 10
  },
  {
   "cell_type": "markdown",
   "source": [
    "Block 0: Few shot 5 examples with salary \n",
    "Block 1: Job title \n",
    "Block 2: company \n",
    "Block 3: workload (min workload and max workload) \n",
    "Block 4: Contract type \n",
    "Block 5: description"
   ],
   "metadata": {
    "collapsed": false
   },
   "id": "1f7ebb475b7de49"
  },
  {
   "cell_type": "markdown",
   "source": [
    "# Set up for Usage"
   ],
   "metadata": {
    "collapsed": false
   },
   "id": "2b0bbbcc9dd062e6"
  },
  {
   "cell_type": "code",
   "execution_count": 8,
   "outputs": [],
   "source": [
    "client = Groq(\n",
    "    api_key=\"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\",\n",
    ")\n",
    "\n",
    "def generate_message(title, company, min_salary, max_salary, min_workload, max_workload, description):\n",
    "    return {\n",
    "        \"role\": \"user\",\n",
    "        \"content\": f\"Das Gehalt für die Position {title} bei der Firma {company} liegt zwischen {min_salary} und {max_salary} mit einer Arbeitszeit von {min_workload} bis {max_workload} Prozent. Hier ist die Beschreibung, was Sie benötigen und tun müssen: {description}\"\n",
    "    }\n",
    "\n",
    "def extract_salaries(response):\n",
    "    pattern = re.compile(r\"(\\d{1,3}(?:['\\s]\\d{3})*)\\s*(?:-|und)\\s*(\\d{1,3}(?:['\\s]\\d{3})*)\\s*CHF\")\n",
    "    matches = pattern.findall(response)\n",
    "    if matches:\n",
    "        min_salary, max_salary = [int(salary.replace(\"'\", \"\")) for salary in matches[0]]\n",
    "        return min_salary, max_salary\n",
    "    return None, None\n"
   ],
   "metadata": {
    "collapsed": false,
    "ExecuteTime": {
     "end_time": "2024-07-04T08:37:49.900835600Z",
     "start_time": "2024-07-04T08:37:49.873911200Z"
    }
   },
   "id": "87cc50308a0c6d98"
  },
  {
   "cell_type": "markdown",
   "source": [
    "# Block 1 and Block 2 \n"
   ],
   "metadata": {
    "collapsed": false
   },
   "id": "86dda4c9032601c5"
  },
  {
   "cell_type": "code",
   "execution_count": 11,
   "outputs": [
    {
     "name": "stdout",
     "output_type": "stream",
     "text": [
      "0\n",
      "80000 120000\n",
      "1\n",
      "80000 110000\n",
      "2\n",
      "80000 110000\n",
      "3\n",
      "4500 6000\n",
      "4\n",
      "110000 140000\n",
      "5\n",
      "None None\n",
      "6\n",
      "90000 140000\n",
      "7\n",
      "90000 120000\n",
      "8\n",
      "None None\n",
      "9\n",
      "90000 120000\n",
      "10\n",
      "120000 180000\n",
      "11\n",
      "90000 140000\n",
      "12\n",
      "120000 150000\n",
      "13\n",
      "80000 120000\n",
      "14\n",
      "120000 180000\n",
      "15\n",
      "120000 180000\n",
      "16\n",
      "120000 180000\n",
      "17\n",
      "80000 120000\n",
      "18\n",
      "80000 120000\n",
      "19\n",
      "80000 120000\n",
      "20\n",
      "90000 140000\n",
      "21\n",
      "80000 120000\n",
      "22\n",
      "80000 120000\n",
      "23\n",
      "90000 120000\n",
      "24\n",
      "None None\n",
      "25\n",
      "None None\n",
      "26\n",
      "None None\n",
      "27\n",
      "110000 140000\n",
      "28\n",
      "90000 120000\n",
      "29\n",
      "90000 110000\n",
      "30\n",
      "80000 110000\n",
      "31\n",
      "90000 130000\n",
      "32\n",
      "90000 120000\n",
      "33\n",
      "90000 120000\n",
      "34\n",
      "90000 120000\n",
      "35\n",
      "120000 150000\n",
      "36\n",
      "110000 140000\n",
      "37\n",
      "120000 150000\n",
      "38\n",
      "90000 120000\n",
      "39\n",
      "80000 110000\n",
      "40\n",
      "None None\n",
      "41\n",
      "90000 120000\n",
      "42\n",
      "None None\n",
      "43\n",
      "None None\n",
      "44\n",
      "120000 150000\n",
      "45\n",
      "90000 120000\n",
      "46\n",
      "90000 120000\n",
      "47\n",
      "110000 140000\n",
      "48\n",
      "None None\n",
      "49\n",
      "120000 180000\n",
      "50\n",
      "120000 180000\n",
      "51\n",
      "90000 120000\n",
      "52\n",
      "None None\n",
      "53\n",
      "None None\n",
      "54\n",
      "None None\n",
      "55\n",
      "None None\n",
      "56\n",
      "90000 120000\n",
      "57\n",
      "95000 125000\n",
      "58\n",
      "None None\n",
      "59\n",
      "None None\n",
      "60\n",
      "95000 125000\n",
      "61\n",
      "None None\n",
      "62\n",
      "90000 140000\n",
      "63\n",
      "90000 120000\n",
      "64\n",
      "90000 120000\n",
      "65\n",
      "None None\n",
      "66\n",
      "95000 125000\n",
      "67\n",
      "70000 90000\n",
      "68\n",
      "90000 120000\n",
      "69\n",
      "None None\n",
      "70\n",
      "None None\n",
      "71\n",
      "None None\n",
      "72\n",
      "None None\n",
      "73\n",
      "None None\n",
      "74\n",
      "120000 150000\n",
      "75\n",
      "90000 120000\n",
      "76\n",
      "90000 120000\n",
      "77\n",
      "None None\n",
      "78\n",
      "120000 150000\n",
      "79\n",
      "None None\n",
      "80\n",
      "90000 120000\n",
      "81\n",
      "None None\n",
      "82\n",
      "90000 140000\n",
      "83\n",
      "80000 120000\n",
      "84\n",
      "90000 120000\n",
      "85\n",
      "95000 125000\n",
      "86\n",
      "95000 125000\n",
      "87\n",
      "None None\n",
      "88\n",
      "90000 120000\n",
      "89\n",
      "None None\n",
      "90\n",
      "95000 125000\n",
      "91\n",
      "80000 120000\n",
      "92\n",
      "None None\n",
      "93\n",
      "95000 125000\n",
      "94\n",
      "90000 120000\n",
      "95\n",
      "None None\n",
      "96\n",
      "95000 125000\n",
      "97\n",
      "120000 150000\n",
      "98\n",
      "None None\n",
      "99\n",
      "None None\n",
      "100\n",
      "None None\n",
      "101\n",
      "140000 180000\n",
      "102\n",
      "80000 120000\n",
      "103\n",
      "None None\n",
      "104\n",
      "80000 110000\n",
      "105\n",
      "80000 120000\n",
      "106\n",
      "120000 180000\n",
      "107\n",
      "60000 80000\n",
      "108\n",
      "None None\n",
      "109\n",
      "80000 120000\n"
     ]
    },
    {
     "ename": "OSError",
     "evalue": "Cannot save file into a non-existent directory: 'data'",
     "output_type": "error",
     "traceback": [
      "\u001B[1;31m---------------------------------------------------------------------------\u001B[0m",
      "\u001B[1;31mOSError\u001B[0m                                   Traceback (most recent call last)",
      "Cell \u001B[1;32mIn[11], line 46\u001B[0m\n\u001B[0;32m     43\u001B[0m     df\u001B[38;5;241m.\u001B[39mto_csv(results_file, index\u001B[38;5;241m=\u001B[39m\u001B[38;5;28;01mFalse\u001B[39;00m)\n\u001B[0;32m     45\u001B[0m \u001B[38;5;66;03m# Testing the function with a limited number of entries\u001B[39;00m\n\u001B[1;32m---> 46\u001B[0m \u001B[43mrun_model\u001B[49m\u001B[43m(\u001B[49m\u001B[38;5;241;43m10000\u001B[39;49m\u001B[43m)\u001B[49m\n",
      "Cell \u001B[1;32mIn[11], line 43\u001B[0m, in \u001B[0;36mrun_model\u001B[1;34m(limit)\u001B[0m\n\u001B[0;32m     40\u001B[0m     df\u001B[38;5;241m.\u001B[39mat[index, answer] \u001B[38;5;241m=\u001B[39m chat_completion\u001B[38;5;241m.\u001B[39mchoices[\u001B[38;5;241m0\u001B[39m]\u001B[38;5;241m.\u001B[39mmessage\u001B[38;5;241m.\u001B[39mcontent\n\u001B[0;32m     42\u001B[0m \u001B[38;5;66;03m# Save updated DataFrame in chunks or fully, depending on your preference\u001B[39;00m\n\u001B[1;32m---> 43\u001B[0m \u001B[43mdf\u001B[49m\u001B[38;5;241;43m.\u001B[39;49m\u001B[43mto_csv\u001B[49m\u001B[43m(\u001B[49m\u001B[43mresults_file\u001B[49m\u001B[43m,\u001B[49m\u001B[43m \u001B[49m\u001B[43mindex\u001B[49m\u001B[38;5;241;43m=\u001B[39;49m\u001B[38;5;28;43;01mFalse\u001B[39;49;00m\u001B[43m)\u001B[49m\n",
      "File \u001B[1;32m~\\AppData\\Local\\Programs\\Python\\Python310\\lib\\site-packages\\pandas\\core\\generic.py:3902\u001B[0m, in \u001B[0;36mNDFrame.to_csv\u001B[1;34m(self, path_or_buf, sep, na_rep, float_format, columns, header, index, index_label, mode, encoding, compression, quoting, quotechar, lineterminator, chunksize, date_format, doublequote, escapechar, decimal, errors, storage_options)\u001B[0m\n\u001B[0;32m   3891\u001B[0m df \u001B[38;5;241m=\u001B[39m \u001B[38;5;28mself\u001B[39m \u001B[38;5;28;01mif\u001B[39;00m \u001B[38;5;28misinstance\u001B[39m(\u001B[38;5;28mself\u001B[39m, ABCDataFrame) \u001B[38;5;28;01melse\u001B[39;00m \u001B[38;5;28mself\u001B[39m\u001B[38;5;241m.\u001B[39mto_frame()\n\u001B[0;32m   3893\u001B[0m formatter \u001B[38;5;241m=\u001B[39m DataFrameFormatter(\n\u001B[0;32m   3894\u001B[0m     frame\u001B[38;5;241m=\u001B[39mdf,\n\u001B[0;32m   3895\u001B[0m     header\u001B[38;5;241m=\u001B[39mheader,\n\u001B[1;32m   (...)\u001B[0m\n\u001B[0;32m   3899\u001B[0m     decimal\u001B[38;5;241m=\u001B[39mdecimal,\n\u001B[0;32m   3900\u001B[0m )\n\u001B[1;32m-> 3902\u001B[0m \u001B[38;5;28;01mreturn\u001B[39;00m \u001B[43mDataFrameRenderer\u001B[49m\u001B[43m(\u001B[49m\u001B[43mformatter\u001B[49m\u001B[43m)\u001B[49m\u001B[38;5;241;43m.\u001B[39;49m\u001B[43mto_csv\u001B[49m\u001B[43m(\u001B[49m\n\u001B[0;32m   3903\u001B[0m \u001B[43m    \u001B[49m\u001B[43mpath_or_buf\u001B[49m\u001B[43m,\u001B[49m\n\u001B[0;32m   3904\u001B[0m \u001B[43m    \u001B[49m\u001B[43mlineterminator\u001B[49m\u001B[38;5;241;43m=\u001B[39;49m\u001B[43mlineterminator\u001B[49m\u001B[43m,\u001B[49m\n\u001B[0;32m   3905\u001B[0m \u001B[43m    \u001B[49m\u001B[43msep\u001B[49m\u001B[38;5;241;43m=\u001B[39;49m\u001B[43msep\u001B[49m\u001B[43m,\u001B[49m\n\u001B[0;32m   3906\u001B[0m \u001B[43m    \u001B[49m\u001B[43mencoding\u001B[49m\u001B[38;5;241;43m=\u001B[39;49m\u001B[43mencoding\u001B[49m\u001B[43m,\u001B[49m\n\u001B[0;32m   3907\u001B[0m \u001B[43m    \u001B[49m\u001B[43merrors\u001B[49m\u001B[38;5;241;43m=\u001B[39;49m\u001B[43merrors\u001B[49m\u001B[43m,\u001B[49m\n\u001B[0;32m   3908\u001B[0m \u001B[43m    \u001B[49m\u001B[43mcompression\u001B[49m\u001B[38;5;241;43m=\u001B[39;49m\u001B[43mcompression\u001B[49m\u001B[43m,\u001B[49m\n\u001B[0;32m   3909\u001B[0m \u001B[43m    \u001B[49m\u001B[43mquoting\u001B[49m\u001B[38;5;241;43m=\u001B[39;49m\u001B[43mquoting\u001B[49m\u001B[43m,\u001B[49m\n\u001B[0;32m   3910\u001B[0m \u001B[43m    \u001B[49m\u001B[43mcolumns\u001B[49m\u001B[38;5;241;43m=\u001B[39;49m\u001B[43mcolumns\u001B[49m\u001B[43m,\u001B[49m\n\u001B[0;32m   3911\u001B[0m \u001B[43m    \u001B[49m\u001B[43mindex_label\u001B[49m\u001B[38;5;241;43m=\u001B[39;49m\u001B[43mindex_label\u001B[49m\u001B[43m,\u001B[49m\n\u001B[0;32m   3912\u001B[0m \u001B[43m    \u001B[49m\u001B[43mmode\u001B[49m\u001B[38;5;241;43m=\u001B[39;49m\u001B[43mmode\u001B[49m\u001B[43m,\u001B[49m\n\u001B[0;32m   3913\u001B[0m \u001B[43m    \u001B[49m\u001B[43mchunksize\u001B[49m\u001B[38;5;241;43m=\u001B[39;49m\u001B[43mchunksize\u001B[49m\u001B[43m,\u001B[49m\n\u001B[0;32m   3914\u001B[0m \u001B[43m    \u001B[49m\u001B[43mquotechar\u001B[49m\u001B[38;5;241;43m=\u001B[39;49m\u001B[43mquotechar\u001B[49m\u001B[43m,\u001B[49m\n\u001B[0;32m   3915\u001B[0m \u001B[43m    \u001B[49m\u001B[43mdate_format\u001B[49m\u001B[38;5;241;43m=\u001B[39;49m\u001B[43mdate_format\u001B[49m\u001B[43m,\u001B[49m\n\u001B[0;32m   3916\u001B[0m \u001B[43m    \u001B[49m\u001B[43mdoublequote\u001B[49m\u001B[38;5;241;43m=\u001B[39;49m\u001B[43mdoublequote\u001B[49m\u001B[43m,\u001B[49m\n\u001B[0;32m   3917\u001B[0m \u001B[43m    \u001B[49m\u001B[43mescapechar\u001B[49m\u001B[38;5;241;43m=\u001B[39;49m\u001B[43mescapechar\u001B[49m\u001B[43m,\u001B[49m\n\u001B[0;32m   3918\u001B[0m \u001B[43m    \u001B[49m\u001B[43mstorage_options\u001B[49m\u001B[38;5;241;43m=\u001B[39;49m\u001B[43mstorage_options\u001B[49m\u001B[43m,\u001B[49m\n\u001B[0;32m   3919\u001B[0m \u001B[43m\u001B[49m\u001B[43m)\u001B[49m\n",
      "File \u001B[1;32m~\\AppData\\Local\\Programs\\Python\\Python310\\lib\\site-packages\\pandas\\io\\formats\\format.py:1152\u001B[0m, in \u001B[0;36mDataFrameRenderer.to_csv\u001B[1;34m(self, path_or_buf, encoding, sep, columns, index_label, mode, compression, quoting, quotechar, lineterminator, chunksize, date_format, doublequote, escapechar, errors, storage_options)\u001B[0m\n\u001B[0;32m   1131\u001B[0m     created_buffer \u001B[38;5;241m=\u001B[39m \u001B[38;5;28;01mFalse\u001B[39;00m\n\u001B[0;32m   1133\u001B[0m csv_formatter \u001B[38;5;241m=\u001B[39m CSVFormatter(\n\u001B[0;32m   1134\u001B[0m     path_or_buf\u001B[38;5;241m=\u001B[39mpath_or_buf,\n\u001B[0;32m   1135\u001B[0m     lineterminator\u001B[38;5;241m=\u001B[39mlineterminator,\n\u001B[1;32m   (...)\u001B[0m\n\u001B[0;32m   1150\u001B[0m     formatter\u001B[38;5;241m=\u001B[39m\u001B[38;5;28mself\u001B[39m\u001B[38;5;241m.\u001B[39mfmt,\n\u001B[0;32m   1151\u001B[0m )\n\u001B[1;32m-> 1152\u001B[0m \u001B[43mcsv_formatter\u001B[49m\u001B[38;5;241;43m.\u001B[39;49m\u001B[43msave\u001B[49m\u001B[43m(\u001B[49m\u001B[43m)\u001B[49m\n\u001B[0;32m   1154\u001B[0m \u001B[38;5;28;01mif\u001B[39;00m created_buffer:\n\u001B[0;32m   1155\u001B[0m     \u001B[38;5;28;01massert\u001B[39;00m \u001B[38;5;28misinstance\u001B[39m(path_or_buf, StringIO)\n",
      "File \u001B[1;32m~\\AppData\\Local\\Programs\\Python\\Python310\\lib\\site-packages\\pandas\\io\\formats\\csvs.py:247\u001B[0m, in \u001B[0;36mCSVFormatter.save\u001B[1;34m(self)\u001B[0m\n\u001B[0;32m    243\u001B[0m \u001B[38;5;250m\u001B[39m\u001B[38;5;124;03m\"\"\"\u001B[39;00m\n\u001B[0;32m    244\u001B[0m \u001B[38;5;124;03mCreate the writer & save.\u001B[39;00m\n\u001B[0;32m    245\u001B[0m \u001B[38;5;124;03m\"\"\"\u001B[39;00m\n\u001B[0;32m    246\u001B[0m \u001B[38;5;66;03m# apply compression and byte/text conversion\u001B[39;00m\n\u001B[1;32m--> 247\u001B[0m \u001B[38;5;28;01mwith\u001B[39;00m \u001B[43mget_handle\u001B[49m\u001B[43m(\u001B[49m\n\u001B[0;32m    248\u001B[0m \u001B[43m    \u001B[49m\u001B[38;5;28;43mself\u001B[39;49m\u001B[38;5;241;43m.\u001B[39;49m\u001B[43mfilepath_or_buffer\u001B[49m\u001B[43m,\u001B[49m\n\u001B[0;32m    249\u001B[0m \u001B[43m    \u001B[49m\u001B[38;5;28;43mself\u001B[39;49m\u001B[38;5;241;43m.\u001B[39;49m\u001B[43mmode\u001B[49m\u001B[43m,\u001B[49m\n\u001B[0;32m    250\u001B[0m \u001B[43m    \u001B[49m\u001B[43mencoding\u001B[49m\u001B[38;5;241;43m=\u001B[39;49m\u001B[38;5;28;43mself\u001B[39;49m\u001B[38;5;241;43m.\u001B[39;49m\u001B[43mencoding\u001B[49m\u001B[43m,\u001B[49m\n\u001B[0;32m    251\u001B[0m \u001B[43m    \u001B[49m\u001B[43merrors\u001B[49m\u001B[38;5;241;43m=\u001B[39;49m\u001B[38;5;28;43mself\u001B[39;49m\u001B[38;5;241;43m.\u001B[39;49m\u001B[43merrors\u001B[49m\u001B[43m,\u001B[49m\n\u001B[0;32m    252\u001B[0m \u001B[43m    \u001B[49m\u001B[43mcompression\u001B[49m\u001B[38;5;241;43m=\u001B[39;49m\u001B[38;5;28;43mself\u001B[39;49m\u001B[38;5;241;43m.\u001B[39;49m\u001B[43mcompression\u001B[49m\u001B[43m,\u001B[49m\n\u001B[0;32m    253\u001B[0m \u001B[43m    \u001B[49m\u001B[43mstorage_options\u001B[49m\u001B[38;5;241;43m=\u001B[39;49m\u001B[38;5;28;43mself\u001B[39;49m\u001B[38;5;241;43m.\u001B[39;49m\u001B[43mstorage_options\u001B[49m\u001B[43m,\u001B[49m\n\u001B[0;32m    254\u001B[0m \u001B[43m\u001B[49m\u001B[43m)\u001B[49m \u001B[38;5;28;01mas\u001B[39;00m handles:\n\u001B[0;32m    255\u001B[0m     \u001B[38;5;66;03m# Note: self.encoding is irrelevant here\u001B[39;00m\n\u001B[0;32m    256\u001B[0m     \u001B[38;5;28mself\u001B[39m\u001B[38;5;241m.\u001B[39mwriter \u001B[38;5;241m=\u001B[39m csvlib\u001B[38;5;241m.\u001B[39mwriter(\n\u001B[0;32m    257\u001B[0m         handles\u001B[38;5;241m.\u001B[39mhandle,\n\u001B[0;32m    258\u001B[0m         lineterminator\u001B[38;5;241m=\u001B[39m\u001B[38;5;28mself\u001B[39m\u001B[38;5;241m.\u001B[39mlineterminator,\n\u001B[1;32m   (...)\u001B[0m\n\u001B[0;32m    263\u001B[0m         quotechar\u001B[38;5;241m=\u001B[39m\u001B[38;5;28mself\u001B[39m\u001B[38;5;241m.\u001B[39mquotechar,\n\u001B[0;32m    264\u001B[0m     )\n\u001B[0;32m    266\u001B[0m     \u001B[38;5;28mself\u001B[39m\u001B[38;5;241m.\u001B[39m_save()\n",
      "File \u001B[1;32m~\\AppData\\Local\\Programs\\Python\\Python310\\lib\\site-packages\\pandas\\io\\common.py:739\u001B[0m, in \u001B[0;36mget_handle\u001B[1;34m(path_or_buf, mode, encoding, compression, memory_map, is_text, errors, storage_options)\u001B[0m\n\u001B[0;32m    737\u001B[0m \u001B[38;5;66;03m# Only for write methods\u001B[39;00m\n\u001B[0;32m    738\u001B[0m \u001B[38;5;28;01mif\u001B[39;00m \u001B[38;5;124m\"\u001B[39m\u001B[38;5;124mr\u001B[39m\u001B[38;5;124m\"\u001B[39m \u001B[38;5;129;01mnot\u001B[39;00m \u001B[38;5;129;01min\u001B[39;00m mode \u001B[38;5;129;01mand\u001B[39;00m is_path:\n\u001B[1;32m--> 739\u001B[0m     \u001B[43mcheck_parent_directory\u001B[49m\u001B[43m(\u001B[49m\u001B[38;5;28;43mstr\u001B[39;49m\u001B[43m(\u001B[49m\u001B[43mhandle\u001B[49m\u001B[43m)\u001B[49m\u001B[43m)\u001B[49m\n\u001B[0;32m    741\u001B[0m \u001B[38;5;28;01mif\u001B[39;00m compression:\n\u001B[0;32m    742\u001B[0m     \u001B[38;5;28;01mif\u001B[39;00m compression \u001B[38;5;241m!=\u001B[39m \u001B[38;5;124m\"\u001B[39m\u001B[38;5;124mzstd\u001B[39m\u001B[38;5;124m\"\u001B[39m:\n\u001B[0;32m    743\u001B[0m         \u001B[38;5;66;03m# compression libraries do not like an explicit text-mode\u001B[39;00m\n",
      "File \u001B[1;32m~\\AppData\\Local\\Programs\\Python\\Python310\\lib\\site-packages\\pandas\\io\\common.py:604\u001B[0m, in \u001B[0;36mcheck_parent_directory\u001B[1;34m(path)\u001B[0m\n\u001B[0;32m    602\u001B[0m parent \u001B[38;5;241m=\u001B[39m Path(path)\u001B[38;5;241m.\u001B[39mparent\n\u001B[0;32m    603\u001B[0m \u001B[38;5;28;01mif\u001B[39;00m \u001B[38;5;129;01mnot\u001B[39;00m parent\u001B[38;5;241m.\u001B[39mis_dir():\n\u001B[1;32m--> 604\u001B[0m     \u001B[38;5;28;01mraise\u001B[39;00m \u001B[38;5;167;01mOSError\u001B[39;00m(\u001B[38;5;124mrf\u001B[39m\u001B[38;5;124m\"\u001B[39m\u001B[38;5;124mCannot save file into a non-existent directory: \u001B[39m\u001B[38;5;124m'\u001B[39m\u001B[38;5;132;01m{\u001B[39;00mparent\u001B[38;5;132;01m}\u001B[39;00m\u001B[38;5;124m'\u001B[39m\u001B[38;5;124m\"\u001B[39m)\n",
      "\u001B[1;31mOSError\u001B[0m: Cannot save file into a non-existent directory: 'data'"
     ]
    }
   ],
   "source": [
    "# change here for new prompt and message below ------------\n",
    "results_file = 'data/llm_block1_2.csv'\n",
    "min = 'block1_2_min_salary'\n",
    "max = 'block1_2_max_salary'\n",
    "answer = 'block1_2_answer'\n",
    "# Setup and load initial data\n",
    "if os.path.exists(results_file):\n",
    "    df_without_salary = pd.read_csv(results_file)\n",
    "else:\n",
    "    df[min] = None  # Initialize columns if starting fresh\n",
    "    df[max] = None\n",
    "    df[answer] = None \n",
    "\n",
    "# change content here for new prompt and message below ------------\n",
    "def generate_query(row):\n",
    "    return {\n",
    "        \"role\": \"user\",\n",
    "        \"content\": f\"Gib mir nur das Gehalt im Format (\\d{1,3}(?:'\\d{3})) und (\\d{1,3}(?:'\\d{3})) CHF für die Position {row['title']} bei der Firma {row['company']} in Zürich, Schweiz. Wenn du kein exaktes Gehalt hast gib eine Schätzung an.\"\n",
    "    }\n",
    "\n",
    "def run_model(limit):\n",
    "    start_index = df[min].last_valid_index() + 1 if df[max].last_valid_index() != None else 0\n",
    "\n",
    "    \n",
    "    for index, row in df.iloc[start_index:start_index + limit].iterrows():\n",
    "        query_message = generate_query(row)\n",
    "        chat_completion = client.chat.completions.create(\n",
    "            messages= [query_message], # change message for new prompt ------------\n",
    "            model=\"llama3-70b-8192\",\n",
    "            temperature=0.0\n",
    "        )\n",
    "        min_salary, max_salary = extract_salaries(chat_completion.choices[0].message.content)\n",
    "        print(index)\n",
    "        print(min_salary, max_salary)\n",
    "        \n",
    "        \n",
    "        # Update DataFrame\n",
    "        df.at[index, min] = min_salary\n",
    "        df.at[index, max] = max_salary\n",
    "        df.at[index, answer] = chat_completion.choices[0].message.content\n",
    "        \n",
    "    # Save updated DataFrame in chunks or fully, depending on your preference\n",
    "    df.to_csv(results_file, index=False)\n",
    "\n",
    "# Testing the function with a limited number of entries\n",
    "run_model(10000)"
   ],
   "metadata": {
    "collapsed": false,
    "ExecuteTime": {
     "end_time": "2024-07-04T08:43:14.123861600Z",
     "start_time": "2024-07-04T08:39:26.194771800Z"
    }
   },
   "id": "9b5a907ff56913f"
  },
  {
   "cell_type": "markdown",
   "source": [
    "Block 1 and 2 analysis\n"
   ],
   "metadata": {
    "collapsed": false
   },
   "id": "973effbccbc7a488"
  },
  {
   "cell_type": "code",
   "execution_count": 13,
   "outputs": [
    {
     "data": {
      "text/plain": "'data/llm_block1_2.csv'"
     },
     "execution_count": 13,
     "metadata": {},
     "output_type": "execute_result"
    }
   ],
   "source": [
    "analysis = pd.read_csv('../../data_acquisition/data/df_with_salary.csv')"
   ],
   "metadata": {
    "collapsed": false,
    "ExecuteTime": {
     "end_time": "2024-07-04T08:55:15.981960500Z",
     "start_time": "2024-07-04T08:55:15.966537100Z"
    }
   },
   "id": "973973b47f56ac45"
  },
  {
   "cell_type": "markdown",
   "source": [
    "# Block 1,2,3 and 4"
   ],
   "metadata": {
    "collapsed": false
   },
   "id": "ad99d7fd55e6a64a"
  },
  {
   "cell_type": "code",
   "execution_count": null,
   "outputs": [],
   "source": [
    "# change here for new prompt and message below ------------\n",
    "results_file = 'data/llm_block1_2_3_4.csv'\n",
    "min = 'block1_2_min_salary'\n",
    "max = 'block1_2_max_salary'\n",
    "answer = 'block1_2_answer'\n",
    "# Setup and load initial data\n",
    "if os.path.exists(results_file):\n",
    "    df_without_salary = pd.read_csv(results_file)\n",
    "else:\n",
    "    df[min] = None  # Initialize columns if starting fresh\n",
    "    df[max] = None\n",
    "    df[answer] = None \n",
    "\n",
    "# change content here for new prompt and message below ------------\n",
    "def generate_query(row):\n",
    "    return {\n",
    "        \"role\": \"user\",\n",
    "        \"content\": f\"Gib mir nur das Gehalt im Format (\\d{1,3}(?:'\\d{3})) und (\\d{1,3}(?:'\\d{3})) CHF für die Position {row['title']} bei der Firma {row['company']} in Zürich, Schweiz. Mit einer Arbeitszeit von {row['min_workload']} bis {row['max_workload']} Prozent und dem Vertragsart {row['contract_type']}. Wenn du kein exaktes Gehalt hast gib eine Schätzung an.\"\n",
    "    }\n",
    "\n",
    "def run_model(limit):\n",
    "    start_index = df[min].last_valid_index() + 1 if df[max].last_valid_index() != None else 0\n",
    "\n",
    "    \n",
    "    for index, row in df.iloc[start_index:start_index + limit].iterrows():\n",
    "        query_message = generate_query(row)\n",
    "        chat_completion = client.chat.completions.create(\n",
    "            messages= [query_message], # change message for new prompt ------------\n",
    "            model=\"llama3-70b-8192\",\n",
    "            temperature=0.0\n",
    "        )\n",
    "        min_salary, max_salary = extract_salaries(chat_completion.choices[0].message.content)\n",
    "        print(index)\n",
    "        print(min_salary, max_salary)\n",
    "        \n",
    "        \n",
    "        # Update DataFrame\n",
    "        df.at[index, min] = min_salary\n",
    "        df.at[index, max] = max_salary\n",
    "        df.at[index, answer] = chat_completion.choices[0].message.content\n",
    "        \n",
    "    # Save updated DataFrame in chunks or fully, depending on your preference\n",
    "    df.to_csv(results_file, index=False)\n",
    "\n",
    "# Testing the function with a limited number of entries\n",
    "run_model(10000)"
   ],
   "metadata": {
    "collapsed": false
   },
   "id": "5f08906d381bb7c8"
  }
 ],
 "metadata": {
  "kernelspec": {
   "display_name": "Python 3",
   "language": "python",
   "name": "python3"
  },
  "language_info": {
   "codemirror_mode": {
    "name": "ipython",
    "version": 2
   },
   "file_extension": ".py",
   "mimetype": "text/x-python",
   "name": "python",
   "nbconvert_exporter": "python",
   "pygments_lexer": "ipython2",
   "version": "2.7.6"
  }
 },
 "nbformat": 4,
 "nbformat_minor": 5
}
