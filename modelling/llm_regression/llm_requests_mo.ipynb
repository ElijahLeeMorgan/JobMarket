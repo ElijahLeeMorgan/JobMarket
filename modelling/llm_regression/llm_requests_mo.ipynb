{
 "cells": [
  {
   "cell_type": "code",
   "outputs": [],
   "source": [
    "from groq import Groq\n",
    "import pandas as pd\n",
    "import re\n",
    "import os\n"
   ],
   "metadata": {
    "collapsed": false,
    "ExecuteTime": {
     "end_time": "2024-07-08T13:42:57.633222500Z",
     "start_time": "2024-07-08T13:42:57.616370400Z"
    }
   },
   "id": "68c14ca81e61966d",
   "execution_count": 237
  },
  {
   "cell_type": "code",
   "execution_count": 238,
   "outputs": [],
   "source": [
    "df = pd.read_csv('../../data_acquisition/data/df_with_salary.csv')\n",
    "df_with_salary_few_shot = pd.read_csv('../../data_acquisition/data/df_with_salary_few_shot.csv')"
   ],
   "metadata": {
    "collapsed": false,
    "ExecuteTime": {
     "end_time": "2024-07-08T13:43:03.308345200Z",
     "start_time": "2024-07-08T13:43:03.270889800Z"
    }
   },
   "id": "344a393be813049c"
  },
  {
   "cell_type": "code",
   "outputs": [
    {
     "data": {
      "text/plain": "                                               title             company  \\\n0                             Software Engineer .Net  ELCA Informatik AG   \n1                      Digital Analyst / Web Analyst             Unic AG   \n2                             ICT Supporter 100% (a)       Spitex Zürich   \n3  KAUFMÄNNISCHES PRAKTIKUM (100%) - MIT FOKUS KU...           gebana AG   \n4  System Engineer für Microsoft-Technologien und...        konekkt GmbH   \n\n    contract_type                                        description  \\\n0  Festanstellung  Über ELCA Wir sind ELCA, einer der grössten Sc...   \n1  Festanstellung  Deine Aufgaben als Digital Analyst bei Unic   ...   \n2  Festanstellung  Möchtest du auch etwas bewegen und deine Arbei...   \n3       Praktikum  DEINE AUFGABEN IM KUND:INNENSERVICE – EINSATZ ...   \n4  Festanstellung  Wir präsentieren eine faszinierende Karrieremö...   \n\n   min_workload  max_workload  min_salary  max_salary  \n0            80           100      100000      130000  \n1            80           100       90000      113000  \n2           100           100       78000       96000  \n3           100           100       28300       28300  \n4            80           100       95000      125000  ",
      "text/html": "<div>\n<style scoped>\n    .dataframe tbody tr th:only-of-type {\n        vertical-align: middle;\n    }\n\n    .dataframe tbody tr th {\n        vertical-align: top;\n    }\n\n    .dataframe thead th {\n        text-align: right;\n    }\n</style>\n<table border=\"1\" class=\"dataframe\">\n  <thead>\n    <tr style=\"text-align: right;\">\n      <th></th>\n      <th>title</th>\n      <th>company</th>\n      <th>contract_type</th>\n      <th>description</th>\n      <th>min_workload</th>\n      <th>max_workload</th>\n      <th>min_salary</th>\n      <th>max_salary</th>\n    </tr>\n  </thead>\n  <tbody>\n    <tr>\n      <th>0</th>\n      <td>Software Engineer .Net</td>\n      <td>ELCA Informatik AG</td>\n      <td>Festanstellung</td>\n      <td>Über ELCA Wir sind ELCA, einer der grössten Sc...</td>\n      <td>80</td>\n      <td>100</td>\n      <td>100000</td>\n      <td>130000</td>\n    </tr>\n    <tr>\n      <th>1</th>\n      <td>Digital Analyst / Web Analyst</td>\n      <td>Unic AG</td>\n      <td>Festanstellung</td>\n      <td>Deine Aufgaben als Digital Analyst bei Unic   ...</td>\n      <td>80</td>\n      <td>100</td>\n      <td>90000</td>\n      <td>113000</td>\n    </tr>\n    <tr>\n      <th>2</th>\n      <td>ICT Supporter 100% (a)</td>\n      <td>Spitex Zürich</td>\n      <td>Festanstellung</td>\n      <td>Möchtest du auch etwas bewegen und deine Arbei...</td>\n      <td>100</td>\n      <td>100</td>\n      <td>78000</td>\n      <td>96000</td>\n    </tr>\n    <tr>\n      <th>3</th>\n      <td>KAUFMÄNNISCHES PRAKTIKUM (100%) - MIT FOKUS KU...</td>\n      <td>gebana AG</td>\n      <td>Praktikum</td>\n      <td>DEINE AUFGABEN IM KUND:INNENSERVICE – EINSATZ ...</td>\n      <td>100</td>\n      <td>100</td>\n      <td>28300</td>\n      <td>28300</td>\n    </tr>\n    <tr>\n      <th>4</th>\n      <td>System Engineer für Microsoft-Technologien und...</td>\n      <td>konekkt GmbH</td>\n      <td>Festanstellung</td>\n      <td>Wir präsentieren eine faszinierende Karrieremö...</td>\n      <td>80</td>\n      <td>100</td>\n      <td>95000</td>\n      <td>125000</td>\n    </tr>\n  </tbody>\n</table>\n</div>"
     },
     "execution_count": 239,
     "metadata": {},
     "output_type": "execute_result"
    }
   ],
   "source": [
    "df.head()"
   ],
   "metadata": {
    "collapsed": false,
    "ExecuteTime": {
     "end_time": "2024-07-08T13:43:05.540250400Z",
     "start_time": "2024-07-08T13:43:05.514644100Z"
    }
   },
   "id": "b48f5a62fc082c7d",
   "execution_count": 239
  },
  {
   "cell_type": "markdown",
   "source": [
    "Block 0: Few shot 5 examples with salary \n",
    "Block 1: Job title \n",
    "Block 2: company \n",
    "Block 3: workload (min workload and max workload) \n",
    "Block 4: Contract type \n",
    "Block 5: description"
   ],
   "metadata": {
    "collapsed": false
   },
   "id": "1f7ebb475b7de49"
  },
  {
   "cell_type": "markdown",
   "source": [
    "Notes one shot: \n",
    "\n",
    "df_with_salary_few_shot_12 = df_with_salary_few_shot[['Title', 'Company', 'Max_Salary', 'Min_Salary']]\n",
    "    \n",
    "    example_messages = [generate_message(row['Title'], row['Company'], row['Min_Salary'], row['Max_Salary']) for index, row in df_with_salary_few_shot_12.iterrows()]\n"
   ],
   "metadata": {
    "collapsed": false
   },
   "id": "9e9b0bfe6ddbf2d6"
  },
  {
   "cell_type": "markdown",
   "source": [
    "# Set up for Usage"
   ],
   "metadata": {
    "collapsed": false
   },
   "id": "2b0bbbcc9dd062e6"
  },
  {
   "cell_type": "code",
   "execution_count": 240,
   "outputs": [],
   "source": [
    "client = Groq(\n",
    "    api_key=\"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\",\n",
    ")\n",
    "\n",
    "\n",
    "def extract_salaries(response):\n",
    "    # General regex pattern - covers most cases\n",
    "    general_pattern = re.compile(r\"(\\d{1,3}(?:['\\s]\\d{3})*)\\s*(?:-|und)\\s*(\\d{1,3}(?:['\\s]\\d{3})*)\\s*CHF\")\n",
    "    # Special regex pattern - handles \"CHF\" before the numbers and potential markdown\n",
    "    special_pattern = re.compile(r\"CHF\\s*(\\d{1,3}(?:[',\\s]\\d{3})*)\\s*[-–]\\s*CHF\\s*(\\d{1,3}(?:[',\\s]\\d{3})*)\")\n",
    "    # New pattern for numbers inside parentheses with \"und\" and possibly no formatting\n",
    "    parentheses_pattern = re.compile(r\"\\((\\d{1,3}(?:['\\s]?\\d{3})*)\\)\\s*und\\s*\\((\\d{1,3}(?:['\\s]?\\d{3})*)\\)\\s*CHF\")\n",
    "    # New pattern for a range inside parentheses with a dash\n",
    "    range_parentheses_pattern = re.compile(r\"\\((\\d{1,3}(?:['\\s]\\d{3})*)\\s*-\\s*(\\d{1,3}(?:['\\s]\\d{3})*)\\)\\s*CHF\")\n",
    "\n",
    "    # Try the general pattern first\n",
    "    matches = general_pattern.findall(response)\n",
    "    if matches:\n",
    "        min_salary, max_salary = [int(salary.replace(\"'\", \"\").replace(\",\", \"\").replace(\" \", \"\")) for salary in matches[0]]\n",
    "        return min_salary, max_salary\n",
    "    \n",
    "    # If no matches, try the special pattern\n",
    "    matches = special_pattern.findall(response)\n",
    "    if matches:\n",
    "        min_salary, max_salary = [int(salary.replace(\"'\", \"\").replace(\",\", \"\").replace(\" \", \"\")) for salary in matches[0]]\n",
    "        return min_salary, max_salary\n",
    "\n",
    "    # Try the new parentheses pattern\n",
    "    matches = parentheses_pattern.findall(response)\n",
    "    if matches:\n",
    "        min_salary, max_salary = [int(salary.replace(\"'\", \"\").replace(\",\", \"\").replace(\" \", \"\")) for salary in matches[0]]\n",
    "        return min_salary, max_salary\n",
    "\n",
    "    # Try the range inside parentheses pattern\n",
    "    matches = range_parentheses_pattern.findall(response)\n",
    "    if matches:\n",
    "        min_salary, max_salary = [int(salary.replace(\"'\", \"\").replace(\",\", \"\").replace(\" \", \"\")) for salary in matches[0]]\n",
    "        return min_salary, max_salary\n",
    "\n",
    "    return None, None"
   ],
   "metadata": {
    "collapsed": false,
    "ExecuteTime": {
     "end_time": "2024-07-08T13:43:12.650329400Z",
     "start_time": "2024-07-08T13:43:12.626225500Z"
    }
   },
   "id": "87cc50308a0c6d98"
  },
  {
   "cell_type": "markdown",
   "source": [
    "## LLM request with Block 1 and fewshot with Block 1 and salary"
   ],
   "metadata": {
    "collapsed": false
   },
   "id": "9506903ebf744278"
  },
  {
   "cell_type": "code",
   "outputs": [],
   "source": [
    "# change here for new prompt and message below ------------\n",
    "results_file = 'data/llm_block1_fewshot.csv'\n",
    "min = 'block1_min_salary_fewshot'\n",
    "max = 'block1_max_salary_fewshot'\n",
    "answer = 'block1_answer_fewshot'\n",
    "# Setup and load initial data\n",
    "if os.path.exists(results_file):\n",
    "    df = pd.read_csv(results_file)\n",
    "else:\n",
    "    df[min] = None  # Initialize columns if starting fresh\n",
    "    df[max] = None\n",
    "    df[answer] = None \n",
    "\n",
    "# change content here for new prompt and message below ------------\n",
    "def generate_query(row):\n",
    "    return {\n",
    "        \"role\": \"user\",\n",
    "        \"content\": f\"Gib mir nur das Gehalt im Format (\\d{1,3}(?:'\\d{3})*) und (\\d{1,3}(?:'\\d{3})) CHF für die Position {row['title']} in Zürich, Schweiz. Wenn du kein exaktes Gehalt hast gib eine Schätzung an. Der angegebene Gehaltsbereich sollte dabei eine maximale Spanne von 20000 CHF nicht überschreiten.\"\n",
    "    }\n",
    "\n",
    "def generate_message(title, company, min_salary, max_salary, min_workload, max_workload, description):\n",
    "    return {\n",
    "        \"role\": \"user\",\n",
    "        \"content\": f\"Das Gehalt für die Position {title}  liegt zwischen {min_salary} und {max_salary}.\"\n",
    "    }\n",
    "\n",
    "def run_model(limit):\n",
    "    start_index = df[min].last_valid_index() + 1 if df[max].last_valid_index() != None else 0\n",
    "    example_messages = [generate_message(row['title'], row['company'], row['min_salary'], row['max_salary'], row['min_workload'], row['max_workload'], row['description']) for index, row in df_with_salary_few_shot.iterrows()]\n",
    "    \n",
    "    for index, row in df.iloc[start_index:start_index + limit].iterrows():\n",
    "        query_message = generate_query(row)\n",
    "        chat_completion = client.chat.completions.create(\n",
    "            messages= example_messages + [query_message], # change message for new prompt ------------\n",
    "            model=\"llama3-70b-8192\",\n",
    "            temperature=0.0\n",
    "        )\n",
    "        min_salary, max_salary = extract_salaries(chat_completion.choices[0].message.content)\n",
    "        print(index)\n",
    "        print(min_salary, max_salary)\n",
    "        \n",
    "        \n",
    "        # Update DataFrame\n",
    "        df.at[index, min] = min_salary\n",
    "        df.at[index, max] = max_salary\n",
    "        df.at[index, answer] = chat_completion.choices[0].message.content\n",
    "        \n",
    "    # Save updated DataFrame in chunks or fully, depending on your preference\n",
    "    df.to_csv(results_file, index=False)\n",
    "\n",
    "# Testing the function with a limited number of entries\n",
    "run_model(10000)"
   ],
   "metadata": {
    "collapsed": false,
    "ExecuteTime": {
     "end_time": "2024-07-08T13:43:42.468187400Z",
     "start_time": "2024-07-08T13:43:42.434595900Z"
    }
   },
   "id": "91b8369fcd67f53",
   "execution_count": 242
  },
  {
   "cell_type": "code",
   "execution_count": 235,
   "outputs": [
    {
     "data": {
      "text/plain": "                                               title             company  \\\n0                             Software Engineer .Net  ELCA Informatik AG   \n1                      Digital Analyst / Web Analyst             Unic AG   \n2                             ICT Supporter 100% (a)       Spitex Zürich   \n3  KAUFMÄNNISCHES PRAKTIKUM (100%) - MIT FOKUS KU...           gebana AG   \n4  System Engineer für Microsoft-Technologien und...        konekkt GmbH   \n\n    contract_type                                        description  \\\n0  Festanstellung  Über ELCA Wir sind ELCA, einer der grössten Sc...   \n1  Festanstellung  Deine Aufgaben als Digital Analyst bei Unic   ...   \n2  Festanstellung  Möchtest du auch etwas bewegen und deine Arbei...   \n3       Praktikum  DEINE AUFGABEN IM KUND:INNENSERVICE – EINSATZ ...   \n4  Festanstellung  Wir präsentieren eine faszinierende Karrieremö...   \n\n   min_workload  max_workload  min_salary  max_salary  \\\n0            80           100      100000      130000   \n1            80           100       90000      113000   \n2           100           100       78000       96000   \n3           100           100       28300       28300   \n4            80           100       95000      125000   \n\n   block1_min_salary_fewshot  block1_max_salary_fewshot  ...  \\\n0                    90000.0                   110000.0  ...   \n1                    80000.0                   100000.0  ...   \n2                    70000.0                    90000.0  ...   \n3                    60000.0                    80000.0  ...   \n4                    90000.0                   110000.0  ...   \n\n      block1_2_answer_fewshot  block1_2_3_min_salary_fewshot  \\\n0  (90'000) und (110'000) CHF                        90000.0   \n1      80'000 und 100'000 CHF                        70000.0   \n2   (60'000) und (80'000) CHF                        70000.0   \n3       (60'000 - 80'000) CHF                            NaN   \n4  (90'000) und (110'000) CHF                        90000.0   \n\n   block1_2_3_max_salary_fewshot   block1_2_3_answer_fewshot  \\\n0                       110000.0  (90'000) und (110'000) CHF   \n1                        90000.0     (70000) und (90000) CHF   \n2                        90000.0     (70000) und (90000) CHF   \n3                            NaN         45000 und 65000 CHF   \n4                       110000.0  (90'000) und (110'000) CHF   \n\n   block1_2_3_4_min_salary_fewshot  block1_2_3_4_max_salary_fewshot  \\\n0                          90000.0                         110000.0   \n1                          80000.0                         100000.0   \n2                          80000.0                         100000.0   \n3                              NaN                              NaN   \n4                          90000.0                         110000.0   \n\n                         block1_2_3_4_answer_fewshot  \\\n0  Das Gehalt für die Position Software Engineer ...   \n1                               80'000 - 100'000 CHF   \n2                               80'000 - 100'000 CHF   \n3  Ich kenne das genaue Gehalt nicht, daher schät...   \n4                               90'000 - 110'000 CHF   \n\n   block1_2_3_4_5_min_salary_fewshot  block1_2_3_4_5_max_salary_fewshot  \\\n0                            90000.0                           110000.0   \n1                            92000.0                           113000.0   \n2                            80000.0                           100000.0   \n3                                NaN                                NaN   \n4                            90000.0                           110000.0   \n\n                       block1_2_3_4_5_answer_fewshot  \n0  Das Gehalt für die Position Software Engineer ...  \n1                               92'000 - 113'000 CHF  \n2  Das Gehalt beträgt zwischen 80'000 und 100'000...  \n3                                           2177 CHF  \n4                             (90'000 - 110'000) CHF  \n\n[5 rows x 23 columns]",
      "text/html": "<div>\n<style scoped>\n    .dataframe tbody tr th:only-of-type {\n        vertical-align: middle;\n    }\n\n    .dataframe tbody tr th {\n        vertical-align: top;\n    }\n\n    .dataframe thead th {\n        text-align: right;\n    }\n</style>\n<table border=\"1\" class=\"dataframe\">\n  <thead>\n    <tr style=\"text-align: right;\">\n      <th></th>\n      <th>title</th>\n      <th>company</th>\n      <th>contract_type</th>\n      <th>description</th>\n      <th>min_workload</th>\n      <th>max_workload</th>\n      <th>min_salary</th>\n      <th>max_salary</th>\n      <th>block1_min_salary_fewshot</th>\n      <th>block1_max_salary_fewshot</th>\n      <th>...</th>\n      <th>block1_2_answer_fewshot</th>\n      <th>block1_2_3_min_salary_fewshot</th>\n      <th>block1_2_3_max_salary_fewshot</th>\n      <th>block1_2_3_answer_fewshot</th>\n      <th>block1_2_3_4_min_salary_fewshot</th>\n      <th>block1_2_3_4_max_salary_fewshot</th>\n      <th>block1_2_3_4_answer_fewshot</th>\n      <th>block1_2_3_4_5_min_salary_fewshot</th>\n      <th>block1_2_3_4_5_max_salary_fewshot</th>\n      <th>block1_2_3_4_5_answer_fewshot</th>\n    </tr>\n  </thead>\n  <tbody>\n    <tr>\n      <th>0</th>\n      <td>Software Engineer .Net</td>\n      <td>ELCA Informatik AG</td>\n      <td>Festanstellung</td>\n      <td>Über ELCA Wir sind ELCA, einer der grössten Sc...</td>\n      <td>80</td>\n      <td>100</td>\n      <td>100000</td>\n      <td>130000</td>\n      <td>90000.0</td>\n      <td>110000.0</td>\n      <td>...</td>\n      <td>(90'000) und (110'000) CHF</td>\n      <td>90000.0</td>\n      <td>110000.0</td>\n      <td>(90'000) und (110'000) CHF</td>\n      <td>90000.0</td>\n      <td>110000.0</td>\n      <td>Das Gehalt für die Position Software Engineer ...</td>\n      <td>90000.0</td>\n      <td>110000.0</td>\n      <td>Das Gehalt für die Position Software Engineer ...</td>\n    </tr>\n    <tr>\n      <th>1</th>\n      <td>Digital Analyst / Web Analyst</td>\n      <td>Unic AG</td>\n      <td>Festanstellung</td>\n      <td>Deine Aufgaben als Digital Analyst bei Unic   ...</td>\n      <td>80</td>\n      <td>100</td>\n      <td>90000</td>\n      <td>113000</td>\n      <td>80000.0</td>\n      <td>100000.0</td>\n      <td>...</td>\n      <td>80'000 und 100'000 CHF</td>\n      <td>70000.0</td>\n      <td>90000.0</td>\n      <td>(70000) und (90000) CHF</td>\n      <td>80000.0</td>\n      <td>100000.0</td>\n      <td>80'000 - 100'000 CHF</td>\n      <td>92000.0</td>\n      <td>113000.0</td>\n      <td>92'000 - 113'000 CHF</td>\n    </tr>\n    <tr>\n      <th>2</th>\n      <td>ICT Supporter 100% (a)</td>\n      <td>Spitex Zürich</td>\n      <td>Festanstellung</td>\n      <td>Möchtest du auch etwas bewegen und deine Arbei...</td>\n      <td>100</td>\n      <td>100</td>\n      <td>78000</td>\n      <td>96000</td>\n      <td>70000.0</td>\n      <td>90000.0</td>\n      <td>...</td>\n      <td>(60'000) und (80'000) CHF</td>\n      <td>70000.0</td>\n      <td>90000.0</td>\n      <td>(70000) und (90000) CHF</td>\n      <td>80000.0</td>\n      <td>100000.0</td>\n      <td>80'000 - 100'000 CHF</td>\n      <td>80000.0</td>\n      <td>100000.0</td>\n      <td>Das Gehalt beträgt zwischen 80'000 und 100'000...</td>\n    </tr>\n    <tr>\n      <th>3</th>\n      <td>KAUFMÄNNISCHES PRAKTIKUM (100%) - MIT FOKUS KU...</td>\n      <td>gebana AG</td>\n      <td>Praktikum</td>\n      <td>DEINE AUFGABEN IM KUND:INNENSERVICE – EINSATZ ...</td>\n      <td>100</td>\n      <td>100</td>\n      <td>28300</td>\n      <td>28300</td>\n      <td>60000.0</td>\n      <td>80000.0</td>\n      <td>...</td>\n      <td>(60'000 - 80'000) CHF</td>\n      <td>NaN</td>\n      <td>NaN</td>\n      <td>45000 und 65000 CHF</td>\n      <td>NaN</td>\n      <td>NaN</td>\n      <td>Ich kenne das genaue Gehalt nicht, daher schät...</td>\n      <td>NaN</td>\n      <td>NaN</td>\n      <td>2177 CHF</td>\n    </tr>\n    <tr>\n      <th>4</th>\n      <td>System Engineer für Microsoft-Technologien und...</td>\n      <td>konekkt GmbH</td>\n      <td>Festanstellung</td>\n      <td>Wir präsentieren eine faszinierende Karrieremö...</td>\n      <td>80</td>\n      <td>100</td>\n      <td>95000</td>\n      <td>125000</td>\n      <td>90000.0</td>\n      <td>110000.0</td>\n      <td>...</td>\n      <td>(90'000) und (110'000) CHF</td>\n      <td>90000.0</td>\n      <td>110000.0</td>\n      <td>(90'000) und (110'000) CHF</td>\n      <td>90000.0</td>\n      <td>110000.0</td>\n      <td>90'000 - 110'000 CHF</td>\n      <td>90000.0</td>\n      <td>110000.0</td>\n      <td>(90'000 - 110'000) CHF</td>\n    </tr>\n  </tbody>\n</table>\n<p>5 rows × 23 columns</p>\n</div>"
     },
     "execution_count": 235,
     "metadata": {},
     "output_type": "execute_result"
    }
   ],
   "source": [
    "llm_block1_fewshot = pd.read_csv('data/llm_block1_fewshot.csv')\n",
    "llm_block1_fewshot.head()"
   ],
   "metadata": {
    "collapsed": false,
    "ExecuteTime": {
     "end_time": "2024-07-08T13:41:53.741108500Z",
     "start_time": "2024-07-08T13:41:53.686401100Z"
    }
   },
   "id": "954c46fc2d5f60b9"
  },
  {
   "cell_type": "code",
   "execution_count": 201,
   "outputs": [],
   "source": [
    "# Update the specified rows for block1_min_salary_fewshot\n",
    "llm_block1_fewshot.loc[101, 'block1_min_salary_fewshot'] = 120000\n",
    "llm_block1_fewshot.loc[101, 'block1_max_salary_fewshot'] = 140000"
   ],
   "metadata": {
    "collapsed": false,
    "ExecuteTime": {
     "end_time": "2024-07-08T12:56:31.948390600Z",
     "start_time": "2024-07-08T12:56:31.922335500Z"
    }
   },
   "id": "421b9fb259c5b724"
  },
  {
   "cell_type": "code",
   "execution_count": 236,
   "outputs": [
    {
     "data": {
      "text/plain": "                                                 title         company  \\\n101  Director (all genders), SAP Supply Chain Consu...  JOB SCHWEIZ AG   \n\n      contract_type                                        description  \\\n101  Festanstellung  Introduction  We are JOB SCHWEIZ AG, a recruit...   \n\n     min_workload  max_workload  min_salary  max_salary  \\\n101            80           100      200000      200000   \n\n     block1_min_salary_fewshot  block1_max_salary_fewshot  ...  \\\n101                        NaN                        NaN  ...   \n\n       block1_2_answer_fewshot  block1_2_3_min_salary_fewshot  \\\n101  (110000) und (130000) CHF                       110000.0   \n\n     block1_2_3_max_salary_fewshot  block1_2_3_answer_fewshot  \\\n101                       130000.0  (110000) und (130000) CHF   \n\n     block1_2_3_4_min_salary_fewshot  block1_2_3_4_max_salary_fewshot  \\\n101                         120000.0                         140000.0   \n\n                           block1_2_3_4_answer_fewshot  \\\n101  Das Gehalt für die Position Director (all gend...   \n\n     block1_2_3_4_5_min_salary_fewshot  block1_2_3_4_5_max_salary_fewshot  \\\n101                                NaN                                NaN   \n\n                         block1_2_3_4_5_answer_fewshot  \n101  Das Gehalt beträgt zwischen 120000 und 140000 ...  \n\n[1 rows x 23 columns]",
      "text/html": "<div>\n<style scoped>\n    .dataframe tbody tr th:only-of-type {\n        vertical-align: middle;\n    }\n\n    .dataframe tbody tr th {\n        vertical-align: top;\n    }\n\n    .dataframe thead th {\n        text-align: right;\n    }\n</style>\n<table border=\"1\" class=\"dataframe\">\n  <thead>\n    <tr style=\"text-align: right;\">\n      <th></th>\n      <th>title</th>\n      <th>company</th>\n      <th>contract_type</th>\n      <th>description</th>\n      <th>min_workload</th>\n      <th>max_workload</th>\n      <th>min_salary</th>\n      <th>max_salary</th>\n      <th>block1_min_salary_fewshot</th>\n      <th>block1_max_salary_fewshot</th>\n      <th>...</th>\n      <th>block1_2_answer_fewshot</th>\n      <th>block1_2_3_min_salary_fewshot</th>\n      <th>block1_2_3_max_salary_fewshot</th>\n      <th>block1_2_3_answer_fewshot</th>\n      <th>block1_2_3_4_min_salary_fewshot</th>\n      <th>block1_2_3_4_max_salary_fewshot</th>\n      <th>block1_2_3_4_answer_fewshot</th>\n      <th>block1_2_3_4_5_min_salary_fewshot</th>\n      <th>block1_2_3_4_5_max_salary_fewshot</th>\n      <th>block1_2_3_4_5_answer_fewshot</th>\n    </tr>\n  </thead>\n  <tbody>\n    <tr>\n      <th>101</th>\n      <td>Director (all genders), SAP Supply Chain Consu...</td>\n      <td>JOB SCHWEIZ AG</td>\n      <td>Festanstellung</td>\n      <td>Introduction  We are JOB SCHWEIZ AG, a recruit...</td>\n      <td>80</td>\n      <td>100</td>\n      <td>200000</td>\n      <td>200000</td>\n      <td>NaN</td>\n      <td>NaN</td>\n      <td>...</td>\n      <td>(110000) und (130000) CHF</td>\n      <td>110000.0</td>\n      <td>130000.0</td>\n      <td>(110000) und (130000) CHF</td>\n      <td>120000.0</td>\n      <td>140000.0</td>\n      <td>Das Gehalt für die Position Director (all gend...</td>\n      <td>NaN</td>\n      <td>NaN</td>\n      <td>Das Gehalt beträgt zwischen 120000 und 140000 ...</td>\n    </tr>\n  </tbody>\n</table>\n<p>1 rows × 23 columns</p>\n</div>"
     },
     "execution_count": 236,
     "metadata": {},
     "output_type": "execute_result"
    }
   ],
   "source": [
    "llm_block1_fewshot[llm_block1_fewshot['block1_min_salary_fewshot'].isnull() & llm_block1_fewshot['block1_max_salary_fewshot'].isnull()]"
   ],
   "metadata": {
    "collapsed": false,
    "ExecuteTime": {
     "end_time": "2024-07-08T13:41:53.774376800Z",
     "start_time": "2024-07-08T13:41:53.729639Z"
    }
   },
   "id": "9fafe487a371a99c"
  },
  {
   "cell_type": "code",
   "execution_count": 214,
   "outputs": [
    {
     "data": {
      "text/plain": "False"
     },
     "execution_count": 214,
     "metadata": {},
     "output_type": "execute_result"
    }
   ],
   "source": [
    "llm_block1_fewshot.isna().any().any()"
   ],
   "metadata": {
    "collapsed": false,
    "ExecuteTime": {
     "end_time": "2024-07-08T13:13:33.384811400Z",
     "start_time": "2024-07-08T13:13:33.336082900Z"
    }
   },
   "id": "17e230d322e8a4fe"
  },
  {
   "cell_type": "markdown",
   "source": [
    "## LLM request with Block 1,2 and fewshot with Block 1,2 and salary"
   ],
   "metadata": {
    "collapsed": false
   },
   "id": "33d79c56f26e7252"
  },
  {
   "cell_type": "code",
   "execution_count": 216,
   "outputs": [
    {
     "name": "stdout",
     "output_type": "stream",
     "text": [
      "0\n",
      "90000 110000\n",
      "1\n",
      "80000 100000\n",
      "2\n",
      "60000 80000\n",
      "3\n",
      "60000 80000\n",
      "4\n",
      "90000 110000\n",
      "5\n",
      "110000 130000\n",
      "6\n",
      "90000 110000\n",
      "7\n",
      "90000 110000\n",
      "8\n",
      "90000 110000\n",
      "9\n",
      "90000 110000\n",
      "10\n",
      "110000 130000\n",
      "11\n",
      "90000 110000\n",
      "12\n",
      "90000 110000\n",
      "13\n",
      "90000 110000\n",
      "14\n",
      "90000 110000\n",
      "15\n",
      "110000 130000\n",
      "16\n",
      "90000 110000\n",
      "17\n",
      "90000 110000\n",
      "18\n",
      "70000 90000\n",
      "19\n",
      "90000 110000\n",
      "20\n",
      "90000 110000\n",
      "21\n",
      "90000 110000\n",
      "22\n",
      "90000 110000\n",
      "23\n",
      "90000 110000\n",
      "24\n",
      "90000 110000\n",
      "25\n",
      "80000 100000\n",
      "26\n",
      "80000 100000\n",
      "27\n",
      "90000 110000\n",
      "28\n",
      "90000 110000\n",
      "29\n",
      "80000 100000\n",
      "30\n",
      "75000 95000\n",
      "31\n",
      "90000 110000\n",
      "32\n",
      "90000 110000\n",
      "33\n",
      "90000 110000\n",
      "34\n",
      "80000 100000\n",
      "35\n",
      "90000 110000\n",
      "36\n",
      "90000 110000\n",
      "37\n",
      "90000 110000\n",
      "38\n",
      "90000 110000\n",
      "39\n",
      "80000 100000\n",
      "40\n",
      "80000 100000\n",
      "41\n",
      "90000 110000\n",
      "42\n",
      "90000 110000\n",
      "43\n",
      "80000 100000\n",
      "44\n",
      "90000 110000\n",
      "45\n",
      "90000 110000\n",
      "46\n",
      "90000 110000\n",
      "47\n",
      "90000 110000\n",
      "48\n",
      "110000 130000\n",
      "49\n",
      "90000 110000\n",
      "50\n",
      "90000 110000\n",
      "51\n",
      "90000 110000\n",
      "52\n",
      "70000 90000\n",
      "53\n",
      "90000 110000\n",
      "54\n",
      "90000 110000\n",
      "55\n",
      "90000 110000\n",
      "56\n",
      "90000 110000\n",
      "57\n",
      "90000 110000\n",
      "58\n",
      "90000 110000\n",
      "59\n",
      "90000 110000\n",
      "60\n",
      "90000 110000\n",
      "61\n",
      "80000 100000\n",
      "62\n",
      "90000 110000\n",
      "63\n",
      "90000 110000\n",
      "64\n",
      "90000 110000\n",
      "65\n",
      "80000 100000\n",
      "66\n",
      "90000 110000\n",
      "67\n",
      "75000 95000\n",
      "68\n",
      "90000 110000\n",
      "69\n",
      "90000 110000\n",
      "70\n",
      "80000 100000\n",
      "71\n",
      "80000 100000\n",
      "72\n",
      "90000 110000\n",
      "73\n",
      "80000 100000\n",
      "74\n",
      "90000 110000\n",
      "75\n",
      "90000 110000\n",
      "76\n",
      "90000 110000\n",
      "77\n",
      "80000 100000\n",
      "78\n",
      "90000 110000\n",
      "79\n",
      "90000 110000\n",
      "80\n",
      "90000 110000\n",
      "81\n",
      "80000 100000\n",
      "82\n",
      "90000 110000\n",
      "83\n",
      "90000 110000\n",
      "84\n",
      "90000 110000\n",
      "85\n",
      "90000 110000\n",
      "86\n",
      "None None\n",
      "87\n",
      "90000 110000\n",
      "88\n",
      "90000 110000\n",
      "89\n",
      "80000 100000\n",
      "90\n",
      "90000 110000\n",
      "91\n",
      "90000 110000\n",
      "92\n",
      "70000 90000\n",
      "93\n",
      "90000 110000\n",
      "94\n",
      "90000 110000\n",
      "95\n",
      "80000 100000\n",
      "96\n",
      "90000 110000\n",
      "97\n",
      "90000 110000\n",
      "98\n",
      "70000 90000\n",
      "99\n",
      "80000 100000\n",
      "100\n",
      "80000 100000\n",
      "101\n",
      "110000 130000\n",
      "102\n",
      "90000 110000\n",
      "103\n",
      "90000 110000\n",
      "104\n",
      "90000 110000\n",
      "105\n",
      "90000 110000\n",
      "106\n",
      "90000 110000\n",
      "107\n",
      "60000 80000\n",
      "108\n",
      "90000 110000\n",
      "109\n",
      "80000 100000\n"
     ]
    }
   ],
   "source": [
    "# change here for new prompt and message below ------------\n",
    "results_file = 'data/llm_block1_2_fewshot.csv'\n",
    "min = 'block1_2_min_salary_fewshot'\n",
    "max = 'block1_2_max_salary_fewshot'\n",
    "answer = 'block1_2_answer_fewshot'\n",
    "# Setup and load initial data\n",
    "if os.path.exists(results_file):\n",
    "    df = pd.read_csv(results_file)\n",
    "else:\n",
    "    df[min] = None  # Initialize columns if starting fresh\n",
    "    df[max] = None\n",
    "    df[answer] = None \n",
    "\n",
    "# change content here for new prompt and message below ------------\n",
    "def generate_query(row):\n",
    "    return {\n",
    "        \"role\": \"user\",\n",
    "        \"content\": f\"Gib mir nur das Gehalt im Format (\\d{1,3}(?:'\\d{3})*) und (\\d{1,3}(?:'\\d{3})) CHF für die Position {row['title']} bei der Firma {row['company']} in Zürich, Schweiz. Wenn du kein exaktes Gehalt hast gib eine Schätzung an. Der angegebene Gehaltsbereich sollte dabei eine maximale Spanne von 20000 CHF nicht überschreiten.\"\n",
    "    }\n",
    "\n",
    "def generate_message(title, company, min_salary, max_salary, min_workload, max_workload, description):\n",
    "    return {\n",
    "        \"role\": \"user\",\n",
    "        \"content\": f\"Das Gehalt für die Position {title}  bei der Firma {company} liegt zwischen {min_salary} und {max_salary}.\"\n",
    "    }\n",
    "\n",
    "def run_model(limit):\n",
    "    start_index = df[min].last_valid_index() + 1 if df[max].last_valid_index() != None else 0\n",
    "    example_messages = [generate_message(row['title'], row['company'], row['min_salary'], row['max_salary'], row['min_workload'], row['max_workload'], row['description']) for index, row in df_with_salary_few_shot.iterrows()]\n",
    "    \n",
    "    for index, row in df.iloc[start_index:start_index + limit].iterrows():\n",
    "        query_message = generate_query(row)\n",
    "        chat_completion = client.chat.completions.create(\n",
    "            messages= example_messages + [query_message], # change message for new prompt ------------\n",
    "            model=\"llama3-70b-8192\",\n",
    "            temperature=0.0\n",
    "        )\n",
    "        min_salary, max_salary = extract_salaries(chat_completion.choices[0].message.content)\n",
    "        print(index)\n",
    "        print(min_salary, max_salary)\n",
    "        \n",
    "        \n",
    "        # Update DataFrame\n",
    "        df.at[index, min] = min_salary\n",
    "        df.at[index, max] = max_salary\n",
    "        df.at[index, answer] = chat_completion.choices[0].message.content\n",
    "        \n",
    "    # Save updated DataFrame in chunks or fully, depending on your preference\n",
    "    df.to_csv(results_file, index=False)\n",
    "\n",
    "# Testing the function with a limited number of entries\n",
    "run_model(10000)"
   ],
   "metadata": {
    "collapsed": false,
    "ExecuteTime": {
     "end_time": "2024-07-08T13:23:05.276819700Z",
     "start_time": "2024-07-08T13:17:23.401849Z"
    }
   },
   "id": "846f9222ccd1493b"
  },
  {
   "cell_type": "code",
   "execution_count": 232,
   "outputs": [
    {
     "ename": "FileNotFoundError",
     "evalue": "[Errno 2] No such file or directory: 'data/llm_block1_2_fewshot.csv'",
     "output_type": "error",
     "traceback": [
      "\u001B[1;31m---------------------------------------------------------------------------\u001B[0m",
      "\u001B[1;31mFileNotFoundError\u001B[0m                         Traceback (most recent call last)",
      "Cell \u001B[1;32mIn[232], line 1\u001B[0m\n\u001B[1;32m----> 1\u001B[0m llm_block1_2_fewshot \u001B[38;5;241m=\u001B[39m \u001B[43mpd\u001B[49m\u001B[38;5;241;43m.\u001B[39;49m\u001B[43mread_csv\u001B[49m\u001B[43m(\u001B[49m\u001B[38;5;124;43m'\u001B[39;49m\u001B[38;5;124;43mdata/llm_block1_2_fewshot.csv\u001B[39;49m\u001B[38;5;124;43m'\u001B[39;49m\u001B[43m)\u001B[49m\n\u001B[0;32m      2\u001B[0m llm_block1_2_fewshot\u001B[38;5;241m.\u001B[39mhead()\n",
      "File \u001B[1;32m~\\AppData\\Local\\Programs\\Python\\Python310\\lib\\site-packages\\pandas\\io\\parsers\\readers.py:948\u001B[0m, in \u001B[0;36mread_csv\u001B[1;34m(filepath_or_buffer, sep, delimiter, header, names, index_col, usecols, dtype, engine, converters, true_values, false_values, skipinitialspace, skiprows, skipfooter, nrows, na_values, keep_default_na, na_filter, verbose, skip_blank_lines, parse_dates, infer_datetime_format, keep_date_col, date_parser, date_format, dayfirst, cache_dates, iterator, chunksize, compression, thousands, decimal, lineterminator, quotechar, quoting, doublequote, escapechar, comment, encoding, encoding_errors, dialect, on_bad_lines, delim_whitespace, low_memory, memory_map, float_precision, storage_options, dtype_backend)\u001B[0m\n\u001B[0;32m    935\u001B[0m kwds_defaults \u001B[38;5;241m=\u001B[39m _refine_defaults_read(\n\u001B[0;32m    936\u001B[0m     dialect,\n\u001B[0;32m    937\u001B[0m     delimiter,\n\u001B[1;32m   (...)\u001B[0m\n\u001B[0;32m    944\u001B[0m     dtype_backend\u001B[38;5;241m=\u001B[39mdtype_backend,\n\u001B[0;32m    945\u001B[0m )\n\u001B[0;32m    946\u001B[0m kwds\u001B[38;5;241m.\u001B[39mupdate(kwds_defaults)\n\u001B[1;32m--> 948\u001B[0m \u001B[38;5;28;01mreturn\u001B[39;00m \u001B[43m_read\u001B[49m\u001B[43m(\u001B[49m\u001B[43mfilepath_or_buffer\u001B[49m\u001B[43m,\u001B[49m\u001B[43m \u001B[49m\u001B[43mkwds\u001B[49m\u001B[43m)\u001B[49m\n",
      "File \u001B[1;32m~\\AppData\\Local\\Programs\\Python\\Python310\\lib\\site-packages\\pandas\\io\\parsers\\readers.py:611\u001B[0m, in \u001B[0;36m_read\u001B[1;34m(filepath_or_buffer, kwds)\u001B[0m\n\u001B[0;32m    608\u001B[0m _validate_names(kwds\u001B[38;5;241m.\u001B[39mget(\u001B[38;5;124m\"\u001B[39m\u001B[38;5;124mnames\u001B[39m\u001B[38;5;124m\"\u001B[39m, \u001B[38;5;28;01mNone\u001B[39;00m))\n\u001B[0;32m    610\u001B[0m \u001B[38;5;66;03m# Create the parser.\u001B[39;00m\n\u001B[1;32m--> 611\u001B[0m parser \u001B[38;5;241m=\u001B[39m TextFileReader(filepath_or_buffer, \u001B[38;5;241m*\u001B[39m\u001B[38;5;241m*\u001B[39mkwds)\n\u001B[0;32m    613\u001B[0m \u001B[38;5;28;01mif\u001B[39;00m chunksize \u001B[38;5;129;01mor\u001B[39;00m iterator:\n\u001B[0;32m    614\u001B[0m     \u001B[38;5;28;01mreturn\u001B[39;00m parser\n",
      "File \u001B[1;32m~\\AppData\\Local\\Programs\\Python\\Python310\\lib\\site-packages\\pandas\\io\\parsers\\readers.py:1448\u001B[0m, in \u001B[0;36mTextFileReader.__init__\u001B[1;34m(self, f, engine, **kwds)\u001B[0m\n\u001B[0;32m   1445\u001B[0m     \u001B[38;5;28mself\u001B[39m\u001B[38;5;241m.\u001B[39moptions[\u001B[38;5;124m\"\u001B[39m\u001B[38;5;124mhas_index_names\u001B[39m\u001B[38;5;124m\"\u001B[39m] \u001B[38;5;241m=\u001B[39m kwds[\u001B[38;5;124m\"\u001B[39m\u001B[38;5;124mhas_index_names\u001B[39m\u001B[38;5;124m\"\u001B[39m]\n\u001B[0;32m   1447\u001B[0m \u001B[38;5;28mself\u001B[39m\u001B[38;5;241m.\u001B[39mhandles: IOHandles \u001B[38;5;241m|\u001B[39m \u001B[38;5;28;01mNone\u001B[39;00m \u001B[38;5;241m=\u001B[39m \u001B[38;5;28;01mNone\u001B[39;00m\n\u001B[1;32m-> 1448\u001B[0m \u001B[38;5;28mself\u001B[39m\u001B[38;5;241m.\u001B[39m_engine \u001B[38;5;241m=\u001B[39m \u001B[38;5;28;43mself\u001B[39;49m\u001B[38;5;241;43m.\u001B[39;49m\u001B[43m_make_engine\u001B[49m\u001B[43m(\u001B[49m\u001B[43mf\u001B[49m\u001B[43m,\u001B[49m\u001B[43m \u001B[49m\u001B[38;5;28;43mself\u001B[39;49m\u001B[38;5;241;43m.\u001B[39;49m\u001B[43mengine\u001B[49m\u001B[43m)\u001B[49m\n",
      "File \u001B[1;32m~\\AppData\\Local\\Programs\\Python\\Python310\\lib\\site-packages\\pandas\\io\\parsers\\readers.py:1705\u001B[0m, in \u001B[0;36mTextFileReader._make_engine\u001B[1;34m(self, f, engine)\u001B[0m\n\u001B[0;32m   1703\u001B[0m     \u001B[38;5;28;01mif\u001B[39;00m \u001B[38;5;124m\"\u001B[39m\u001B[38;5;124mb\u001B[39m\u001B[38;5;124m\"\u001B[39m \u001B[38;5;129;01mnot\u001B[39;00m \u001B[38;5;129;01min\u001B[39;00m mode:\n\u001B[0;32m   1704\u001B[0m         mode \u001B[38;5;241m+\u001B[39m\u001B[38;5;241m=\u001B[39m \u001B[38;5;124m\"\u001B[39m\u001B[38;5;124mb\u001B[39m\u001B[38;5;124m\"\u001B[39m\n\u001B[1;32m-> 1705\u001B[0m \u001B[38;5;28mself\u001B[39m\u001B[38;5;241m.\u001B[39mhandles \u001B[38;5;241m=\u001B[39m \u001B[43mget_handle\u001B[49m\u001B[43m(\u001B[49m\n\u001B[0;32m   1706\u001B[0m \u001B[43m    \u001B[49m\u001B[43mf\u001B[49m\u001B[43m,\u001B[49m\n\u001B[0;32m   1707\u001B[0m \u001B[43m    \u001B[49m\u001B[43mmode\u001B[49m\u001B[43m,\u001B[49m\n\u001B[0;32m   1708\u001B[0m \u001B[43m    \u001B[49m\u001B[43mencoding\u001B[49m\u001B[38;5;241;43m=\u001B[39;49m\u001B[38;5;28;43mself\u001B[39;49m\u001B[38;5;241;43m.\u001B[39;49m\u001B[43moptions\u001B[49m\u001B[38;5;241;43m.\u001B[39;49m\u001B[43mget\u001B[49m\u001B[43m(\u001B[49m\u001B[38;5;124;43m\"\u001B[39;49m\u001B[38;5;124;43mencoding\u001B[39;49m\u001B[38;5;124;43m\"\u001B[39;49m\u001B[43m,\u001B[49m\u001B[43m \u001B[49m\u001B[38;5;28;43;01mNone\u001B[39;49;00m\u001B[43m)\u001B[49m\u001B[43m,\u001B[49m\n\u001B[0;32m   1709\u001B[0m \u001B[43m    \u001B[49m\u001B[43mcompression\u001B[49m\u001B[38;5;241;43m=\u001B[39;49m\u001B[38;5;28;43mself\u001B[39;49m\u001B[38;5;241;43m.\u001B[39;49m\u001B[43moptions\u001B[49m\u001B[38;5;241;43m.\u001B[39;49m\u001B[43mget\u001B[49m\u001B[43m(\u001B[49m\u001B[38;5;124;43m\"\u001B[39;49m\u001B[38;5;124;43mcompression\u001B[39;49m\u001B[38;5;124;43m\"\u001B[39;49m\u001B[43m,\u001B[49m\u001B[43m \u001B[49m\u001B[38;5;28;43;01mNone\u001B[39;49;00m\u001B[43m)\u001B[49m\u001B[43m,\u001B[49m\n\u001B[0;32m   1710\u001B[0m \u001B[43m    \u001B[49m\u001B[43mmemory_map\u001B[49m\u001B[38;5;241;43m=\u001B[39;49m\u001B[38;5;28;43mself\u001B[39;49m\u001B[38;5;241;43m.\u001B[39;49m\u001B[43moptions\u001B[49m\u001B[38;5;241;43m.\u001B[39;49m\u001B[43mget\u001B[49m\u001B[43m(\u001B[49m\u001B[38;5;124;43m\"\u001B[39;49m\u001B[38;5;124;43mmemory_map\u001B[39;49m\u001B[38;5;124;43m\"\u001B[39;49m\u001B[43m,\u001B[49m\u001B[43m \u001B[49m\u001B[38;5;28;43;01mFalse\u001B[39;49;00m\u001B[43m)\u001B[49m\u001B[43m,\u001B[49m\n\u001B[0;32m   1711\u001B[0m \u001B[43m    \u001B[49m\u001B[43mis_text\u001B[49m\u001B[38;5;241;43m=\u001B[39;49m\u001B[43mis_text\u001B[49m\u001B[43m,\u001B[49m\n\u001B[0;32m   1712\u001B[0m \u001B[43m    \u001B[49m\u001B[43merrors\u001B[49m\u001B[38;5;241;43m=\u001B[39;49m\u001B[38;5;28;43mself\u001B[39;49m\u001B[38;5;241;43m.\u001B[39;49m\u001B[43moptions\u001B[49m\u001B[38;5;241;43m.\u001B[39;49m\u001B[43mget\u001B[49m\u001B[43m(\u001B[49m\u001B[38;5;124;43m\"\u001B[39;49m\u001B[38;5;124;43mencoding_errors\u001B[39;49m\u001B[38;5;124;43m\"\u001B[39;49m\u001B[43m,\u001B[49m\u001B[43m \u001B[49m\u001B[38;5;124;43m\"\u001B[39;49m\u001B[38;5;124;43mstrict\u001B[39;49m\u001B[38;5;124;43m\"\u001B[39;49m\u001B[43m)\u001B[49m\u001B[43m,\u001B[49m\n\u001B[0;32m   1713\u001B[0m \u001B[43m    \u001B[49m\u001B[43mstorage_options\u001B[49m\u001B[38;5;241;43m=\u001B[39;49m\u001B[38;5;28;43mself\u001B[39;49m\u001B[38;5;241;43m.\u001B[39;49m\u001B[43moptions\u001B[49m\u001B[38;5;241;43m.\u001B[39;49m\u001B[43mget\u001B[49m\u001B[43m(\u001B[49m\u001B[38;5;124;43m\"\u001B[39;49m\u001B[38;5;124;43mstorage_options\u001B[39;49m\u001B[38;5;124;43m\"\u001B[39;49m\u001B[43m,\u001B[49m\u001B[43m \u001B[49m\u001B[38;5;28;43;01mNone\u001B[39;49;00m\u001B[43m)\u001B[49m\u001B[43m,\u001B[49m\n\u001B[0;32m   1714\u001B[0m \u001B[43m\u001B[49m\u001B[43m)\u001B[49m\n\u001B[0;32m   1715\u001B[0m \u001B[38;5;28;01massert\u001B[39;00m \u001B[38;5;28mself\u001B[39m\u001B[38;5;241m.\u001B[39mhandles \u001B[38;5;129;01mis\u001B[39;00m \u001B[38;5;129;01mnot\u001B[39;00m \u001B[38;5;28;01mNone\u001B[39;00m\n\u001B[0;32m   1716\u001B[0m f \u001B[38;5;241m=\u001B[39m \u001B[38;5;28mself\u001B[39m\u001B[38;5;241m.\u001B[39mhandles\u001B[38;5;241m.\u001B[39mhandle\n",
      "File \u001B[1;32m~\\AppData\\Local\\Programs\\Python\\Python310\\lib\\site-packages\\pandas\\io\\common.py:863\u001B[0m, in \u001B[0;36mget_handle\u001B[1;34m(path_or_buf, mode, encoding, compression, memory_map, is_text, errors, storage_options)\u001B[0m\n\u001B[0;32m    858\u001B[0m \u001B[38;5;28;01melif\u001B[39;00m \u001B[38;5;28misinstance\u001B[39m(handle, \u001B[38;5;28mstr\u001B[39m):\n\u001B[0;32m    859\u001B[0m     \u001B[38;5;66;03m# Check whether the filename is to be opened in binary mode.\u001B[39;00m\n\u001B[0;32m    860\u001B[0m     \u001B[38;5;66;03m# Binary mode does not support 'encoding' and 'newline'.\u001B[39;00m\n\u001B[0;32m    861\u001B[0m     \u001B[38;5;28;01mif\u001B[39;00m ioargs\u001B[38;5;241m.\u001B[39mencoding \u001B[38;5;129;01mand\u001B[39;00m \u001B[38;5;124m\"\u001B[39m\u001B[38;5;124mb\u001B[39m\u001B[38;5;124m\"\u001B[39m \u001B[38;5;129;01mnot\u001B[39;00m \u001B[38;5;129;01min\u001B[39;00m ioargs\u001B[38;5;241m.\u001B[39mmode:\n\u001B[0;32m    862\u001B[0m         \u001B[38;5;66;03m# Encoding\u001B[39;00m\n\u001B[1;32m--> 863\u001B[0m         handle \u001B[38;5;241m=\u001B[39m \u001B[38;5;28;43mopen\u001B[39;49m\u001B[43m(\u001B[49m\n\u001B[0;32m    864\u001B[0m \u001B[43m            \u001B[49m\u001B[43mhandle\u001B[49m\u001B[43m,\u001B[49m\n\u001B[0;32m    865\u001B[0m \u001B[43m            \u001B[49m\u001B[43mioargs\u001B[49m\u001B[38;5;241;43m.\u001B[39;49m\u001B[43mmode\u001B[49m\u001B[43m,\u001B[49m\n\u001B[0;32m    866\u001B[0m \u001B[43m            \u001B[49m\u001B[43mencoding\u001B[49m\u001B[38;5;241;43m=\u001B[39;49m\u001B[43mioargs\u001B[49m\u001B[38;5;241;43m.\u001B[39;49m\u001B[43mencoding\u001B[49m\u001B[43m,\u001B[49m\n\u001B[0;32m    867\u001B[0m \u001B[43m            \u001B[49m\u001B[43merrors\u001B[49m\u001B[38;5;241;43m=\u001B[39;49m\u001B[43merrors\u001B[49m\u001B[43m,\u001B[49m\n\u001B[0;32m    868\u001B[0m \u001B[43m            \u001B[49m\u001B[43mnewline\u001B[49m\u001B[38;5;241;43m=\u001B[39;49m\u001B[38;5;124;43m\"\u001B[39;49m\u001B[38;5;124;43m\"\u001B[39;49m\u001B[43m,\u001B[49m\n\u001B[0;32m    869\u001B[0m \u001B[43m        \u001B[49m\u001B[43m)\u001B[49m\n\u001B[0;32m    870\u001B[0m     \u001B[38;5;28;01melse\u001B[39;00m:\n\u001B[0;32m    871\u001B[0m         \u001B[38;5;66;03m# Binary mode\u001B[39;00m\n\u001B[0;32m    872\u001B[0m         handle \u001B[38;5;241m=\u001B[39m \u001B[38;5;28mopen\u001B[39m(handle, ioargs\u001B[38;5;241m.\u001B[39mmode)\n",
      "\u001B[1;31mFileNotFoundError\u001B[0m: [Errno 2] No such file or directory: 'data/llm_block1_2_fewshot.csv'"
     ]
    }
   ],
   "source": [
    "llm_block1_2_fewshot = pd.read_csv('data/llm_block1_2_fewshot.csv')\n",
    "llm_block1_2_fewshot.head()"
   ],
   "metadata": {
    "collapsed": false,
    "ExecuteTime": {
     "end_time": "2024-07-08T13:36:51.357008400Z",
     "start_time": "2024-07-08T13:36:51.245973300Z"
    }
   },
   "id": "790323a5e878f6a7"
  },
  {
   "cell_type": "code",
   "execution_count": 229,
   "outputs": [],
   "source": [],
   "metadata": {
    "collapsed": false,
    "ExecuteTime": {
     "end_time": "2024-07-08T13:36:15.566524500Z",
     "start_time": "2024-07-08T13:36:15.548801800Z"
    }
   },
   "id": "a13bf3e80591af68"
  },
  {
   "cell_type": "code",
   "execution_count": 230,
   "outputs": [
    {
     "data": {
      "text/plain": "Empty DataFrame\nColumns: [title, company, contract_type, description, min_workload, max_workload, min_salary, max_salary, block1_min_salary_fewshot, block1_max_salary_fewshot, block1_answer_fewshot, block1_2_min_salary_fewshot, block1_2_max_salary_fewshot, block1_2_answer_fewshot, block1_2_3_min_salary_fewshot, block1_2_3_max_salary_fewshot, block1_2_3_answer_fewshot, block1_2_3_4_min_salary_fewshot, block1_2_3_4_max_salary_fewshot, block1_2_3_4_answer_fewshot, block1_2_3_4_5_min_salary_fewshot, block1_2_3_4_5_max_salary_fewshot, block1_2_3_4_5_answer_fewshot]\nIndex: []\n\n[0 rows x 23 columns]",
      "text/html": "<div>\n<style scoped>\n    .dataframe tbody tr th:only-of-type {\n        vertical-align: middle;\n    }\n\n    .dataframe tbody tr th {\n        vertical-align: top;\n    }\n\n    .dataframe thead th {\n        text-align: right;\n    }\n</style>\n<table border=\"1\" class=\"dataframe\">\n  <thead>\n    <tr style=\"text-align: right;\">\n      <th></th>\n      <th>title</th>\n      <th>company</th>\n      <th>contract_type</th>\n      <th>description</th>\n      <th>min_workload</th>\n      <th>max_workload</th>\n      <th>min_salary</th>\n      <th>max_salary</th>\n      <th>block1_min_salary_fewshot</th>\n      <th>block1_max_salary_fewshot</th>\n      <th>...</th>\n      <th>block1_2_answer_fewshot</th>\n      <th>block1_2_3_min_salary_fewshot</th>\n      <th>block1_2_3_max_salary_fewshot</th>\n      <th>block1_2_3_answer_fewshot</th>\n      <th>block1_2_3_4_min_salary_fewshot</th>\n      <th>block1_2_3_4_max_salary_fewshot</th>\n      <th>block1_2_3_4_answer_fewshot</th>\n      <th>block1_2_3_4_5_min_salary_fewshot</th>\n      <th>block1_2_3_4_5_max_salary_fewshot</th>\n      <th>block1_2_3_4_5_answer_fewshot</th>\n    </tr>\n  </thead>\n  <tbody>\n  </tbody>\n</table>\n<p>0 rows × 23 columns</p>\n</div>"
     },
     "execution_count": 230,
     "metadata": {},
     "output_type": "execute_result"
    }
   ],
   "source": [
    "llm_block1_2_fewshot[llm_block1_2_fewshot['block1_2_min_salary_fewshot'].isnull() & llm_block1_2_fewshot['block1_2_min_salary_fewshot'].isnull()]"
   ],
   "metadata": {
    "collapsed": false,
    "ExecuteTime": {
     "end_time": "2024-07-08T13:36:17.370929400Z",
     "start_time": "2024-07-08T13:36:17.352052700Z"
    }
   },
   "id": "6017a882cf00b0ef"
  },
  {
   "cell_type": "code",
   "execution_count": 231,
   "outputs": [
    {
     "data": {
      "text/plain": "                                                 title  \\\n3    KAUFMÄNNISCHES PRAKTIKUM (100%) - MIT FOKUS KU...   \n10               Senior Software Engineer (80% - 100%)   \n15                    (Senior) Solution Architect .NET   \n19                                ServiceNow Developer   \n22                                Salesforce Developer   \n27             Senior Network Engineer 80-100% (m/w/d)   \n40             IT Application Engineer 80-100% (m/w/d)   \n41                   Security Engineer 80-100% (m/w/d)   \n43             IT Application Engineer 80-100% (m/w/d)   \n46                     DevOps Engineer 80-100% (m/w/d)   \n49                 C# / .NET Senior Software Developer   \n50   (Senior) Software Engineer als Consultant 80-1...   \n53           C#.NET Software Developer 80-100% (m/w/d)   \n56                   C#/.NET Developer 80-100% (m/w/d)   \n58   Software Engineer Java 80-100% (m/w/d) mit Pot...   \n60           System Engineer Microsoft 80-100% (m/w/d)   \n61           ICT System Administrator 80-100 % (m/w/d)   \n64   System Engineer (PowerShell) – Scripting Maste...   \n65   IT Support Engineer – Lösungsfinder im Tech-Um...   \n68                     System Engineer 80-100% (m/w/d)   \n71          Cloud System Administrator 80-100% (m/w/d)   \n72    Java Fullstack Software Engineer 80-100% (m/w/d)   \n73                       IT Consultant 80-100% (m/w/d)   \n75                     System Engineer 80-100% (m/w/d)   \n79         System Engineer Azure Cloud 80-100% (m/w/d)   \n82                        DevOps Engineer 100% (m/w/d)   \n86           Senior Frontend Developer (m/w/d) 80-100%   \n88                     System Engineer 80-100% (m/w/d)   \n92                   IT System Administrator 80 - 100%   \n96         Fullstack Software Engineer 80-100% (m/w/d)   \n101  Director (all genders), SAP Supply Chain Consu...   \n106                                      SAP Architect   \n107                             Office & Event Support   \n109                    Automatisierungstechniker (m/w)   \n\n                    company   contract_type  \\\n3                 gebana AG       Praktikum   \n10              JobCloud AG  Festanstellung   \n15                N:SYNC AG  Festanstellung   \n19      Trinnovo Group GmbH       Freelance   \n22      Trinnovo Group GmbH       Freelance   \n27             konekkt GmbH  Festanstellung   \n40             konekkt GmbH  Festanstellung   \n41             konekkt GmbH  Festanstellung   \n43             konekkt GmbH  Festanstellung   \n46             konekkt GmbH  Festanstellung   \n49             konekkt GmbH  Festanstellung   \n50             konekkt GmbH  Festanstellung   \n53             konekkt GmbH  Festanstellung   \n56             konekkt GmbH  Festanstellung   \n58             konekkt GmbH  Festanstellung   \n60             konekkt GmbH  Festanstellung   \n61             konekkt GmbH  Festanstellung   \n64             konekkt GmbH  Festanstellung   \n65             konekkt GmbH  Festanstellung   \n68             konekkt GmbH  Festanstellung   \n71             konekkt GmbH  Festanstellung   \n72             konekkt GmbH  Festanstellung   \n73             konekkt GmbH  Festanstellung   \n75             konekkt GmbH  Festanstellung   \n79             konekkt GmbH  Festanstellung   \n82             konekkt GmbH  Festanstellung   \n86             konekkt GmbH  Festanstellung   \n88             konekkt GmbH  Festanstellung   \n92             konekkt GmbH  Festanstellung   \n96             konekkt GmbH  Festanstellung   \n101          JOB SCHWEIZ AG  Festanstellung   \n106  TalentCloud Group GmbH  Festanstellung   \n107   ETH Zürich Foundation       Praktikum   \n109             yellowshark  Festanstellung   \n\n                                           description  min_workload  \\\n3    DEINE AUFGABEN IM KUND:INNENSERVICE – EINSATZ ...           100   \n10   At Jobcloud, we're not just a tech company, we...            80   \n15   Einführung Wir, die N:SYNC AG, zählen zu den f...           100   \n19   English      Start Date: ASAP  Contract Length...            80   \n22   English      Salesforce Developer   Start Date...            80   \n27   Unser Kunde bietet individuell angepasste ICT-...           100   \n40   Das Unternehmen, in dem du arbeiten wirst, ist...           100   \n41   Unser Partner verbindet Unternehmen, Technolog...           100   \n43   Unser Partner schafft eine Verbindung zwischen...           100   \n46   Die Vision unseres Partners ist es, Softwareen...           100   \n49   konekkt verbindet hochtalentierte IT-Fachkräft...           100   \n50   Vielseitige Position in innovativem Umfeld Uns...           100   \n53   Gestalte die digitale Zukunft in einem erstkla...           100   \n56   Das Unternehmen ist ein globales Informations-...           100   \n58   Gestalte die digitale Zukunft in einem innovat...            80   \n60   konekkt präsentiert ein innovatives Unternehme...            80   \n61   Unser Kunde ist ein dynamischer, innovativer u...           100   \n64   Bei unserem Partner, einem zukunftsorientierte...            80   \n65   Wir präsentieren Dir eine herausragende Gelege...            80   \n68   Das Unternehmen ist ein führender Dienstleiste...           100   \n71   Sicherstellung des reibungslosen IT-Betriebs m...           100   \n72   Unser Partner bietet dir die einzigartige Gele...           100   \n73   Unterstütze Kunden mit deiner Expertise! Unser...           100   \n75   Unser Partner ist einer der führenden IT-Lösun...           100   \n79   Gestalte die Cloud Journey unseres führenden F...           100   \n82   konekkt verbindet talentierte IT Fachkräfte mi...           100   \n86   Tritt einem etablierten IT-Unternehmen in der ...            80   \n88   Das Unternehmen ist ein führender Dienstleiste...           100   \n92   Unser Partner ist ein junges dynamisches Unter...           100   \n96   Unser Partner bietet dir die einzigartige Mögl...           100   \n101  Introduction  We are JOB SCHWEIZ AG, a recruit...            80   \n106  Are you a highly motivated SAP Architect looki...           100   \n107  Suchen Sie eine sinnstiftende Aufgabe in einem...            50   \n109  Für unseren Kunden, ein renommiertes Unternehm...           100   \n\n     max_workload  min_salary  max_salary  block1_min_salary_fewshot  \\\n3             100       28300       28300                    60000.0   \n10            100      104200      130800                    90000.0   \n15            100      110000      135000                   110000.0   \n19            100      240240      240240                    90000.0   \n22            100      251160      251160                    90000.0   \n27            100      100000      120000                    90000.0   \n40            100       85000      110000                    90000.0   \n41            100      105000      130000                    90000.0   \n43            100       85000      110000                    90000.0   \n46            100      115000      135000                    90000.0   \n49            100       95000      125000                    90000.0   \n50            100      110000      135000                    90000.0   \n53            100      105000      130000                    90000.0   \n56            100      105000      125000                    90000.0   \n58            100      110000      135000                    90000.0   \n60            100      100000      130000                    90000.0   \n61            100       95000      115000                    80000.0   \n64            100       95000      125000                    90000.0   \n65            100       70000       95000                    80000.0   \n68            100       90000      115000                    90000.0   \n71            100       90000      115000                    90000.0   \n72            100      105000      125000                    90000.0   \n73            100      105000      125000                    90000.0   \n75            100      105000      125000                    90000.0   \n79            100      105000      125000                    90000.0   \n82            100      100000      120000                    90000.0   \n86            100      105000      125000                   110000.0   \n88            100       95000      115000                    90000.0   \n92            100      100000      120000                    80000.0   \n96            100      110000      130000                    90000.0   \n101           100      200000      200000                        NaN   \n106           100      140000      180000                   120000.0   \n107            70       61152       61152                    60000.0   \n109           100       80000      120000                    70000.0   \n\n     block1_max_salary_fewshot  ...     block1_2_answer_fewshot  \\\n3                      80000.0  ...       (60'000 - 80'000) CHF   \n10                    110000.0  ...   (110000) und (130000) CHF   \n15                    130000.0  ...   (110000) und (130000) CHF   \n19                    110000.0  ...  (90'000) und (110'000) CHF   \n22                    110000.0  ...  (90'000) und (110'000) CHF   \n27                    110000.0  ...      90'000 und 110'000 CHF   \n40                    110000.0  ...      80'000 und 100'000 CHF   \n41                    110000.0  ...  (90'000) und (110'000) CHF   \n43                    110000.0  ...      80'000 und 100'000 CHF   \n46                    110000.0  ...      90'000 und 110'000 CHF   \n49                    110000.0  ...  (90'000) und (110'000) CHF   \n50                    110000.0  ...  (90'000) und (110'000) CHF   \n53                    110000.0  ...      90'000 und 110'000 CHF   \n56                    110000.0  ...      90'000 und 110'000 CHF   \n58                    110000.0  ...  (90'000) und (110'000) CHF   \n60                    110000.0  ...      90'000 und 110'000 CHF   \n61                    100000.0  ...      80'000 und 100'000 CHF   \n64                    110000.0  ...  (90'000) und (110'000) CHF   \n65                    100000.0  ...      80'000 und 100'000 CHF   \n68                    110000.0  ...  (90'000) und (110'000) CHF   \n71                    110000.0  ...      80'000 und 100'000 CHF   \n72                    110000.0  ...      90'000 und 110'000 CHF   \n73                    110000.0  ...      80'000 und 100'000 CHF   \n75                    110000.0  ...  (90'000) und (110'000) CHF   \n79                    110000.0  ...  (90'000) und (110'000) CHF   \n82                    110000.0  ...      90'000 und 110'000 CHF   \n86                    130000.0  ...       110000 und 130000 CHF   \n88                    110000.0  ...  (90'000) und (110'000) CHF   \n92                    100000.0  ...   (70'000) und (90'000) CHF   \n96                    110000.0  ...      90'000 und 110'000 CHF   \n101                        NaN  ...   (110000) und (130000) CHF   \n106                   140000.0  ...  (90'000) und (110'000) CHF   \n107                    80000.0  ...     (60000) und (80000) CHF   \n109                    90000.0  ...  (80'000) und (100'000) CHF   \n\n     block1_2_3_min_salary_fewshot  block1_2_3_max_salary_fewshot  \\\n3                              NaN                            NaN   \n10                        110000.0                       130000.0   \n15                        110000.0                       130000.0   \n19                         90000.0                       110000.0   \n22                         90000.0                       110000.0   \n27                         90000.0                       110000.0   \n40                         90000.0                       110000.0   \n41                         90000.0                       110000.0   \n43                         90000.0                       110000.0   \n46                         90000.0                       110000.0   \n49                         90000.0                       110000.0   \n50                         90000.0                       110000.0   \n53                         90000.0                       110000.0   \n56                         90000.0                       110000.0   \n58                         90000.0                       110000.0   \n60                         90000.0                       110000.0   \n61                         80000.0                       100000.0   \n64                         90000.0                       110000.0   \n65                         70000.0                        90000.0   \n68                         80000.0                       100000.0   \n71                         80000.0                       100000.0   \n72                         90000.0                       110000.0   \n73                         80000.0                       100000.0   \n75                         80000.0                       100000.0   \n79                         90000.0                       110000.0   \n82                         90000.0                       110000.0   \n86                         90000.0                       110000.0   \n88                         80000.0                       100000.0   \n92                         80000.0                       100000.0   \n96                         90000.0                       110000.0   \n101                       110000.0                       130000.0   \n106                       110000.0                       130000.0   \n107                        60000.0                        80000.0   \n109                        70000.0                        90000.0   \n\n      block1_2_3_answer_fewshot  block1_2_3_4_min_salary_fewshot  \\\n3           45000 und 65000 CHF                              NaN   \n10    (110000) und (130000) CHF                         110000.0   \n15    (110000) und (130000) CHF                         120000.0   \n19   (90'000) und (110'000) CHF                          90000.0   \n22   (90'000) und (110'000) CHF                          90000.0   \n27       90'000 und 110'000 CHF                              NaN   \n40       90'000 und 110'000 CHF                              NaN   \n41       90'000 und 110'000 CHF                              NaN   \n43       90'000 und 110'000 CHF                              NaN   \n46       90'000 und 110'000 CHF                              NaN   \n49   (90'000) und (110'000) CHF                              NaN   \n50   (90'000) und (110'000) CHF                              NaN   \n53       90'000 und 110'000 CHF                              NaN   \n56       90'000 und 110'000 CHF                          90000.0   \n58   (90'000) und (110'000) CHF                              NaN   \n60       90'000 und 110'000 CHF                              NaN   \n61       80'000 und 100'000 CHF                              NaN   \n64   (90'000) und (110'000) CHF                              NaN   \n65    (70'000) und (90'000) CHF                              NaN   \n68       80'000 und 100'000 CHF                              NaN   \n71       80'000 und 100'000 CHF                              NaN   \n72       90'000 und 110'000 CHF                              NaN   \n73       80'000 und 100'000 CHF                          90000.0   \n75       80'000 und 100'000 CHF                              NaN   \n79   (90'000) und (110'000) CHF                              NaN   \n82       90'000 und 110'000 CHF                              NaN   \n86       90'000 und 110'000 CHF                              NaN   \n88       80'000 und 100'000 CHF                              NaN   \n92   (80'000) und (100'000) CHF                              NaN   \n96       90'000 und 110'000 CHF                              NaN   \n101   (110000) und (130000) CHF                         120000.0   \n106   (110000) und (130000) CHF                              NaN   \n107     (60000) und (80000) CHF                          40000.0   \n109     (70000) und (90000) CHF                              NaN   \n\n     block1_2_3_4_max_salary_fewshot  \\\n3                                NaN   \n10                          130000.0   \n15                          140000.0   \n19                          110000.0   \n22                          110000.0   \n27                               NaN   \n40                               NaN   \n41                               NaN   \n43                               NaN   \n46                               NaN   \n49                               NaN   \n50                               NaN   \n53                               NaN   \n56                          110000.0   \n58                               NaN   \n60                               NaN   \n61                               NaN   \n64                               NaN   \n65                               NaN   \n68                               NaN   \n71                               NaN   \n72                               NaN   \n73                          110000.0   \n75                               NaN   \n79                               NaN   \n82                               NaN   \n86                               NaN   \n88                               NaN   \n92                               NaN   \n96                               NaN   \n101                         140000.0   \n106                              NaN   \n107                          60000.0   \n109                              NaN   \n\n                           block1_2_3_4_answer_fewshot  \\\n3    Ich kenne das genaue Gehalt nicht, daher schät...   \n10   Das Gehalt für die Position Senior Software En...   \n15   Das Gehalt für die Position (Senior) Solution ...   \n19   Das Gehalt für die Position ServiceNow Develop...   \n22   Das Gehalt für die Position Salesforce Develop...   \n27   I don't have the exact salary for this positio...   \n40   I don't have the exact salary for this positio...   \n41   I don't have the exact salary for this positio...   \n43   I don't have the exact salary for this positio...   \n46   I don't have the exact salary for this positio...   \n49   I don't have the exact salary for this positio...   \n50   Ich kann leider kein exaktes Gehalt für die Po...   \n53   I don't have the exact salary for this positio...   \n56   I don't have the exact salary for this positio...   \n58                         Ist leider nicht vorhanden.   \n60   I don't have the exact salary for this positio...   \n61   I don't have the exact salary for this positio...   \n64   I don't have the exact salary for this positio...   \n65   I don't have the exact salary for this positio...   \n68   I don't have the exact salary for this positio...   \n71   I don't have the exact salary for this positio...   \n72   I don't have the exact salary for this positio...   \n73   Leider habe ich keine spezifische Gehaltsangab...   \n75   I don't have the exact salary for this positio...   \n79   I don't have the exact salary for this positio...   \n82   I don't have the exact salary for this positio...   \n86   I don't have the exact salary for this positio...   \n88   I don't have the exact salary for this positio...   \n92   I don't have the exact salary for this positio...   \n96   I don't have the exact salary for the position...   \n101  Das Gehalt für die Position Director (all gend...   \n106                                         120000 CHF   \n107  I don't have the exact salary for this positio...   \n109  I don't have the exact salary for this positio...   \n\n     block1_2_3_4_5_min_salary_fewshot  block1_2_3_4_5_max_salary_fewshot  \\\n3                                  NaN                                NaN   \n10                                 NaN                                NaN   \n15                                 NaN                                NaN   \n19                                 NaN                                NaN   \n22                                 NaN                                NaN   \n27                             90000.0                           110000.0   \n40                             80000.0                           100000.0   \n41                             90000.0                           110000.0   \n43                             80000.0                           100000.0   \n46                             90000.0                           110000.0   \n49                             90000.0                           110000.0   \n50                             90000.0                           110000.0   \n53                             90000.0                           110000.0   \n56                                 NaN                                NaN   \n58                             90000.0                           110000.0   \n60                             90000.0                           110000.0   \n61                             70000.0                            90000.0   \n64                             90000.0                           110000.0   \n65                             80000.0                           100000.0   \n68                             90000.0                           110000.0   \n71                             80000.0                           100000.0   \n72                             90000.0                           110000.0   \n73                                 NaN                                NaN   \n75                             80000.0                           100000.0   \n79                             90000.0                           110000.0   \n82                             90000.0                           110000.0   \n86                             90000.0                           110000.0   \n88                             80000.0                           100000.0   \n92                             70000.0                            90000.0   \n96                             90000.0                           110000.0   \n101                                NaN                                NaN   \n106                                NaN                                NaN   \n107                                NaN                                NaN   \n109                            80000.0                           100000.0   \n\n                         block1_2_3_4_5_answer_fewshot  \n3                                             2177 CHF  \n10                                 104200 - 130800 CHF  \n15   Das Gehalt beträgt zwischen 120000 und 140000 ...  \n19              Das Gehalt beträgt 110 CHF pro Stunde.  \n22              Das Gehalt beträgt 120 CHF pro Stunde.  \n27   Das Gehalt beträgt zwischen 90'000 und 110'000...  \n40                                80'000 - 100'000 CHF  \n41   Das Gehalt beträgt zwischen 90'000 und 110'000...  \n43                                80'000 - 100'000 CHF  \n46                                90'000 - 110'000 CHF  \n49                                90'000 - 110'000 CHF  \n50   Das Gehalt beträgt zwischen 90'000 und 110'000...  \n53                                90'000 - 110'000 CHF  \n56                                (90000 - 110000) CHF  \n58   Das Gehalt beträgt zwischen 90'000 und 110'000...  \n60   Das Gehalt beträgt zwischen 90'000 und 110'000...  \n61   Das Gehalt beträgt zwischen 70'000 und 90'000 ...  \n64   Das Gehalt beträgt zwischen 90'000 und 110'000...  \n65                                80'000 - 100'000 CHF  \n68   Das Gehalt beträgt zwischen 90'000 und 110'000...  \n71                                80'000 - 100'000 CHF  \n72                                90'000 - 110'000 CHF  \n73   Das Gehalt beträgt zwischen 84000 und 102000 CHF.  \n75                                80'000 - 100'000 CHF  \n79                                90'000 - 110'000 CHF  \n82   Das Gehalt beträgt zwischen 90'000 und 110'000...  \n86   Das Gehalt beträgt zwischen 90'000 und 110'000...  \n88                                80'000 - 100'000 CHF  \n92   Das Gehalt beträgt zwischen 70'000 und 90'000 ...  \n96                                90'000 - 110'000 CHF  \n101  Das Gehalt beträgt zwischen 120000 und 140000 ...  \n106                                120000 - 140000 CHF  \n107         Das Gehalt beträgt etwa 45000 - 65000 CHF.  \n109                               80'000 - 100'000 CHF  \n\n[34 rows x 23 columns]",
      "text/html": "<div>\n<style scoped>\n    .dataframe tbody tr th:only-of-type {\n        vertical-align: middle;\n    }\n\n    .dataframe tbody tr th {\n        vertical-align: top;\n    }\n\n    .dataframe thead th {\n        text-align: right;\n    }\n</style>\n<table border=\"1\" class=\"dataframe\">\n  <thead>\n    <tr style=\"text-align: right;\">\n      <th></th>\n      <th>title</th>\n      <th>company</th>\n      <th>contract_type</th>\n      <th>description</th>\n      <th>min_workload</th>\n      <th>max_workload</th>\n      <th>min_salary</th>\n      <th>max_salary</th>\n      <th>block1_min_salary_fewshot</th>\n      <th>block1_max_salary_fewshot</th>\n      <th>...</th>\n      <th>block1_2_answer_fewshot</th>\n      <th>block1_2_3_min_salary_fewshot</th>\n      <th>block1_2_3_max_salary_fewshot</th>\n      <th>block1_2_3_answer_fewshot</th>\n      <th>block1_2_3_4_min_salary_fewshot</th>\n      <th>block1_2_3_4_max_salary_fewshot</th>\n      <th>block1_2_3_4_answer_fewshot</th>\n      <th>block1_2_3_4_5_min_salary_fewshot</th>\n      <th>block1_2_3_4_5_max_salary_fewshot</th>\n      <th>block1_2_3_4_5_answer_fewshot</th>\n    </tr>\n  </thead>\n  <tbody>\n    <tr>\n      <th>3</th>\n      <td>KAUFMÄNNISCHES PRAKTIKUM (100%) - MIT FOKUS KU...</td>\n      <td>gebana AG</td>\n      <td>Praktikum</td>\n      <td>DEINE AUFGABEN IM KUND:INNENSERVICE – EINSATZ ...</td>\n      <td>100</td>\n      <td>100</td>\n      <td>28300</td>\n      <td>28300</td>\n      <td>60000.0</td>\n      <td>80000.0</td>\n      <td>...</td>\n      <td>(60'000 - 80'000) CHF</td>\n      <td>NaN</td>\n      <td>NaN</td>\n      <td>45000 und 65000 CHF</td>\n      <td>NaN</td>\n      <td>NaN</td>\n      <td>Ich kenne das genaue Gehalt nicht, daher schät...</td>\n      <td>NaN</td>\n      <td>NaN</td>\n      <td>2177 CHF</td>\n    </tr>\n    <tr>\n      <th>10</th>\n      <td>Senior Software Engineer (80% - 100%)</td>\n      <td>JobCloud AG</td>\n      <td>Festanstellung</td>\n      <td>At Jobcloud, we're not just a tech company, we...</td>\n      <td>80</td>\n      <td>100</td>\n      <td>104200</td>\n      <td>130800</td>\n      <td>90000.0</td>\n      <td>110000.0</td>\n      <td>...</td>\n      <td>(110000) und (130000) CHF</td>\n      <td>110000.0</td>\n      <td>130000.0</td>\n      <td>(110000) und (130000) CHF</td>\n      <td>110000.0</td>\n      <td>130000.0</td>\n      <td>Das Gehalt für die Position Senior Software En...</td>\n      <td>NaN</td>\n      <td>NaN</td>\n      <td>104200 - 130800 CHF</td>\n    </tr>\n    <tr>\n      <th>15</th>\n      <td>(Senior) Solution Architect .NET</td>\n      <td>N:SYNC AG</td>\n      <td>Festanstellung</td>\n      <td>Einführung Wir, die N:SYNC AG, zählen zu den f...</td>\n      <td>100</td>\n      <td>100</td>\n      <td>110000</td>\n      <td>135000</td>\n      <td>110000.0</td>\n      <td>130000.0</td>\n      <td>...</td>\n      <td>(110000) und (130000) CHF</td>\n      <td>110000.0</td>\n      <td>130000.0</td>\n      <td>(110000) und (130000) CHF</td>\n      <td>120000.0</td>\n      <td>140000.0</td>\n      <td>Das Gehalt für die Position (Senior) Solution ...</td>\n      <td>NaN</td>\n      <td>NaN</td>\n      <td>Das Gehalt beträgt zwischen 120000 und 140000 ...</td>\n    </tr>\n    <tr>\n      <th>19</th>\n      <td>ServiceNow Developer</td>\n      <td>Trinnovo Group GmbH</td>\n      <td>Freelance</td>\n      <td>English      Start Date: ASAP  Contract Length...</td>\n      <td>80</td>\n      <td>100</td>\n      <td>240240</td>\n      <td>240240</td>\n      <td>90000.0</td>\n      <td>110000.0</td>\n      <td>...</td>\n      <td>(90'000) und (110'000) CHF</td>\n      <td>90000.0</td>\n      <td>110000.0</td>\n      <td>(90'000) und (110'000) CHF</td>\n      <td>90000.0</td>\n      <td>110000.0</td>\n      <td>Das Gehalt für die Position ServiceNow Develop...</td>\n      <td>NaN</td>\n      <td>NaN</td>\n      <td>Das Gehalt beträgt 110 CHF pro Stunde.</td>\n    </tr>\n    <tr>\n      <th>22</th>\n      <td>Salesforce Developer</td>\n      <td>Trinnovo Group GmbH</td>\n      <td>Freelance</td>\n      <td>English      Salesforce Developer   Start Date...</td>\n      <td>80</td>\n      <td>100</td>\n      <td>251160</td>\n      <td>251160</td>\n      <td>90000.0</td>\n      <td>110000.0</td>\n      <td>...</td>\n      <td>(90'000) und (110'000) CHF</td>\n      <td>90000.0</td>\n      <td>110000.0</td>\n      <td>(90'000) und (110'000) CHF</td>\n      <td>90000.0</td>\n      <td>110000.0</td>\n      <td>Das Gehalt für die Position Salesforce Develop...</td>\n      <td>NaN</td>\n      <td>NaN</td>\n      <td>Das Gehalt beträgt 120 CHF pro Stunde.</td>\n    </tr>\n    <tr>\n      <th>27</th>\n      <td>Senior Network Engineer 80-100% (m/w/d)</td>\n      <td>konekkt GmbH</td>\n      <td>Festanstellung</td>\n      <td>Unser Kunde bietet individuell angepasste ICT-...</td>\n      <td>100</td>\n      <td>100</td>\n      <td>100000</td>\n      <td>120000</td>\n      <td>90000.0</td>\n      <td>110000.0</td>\n      <td>...</td>\n      <td>90'000 und 110'000 CHF</td>\n      <td>90000.0</td>\n      <td>110000.0</td>\n      <td>90'000 und 110'000 CHF</td>\n      <td>NaN</td>\n      <td>NaN</td>\n      <td>I don't have the exact salary for this positio...</td>\n      <td>90000.0</td>\n      <td>110000.0</td>\n      <td>Das Gehalt beträgt zwischen 90'000 und 110'000...</td>\n    </tr>\n    <tr>\n      <th>40</th>\n      <td>IT Application Engineer 80-100% (m/w/d)</td>\n      <td>konekkt GmbH</td>\n      <td>Festanstellung</td>\n      <td>Das Unternehmen, in dem du arbeiten wirst, ist...</td>\n      <td>100</td>\n      <td>100</td>\n      <td>85000</td>\n      <td>110000</td>\n      <td>90000.0</td>\n      <td>110000.0</td>\n      <td>...</td>\n      <td>80'000 und 100'000 CHF</td>\n      <td>90000.0</td>\n      <td>110000.0</td>\n      <td>90'000 und 110'000 CHF</td>\n      <td>NaN</td>\n      <td>NaN</td>\n      <td>I don't have the exact salary for this positio...</td>\n      <td>80000.0</td>\n      <td>100000.0</td>\n      <td>80'000 - 100'000 CHF</td>\n    </tr>\n    <tr>\n      <th>41</th>\n      <td>Security Engineer 80-100% (m/w/d)</td>\n      <td>konekkt GmbH</td>\n      <td>Festanstellung</td>\n      <td>Unser Partner verbindet Unternehmen, Technolog...</td>\n      <td>100</td>\n      <td>100</td>\n      <td>105000</td>\n      <td>130000</td>\n      <td>90000.0</td>\n      <td>110000.0</td>\n      <td>...</td>\n      <td>(90'000) und (110'000) CHF</td>\n      <td>90000.0</td>\n      <td>110000.0</td>\n      <td>90'000 und 110'000 CHF</td>\n      <td>NaN</td>\n      <td>NaN</td>\n      <td>I don't have the exact salary for this positio...</td>\n      <td>90000.0</td>\n      <td>110000.0</td>\n      <td>Das Gehalt beträgt zwischen 90'000 und 110'000...</td>\n    </tr>\n    <tr>\n      <th>43</th>\n      <td>IT Application Engineer 80-100% (m/w/d)</td>\n      <td>konekkt GmbH</td>\n      <td>Festanstellung</td>\n      <td>Unser Partner schafft eine Verbindung zwischen...</td>\n      <td>100</td>\n      <td>100</td>\n      <td>85000</td>\n      <td>110000</td>\n      <td>90000.0</td>\n      <td>110000.0</td>\n      <td>...</td>\n      <td>80'000 und 100'000 CHF</td>\n      <td>90000.0</td>\n      <td>110000.0</td>\n      <td>90'000 und 110'000 CHF</td>\n      <td>NaN</td>\n      <td>NaN</td>\n      <td>I don't have the exact salary for this positio...</td>\n      <td>80000.0</td>\n      <td>100000.0</td>\n      <td>80'000 - 100'000 CHF</td>\n    </tr>\n    <tr>\n      <th>46</th>\n      <td>DevOps Engineer 80-100% (m/w/d)</td>\n      <td>konekkt GmbH</td>\n      <td>Festanstellung</td>\n      <td>Die Vision unseres Partners ist es, Softwareen...</td>\n      <td>100</td>\n      <td>100</td>\n      <td>115000</td>\n      <td>135000</td>\n      <td>90000.0</td>\n      <td>110000.0</td>\n      <td>...</td>\n      <td>90'000 und 110'000 CHF</td>\n      <td>90000.0</td>\n      <td>110000.0</td>\n      <td>90'000 und 110'000 CHF</td>\n      <td>NaN</td>\n      <td>NaN</td>\n      <td>I don't have the exact salary for this positio...</td>\n      <td>90000.0</td>\n      <td>110000.0</td>\n      <td>90'000 - 110'000 CHF</td>\n    </tr>\n    <tr>\n      <th>49</th>\n      <td>C# / .NET Senior Software Developer</td>\n      <td>konekkt GmbH</td>\n      <td>Festanstellung</td>\n      <td>konekkt verbindet hochtalentierte IT-Fachkräft...</td>\n      <td>100</td>\n      <td>100</td>\n      <td>95000</td>\n      <td>125000</td>\n      <td>90000.0</td>\n      <td>110000.0</td>\n      <td>...</td>\n      <td>(90'000) und (110'000) CHF</td>\n      <td>90000.0</td>\n      <td>110000.0</td>\n      <td>(90'000) und (110'000) CHF</td>\n      <td>NaN</td>\n      <td>NaN</td>\n      <td>I don't have the exact salary for this positio...</td>\n      <td>90000.0</td>\n      <td>110000.0</td>\n      <td>90'000 - 110'000 CHF</td>\n    </tr>\n    <tr>\n      <th>50</th>\n      <td>(Senior) Software Engineer als Consultant 80-1...</td>\n      <td>konekkt GmbH</td>\n      <td>Festanstellung</td>\n      <td>Vielseitige Position in innovativem Umfeld Uns...</td>\n      <td>100</td>\n      <td>100</td>\n      <td>110000</td>\n      <td>135000</td>\n      <td>90000.0</td>\n      <td>110000.0</td>\n      <td>...</td>\n      <td>(90'000) und (110'000) CHF</td>\n      <td>90000.0</td>\n      <td>110000.0</td>\n      <td>(90'000) und (110'000) CHF</td>\n      <td>NaN</td>\n      <td>NaN</td>\n      <td>Ich kann leider kein exaktes Gehalt für die Po...</td>\n      <td>90000.0</td>\n      <td>110000.0</td>\n      <td>Das Gehalt beträgt zwischen 90'000 und 110'000...</td>\n    </tr>\n    <tr>\n      <th>53</th>\n      <td>C#.NET Software Developer 80-100% (m/w/d)</td>\n      <td>konekkt GmbH</td>\n      <td>Festanstellung</td>\n      <td>Gestalte die digitale Zukunft in einem erstkla...</td>\n      <td>100</td>\n      <td>100</td>\n      <td>105000</td>\n      <td>130000</td>\n      <td>90000.0</td>\n      <td>110000.0</td>\n      <td>...</td>\n      <td>90'000 und 110'000 CHF</td>\n      <td>90000.0</td>\n      <td>110000.0</td>\n      <td>90'000 und 110'000 CHF</td>\n      <td>NaN</td>\n      <td>NaN</td>\n      <td>I don't have the exact salary for this positio...</td>\n      <td>90000.0</td>\n      <td>110000.0</td>\n      <td>90'000 - 110'000 CHF</td>\n    </tr>\n    <tr>\n      <th>56</th>\n      <td>C#/.NET Developer 80-100% (m/w/d)</td>\n      <td>konekkt GmbH</td>\n      <td>Festanstellung</td>\n      <td>Das Unternehmen ist ein globales Informations-...</td>\n      <td>100</td>\n      <td>100</td>\n      <td>105000</td>\n      <td>125000</td>\n      <td>90000.0</td>\n      <td>110000.0</td>\n      <td>...</td>\n      <td>90'000 und 110'000 CHF</td>\n      <td>90000.0</td>\n      <td>110000.0</td>\n      <td>90'000 und 110'000 CHF</td>\n      <td>90000.0</td>\n      <td>110000.0</td>\n      <td>I don't have the exact salary for this positio...</td>\n      <td>NaN</td>\n      <td>NaN</td>\n      <td>(90000 - 110000) CHF</td>\n    </tr>\n    <tr>\n      <th>58</th>\n      <td>Software Engineer Java 80-100% (m/w/d) mit Pot...</td>\n      <td>konekkt GmbH</td>\n      <td>Festanstellung</td>\n      <td>Gestalte die digitale Zukunft in einem innovat...</td>\n      <td>80</td>\n      <td>100</td>\n      <td>110000</td>\n      <td>135000</td>\n      <td>90000.0</td>\n      <td>110000.0</td>\n      <td>...</td>\n      <td>(90'000) und (110'000) CHF</td>\n      <td>90000.0</td>\n      <td>110000.0</td>\n      <td>(90'000) und (110'000) CHF</td>\n      <td>NaN</td>\n      <td>NaN</td>\n      <td>Ist leider nicht vorhanden.</td>\n      <td>90000.0</td>\n      <td>110000.0</td>\n      <td>Das Gehalt beträgt zwischen 90'000 und 110'000...</td>\n    </tr>\n    <tr>\n      <th>60</th>\n      <td>System Engineer Microsoft 80-100% (m/w/d)</td>\n      <td>konekkt GmbH</td>\n      <td>Festanstellung</td>\n      <td>konekkt präsentiert ein innovatives Unternehme...</td>\n      <td>80</td>\n      <td>100</td>\n      <td>100000</td>\n      <td>130000</td>\n      <td>90000.0</td>\n      <td>110000.0</td>\n      <td>...</td>\n      <td>90'000 und 110'000 CHF</td>\n      <td>90000.0</td>\n      <td>110000.0</td>\n      <td>90'000 und 110'000 CHF</td>\n      <td>NaN</td>\n      <td>NaN</td>\n      <td>I don't have the exact salary for this positio...</td>\n      <td>90000.0</td>\n      <td>110000.0</td>\n      <td>Das Gehalt beträgt zwischen 90'000 und 110'000...</td>\n    </tr>\n    <tr>\n      <th>61</th>\n      <td>ICT System Administrator 80-100 % (m/w/d)</td>\n      <td>konekkt GmbH</td>\n      <td>Festanstellung</td>\n      <td>Unser Kunde ist ein dynamischer, innovativer u...</td>\n      <td>100</td>\n      <td>100</td>\n      <td>95000</td>\n      <td>115000</td>\n      <td>80000.0</td>\n      <td>100000.0</td>\n      <td>...</td>\n      <td>80'000 und 100'000 CHF</td>\n      <td>80000.0</td>\n      <td>100000.0</td>\n      <td>80'000 und 100'000 CHF</td>\n      <td>NaN</td>\n      <td>NaN</td>\n      <td>I don't have the exact salary for this positio...</td>\n      <td>70000.0</td>\n      <td>90000.0</td>\n      <td>Das Gehalt beträgt zwischen 70'000 und 90'000 ...</td>\n    </tr>\n    <tr>\n      <th>64</th>\n      <td>System Engineer (PowerShell) – Scripting Maste...</td>\n      <td>konekkt GmbH</td>\n      <td>Festanstellung</td>\n      <td>Bei unserem Partner, einem zukunftsorientierte...</td>\n      <td>80</td>\n      <td>100</td>\n      <td>95000</td>\n      <td>125000</td>\n      <td>90000.0</td>\n      <td>110000.0</td>\n      <td>...</td>\n      <td>(90'000) und (110'000) CHF</td>\n      <td>90000.0</td>\n      <td>110000.0</td>\n      <td>(90'000) und (110'000) CHF</td>\n      <td>NaN</td>\n      <td>NaN</td>\n      <td>I don't have the exact salary for this positio...</td>\n      <td>90000.0</td>\n      <td>110000.0</td>\n      <td>Das Gehalt beträgt zwischen 90'000 und 110'000...</td>\n    </tr>\n    <tr>\n      <th>65</th>\n      <td>IT Support Engineer – Lösungsfinder im Tech-Um...</td>\n      <td>konekkt GmbH</td>\n      <td>Festanstellung</td>\n      <td>Wir präsentieren Dir eine herausragende Gelege...</td>\n      <td>80</td>\n      <td>100</td>\n      <td>70000</td>\n      <td>95000</td>\n      <td>80000.0</td>\n      <td>100000.0</td>\n      <td>...</td>\n      <td>80'000 und 100'000 CHF</td>\n      <td>70000.0</td>\n      <td>90000.0</td>\n      <td>(70'000) und (90'000) CHF</td>\n      <td>NaN</td>\n      <td>NaN</td>\n      <td>I don't have the exact salary for this positio...</td>\n      <td>80000.0</td>\n      <td>100000.0</td>\n      <td>80'000 - 100'000 CHF</td>\n    </tr>\n    <tr>\n      <th>68</th>\n      <td>System Engineer 80-100% (m/w/d)</td>\n      <td>konekkt GmbH</td>\n      <td>Festanstellung</td>\n      <td>Das Unternehmen ist ein führender Dienstleiste...</td>\n      <td>100</td>\n      <td>100</td>\n      <td>90000</td>\n      <td>115000</td>\n      <td>90000.0</td>\n      <td>110000.0</td>\n      <td>...</td>\n      <td>(90'000) und (110'000) CHF</td>\n      <td>80000.0</td>\n      <td>100000.0</td>\n      <td>80'000 und 100'000 CHF</td>\n      <td>NaN</td>\n      <td>NaN</td>\n      <td>I don't have the exact salary for this positio...</td>\n      <td>90000.0</td>\n      <td>110000.0</td>\n      <td>Das Gehalt beträgt zwischen 90'000 und 110'000...</td>\n    </tr>\n    <tr>\n      <th>71</th>\n      <td>Cloud System Administrator 80-100% (m/w/d)</td>\n      <td>konekkt GmbH</td>\n      <td>Festanstellung</td>\n      <td>Sicherstellung des reibungslosen IT-Betriebs m...</td>\n      <td>100</td>\n      <td>100</td>\n      <td>90000</td>\n      <td>115000</td>\n      <td>90000.0</td>\n      <td>110000.0</td>\n      <td>...</td>\n      <td>80'000 und 100'000 CHF</td>\n      <td>80000.0</td>\n      <td>100000.0</td>\n      <td>80'000 und 100'000 CHF</td>\n      <td>NaN</td>\n      <td>NaN</td>\n      <td>I don't have the exact salary for this positio...</td>\n      <td>80000.0</td>\n      <td>100000.0</td>\n      <td>80'000 - 100'000 CHF</td>\n    </tr>\n    <tr>\n      <th>72</th>\n      <td>Java Fullstack Software Engineer 80-100% (m/w/d)</td>\n      <td>konekkt GmbH</td>\n      <td>Festanstellung</td>\n      <td>Unser Partner bietet dir die einzigartige Gele...</td>\n      <td>100</td>\n      <td>100</td>\n      <td>105000</td>\n      <td>125000</td>\n      <td>90000.0</td>\n      <td>110000.0</td>\n      <td>...</td>\n      <td>90'000 und 110'000 CHF</td>\n      <td>90000.0</td>\n      <td>110000.0</td>\n      <td>90'000 und 110'000 CHF</td>\n      <td>NaN</td>\n      <td>NaN</td>\n      <td>I don't have the exact salary for this positio...</td>\n      <td>90000.0</td>\n      <td>110000.0</td>\n      <td>90'000 - 110'000 CHF</td>\n    </tr>\n    <tr>\n      <th>73</th>\n      <td>IT Consultant 80-100% (m/w/d)</td>\n      <td>konekkt GmbH</td>\n      <td>Festanstellung</td>\n      <td>Unterstütze Kunden mit deiner Expertise! Unser...</td>\n      <td>100</td>\n      <td>100</td>\n      <td>105000</td>\n      <td>125000</td>\n      <td>90000.0</td>\n      <td>110000.0</td>\n      <td>...</td>\n      <td>80'000 und 100'000 CHF</td>\n      <td>80000.0</td>\n      <td>100000.0</td>\n      <td>80'000 und 100'000 CHF</td>\n      <td>90000.0</td>\n      <td>110000.0</td>\n      <td>Leider habe ich keine spezifische Gehaltsangab...</td>\n      <td>NaN</td>\n      <td>NaN</td>\n      <td>Das Gehalt beträgt zwischen 84000 und 102000 CHF.</td>\n    </tr>\n    <tr>\n      <th>75</th>\n      <td>System Engineer 80-100% (m/w/d)</td>\n      <td>konekkt GmbH</td>\n      <td>Festanstellung</td>\n      <td>Unser Partner ist einer der führenden IT-Lösun...</td>\n      <td>100</td>\n      <td>100</td>\n      <td>105000</td>\n      <td>125000</td>\n      <td>90000.0</td>\n      <td>110000.0</td>\n      <td>...</td>\n      <td>(90'000) und (110'000) CHF</td>\n      <td>80000.0</td>\n      <td>100000.0</td>\n      <td>80'000 und 100'000 CHF</td>\n      <td>NaN</td>\n      <td>NaN</td>\n      <td>I don't have the exact salary for this positio...</td>\n      <td>80000.0</td>\n      <td>100000.0</td>\n      <td>80'000 - 100'000 CHF</td>\n    </tr>\n    <tr>\n      <th>79</th>\n      <td>System Engineer Azure Cloud 80-100% (m/w/d)</td>\n      <td>konekkt GmbH</td>\n      <td>Festanstellung</td>\n      <td>Gestalte die Cloud Journey unseres führenden F...</td>\n      <td>100</td>\n      <td>100</td>\n      <td>105000</td>\n      <td>125000</td>\n      <td>90000.0</td>\n      <td>110000.0</td>\n      <td>...</td>\n      <td>(90'000) und (110'000) CHF</td>\n      <td>90000.0</td>\n      <td>110000.0</td>\n      <td>(90'000) und (110'000) CHF</td>\n      <td>NaN</td>\n      <td>NaN</td>\n      <td>I don't have the exact salary for this positio...</td>\n      <td>90000.0</td>\n      <td>110000.0</td>\n      <td>90'000 - 110'000 CHF</td>\n    </tr>\n    <tr>\n      <th>82</th>\n      <td>DevOps Engineer 100% (m/w/d)</td>\n      <td>konekkt GmbH</td>\n      <td>Festanstellung</td>\n      <td>konekkt verbindet talentierte IT Fachkräfte mi...</td>\n      <td>100</td>\n      <td>100</td>\n      <td>100000</td>\n      <td>120000</td>\n      <td>90000.0</td>\n      <td>110000.0</td>\n      <td>...</td>\n      <td>90'000 und 110'000 CHF</td>\n      <td>90000.0</td>\n      <td>110000.0</td>\n      <td>90'000 und 110'000 CHF</td>\n      <td>NaN</td>\n      <td>NaN</td>\n      <td>I don't have the exact salary for this positio...</td>\n      <td>90000.0</td>\n      <td>110000.0</td>\n      <td>Das Gehalt beträgt zwischen 90'000 und 110'000...</td>\n    </tr>\n    <tr>\n      <th>86</th>\n      <td>Senior Frontend Developer (m/w/d) 80-100%</td>\n      <td>konekkt GmbH</td>\n      <td>Festanstellung</td>\n      <td>Tritt einem etablierten IT-Unternehmen in der ...</td>\n      <td>80</td>\n      <td>100</td>\n      <td>105000</td>\n      <td>125000</td>\n      <td>110000.0</td>\n      <td>130000.0</td>\n      <td>...</td>\n      <td>110000 und 130000 CHF</td>\n      <td>90000.0</td>\n      <td>110000.0</td>\n      <td>90'000 und 110'000 CHF</td>\n      <td>NaN</td>\n      <td>NaN</td>\n      <td>I don't have the exact salary for this positio...</td>\n      <td>90000.0</td>\n      <td>110000.0</td>\n      <td>Das Gehalt beträgt zwischen 90'000 und 110'000...</td>\n    </tr>\n    <tr>\n      <th>88</th>\n      <td>System Engineer 80-100% (m/w/d)</td>\n      <td>konekkt GmbH</td>\n      <td>Festanstellung</td>\n      <td>Das Unternehmen ist ein führender Dienstleiste...</td>\n      <td>100</td>\n      <td>100</td>\n      <td>95000</td>\n      <td>115000</td>\n      <td>90000.0</td>\n      <td>110000.0</td>\n      <td>...</td>\n      <td>(90'000) und (110'000) CHF</td>\n      <td>80000.0</td>\n      <td>100000.0</td>\n      <td>80'000 und 100'000 CHF</td>\n      <td>NaN</td>\n      <td>NaN</td>\n      <td>I don't have the exact salary for this positio...</td>\n      <td>80000.0</td>\n      <td>100000.0</td>\n      <td>80'000 - 100'000 CHF</td>\n    </tr>\n    <tr>\n      <th>92</th>\n      <td>IT System Administrator 80 - 100%</td>\n      <td>konekkt GmbH</td>\n      <td>Festanstellung</td>\n      <td>Unser Partner ist ein junges dynamisches Unter...</td>\n      <td>100</td>\n      <td>100</td>\n      <td>100000</td>\n      <td>120000</td>\n      <td>80000.0</td>\n      <td>100000.0</td>\n      <td>...</td>\n      <td>(70'000) und (90'000) CHF</td>\n      <td>80000.0</td>\n      <td>100000.0</td>\n      <td>(80'000) und (100'000) CHF</td>\n      <td>NaN</td>\n      <td>NaN</td>\n      <td>I don't have the exact salary for this positio...</td>\n      <td>70000.0</td>\n      <td>90000.0</td>\n      <td>Das Gehalt beträgt zwischen 70'000 und 90'000 ...</td>\n    </tr>\n    <tr>\n      <th>96</th>\n      <td>Fullstack Software Engineer 80-100% (m/w/d)</td>\n      <td>konekkt GmbH</td>\n      <td>Festanstellung</td>\n      <td>Unser Partner bietet dir die einzigartige Mögl...</td>\n      <td>100</td>\n      <td>100</td>\n      <td>110000</td>\n      <td>130000</td>\n      <td>90000.0</td>\n      <td>110000.0</td>\n      <td>...</td>\n      <td>90'000 und 110'000 CHF</td>\n      <td>90000.0</td>\n      <td>110000.0</td>\n      <td>90'000 und 110'000 CHF</td>\n      <td>NaN</td>\n      <td>NaN</td>\n      <td>I don't have the exact salary for the position...</td>\n      <td>90000.0</td>\n      <td>110000.0</td>\n      <td>90'000 - 110'000 CHF</td>\n    </tr>\n    <tr>\n      <th>101</th>\n      <td>Director (all genders), SAP Supply Chain Consu...</td>\n      <td>JOB SCHWEIZ AG</td>\n      <td>Festanstellung</td>\n      <td>Introduction  We are JOB SCHWEIZ AG, a recruit...</td>\n      <td>80</td>\n      <td>100</td>\n      <td>200000</td>\n      <td>200000</td>\n      <td>NaN</td>\n      <td>NaN</td>\n      <td>...</td>\n      <td>(110000) und (130000) CHF</td>\n      <td>110000.0</td>\n      <td>130000.0</td>\n      <td>(110000) und (130000) CHF</td>\n      <td>120000.0</td>\n      <td>140000.0</td>\n      <td>Das Gehalt für die Position Director (all gend...</td>\n      <td>NaN</td>\n      <td>NaN</td>\n      <td>Das Gehalt beträgt zwischen 120000 und 140000 ...</td>\n    </tr>\n    <tr>\n      <th>106</th>\n      <td>SAP Architect</td>\n      <td>TalentCloud Group GmbH</td>\n      <td>Festanstellung</td>\n      <td>Are you a highly motivated SAP Architect looki...</td>\n      <td>100</td>\n      <td>100</td>\n      <td>140000</td>\n      <td>180000</td>\n      <td>120000.0</td>\n      <td>140000.0</td>\n      <td>...</td>\n      <td>(90'000) und (110'000) CHF</td>\n      <td>110000.0</td>\n      <td>130000.0</td>\n      <td>(110000) und (130000) CHF</td>\n      <td>NaN</td>\n      <td>NaN</td>\n      <td>120000 CHF</td>\n      <td>NaN</td>\n      <td>NaN</td>\n      <td>120000 - 140000 CHF</td>\n    </tr>\n    <tr>\n      <th>107</th>\n      <td>Office &amp; Event Support</td>\n      <td>ETH Zürich Foundation</td>\n      <td>Praktikum</td>\n      <td>Suchen Sie eine sinnstiftende Aufgabe in einem...</td>\n      <td>50</td>\n      <td>70</td>\n      <td>61152</td>\n      <td>61152</td>\n      <td>60000.0</td>\n      <td>80000.0</td>\n      <td>...</td>\n      <td>(60000) und (80000) CHF</td>\n      <td>60000.0</td>\n      <td>80000.0</td>\n      <td>(60000) und (80000) CHF</td>\n      <td>40000.0</td>\n      <td>60000.0</td>\n      <td>I don't have the exact salary for this positio...</td>\n      <td>NaN</td>\n      <td>NaN</td>\n      <td>Das Gehalt beträgt etwa 45000 - 65000 CHF.</td>\n    </tr>\n    <tr>\n      <th>109</th>\n      <td>Automatisierungstechniker (m/w)</td>\n      <td>yellowshark</td>\n      <td>Festanstellung</td>\n      <td>Für unseren Kunden, ein renommiertes Unternehm...</td>\n      <td>100</td>\n      <td>100</td>\n      <td>80000</td>\n      <td>120000</td>\n      <td>70000.0</td>\n      <td>90000.0</td>\n      <td>...</td>\n      <td>(80'000) und (100'000) CHF</td>\n      <td>70000.0</td>\n      <td>90000.0</td>\n      <td>(70000) und (90000) CHF</td>\n      <td>NaN</td>\n      <td>NaN</td>\n      <td>I don't have the exact salary for this positio...</td>\n      <td>80000.0</td>\n      <td>100000.0</td>\n      <td>80'000 - 100'000 CHF</td>\n    </tr>\n  </tbody>\n</table>\n<p>34 rows × 23 columns</p>\n</div>"
     },
     "execution_count": 231,
     "metadata": {},
     "output_type": "execute_result"
    }
   ],
   "source": [
    "#llm_block1_2_fewshot.isna().any().any()\n",
    "llm_block1_2_fewshot[llm_block1_2_fewshot.isna().any(axis=1)]"
   ],
   "metadata": {
    "collapsed": false,
    "ExecuteTime": {
     "end_time": "2024-07-08T13:36:19.425130200Z",
     "start_time": "2024-07-08T13:36:19.384655700Z"
    }
   },
   "id": "a0185ff266fad734"
  },
  {
   "cell_type": "code",
   "execution_count": 226,
   "outputs": [],
   "source": [
    "llm_block1_2_fewshot.loc[3, 'block1_2_3_4_5_min_salary_fewshot'] = 45000\n",
    "llm_block1_2_fewshot.loc[3, 'block1_2_3_max_salary_fewshot'] = 65000"
   ],
   "metadata": {
    "collapsed": false,
    "ExecuteTime": {
     "end_time": "2024-07-08T13:34:30.319954900Z",
     "start_time": "2024-07-08T13:34:30.306001400Z"
    }
   },
   "id": "b5074ef694d9516"
  },
  {
   "cell_type": "markdown",
   "source": [
    "## LLM request with Block 1,2,3 and fewshot with Block 1,2,3 and salary\n"
   ],
   "metadata": {
    "collapsed": false
   },
   "id": "f9d1d2f2ddcf0204"
  },
  {
   "cell_type": "code",
   "execution_count": 181,
   "outputs": [],
   "source": [
    "# change here for new prompt and message below ------------\n",
    "results_file = 'data/llm_block1_2_3_fewshot.csv'\n",
    "min = 'block1_2_3_min_salary_fewshot'\n",
    "max = 'block1_2_3_max_salary_fewshot'\n",
    "answer = 'block1_2_3_answer_fewshot'\n",
    "# Setup and load initial data\n",
    "if os.path.exists(results_file):\n",
    "    df = pd.read_csv(results_file)\n",
    "else:\n",
    "    df[min] = None  # Initialize columns if starting fresh\n",
    "    df[max] = None\n",
    "    df[answer] = None \n",
    "\n",
    "# change content here for new prompt and message below ------------\n",
    "def generate_query(row):\n",
    "    return {\n",
    "        \"role\": \"user\",\n",
    "        \"content\": f\"Gib mir nur das Gehalt im Format (\\d{1,3}(?:'\\d{3})*) und (\\d{1,3}(?:'\\d{3})) CHF für die Position {row['title']} bei der Firma {row['company']} in Zürich, Schweiz. Mit einer Arbeitszeit von {row['min_workload']} bis {row['max_workload']} Prozent. Wenn du das genaue Gehalt nicht kennst, gib bitte eine Schätzung an. Der angegebene Gehaltsbereich sollte dabei eine maximale Spanne von 20000 CHF nicht überschreiten.\"\n",
    "    }\n",
    "\n",
    "def generate_message(title, company, min_salary, max_salary, min_workload, max_workload, description):\n",
    "    return {\n",
    "        \"role\": \"user\",\n",
    "        \"content\": f\"Das Gehalt für die Position {title}  bei der Firma {company} mit einer Arbeitszeit von {min_workload} bis {max_workload} Prozent liegt zwischen {min_salary} und {max_salary}. \"\n",
    "    }\n",
    "\n",
    "def run_model(limit):\n",
    "    start_index = df[min].last_valid_index() + 1 if df[max].last_valid_index() != None else 0\n",
    "    example_messages = [generate_message(row['title'], row['company'], row['min_salary'], row['max_salary'], row['min_workload'], row['max_workload'], row['description']) for index, row in df_with_salary_few_shot.iterrows()]\n",
    "    \n",
    "    for index, row in df.iloc[start_index:start_index + limit].iterrows():\n",
    "        query_message = generate_query(row)\n",
    "        chat_completion = client.chat.completions.create(\n",
    "            messages= example_messages + [query_message], # change message for new prompt ------------\n",
    "            model=\"llama3-70b-8192\",\n",
    "            temperature=0.0\n",
    "        )\n",
    "        min_salary, max_salary = extract_salaries(chat_completion.choices[0].message.content)\n",
    "        print(index)\n",
    "        print(min_salary, max_salary)\n",
    "        \n",
    "        \n",
    "        # Update DataFrame\n",
    "        df.at[index, min] = min_salary\n",
    "        df.at[index, max] = max_salary\n",
    "        df.at[index, answer] = chat_completion.choices[0].message.content\n",
    "        \n",
    "    # Save updated DataFrame in chunks or fully, depending on your preference\n",
    "    df.to_csv(results_file, index=False)\n",
    "\n",
    "# Testing the function with a limited number of entries\n",
    "run_model(10000)"
   ],
   "metadata": {
    "collapsed": false,
    "ExecuteTime": {
     "end_time": "2024-07-08T07:43:02.799711400Z",
     "start_time": "2024-07-08T07:43:02.686868800Z"
    }
   },
   "id": "a1fdb7685e7429a7"
  },
  {
   "cell_type": "code",
   "execution_count": 182,
   "outputs": [
    {
     "data": {
      "text/plain": "                                               title             company  \\\n0                             Software Engineer .Net  ELCA Informatik AG   \n1                      Digital Analyst / Web Analyst             Unic AG   \n2                             ICT Supporter 100% (a)       Spitex Zürich   \n3  KAUFMÄNNISCHES PRAKTIKUM (100%) - MIT FOKUS KU...           gebana AG   \n4  System Engineer für Microsoft-Technologien und...        konekkt GmbH   \n\n    contract_type                                        description  \\\n0  Festanstellung  Über ELCA Wir sind ELCA, einer der grössten Sc...   \n1  Festanstellung  Deine Aufgaben als Digital Analyst bei Unic   ...   \n2  Festanstellung  Möchtest du auch etwas bewegen und deine Arbei...   \n3       Praktikum  DEINE AUFGABEN IM KUND:INNENSERVICE – EINSATZ ...   \n4  Festanstellung  Wir präsentieren eine faszinierende Karrieremö...   \n\n   min_workload  max_workload  min_salary  max_salary  \\\n0            80           100      100000      130000   \n1            80           100       90000      113000   \n2           100           100       78000       96000   \n3           100           100       28300       28300   \n4            80           100       95000      125000   \n\n   block1_min_salary_fewshot  block1_max_salary_fewshot  \\\n0                    90000.0                   110000.0   \n1                    80000.0                   100000.0   \n2                    70000.0                    90000.0   \n3                    60000.0                    80000.0   \n4                    90000.0                   110000.0   \n\n            block1_answer_fewshot  block1_2_min_salary_fewshot  \\\n0      (90'000) und (110'000) CHF                      90000.0   \n1      (80'000) und (100'000) CHF                      80000.0   \n2       (70'000) und (90'000) CHF                      60000.0   \n3  Schätzung: 60'000 - 80'000 CHF                      60000.0   \n4            90'000 - 110'000 CHF                      90000.0   \n\n   block1_2_max_salary_fewshot     block1_2_answer_fewshot  \\\n0                     110000.0  (90'000) und (110'000) CHF   \n1                     100000.0      80'000 und 100'000 CHF   \n2                      80000.0   (60'000) und (80'000) CHF   \n3                      80000.0       (60'000 - 80'000) CHF   \n4                     110000.0  (90'000) und (110'000) CHF   \n\n   block1_2_3_min_salary_fewshot  block1_2_3_max_salary_fewshot  \\\n0                        90000.0                       110000.0   \n1                        70000.0                        90000.0   \n2                        70000.0                        90000.0   \n3                            NaN                            NaN   \n4                        90000.0                       110000.0   \n\n    block1_2_3_answer_fewshot  \n0  (90'000) und (110'000) CHF  \n1     (70000) und (90000) CHF  \n2     (70000) und (90000) CHF  \n3         45000 und 65000 CHF  \n4  (90'000) und (110'000) CHF  ",
      "text/html": "<div>\n<style scoped>\n    .dataframe tbody tr th:only-of-type {\n        vertical-align: middle;\n    }\n\n    .dataframe tbody tr th {\n        vertical-align: top;\n    }\n\n    .dataframe thead th {\n        text-align: right;\n    }\n</style>\n<table border=\"1\" class=\"dataframe\">\n  <thead>\n    <tr style=\"text-align: right;\">\n      <th></th>\n      <th>title</th>\n      <th>company</th>\n      <th>contract_type</th>\n      <th>description</th>\n      <th>min_workload</th>\n      <th>max_workload</th>\n      <th>min_salary</th>\n      <th>max_salary</th>\n      <th>block1_min_salary_fewshot</th>\n      <th>block1_max_salary_fewshot</th>\n      <th>block1_answer_fewshot</th>\n      <th>block1_2_min_salary_fewshot</th>\n      <th>block1_2_max_salary_fewshot</th>\n      <th>block1_2_answer_fewshot</th>\n      <th>block1_2_3_min_salary_fewshot</th>\n      <th>block1_2_3_max_salary_fewshot</th>\n      <th>block1_2_3_answer_fewshot</th>\n    </tr>\n  </thead>\n  <tbody>\n    <tr>\n      <th>0</th>\n      <td>Software Engineer .Net</td>\n      <td>ELCA Informatik AG</td>\n      <td>Festanstellung</td>\n      <td>Über ELCA Wir sind ELCA, einer der grössten Sc...</td>\n      <td>80</td>\n      <td>100</td>\n      <td>100000</td>\n      <td>130000</td>\n      <td>90000.0</td>\n      <td>110000.0</td>\n      <td>(90'000) und (110'000) CHF</td>\n      <td>90000.0</td>\n      <td>110000.0</td>\n      <td>(90'000) und (110'000) CHF</td>\n      <td>90000.0</td>\n      <td>110000.0</td>\n      <td>(90'000) und (110'000) CHF</td>\n    </tr>\n    <tr>\n      <th>1</th>\n      <td>Digital Analyst / Web Analyst</td>\n      <td>Unic AG</td>\n      <td>Festanstellung</td>\n      <td>Deine Aufgaben als Digital Analyst bei Unic   ...</td>\n      <td>80</td>\n      <td>100</td>\n      <td>90000</td>\n      <td>113000</td>\n      <td>80000.0</td>\n      <td>100000.0</td>\n      <td>(80'000) und (100'000) CHF</td>\n      <td>80000.0</td>\n      <td>100000.0</td>\n      <td>80'000 und 100'000 CHF</td>\n      <td>70000.0</td>\n      <td>90000.0</td>\n      <td>(70000) und (90000) CHF</td>\n    </tr>\n    <tr>\n      <th>2</th>\n      <td>ICT Supporter 100% (a)</td>\n      <td>Spitex Zürich</td>\n      <td>Festanstellung</td>\n      <td>Möchtest du auch etwas bewegen und deine Arbei...</td>\n      <td>100</td>\n      <td>100</td>\n      <td>78000</td>\n      <td>96000</td>\n      <td>70000.0</td>\n      <td>90000.0</td>\n      <td>(70'000) und (90'000) CHF</td>\n      <td>60000.0</td>\n      <td>80000.0</td>\n      <td>(60'000) und (80'000) CHF</td>\n      <td>70000.0</td>\n      <td>90000.0</td>\n      <td>(70000) und (90000) CHF</td>\n    </tr>\n    <tr>\n      <th>3</th>\n      <td>KAUFMÄNNISCHES PRAKTIKUM (100%) - MIT FOKUS KU...</td>\n      <td>gebana AG</td>\n      <td>Praktikum</td>\n      <td>DEINE AUFGABEN IM KUND:INNENSERVICE – EINSATZ ...</td>\n      <td>100</td>\n      <td>100</td>\n      <td>28300</td>\n      <td>28300</td>\n      <td>60000.0</td>\n      <td>80000.0</td>\n      <td>Schätzung: 60'000 - 80'000 CHF</td>\n      <td>60000.0</td>\n      <td>80000.0</td>\n      <td>(60'000 - 80'000) CHF</td>\n      <td>NaN</td>\n      <td>NaN</td>\n      <td>45000 und 65000 CHF</td>\n    </tr>\n    <tr>\n      <th>4</th>\n      <td>System Engineer für Microsoft-Technologien und...</td>\n      <td>konekkt GmbH</td>\n      <td>Festanstellung</td>\n      <td>Wir präsentieren eine faszinierende Karrieremö...</td>\n      <td>80</td>\n      <td>100</td>\n      <td>95000</td>\n      <td>125000</td>\n      <td>90000.0</td>\n      <td>110000.0</td>\n      <td>90'000 - 110'000 CHF</td>\n      <td>90000.0</td>\n      <td>110000.0</td>\n      <td>(90'000) und (110'000) CHF</td>\n      <td>90000.0</td>\n      <td>110000.0</td>\n      <td>(90'000) und (110'000) CHF</td>\n    </tr>\n  </tbody>\n</table>\n</div>"
     },
     "execution_count": 182,
     "metadata": {},
     "output_type": "execute_result"
    }
   ],
   "source": [
    "llm_block1_2_3_fewshot = pd.read_csv('data/llm_block1_2_3_fewshot.csv')\n",
    "llm_block1_2_3_fewshot.head()"
   ],
   "metadata": {
    "collapsed": false,
    "ExecuteTime": {
     "end_time": "2024-07-08T07:43:02.803600400Z",
     "start_time": "2024-07-08T07:43:02.713778800Z"
    }
   },
   "id": "a283ee086d2278cf"
  },
  {
   "cell_type": "code",
   "execution_count": 212,
   "outputs": [
    {
     "data": {
      "text/plain": "                                               title    company contract_type  \\\n3  KAUFMÄNNISCHES PRAKTIKUM (100%) - MIT FOKUS KU...  gebana AG     Praktikum   \n\n                                         description  min_workload  \\\n3  DEINE AUFGABEN IM KUND:INNENSERVICE – EINSATZ ...           100   \n\n   max_workload  min_salary  max_salary  block1_min_salary_fewshot  \\\n3           100       28300       28300                    60000.0   \n\n   block1_max_salary_fewshot           block1_answer_fewshot  \\\n3                    80000.0  Schätzung: 60'000 - 80'000 CHF   \n\n   block1_2_min_salary_fewshot  block1_2_max_salary_fewshot  \\\n3                      60000.0                      80000.0   \n\n  block1_2_answer_fewshot  block1_2_3_min_salary_fewshot  \\\n3   (60'000 - 80'000) CHF                            NaN   \n\n   block1_2_3_max_salary_fewshot block1_2_3_answer_fewshot  \n3                            NaN       45000 und 65000 CHF  ",
      "text/html": "<div>\n<style scoped>\n    .dataframe tbody tr th:only-of-type {\n        vertical-align: middle;\n    }\n\n    .dataframe tbody tr th {\n        vertical-align: top;\n    }\n\n    .dataframe thead th {\n        text-align: right;\n    }\n</style>\n<table border=\"1\" class=\"dataframe\">\n  <thead>\n    <tr style=\"text-align: right;\">\n      <th></th>\n      <th>title</th>\n      <th>company</th>\n      <th>contract_type</th>\n      <th>description</th>\n      <th>min_workload</th>\n      <th>max_workload</th>\n      <th>min_salary</th>\n      <th>max_salary</th>\n      <th>block1_min_salary_fewshot</th>\n      <th>block1_max_salary_fewshot</th>\n      <th>block1_answer_fewshot</th>\n      <th>block1_2_min_salary_fewshot</th>\n      <th>block1_2_max_salary_fewshot</th>\n      <th>block1_2_answer_fewshot</th>\n      <th>block1_2_3_min_salary_fewshot</th>\n      <th>block1_2_3_max_salary_fewshot</th>\n      <th>block1_2_3_answer_fewshot</th>\n    </tr>\n  </thead>\n  <tbody>\n    <tr>\n      <th>3</th>\n      <td>KAUFMÄNNISCHES PRAKTIKUM (100%) - MIT FOKUS KU...</td>\n      <td>gebana AG</td>\n      <td>Praktikum</td>\n      <td>DEINE AUFGABEN IM KUND:INNENSERVICE – EINSATZ ...</td>\n      <td>100</td>\n      <td>100</td>\n      <td>28300</td>\n      <td>28300</td>\n      <td>60000.0</td>\n      <td>80000.0</td>\n      <td>Schätzung: 60'000 - 80'000 CHF</td>\n      <td>60000.0</td>\n      <td>80000.0</td>\n      <td>(60'000 - 80'000) CHF</td>\n      <td>NaN</td>\n      <td>NaN</td>\n      <td>45000 und 65000 CHF</td>\n    </tr>\n  </tbody>\n</table>\n</div>"
     },
     "execution_count": 212,
     "metadata": {},
     "output_type": "execute_result"
    }
   ],
   "source": [
    "llm_block1_2_3_fewshot[llm_block1_2_3_fewshot['block1_2_3_min_salary_fewshot'].isnull() & llm_block1_2_3_fewshot['block1_2_3_min_salary_fewshot'].isnull()]"
   ],
   "metadata": {
    "collapsed": false,
    "ExecuteTime": {
     "end_time": "2024-07-08T13:08:50.902071900Z",
     "start_time": "2024-07-08T13:08:50.879103300Z"
    }
   },
   "id": "c8658139085a3302"
  },
  {
   "cell_type": "markdown",
   "source": [
    "## LLM request with Block 1,2,3,4 and fewshot with Block 1,2,3,4 and salary\n"
   ],
   "metadata": {
    "collapsed": false
   },
   "id": "882d2f892adf33d8"
  },
  {
   "cell_type": "code",
   "execution_count": 186,
   "outputs": [
    {
     "name": "stdout",
     "output_type": "stream",
     "text": [
      "0\n",
      "90000 110000\n",
      "1\n",
      "80000 100000\n",
      "2\n",
      "80000 100000\n",
      "3\n",
      "None None\n",
      "4\n",
      "90000 110000\n",
      "5\n",
      "120000 140000\n",
      "6\n",
      "110000 130000\n",
      "7\n",
      "110000 130000\n",
      "8\n",
      "90000 110000\n",
      "9\n",
      "90000 110000\n",
      "10\n",
      "110000 130000\n",
      "11\n",
      "120000 140000\n",
      "12\n",
      "110000 130000\n",
      "13\n",
      "90000 110000\n",
      "14\n",
      "120000 140000\n",
      "15\n",
      "120000 140000\n",
      "16\n",
      "120000 140000\n",
      "17\n",
      "90000 110000\n",
      "18\n",
      "80000 100000\n",
      "19\n",
      "90000 110000\n",
      "20\n",
      "120000 140000\n",
      "21\n",
      "90000 110000\n",
      "22\n",
      "90000 110000\n",
      "23\n",
      "90000 110000\n",
      "24\n",
      "80000 100000\n",
      "25\n",
      "80000 100000\n",
      "26\n",
      "90000 110000\n",
      "27\n",
      "None None\n",
      "28\n",
      "90000 110000\n",
      "29\n",
      "90000 110000\n",
      "30\n",
      "65000 85000\n",
      "31\n",
      "90000 110000\n",
      "32\n",
      "90000 110000\n",
      "33\n",
      "95000 115000\n",
      "34\n",
      "90000 110000\n",
      "35\n",
      "90000 110000\n",
      "36\n",
      "90000 110000\n",
      "37\n",
      "90000 110000\n",
      "38\n",
      "90000 110000\n",
      "39\n",
      "80000 100000\n",
      "40\n",
      "None None\n",
      "41\n",
      "None None\n",
      "42\n",
      "90000 110000\n",
      "43\n",
      "None None\n",
      "44\n",
      "110000 130000\n",
      "45\n",
      "90000 110000\n",
      "46\n",
      "None None\n",
      "47\n",
      "90000 110000\n",
      "48\n",
      "120000 140000\n",
      "49\n",
      "None None\n",
      "50\n",
      "None None\n",
      "51\n",
      "90000 110000\n",
      "52\n",
      "80000 100000\n",
      "53\n",
      "None None\n",
      "54\n",
      "90000 110000\n",
      "55\n",
      "95000 115000\n",
      "56\n",
      "90000 110000\n",
      "57\n",
      "90000 110000\n",
      "58\n",
      "None None\n",
      "59\n",
      "90000 110000\n",
      "60\n",
      "None None\n",
      "61\n",
      "None None\n",
      "62\n",
      "90000 110000\n",
      "63\n",
      "90000 110000\n",
      "64\n",
      "None None\n",
      "65\n",
      "None None\n",
      "66\n",
      "90000 110000\n",
      "67\n",
      "65000 85000\n",
      "68\n",
      "None None\n",
      "69\n",
      "80000 100000\n",
      "70\n",
      "70000 90000\n",
      "71\n",
      "None None\n",
      "72\n",
      "None None\n",
      "73\n",
      "90000 110000\n",
      "74\n",
      "90000 110000\n",
      "75\n",
      "None None\n",
      "76\n",
      "95000 115000\n",
      "77\n",
      "80000 100000\n",
      "78\n",
      "90000 110000\n",
      "79\n",
      "None None\n",
      "80\n",
      "90000 110000\n",
      "81\n",
      "80000 100000\n",
      "82\n",
      "None None\n",
      "83\n",
      "90000 110000\n",
      "84\n",
      "90000 110000\n",
      "85\n",
      "90000 110000\n",
      "86\n",
      "None None\n",
      "87\n",
      "90000 110000\n",
      "88\n",
      "None None\n",
      "89\n",
      "80000 100000\n",
      "90\n",
      "90000 110000\n",
      "91\n",
      "90000 110000\n",
      "92\n",
      "None None\n",
      "93\n",
      "90000 110000\n",
      "94\n",
      "90000 110000\n",
      "95\n",
      "90000 110000\n",
      "96\n",
      "None None\n",
      "97\n",
      "110000 130000\n",
      "98\n",
      "80000 100000\n",
      "99\n",
      "90000 110000\n",
      "100\n",
      "90000 110000\n",
      "101\n",
      "120000 140000\n",
      "102\n",
      "90000 110000\n",
      "103\n",
      "90000 110000\n",
      "104\n",
      "90000 110000\n",
      "105\n",
      "90000 110000\n",
      "106\n",
      "None None\n",
      "107\n",
      "40000 60000\n",
      "108\n",
      "90000 110000\n",
      "109\n",
      "None None\n"
     ]
    }
   ],
   "source": [
    "# change here for new prompt and message below ------------\n",
    "results_file = 'data/llm_block1_2_3_4_fewshot.csv'\n",
    "min = 'block1_2_3_4_min_salary_fewshot'\n",
    "max = 'block1_2_3_4_max_salary_fewshot'\n",
    "answer = 'block1_2_3_4_answer_fewshot'\n",
    "# Setup and load initial data\n",
    "if os.path.exists(results_file):\n",
    "    df = pd.read_csv(results_file)\n",
    "else:\n",
    "    df[min] = None  # Initialize columns if starting fresh\n",
    "    df[max] = None\n",
    "    df[answer] = None \n",
    "\n",
    "# change content here for new prompt and message below ------------\n",
    "def generate_query(row):\n",
    "    return {\n",
    "        \"role\": \"user\",\n",
    "        \"content\": f\"Gib mir nur das Gehalt im Format (\\d{1,3}(?:'\\d{3})*) und (\\d{1,3}(?:'\\d{3})) CHF für die Position {row['title']} bei der Firma {row['company']} in Zürich, Schweiz. Mit einer Arbeitszeit von {row['min_workload']} bis {row['max_workload']} Prozent  und der Vertragsart {row['contract_type']}. Wenn du das genaue Gehalt nicht kennst, gib bitte eine Schätzung an. Der angegebene Gehaltsbereich sollte dabei eine maximale Spanne von 20000 CHF nicht überschreiten.\"\n",
    "    }\n",
    "\n",
    "def generate_message(title, company, min_salary, max_salary, min_workload, max_workload, contract_type,description):\n",
    "    return {\n",
    "        \"role\": \"user\",\n",
    "        \"content\": f\"Das Gehalt für die Position {title}  bei der Firma {company} mit einer Arbeitszeit von {min_workload} bis {max_workload} Prozent und der Vertragsart {contract_type} liegt zwischen {min_salary} und {max_salary}. \"\n",
    "    }\n",
    "\n",
    "def run_model(limit):\n",
    "    start_index = df[min].last_valid_index() + 1 if df[max].last_valid_index() != None else 0\n",
    "    \n",
    "    example_messages = [generate_message(row['title'], row['company'], row['min_salary'], row['max_salary'], row['min_workload'], row['max_workload'], row['description'], row['contract_type']) for index, row in df_with_salary_few_shot.iterrows()]\n",
    "    \n",
    "    for index, row in df.iloc[start_index:start_index + limit].iterrows():\n",
    "        query_message = generate_query(row)\n",
    "        \n",
    "        # API call simulation\n",
    "        response = client.chat.completions.create(\n",
    "            messages= example_messages + [query_message],\n",
    "            model=\"llama3-70b-8192\",\n",
    "            temperature=0.0\n",
    "        )\n",
    "        \n",
    "        # Assuming 'response' is the variable containing the API response\n",
    "        if hasattr(response, 'headers'):\n",
    "            # Check if you're close to hitting the rate limits\n",
    "            remaining_tokens = int(response.headers.get('x-ratelimit-remaining-tokens', '100'))\n",
    "            remaining_requests = int(response.headers.get('x-ratelimit-remaining-requests', '100'))\n",
    "            \n",
    "            if remaining_tokens < 200:  # Threshold for tokens; adjust as needed\n",
    "                print(f\"Warning: Low token count! Only {remaining_tokens} tokens remaining.\")\n",
    "            if remaining_requests < 10:  # Threshold for requests; adjust as needed\n",
    "                print(f\"Warning: Low request count! Only {remaining_requests} requests remaining.\")\n",
    "\n",
    "        # Extract salaries from the completion\n",
    "        min_salary, max_salary = extract_salaries(response.choices[0].message.content)\n",
    "        print(index)\n",
    "        print(min_salary, max_salary)\n",
    "        \n",
    "        # Update DataFrame\n",
    "        df.at[index, min] = min_salary\n",
    "        df.at[index, max] = max_salary\n",
    "        df.at[index, answer] = response.choices[0].message.content\n",
    "        \n",
    "        # Save updated DataFrame in chunks or fully, depending on your preference\n",
    "        df.to_csv(results_file, index=False)\n",
    "\n",
    "# Testing the function with a limited number of entries\n",
    "run_model(10000)\n"
   ],
   "metadata": {
    "collapsed": false,
    "ExecuteTime": {
     "end_time": "2024-07-08T08:27:01.745091Z",
     "start_time": "2024-07-08T07:44:54.126338900Z"
    }
   },
   "id": "5123d4f96c95f84f"
  },
  {
   "cell_type": "code",
   "execution_count": 187,
   "outputs": [
    {
     "data": {
      "text/plain": "                                                title             company  \\\n0                              Software Engineer .Net  ELCA Informatik AG   \n1                       Digital Analyst / Web Analyst             Unic AG   \n2                              ICT Supporter 100% (a)       Spitex Zürich   \n3   KAUFMÄNNISCHES PRAKTIKUM (100%) - MIT FOKUS KU...           gebana AG   \n4   System Engineer für Microsoft-Technologien und...        konekkt GmbH   \n..                                                ...                 ...   \n95                System Engineer 80 bis 100% (m/w/d)        konekkt GmbH   \n96        Fullstack Software Engineer 80-100% (m/w/d)        konekkt GmbH   \n97               Senior System Engineer Azure 80-100%        konekkt GmbH   \n98                IT Support Engineer 80-100% (m/w/d)        konekkt GmbH   \n99                      IT Consultant 80-100% (m/w/d)        konekkt GmbH   \n\n     contract_type                                        description  \\\n0   Festanstellung  Über ELCA Wir sind ELCA, einer der grössten Sc...   \n1   Festanstellung  Deine Aufgaben als Digital Analyst bei Unic   ...   \n2   Festanstellung  Möchtest du auch etwas bewegen und deine Arbei...   \n3        Praktikum  DEINE AUFGABEN IM KUND:INNENSERVICE – EINSATZ ...   \n4   Festanstellung  Wir präsentieren eine faszinierende Karrieremö...   \n..             ...                                                ...   \n95  Festanstellung  konekkt verbindet talentierte IT Fachkräfte mi...   \n96  Festanstellung  Unser Partner bietet dir die einzigartige Mögl...   \n97  Festanstellung  Unser Partner ist schweizweit einer der führen...   \n98  Festanstellung  Unser Partner konzipiert und entwickelt massge...   \n99  Festanstellung  Unser Kunde ist ein Unternehmen, das Kunden mi...   \n\n    min_workload  max_workload  min_salary  max_salary  \\\n0             80           100      100000      130000   \n1             80           100       90000      113000   \n2            100           100       78000       96000   \n3            100           100       28300       28300   \n4             80           100       95000      125000   \n..           ...           ...         ...         ...   \n95           100           100       95000      115000   \n96           100           100      110000      130000   \n97           100           100      110000      130000   \n98           100           100       75000       95000   \n99           100           100      105000      125000   \n\n    block1_min_salary_fewshot  block1_max_salary_fewshot  \\\n0                     90000.0                   110000.0   \n1                     80000.0                   100000.0   \n2                     70000.0                    90000.0   \n3                     60000.0                    80000.0   \n4                     90000.0                   110000.0   \n..                        ...                        ...   \n95                    90000.0                   110000.0   \n96                    90000.0                   110000.0   \n97                   110000.0                   130000.0   \n98                    80000.0                   100000.0   \n99                    90000.0                   110000.0   \n\n             block1_answer_fewshot  block1_2_min_salary_fewshot  \\\n0       (90'000) und (110'000) CHF                      90000.0   \n1       (80'000) und (100'000) CHF                      80000.0   \n2        (70'000) und (90'000) CHF                      60000.0   \n3   Schätzung: 60'000 - 80'000 CHF                      60000.0   \n4             90'000 - 110'000 CHF                      90000.0   \n..                             ...                          ...   \n95      (90'000) und (110'000) CHF                      80000.0   \n96      (90'000) und (110'000) CHF                      90000.0   \n97       (110000) und (130000) CHF                      90000.0   \n98      (80'000) und (100'000) CHF                      80000.0   \n99      (90'000) und (110'000) CHF                      80000.0   \n\n    block1_2_max_salary_fewshot     block1_2_answer_fewshot  \\\n0                      110000.0  (90'000) und (110'000) CHF   \n1                      100000.0      80'000 und 100'000 CHF   \n2                       80000.0   (60'000) und (80'000) CHF   \n3                       80000.0       (60'000 - 80'000) CHF   \n4                      110000.0  (90'000) und (110'000) CHF   \n..                          ...                         ...   \n95                     100000.0      80'000 und 100'000 CHF   \n96                     110000.0      90'000 und 110'000 CHF   \n97                     110000.0  (90'000) und (110'000) CHF   \n98                     100000.0      80'000 und 100'000 CHF   \n99                     100000.0      80'000 und 100'000 CHF   \n\n    block1_2_3_min_salary_fewshot  block1_2_3_max_salary_fewshot  \\\n0                         90000.0                       110000.0   \n1                         70000.0                        90000.0   \n2                         70000.0                        90000.0   \n3                             NaN                            NaN   \n4                         90000.0                       110000.0   \n..                            ...                            ...   \n95                        80000.0                       100000.0   \n96                        90000.0                       110000.0   \n97                        90000.0                       110000.0   \n98                        80000.0                       100000.0   \n99                        80000.0                       100000.0   \n\n     block1_2_3_answer_fewshot  block1_2_3_4_min_salary_fewshot  \\\n0   (90'000) und (110'000) CHF                          90000.0   \n1      (70000) und (90000) CHF                          80000.0   \n2      (70000) und (90000) CHF                          80000.0   \n3          45000 und 65000 CHF                              NaN   \n4   (90'000) und (110'000) CHF                          90000.0   \n..                         ...                              ...   \n95      80'000 und 100'000 CHF                          90000.0   \n96      90'000 und 110'000 CHF                              NaN   \n97  (90'000) und (110'000) CHF                         110000.0   \n98      80'000 und 100'000 CHF                          80000.0   \n99      80'000 und 100'000 CHF                          90000.0   \n\n    block1_2_3_4_max_salary_fewshot  \\\n0                          110000.0   \n1                          100000.0   \n2                          100000.0   \n3                               NaN   \n4                          110000.0   \n..                              ...   \n95                         110000.0   \n96                              NaN   \n97                         130000.0   \n98                         100000.0   \n99                         110000.0   \n\n                          block1_2_3_4_answer_fewshot  \n0   Das Gehalt für die Position Software Engineer ...  \n1                                80'000 - 100'000 CHF  \n2                                80'000 - 100'000 CHF  \n3   Ich kenne das genaue Gehalt nicht, daher schät...  \n4                                90'000 - 110'000 CHF  \n..                                                ...  \n95                               90'000 - 110'000 CHF  \n96  I don't have the exact salary for the position...  \n97  Das Gehalt für die Position Senior System Engi...  \n98  Ich kenne das genaue Gehalt nicht, aber basier...  \n99  Leider habe ich keine spezifische Gehaltsangab...  \n\n[100 rows x 20 columns]",
      "text/html": "<div>\n<style scoped>\n    .dataframe tbody tr th:only-of-type {\n        vertical-align: middle;\n    }\n\n    .dataframe tbody tr th {\n        vertical-align: top;\n    }\n\n    .dataframe thead th {\n        text-align: right;\n    }\n</style>\n<table border=\"1\" class=\"dataframe\">\n  <thead>\n    <tr style=\"text-align: right;\">\n      <th></th>\n      <th>title</th>\n      <th>company</th>\n      <th>contract_type</th>\n      <th>description</th>\n      <th>min_workload</th>\n      <th>max_workload</th>\n      <th>min_salary</th>\n      <th>max_salary</th>\n      <th>block1_min_salary_fewshot</th>\n      <th>block1_max_salary_fewshot</th>\n      <th>block1_answer_fewshot</th>\n      <th>block1_2_min_salary_fewshot</th>\n      <th>block1_2_max_salary_fewshot</th>\n      <th>block1_2_answer_fewshot</th>\n      <th>block1_2_3_min_salary_fewshot</th>\n      <th>block1_2_3_max_salary_fewshot</th>\n      <th>block1_2_3_answer_fewshot</th>\n      <th>block1_2_3_4_min_salary_fewshot</th>\n      <th>block1_2_3_4_max_salary_fewshot</th>\n      <th>block1_2_3_4_answer_fewshot</th>\n    </tr>\n  </thead>\n  <tbody>\n    <tr>\n      <th>0</th>\n      <td>Software Engineer .Net</td>\n      <td>ELCA Informatik AG</td>\n      <td>Festanstellung</td>\n      <td>Über ELCA Wir sind ELCA, einer der grössten Sc...</td>\n      <td>80</td>\n      <td>100</td>\n      <td>100000</td>\n      <td>130000</td>\n      <td>90000.0</td>\n      <td>110000.0</td>\n      <td>(90'000) und (110'000) CHF</td>\n      <td>90000.0</td>\n      <td>110000.0</td>\n      <td>(90'000) und (110'000) CHF</td>\n      <td>90000.0</td>\n      <td>110000.0</td>\n      <td>(90'000) und (110'000) CHF</td>\n      <td>90000.0</td>\n      <td>110000.0</td>\n      <td>Das Gehalt für die Position Software Engineer ...</td>\n    </tr>\n    <tr>\n      <th>1</th>\n      <td>Digital Analyst / Web Analyst</td>\n      <td>Unic AG</td>\n      <td>Festanstellung</td>\n      <td>Deine Aufgaben als Digital Analyst bei Unic   ...</td>\n      <td>80</td>\n      <td>100</td>\n      <td>90000</td>\n      <td>113000</td>\n      <td>80000.0</td>\n      <td>100000.0</td>\n      <td>(80'000) und (100'000) CHF</td>\n      <td>80000.0</td>\n      <td>100000.0</td>\n      <td>80'000 und 100'000 CHF</td>\n      <td>70000.0</td>\n      <td>90000.0</td>\n      <td>(70000) und (90000) CHF</td>\n      <td>80000.0</td>\n      <td>100000.0</td>\n      <td>80'000 - 100'000 CHF</td>\n    </tr>\n    <tr>\n      <th>2</th>\n      <td>ICT Supporter 100% (a)</td>\n      <td>Spitex Zürich</td>\n      <td>Festanstellung</td>\n      <td>Möchtest du auch etwas bewegen und deine Arbei...</td>\n      <td>100</td>\n      <td>100</td>\n      <td>78000</td>\n      <td>96000</td>\n      <td>70000.0</td>\n      <td>90000.0</td>\n      <td>(70'000) und (90'000) CHF</td>\n      <td>60000.0</td>\n      <td>80000.0</td>\n      <td>(60'000) und (80'000) CHF</td>\n      <td>70000.0</td>\n      <td>90000.0</td>\n      <td>(70000) und (90000) CHF</td>\n      <td>80000.0</td>\n      <td>100000.0</td>\n      <td>80'000 - 100'000 CHF</td>\n    </tr>\n    <tr>\n      <th>3</th>\n      <td>KAUFMÄNNISCHES PRAKTIKUM (100%) - MIT FOKUS KU...</td>\n      <td>gebana AG</td>\n      <td>Praktikum</td>\n      <td>DEINE AUFGABEN IM KUND:INNENSERVICE – EINSATZ ...</td>\n      <td>100</td>\n      <td>100</td>\n      <td>28300</td>\n      <td>28300</td>\n      <td>60000.0</td>\n      <td>80000.0</td>\n      <td>Schätzung: 60'000 - 80'000 CHF</td>\n      <td>60000.0</td>\n      <td>80000.0</td>\n      <td>(60'000 - 80'000) CHF</td>\n      <td>NaN</td>\n      <td>NaN</td>\n      <td>45000 und 65000 CHF</td>\n      <td>NaN</td>\n      <td>NaN</td>\n      <td>Ich kenne das genaue Gehalt nicht, daher schät...</td>\n    </tr>\n    <tr>\n      <th>4</th>\n      <td>System Engineer für Microsoft-Technologien und...</td>\n      <td>konekkt GmbH</td>\n      <td>Festanstellung</td>\n      <td>Wir präsentieren eine faszinierende Karrieremö...</td>\n      <td>80</td>\n      <td>100</td>\n      <td>95000</td>\n      <td>125000</td>\n      <td>90000.0</td>\n      <td>110000.0</td>\n      <td>90'000 - 110'000 CHF</td>\n      <td>90000.0</td>\n      <td>110000.0</td>\n      <td>(90'000) und (110'000) CHF</td>\n      <td>90000.0</td>\n      <td>110000.0</td>\n      <td>(90'000) und (110'000) CHF</td>\n      <td>90000.0</td>\n      <td>110000.0</td>\n      <td>90'000 - 110'000 CHF</td>\n    </tr>\n    <tr>\n      <th>...</th>\n      <td>...</td>\n      <td>...</td>\n      <td>...</td>\n      <td>...</td>\n      <td>...</td>\n      <td>...</td>\n      <td>...</td>\n      <td>...</td>\n      <td>...</td>\n      <td>...</td>\n      <td>...</td>\n      <td>...</td>\n      <td>...</td>\n      <td>...</td>\n      <td>...</td>\n      <td>...</td>\n      <td>...</td>\n      <td>...</td>\n      <td>...</td>\n      <td>...</td>\n    </tr>\n    <tr>\n      <th>95</th>\n      <td>System Engineer 80 bis 100% (m/w/d)</td>\n      <td>konekkt GmbH</td>\n      <td>Festanstellung</td>\n      <td>konekkt verbindet talentierte IT Fachkräfte mi...</td>\n      <td>100</td>\n      <td>100</td>\n      <td>95000</td>\n      <td>115000</td>\n      <td>90000.0</td>\n      <td>110000.0</td>\n      <td>(90'000) und (110'000) CHF</td>\n      <td>80000.0</td>\n      <td>100000.0</td>\n      <td>80'000 und 100'000 CHF</td>\n      <td>80000.0</td>\n      <td>100000.0</td>\n      <td>80'000 und 100'000 CHF</td>\n      <td>90000.0</td>\n      <td>110000.0</td>\n      <td>90'000 - 110'000 CHF</td>\n    </tr>\n    <tr>\n      <th>96</th>\n      <td>Fullstack Software Engineer 80-100% (m/w/d)</td>\n      <td>konekkt GmbH</td>\n      <td>Festanstellung</td>\n      <td>Unser Partner bietet dir die einzigartige Mögl...</td>\n      <td>100</td>\n      <td>100</td>\n      <td>110000</td>\n      <td>130000</td>\n      <td>90000.0</td>\n      <td>110000.0</td>\n      <td>(90'000) und (110'000) CHF</td>\n      <td>90000.0</td>\n      <td>110000.0</td>\n      <td>90'000 und 110'000 CHF</td>\n      <td>90000.0</td>\n      <td>110000.0</td>\n      <td>90'000 und 110'000 CHF</td>\n      <td>NaN</td>\n      <td>NaN</td>\n      <td>I don't have the exact salary for the position...</td>\n    </tr>\n    <tr>\n      <th>97</th>\n      <td>Senior System Engineer Azure 80-100%</td>\n      <td>konekkt GmbH</td>\n      <td>Festanstellung</td>\n      <td>Unser Partner ist schweizweit einer der führen...</td>\n      <td>100</td>\n      <td>100</td>\n      <td>110000</td>\n      <td>130000</td>\n      <td>110000.0</td>\n      <td>130000.0</td>\n      <td>(110000) und (130000) CHF</td>\n      <td>90000.0</td>\n      <td>110000.0</td>\n      <td>(90'000) und (110'000) CHF</td>\n      <td>90000.0</td>\n      <td>110000.0</td>\n      <td>(90'000) und (110'000) CHF</td>\n      <td>110000.0</td>\n      <td>130000.0</td>\n      <td>Das Gehalt für die Position Senior System Engi...</td>\n    </tr>\n    <tr>\n      <th>98</th>\n      <td>IT Support Engineer 80-100% (m/w/d)</td>\n      <td>konekkt GmbH</td>\n      <td>Festanstellung</td>\n      <td>Unser Partner konzipiert und entwickelt massge...</td>\n      <td>100</td>\n      <td>100</td>\n      <td>75000</td>\n      <td>95000</td>\n      <td>80000.0</td>\n      <td>100000.0</td>\n      <td>(80'000) und (100'000) CHF</td>\n      <td>80000.0</td>\n      <td>100000.0</td>\n      <td>80'000 und 100'000 CHF</td>\n      <td>80000.0</td>\n      <td>100000.0</td>\n      <td>80'000 und 100'000 CHF</td>\n      <td>80000.0</td>\n      <td>100000.0</td>\n      <td>Ich kenne das genaue Gehalt nicht, aber basier...</td>\n    </tr>\n    <tr>\n      <th>99</th>\n      <td>IT Consultant 80-100% (m/w/d)</td>\n      <td>konekkt GmbH</td>\n      <td>Festanstellung</td>\n      <td>Unser Kunde ist ein Unternehmen, das Kunden mi...</td>\n      <td>100</td>\n      <td>100</td>\n      <td>105000</td>\n      <td>125000</td>\n      <td>90000.0</td>\n      <td>110000.0</td>\n      <td>(90'000) und (110'000) CHF</td>\n      <td>80000.0</td>\n      <td>100000.0</td>\n      <td>80'000 und 100'000 CHF</td>\n      <td>80000.0</td>\n      <td>100000.0</td>\n      <td>80'000 und 100'000 CHF</td>\n      <td>90000.0</td>\n      <td>110000.0</td>\n      <td>Leider habe ich keine spezifische Gehaltsangab...</td>\n    </tr>\n  </tbody>\n</table>\n<p>100 rows × 20 columns</p>\n</div>"
     },
     "execution_count": 187,
     "metadata": {},
     "output_type": "execute_result"
    }
   ],
   "source": [
    "llm_block1_2_3_4_fewshot = pd.read_csv('data/llm_block1_2_3_4_fewshot.csv')\n",
    "llm_block1_2_3_4_fewshot.head(100)"
   ],
   "metadata": {
    "collapsed": false,
    "ExecuteTime": {
     "end_time": "2024-07-08T08:27:01.792040300Z",
     "start_time": "2024-07-08T08:27:01.748080900Z"
    }
   },
   "id": "28c51f8bb7b5678d"
  },
  {
   "cell_type": "code",
   "execution_count": 188,
   "outputs": [
    {
     "data": {
      "text/plain": "                                                 title  \\\n3    KAUFMÄNNISCHES PRAKTIKUM (100%) - MIT FOKUS KU...   \n27             Senior Network Engineer 80-100% (m/w/d)   \n40             IT Application Engineer 80-100% (m/w/d)   \n41                   Security Engineer 80-100% (m/w/d)   \n43             IT Application Engineer 80-100% (m/w/d)   \n46                     DevOps Engineer 80-100% (m/w/d)   \n49                 C# / .NET Senior Software Developer   \n50   (Senior) Software Engineer als Consultant 80-1...   \n53           C#.NET Software Developer 80-100% (m/w/d)   \n58   Software Engineer Java 80-100% (m/w/d) mit Pot...   \n60           System Engineer Microsoft 80-100% (m/w/d)   \n61           ICT System Administrator 80-100 % (m/w/d)   \n64   System Engineer (PowerShell) – Scripting Maste...   \n65   IT Support Engineer – Lösungsfinder im Tech-Um...   \n68                     System Engineer 80-100% (m/w/d)   \n71          Cloud System Administrator 80-100% (m/w/d)   \n72    Java Fullstack Software Engineer 80-100% (m/w/d)   \n75                     System Engineer 80-100% (m/w/d)   \n79         System Engineer Azure Cloud 80-100% (m/w/d)   \n82                        DevOps Engineer 100% (m/w/d)   \n86           Senior Frontend Developer (m/w/d) 80-100%   \n88                     System Engineer 80-100% (m/w/d)   \n92                   IT System Administrator 80 - 100%   \n96         Fullstack Software Engineer 80-100% (m/w/d)   \n106                                      SAP Architect   \n109                    Automatisierungstechniker (m/w)   \n\n                    company   contract_type  \\\n3                 gebana AG       Praktikum   \n27             konekkt GmbH  Festanstellung   \n40             konekkt GmbH  Festanstellung   \n41             konekkt GmbH  Festanstellung   \n43             konekkt GmbH  Festanstellung   \n46             konekkt GmbH  Festanstellung   \n49             konekkt GmbH  Festanstellung   \n50             konekkt GmbH  Festanstellung   \n53             konekkt GmbH  Festanstellung   \n58             konekkt GmbH  Festanstellung   \n60             konekkt GmbH  Festanstellung   \n61             konekkt GmbH  Festanstellung   \n64             konekkt GmbH  Festanstellung   \n65             konekkt GmbH  Festanstellung   \n68             konekkt GmbH  Festanstellung   \n71             konekkt GmbH  Festanstellung   \n72             konekkt GmbH  Festanstellung   \n75             konekkt GmbH  Festanstellung   \n79             konekkt GmbH  Festanstellung   \n82             konekkt GmbH  Festanstellung   \n86             konekkt GmbH  Festanstellung   \n88             konekkt GmbH  Festanstellung   \n92             konekkt GmbH  Festanstellung   \n96             konekkt GmbH  Festanstellung   \n106  TalentCloud Group GmbH  Festanstellung   \n109             yellowshark  Festanstellung   \n\n                                           description  min_workload  \\\n3    DEINE AUFGABEN IM KUND:INNENSERVICE – EINSATZ ...           100   \n27   Unser Kunde bietet individuell angepasste ICT-...           100   \n40   Das Unternehmen, in dem du arbeiten wirst, ist...           100   \n41   Unser Partner verbindet Unternehmen, Technolog...           100   \n43   Unser Partner schafft eine Verbindung zwischen...           100   \n46   Die Vision unseres Partners ist es, Softwareen...           100   \n49   konekkt verbindet hochtalentierte IT-Fachkräft...           100   \n50   Vielseitige Position in innovativem Umfeld Uns...           100   \n53   Gestalte die digitale Zukunft in einem erstkla...           100   \n58   Gestalte die digitale Zukunft in einem innovat...            80   \n60   konekkt präsentiert ein innovatives Unternehme...            80   \n61   Unser Kunde ist ein dynamischer, innovativer u...           100   \n64   Bei unserem Partner, einem zukunftsorientierte...            80   \n65   Wir präsentieren Dir eine herausragende Gelege...            80   \n68   Das Unternehmen ist ein führender Dienstleiste...           100   \n71   Sicherstellung des reibungslosen IT-Betriebs m...           100   \n72   Unser Partner bietet dir die einzigartige Gele...           100   \n75   Unser Partner ist einer der führenden IT-Lösun...           100   \n79   Gestalte die Cloud Journey unseres führenden F...           100   \n82   konekkt verbindet talentierte IT Fachkräfte mi...           100   \n86   Tritt einem etablierten IT-Unternehmen in der ...            80   \n88   Das Unternehmen ist ein führender Dienstleiste...           100   \n92   Unser Partner ist ein junges dynamisches Unter...           100   \n96   Unser Partner bietet dir die einzigartige Mögl...           100   \n106  Are you a highly motivated SAP Architect looki...           100   \n109  Für unseren Kunden, ein renommiertes Unternehm...           100   \n\n     max_workload  min_salary  max_salary  block1_min_salary_fewshot  \\\n3             100       28300       28300                    60000.0   \n27            100      100000      120000                    90000.0   \n40            100       85000      110000                    90000.0   \n41            100      105000      130000                    90000.0   \n43            100       85000      110000                    90000.0   \n46            100      115000      135000                    90000.0   \n49            100       95000      125000                    90000.0   \n50            100      110000      135000                    90000.0   \n53            100      105000      130000                    90000.0   \n58            100      110000      135000                    90000.0   \n60            100      100000      130000                    90000.0   \n61            100       95000      115000                    80000.0   \n64            100       95000      125000                    90000.0   \n65            100       70000       95000                    80000.0   \n68            100       90000      115000                    90000.0   \n71            100       90000      115000                    90000.0   \n72            100      105000      125000                    90000.0   \n75            100      105000      125000                    90000.0   \n79            100      105000      125000                    90000.0   \n82            100      100000      120000                    90000.0   \n86            100      105000      125000                   110000.0   \n88            100       95000      115000                    90000.0   \n92            100      100000      120000                    80000.0   \n96            100      110000      130000                    90000.0   \n106           100      140000      180000                   120000.0   \n109           100       80000      120000                    70000.0   \n\n     block1_max_salary_fewshot           block1_answer_fewshot  \\\n3                      80000.0  Schätzung: 60'000 - 80'000 CHF   \n27                    110000.0      (90'000) und (110'000) CHF   \n40                    110000.0      (90'000) und (110'000) CHF   \n41                    110000.0      (90'000) und (110'000) CHF   \n43                    110000.0            90'000 - 110'000 CHF   \n46                    110000.0      (90'000) und (110'000) CHF   \n49                    110000.0      (90'000) und (110'000) CHF   \n50                    110000.0      (90'000) und (110'000) CHF   \n53                    110000.0      (90'000) und (110'000) CHF   \n58                    110000.0      (90'000) und (110'000) CHF   \n60                    110000.0      (90'000) und (110'000) CHF   \n61                    100000.0      (80'000) und (100'000) CHF   \n64                    110000.0      (90'000) und (110'000) CHF   \n65                    100000.0            80'000 - 100'000 CHF   \n68                    110000.0      (90'000) und (110'000) CHF   \n71                    110000.0      (90'000) und (110'000) CHF   \n72                    110000.0      (90'000) und (110'000) CHF   \n75                    110000.0      (90'000) und (110'000) CHF   \n79                    110000.0      (90'000) und (110'000) CHF   \n82                    110000.0      (90'000) und (110'000) CHF   \n86                    130000.0       (110000) und (130000) CHF   \n88                    110000.0      (90'000) und (110'000) CHF   \n92                    100000.0      (80'000) und (100'000) CHF   \n96                    110000.0      (90'000) und (110'000) CHF   \n106                   140000.0       (120000) und (140000) CHF   \n109                    90000.0           (70'000 - 90'000) CHF   \n\n     block1_2_min_salary_fewshot  block1_2_max_salary_fewshot  \\\n3                        60000.0                      80000.0   \n27                       90000.0                     110000.0   \n40                       80000.0                     100000.0   \n41                       90000.0                     110000.0   \n43                       80000.0                     100000.0   \n46                       90000.0                     110000.0   \n49                       90000.0                     110000.0   \n50                       90000.0                     110000.0   \n53                       90000.0                     110000.0   \n58                       90000.0                     110000.0   \n60                       90000.0                     110000.0   \n61                       80000.0                     100000.0   \n64                       90000.0                     110000.0   \n65                       80000.0                     100000.0   \n68                       90000.0                     110000.0   \n71                       80000.0                     100000.0   \n72                       90000.0                     110000.0   \n75                       90000.0                     110000.0   \n79                       90000.0                     110000.0   \n82                       90000.0                     110000.0   \n86                           NaN                          NaN   \n88                       90000.0                     110000.0   \n92                       70000.0                      90000.0   \n96                       90000.0                     110000.0   \n106                      90000.0                     110000.0   \n109                      80000.0                     100000.0   \n\n        block1_2_answer_fewshot  block1_2_3_min_salary_fewshot  \\\n3         (60'000 - 80'000) CHF                            NaN   \n27   (90'000) und (110'000) CHF                        90000.0   \n40         80'000 - 100'000 CHF                        90000.0   \n41   (90'000) und (110'000) CHF                        90000.0   \n43         80'000 - 100'000 CHF                        90000.0   \n46       90'000 und 110'000 CHF                        90000.0   \n49   (90'000) und (110'000) CHF                        90000.0   \n50   (90'000) und (110'000) CHF                        90000.0   \n53       90'000 und 110'000 CHF                        90000.0   \n58   (90'000) und (110'000) CHF                        90000.0   \n60       90'000 und 110'000 CHF                        90000.0   \n61       80'000 und 100'000 CHF                        80000.0   \n64   (90'000) und (110'000) CHF                        90000.0   \n65       80'000 und 100'000 CHF                        70000.0   \n68   (90'000) und (110'000) CHF                        80000.0   \n71       80'000 und 100'000 CHF                        80000.0   \n72       90'000 und 110'000 CHF                        90000.0   \n75   (90'000) und (110'000) CHF                        80000.0   \n79   (90'000) und (110'000) CHF                        90000.0   \n82       90'000 und 110'000 CHF                        90000.0   \n86        110000 und 130000 CHF                        90000.0   \n88   (90'000) und (110'000) CHF                        80000.0   \n92    (70'000) und (90'000) CHF                        80000.0   \n96       90'000 und 110'000 CHF                        90000.0   \n106  (90'000) und (110'000) CHF                       110000.0   \n109  (80'000) und (100'000) CHF                        70000.0   \n\n     block1_2_3_max_salary_fewshot   block1_2_3_answer_fewshot  \\\n3                              NaN         45000 und 65000 CHF   \n27                        110000.0      90'000 und 110'000 CHF   \n40                        110000.0      90'000 und 110'000 CHF   \n41                        110000.0      90'000 und 110'000 CHF   \n43                        110000.0      90'000 und 110'000 CHF   \n46                        110000.0      90'000 und 110'000 CHF   \n49                        110000.0  (90'000) und (110'000) CHF   \n50                        110000.0  (90'000) und (110'000) CHF   \n53                        110000.0      90'000 und 110'000 CHF   \n58                        110000.0  (90'000) und (110'000) CHF   \n60                        110000.0      90'000 und 110'000 CHF   \n61                        100000.0      80'000 und 100'000 CHF   \n64                        110000.0  (90'000) und (110'000) CHF   \n65                         90000.0   (70'000) und (90'000) CHF   \n68                        100000.0      80'000 und 100'000 CHF   \n71                        100000.0      80'000 und 100'000 CHF   \n72                        110000.0      90'000 und 110'000 CHF   \n75                        100000.0      80'000 und 100'000 CHF   \n79                        110000.0  (90'000) und (110'000) CHF   \n82                        110000.0      90'000 und 110'000 CHF   \n86                        110000.0      90'000 und 110'000 CHF   \n88                        100000.0      80'000 und 100'000 CHF   \n92                        100000.0  (80'000) und (100'000) CHF   \n96                        110000.0      90'000 und 110'000 CHF   \n106                       130000.0   (110000) und (130000) CHF   \n109                        90000.0     (70000) und (90000) CHF   \n\n     block1_2_3_4_min_salary_fewshot  block1_2_3_4_max_salary_fewshot  \\\n3                                NaN                              NaN   \n27                               NaN                              NaN   \n40                               NaN                              NaN   \n41                               NaN                              NaN   \n43                               NaN                              NaN   \n46                               NaN                              NaN   \n49                               NaN                              NaN   \n50                               NaN                              NaN   \n53                               NaN                              NaN   \n58                               NaN                              NaN   \n60                               NaN                              NaN   \n61                               NaN                              NaN   \n64                               NaN                              NaN   \n65                               NaN                              NaN   \n68                               NaN                              NaN   \n71                               NaN                              NaN   \n72                               NaN                              NaN   \n75                               NaN                              NaN   \n79                               NaN                              NaN   \n82                               NaN                              NaN   \n86                               NaN                              NaN   \n88                               NaN                              NaN   \n92                               NaN                              NaN   \n96                               NaN                              NaN   \n106                              NaN                              NaN   \n109                              NaN                              NaN   \n\n                           block1_2_3_4_answer_fewshot  \n3    Ich kenne das genaue Gehalt nicht, daher schät...  \n27   I don't have the exact salary for this positio...  \n40   I don't have the exact salary for this positio...  \n41   I don't have the exact salary for this positio...  \n43   I don't have the exact salary for this positio...  \n46   I don't have the exact salary for this positio...  \n49   I don't have the exact salary for this positio...  \n50   Ich kann leider kein exaktes Gehalt für die Po...  \n53   I don't have the exact salary for this positio...  \n58                         Ist leider nicht vorhanden.  \n60   I don't have the exact salary for this positio...  \n61   I don't have the exact salary for this positio...  \n64   I don't have the exact salary for this positio...  \n65   I don't have the exact salary for this positio...  \n68   I don't have the exact salary for this positio...  \n71   I don't have the exact salary for this positio...  \n72   I don't have the exact salary for this positio...  \n75   I don't have the exact salary for this positio...  \n79   I don't have the exact salary for this positio...  \n82   I don't have the exact salary for this positio...  \n86   I don't have the exact salary for this positio...  \n88   I don't have the exact salary for this positio...  \n92   I don't have the exact salary for this positio...  \n96   I don't have the exact salary for the position...  \n106                                         120000 CHF  \n109  I don't have the exact salary for this positio...  ",
      "text/html": "<div>\n<style scoped>\n    .dataframe tbody tr th:only-of-type {\n        vertical-align: middle;\n    }\n\n    .dataframe tbody tr th {\n        vertical-align: top;\n    }\n\n    .dataframe thead th {\n        text-align: right;\n    }\n</style>\n<table border=\"1\" class=\"dataframe\">\n  <thead>\n    <tr style=\"text-align: right;\">\n      <th></th>\n      <th>title</th>\n      <th>company</th>\n      <th>contract_type</th>\n      <th>description</th>\n      <th>min_workload</th>\n      <th>max_workload</th>\n      <th>min_salary</th>\n      <th>max_salary</th>\n      <th>block1_min_salary_fewshot</th>\n      <th>block1_max_salary_fewshot</th>\n      <th>block1_answer_fewshot</th>\n      <th>block1_2_min_salary_fewshot</th>\n      <th>block1_2_max_salary_fewshot</th>\n      <th>block1_2_answer_fewshot</th>\n      <th>block1_2_3_min_salary_fewshot</th>\n      <th>block1_2_3_max_salary_fewshot</th>\n      <th>block1_2_3_answer_fewshot</th>\n      <th>block1_2_3_4_min_salary_fewshot</th>\n      <th>block1_2_3_4_max_salary_fewshot</th>\n      <th>block1_2_3_4_answer_fewshot</th>\n    </tr>\n  </thead>\n  <tbody>\n    <tr>\n      <th>3</th>\n      <td>KAUFMÄNNISCHES PRAKTIKUM (100%) - MIT FOKUS KU...</td>\n      <td>gebana AG</td>\n      <td>Praktikum</td>\n      <td>DEINE AUFGABEN IM KUND:INNENSERVICE – EINSATZ ...</td>\n      <td>100</td>\n      <td>100</td>\n      <td>28300</td>\n      <td>28300</td>\n      <td>60000.0</td>\n      <td>80000.0</td>\n      <td>Schätzung: 60'000 - 80'000 CHF</td>\n      <td>60000.0</td>\n      <td>80000.0</td>\n      <td>(60'000 - 80'000) CHF</td>\n      <td>NaN</td>\n      <td>NaN</td>\n      <td>45000 und 65000 CHF</td>\n      <td>NaN</td>\n      <td>NaN</td>\n      <td>Ich kenne das genaue Gehalt nicht, daher schät...</td>\n    </tr>\n    <tr>\n      <th>27</th>\n      <td>Senior Network Engineer 80-100% (m/w/d)</td>\n      <td>konekkt GmbH</td>\n      <td>Festanstellung</td>\n      <td>Unser Kunde bietet individuell angepasste ICT-...</td>\n      <td>100</td>\n      <td>100</td>\n      <td>100000</td>\n      <td>120000</td>\n      <td>90000.0</td>\n      <td>110000.0</td>\n      <td>(90'000) und (110'000) CHF</td>\n      <td>90000.0</td>\n      <td>110000.0</td>\n      <td>(90'000) und (110'000) CHF</td>\n      <td>90000.0</td>\n      <td>110000.0</td>\n      <td>90'000 und 110'000 CHF</td>\n      <td>NaN</td>\n      <td>NaN</td>\n      <td>I don't have the exact salary for this positio...</td>\n    </tr>\n    <tr>\n      <th>40</th>\n      <td>IT Application Engineer 80-100% (m/w/d)</td>\n      <td>konekkt GmbH</td>\n      <td>Festanstellung</td>\n      <td>Das Unternehmen, in dem du arbeiten wirst, ist...</td>\n      <td>100</td>\n      <td>100</td>\n      <td>85000</td>\n      <td>110000</td>\n      <td>90000.0</td>\n      <td>110000.0</td>\n      <td>(90'000) und (110'000) CHF</td>\n      <td>80000.0</td>\n      <td>100000.0</td>\n      <td>80'000 - 100'000 CHF</td>\n      <td>90000.0</td>\n      <td>110000.0</td>\n      <td>90'000 und 110'000 CHF</td>\n      <td>NaN</td>\n      <td>NaN</td>\n      <td>I don't have the exact salary for this positio...</td>\n    </tr>\n    <tr>\n      <th>41</th>\n      <td>Security Engineer 80-100% (m/w/d)</td>\n      <td>konekkt GmbH</td>\n      <td>Festanstellung</td>\n      <td>Unser Partner verbindet Unternehmen, Technolog...</td>\n      <td>100</td>\n      <td>100</td>\n      <td>105000</td>\n      <td>130000</td>\n      <td>90000.0</td>\n      <td>110000.0</td>\n      <td>(90'000) und (110'000) CHF</td>\n      <td>90000.0</td>\n      <td>110000.0</td>\n      <td>(90'000) und (110'000) CHF</td>\n      <td>90000.0</td>\n      <td>110000.0</td>\n      <td>90'000 und 110'000 CHF</td>\n      <td>NaN</td>\n      <td>NaN</td>\n      <td>I don't have the exact salary for this positio...</td>\n    </tr>\n    <tr>\n      <th>43</th>\n      <td>IT Application Engineer 80-100% (m/w/d)</td>\n      <td>konekkt GmbH</td>\n      <td>Festanstellung</td>\n      <td>Unser Partner schafft eine Verbindung zwischen...</td>\n      <td>100</td>\n      <td>100</td>\n      <td>85000</td>\n      <td>110000</td>\n      <td>90000.0</td>\n      <td>110000.0</td>\n      <td>90'000 - 110'000 CHF</td>\n      <td>80000.0</td>\n      <td>100000.0</td>\n      <td>80'000 - 100'000 CHF</td>\n      <td>90000.0</td>\n      <td>110000.0</td>\n      <td>90'000 und 110'000 CHF</td>\n      <td>NaN</td>\n      <td>NaN</td>\n      <td>I don't have the exact salary for this positio...</td>\n    </tr>\n    <tr>\n      <th>46</th>\n      <td>DevOps Engineer 80-100% (m/w/d)</td>\n      <td>konekkt GmbH</td>\n      <td>Festanstellung</td>\n      <td>Die Vision unseres Partners ist es, Softwareen...</td>\n      <td>100</td>\n      <td>100</td>\n      <td>115000</td>\n      <td>135000</td>\n      <td>90000.0</td>\n      <td>110000.0</td>\n      <td>(90'000) und (110'000) CHF</td>\n      <td>90000.0</td>\n      <td>110000.0</td>\n      <td>90'000 und 110'000 CHF</td>\n      <td>90000.0</td>\n      <td>110000.0</td>\n      <td>90'000 und 110'000 CHF</td>\n      <td>NaN</td>\n      <td>NaN</td>\n      <td>I don't have the exact salary for this positio...</td>\n    </tr>\n    <tr>\n      <th>49</th>\n      <td>C# / .NET Senior Software Developer</td>\n      <td>konekkt GmbH</td>\n      <td>Festanstellung</td>\n      <td>konekkt verbindet hochtalentierte IT-Fachkräft...</td>\n      <td>100</td>\n      <td>100</td>\n      <td>95000</td>\n      <td>125000</td>\n      <td>90000.0</td>\n      <td>110000.0</td>\n      <td>(90'000) und (110'000) CHF</td>\n      <td>90000.0</td>\n      <td>110000.0</td>\n      <td>(90'000) und (110'000) CHF</td>\n      <td>90000.0</td>\n      <td>110000.0</td>\n      <td>(90'000) und (110'000) CHF</td>\n      <td>NaN</td>\n      <td>NaN</td>\n      <td>I don't have the exact salary for this positio...</td>\n    </tr>\n    <tr>\n      <th>50</th>\n      <td>(Senior) Software Engineer als Consultant 80-1...</td>\n      <td>konekkt GmbH</td>\n      <td>Festanstellung</td>\n      <td>Vielseitige Position in innovativem Umfeld Uns...</td>\n      <td>100</td>\n      <td>100</td>\n      <td>110000</td>\n      <td>135000</td>\n      <td>90000.0</td>\n      <td>110000.0</td>\n      <td>(90'000) und (110'000) CHF</td>\n      <td>90000.0</td>\n      <td>110000.0</td>\n      <td>(90'000) und (110'000) CHF</td>\n      <td>90000.0</td>\n      <td>110000.0</td>\n      <td>(90'000) und (110'000) CHF</td>\n      <td>NaN</td>\n      <td>NaN</td>\n      <td>Ich kann leider kein exaktes Gehalt für die Po...</td>\n    </tr>\n    <tr>\n      <th>53</th>\n      <td>C#.NET Software Developer 80-100% (m/w/d)</td>\n      <td>konekkt GmbH</td>\n      <td>Festanstellung</td>\n      <td>Gestalte die digitale Zukunft in einem erstkla...</td>\n      <td>100</td>\n      <td>100</td>\n      <td>105000</td>\n      <td>130000</td>\n      <td>90000.0</td>\n      <td>110000.0</td>\n      <td>(90'000) und (110'000) CHF</td>\n      <td>90000.0</td>\n      <td>110000.0</td>\n      <td>90'000 und 110'000 CHF</td>\n      <td>90000.0</td>\n      <td>110000.0</td>\n      <td>90'000 und 110'000 CHF</td>\n      <td>NaN</td>\n      <td>NaN</td>\n      <td>I don't have the exact salary for this positio...</td>\n    </tr>\n    <tr>\n      <th>58</th>\n      <td>Software Engineer Java 80-100% (m/w/d) mit Pot...</td>\n      <td>konekkt GmbH</td>\n      <td>Festanstellung</td>\n      <td>Gestalte die digitale Zukunft in einem innovat...</td>\n      <td>80</td>\n      <td>100</td>\n      <td>110000</td>\n      <td>135000</td>\n      <td>90000.0</td>\n      <td>110000.0</td>\n      <td>(90'000) und (110'000) CHF</td>\n      <td>90000.0</td>\n      <td>110000.0</td>\n      <td>(90'000) und (110'000) CHF</td>\n      <td>90000.0</td>\n      <td>110000.0</td>\n      <td>(90'000) und (110'000) CHF</td>\n      <td>NaN</td>\n      <td>NaN</td>\n      <td>Ist leider nicht vorhanden.</td>\n    </tr>\n    <tr>\n      <th>60</th>\n      <td>System Engineer Microsoft 80-100% (m/w/d)</td>\n      <td>konekkt GmbH</td>\n      <td>Festanstellung</td>\n      <td>konekkt präsentiert ein innovatives Unternehme...</td>\n      <td>80</td>\n      <td>100</td>\n      <td>100000</td>\n      <td>130000</td>\n      <td>90000.0</td>\n      <td>110000.0</td>\n      <td>(90'000) und (110'000) CHF</td>\n      <td>90000.0</td>\n      <td>110000.0</td>\n      <td>90'000 und 110'000 CHF</td>\n      <td>90000.0</td>\n      <td>110000.0</td>\n      <td>90'000 und 110'000 CHF</td>\n      <td>NaN</td>\n      <td>NaN</td>\n      <td>I don't have the exact salary for this positio...</td>\n    </tr>\n    <tr>\n      <th>61</th>\n      <td>ICT System Administrator 80-100 % (m/w/d)</td>\n      <td>konekkt GmbH</td>\n      <td>Festanstellung</td>\n      <td>Unser Kunde ist ein dynamischer, innovativer u...</td>\n      <td>100</td>\n      <td>100</td>\n      <td>95000</td>\n      <td>115000</td>\n      <td>80000.0</td>\n      <td>100000.0</td>\n      <td>(80'000) und (100'000) CHF</td>\n      <td>80000.0</td>\n      <td>100000.0</td>\n      <td>80'000 und 100'000 CHF</td>\n      <td>80000.0</td>\n      <td>100000.0</td>\n      <td>80'000 und 100'000 CHF</td>\n      <td>NaN</td>\n      <td>NaN</td>\n      <td>I don't have the exact salary for this positio...</td>\n    </tr>\n    <tr>\n      <th>64</th>\n      <td>System Engineer (PowerShell) – Scripting Maste...</td>\n      <td>konekkt GmbH</td>\n      <td>Festanstellung</td>\n      <td>Bei unserem Partner, einem zukunftsorientierte...</td>\n      <td>80</td>\n      <td>100</td>\n      <td>95000</td>\n      <td>125000</td>\n      <td>90000.0</td>\n      <td>110000.0</td>\n      <td>(90'000) und (110'000) CHF</td>\n      <td>90000.0</td>\n      <td>110000.0</td>\n      <td>(90'000) und (110'000) CHF</td>\n      <td>90000.0</td>\n      <td>110000.0</td>\n      <td>(90'000) und (110'000) CHF</td>\n      <td>NaN</td>\n      <td>NaN</td>\n      <td>I don't have the exact salary for this positio...</td>\n    </tr>\n    <tr>\n      <th>65</th>\n      <td>IT Support Engineer – Lösungsfinder im Tech-Um...</td>\n      <td>konekkt GmbH</td>\n      <td>Festanstellung</td>\n      <td>Wir präsentieren Dir eine herausragende Gelege...</td>\n      <td>80</td>\n      <td>100</td>\n      <td>70000</td>\n      <td>95000</td>\n      <td>80000.0</td>\n      <td>100000.0</td>\n      <td>80'000 - 100'000 CHF</td>\n      <td>80000.0</td>\n      <td>100000.0</td>\n      <td>80'000 und 100'000 CHF</td>\n      <td>70000.0</td>\n      <td>90000.0</td>\n      <td>(70'000) und (90'000) CHF</td>\n      <td>NaN</td>\n      <td>NaN</td>\n      <td>I don't have the exact salary for this positio...</td>\n    </tr>\n    <tr>\n      <th>68</th>\n      <td>System Engineer 80-100% (m/w/d)</td>\n      <td>konekkt GmbH</td>\n      <td>Festanstellung</td>\n      <td>Das Unternehmen ist ein führender Dienstleiste...</td>\n      <td>100</td>\n      <td>100</td>\n      <td>90000</td>\n      <td>115000</td>\n      <td>90000.0</td>\n      <td>110000.0</td>\n      <td>(90'000) und (110'000) CHF</td>\n      <td>90000.0</td>\n      <td>110000.0</td>\n      <td>(90'000) und (110'000) CHF</td>\n      <td>80000.0</td>\n      <td>100000.0</td>\n      <td>80'000 und 100'000 CHF</td>\n      <td>NaN</td>\n      <td>NaN</td>\n      <td>I don't have the exact salary for this positio...</td>\n    </tr>\n    <tr>\n      <th>71</th>\n      <td>Cloud System Administrator 80-100% (m/w/d)</td>\n      <td>konekkt GmbH</td>\n      <td>Festanstellung</td>\n      <td>Sicherstellung des reibungslosen IT-Betriebs m...</td>\n      <td>100</td>\n      <td>100</td>\n      <td>90000</td>\n      <td>115000</td>\n      <td>90000.0</td>\n      <td>110000.0</td>\n      <td>(90'000) und (110'000) CHF</td>\n      <td>80000.0</td>\n      <td>100000.0</td>\n      <td>80'000 und 100'000 CHF</td>\n      <td>80000.0</td>\n      <td>100000.0</td>\n      <td>80'000 und 100'000 CHF</td>\n      <td>NaN</td>\n      <td>NaN</td>\n      <td>I don't have the exact salary for this positio...</td>\n    </tr>\n    <tr>\n      <th>72</th>\n      <td>Java Fullstack Software Engineer 80-100% (m/w/d)</td>\n      <td>konekkt GmbH</td>\n      <td>Festanstellung</td>\n      <td>Unser Partner bietet dir die einzigartige Gele...</td>\n      <td>100</td>\n      <td>100</td>\n      <td>105000</td>\n      <td>125000</td>\n      <td>90000.0</td>\n      <td>110000.0</td>\n      <td>(90'000) und (110'000) CHF</td>\n      <td>90000.0</td>\n      <td>110000.0</td>\n      <td>90'000 und 110'000 CHF</td>\n      <td>90000.0</td>\n      <td>110000.0</td>\n      <td>90'000 und 110'000 CHF</td>\n      <td>NaN</td>\n      <td>NaN</td>\n      <td>I don't have the exact salary for this positio...</td>\n    </tr>\n    <tr>\n      <th>75</th>\n      <td>System Engineer 80-100% (m/w/d)</td>\n      <td>konekkt GmbH</td>\n      <td>Festanstellung</td>\n      <td>Unser Partner ist einer der führenden IT-Lösun...</td>\n      <td>100</td>\n      <td>100</td>\n      <td>105000</td>\n      <td>125000</td>\n      <td>90000.0</td>\n      <td>110000.0</td>\n      <td>(90'000) und (110'000) CHF</td>\n      <td>90000.0</td>\n      <td>110000.0</td>\n      <td>(90'000) und (110'000) CHF</td>\n      <td>80000.0</td>\n      <td>100000.0</td>\n      <td>80'000 und 100'000 CHF</td>\n      <td>NaN</td>\n      <td>NaN</td>\n      <td>I don't have the exact salary for this positio...</td>\n    </tr>\n    <tr>\n      <th>79</th>\n      <td>System Engineer Azure Cloud 80-100% (m/w/d)</td>\n      <td>konekkt GmbH</td>\n      <td>Festanstellung</td>\n      <td>Gestalte die Cloud Journey unseres führenden F...</td>\n      <td>100</td>\n      <td>100</td>\n      <td>105000</td>\n      <td>125000</td>\n      <td>90000.0</td>\n      <td>110000.0</td>\n      <td>(90'000) und (110'000) CHF</td>\n      <td>90000.0</td>\n      <td>110000.0</td>\n      <td>(90'000) und (110'000) CHF</td>\n      <td>90000.0</td>\n      <td>110000.0</td>\n      <td>(90'000) und (110'000) CHF</td>\n      <td>NaN</td>\n      <td>NaN</td>\n      <td>I don't have the exact salary for this positio...</td>\n    </tr>\n    <tr>\n      <th>82</th>\n      <td>DevOps Engineer 100% (m/w/d)</td>\n      <td>konekkt GmbH</td>\n      <td>Festanstellung</td>\n      <td>konekkt verbindet talentierte IT Fachkräfte mi...</td>\n      <td>100</td>\n      <td>100</td>\n      <td>100000</td>\n      <td>120000</td>\n      <td>90000.0</td>\n      <td>110000.0</td>\n      <td>(90'000) und (110'000) CHF</td>\n      <td>90000.0</td>\n      <td>110000.0</td>\n      <td>90'000 und 110'000 CHF</td>\n      <td>90000.0</td>\n      <td>110000.0</td>\n      <td>90'000 und 110'000 CHF</td>\n      <td>NaN</td>\n      <td>NaN</td>\n      <td>I don't have the exact salary for this positio...</td>\n    </tr>\n    <tr>\n      <th>86</th>\n      <td>Senior Frontend Developer (m/w/d) 80-100%</td>\n      <td>konekkt GmbH</td>\n      <td>Festanstellung</td>\n      <td>Tritt einem etablierten IT-Unternehmen in der ...</td>\n      <td>80</td>\n      <td>100</td>\n      <td>105000</td>\n      <td>125000</td>\n      <td>110000.0</td>\n      <td>130000.0</td>\n      <td>(110000) und (130000) CHF</td>\n      <td>NaN</td>\n      <td>NaN</td>\n      <td>110000 und 130000 CHF</td>\n      <td>90000.0</td>\n      <td>110000.0</td>\n      <td>90'000 und 110'000 CHF</td>\n      <td>NaN</td>\n      <td>NaN</td>\n      <td>I don't have the exact salary for this positio...</td>\n    </tr>\n    <tr>\n      <th>88</th>\n      <td>System Engineer 80-100% (m/w/d)</td>\n      <td>konekkt GmbH</td>\n      <td>Festanstellung</td>\n      <td>Das Unternehmen ist ein führender Dienstleiste...</td>\n      <td>100</td>\n      <td>100</td>\n      <td>95000</td>\n      <td>115000</td>\n      <td>90000.0</td>\n      <td>110000.0</td>\n      <td>(90'000) und (110'000) CHF</td>\n      <td>90000.0</td>\n      <td>110000.0</td>\n      <td>(90'000) und (110'000) CHF</td>\n      <td>80000.0</td>\n      <td>100000.0</td>\n      <td>80'000 und 100'000 CHF</td>\n      <td>NaN</td>\n      <td>NaN</td>\n      <td>I don't have the exact salary for this positio...</td>\n    </tr>\n    <tr>\n      <th>92</th>\n      <td>IT System Administrator 80 - 100%</td>\n      <td>konekkt GmbH</td>\n      <td>Festanstellung</td>\n      <td>Unser Partner ist ein junges dynamisches Unter...</td>\n      <td>100</td>\n      <td>100</td>\n      <td>100000</td>\n      <td>120000</td>\n      <td>80000.0</td>\n      <td>100000.0</td>\n      <td>(80'000) und (100'000) CHF</td>\n      <td>70000.0</td>\n      <td>90000.0</td>\n      <td>(70'000) und (90'000) CHF</td>\n      <td>80000.0</td>\n      <td>100000.0</td>\n      <td>(80'000) und (100'000) CHF</td>\n      <td>NaN</td>\n      <td>NaN</td>\n      <td>I don't have the exact salary for this positio...</td>\n    </tr>\n    <tr>\n      <th>96</th>\n      <td>Fullstack Software Engineer 80-100% (m/w/d)</td>\n      <td>konekkt GmbH</td>\n      <td>Festanstellung</td>\n      <td>Unser Partner bietet dir die einzigartige Mögl...</td>\n      <td>100</td>\n      <td>100</td>\n      <td>110000</td>\n      <td>130000</td>\n      <td>90000.0</td>\n      <td>110000.0</td>\n      <td>(90'000) und (110'000) CHF</td>\n      <td>90000.0</td>\n      <td>110000.0</td>\n      <td>90'000 und 110'000 CHF</td>\n      <td>90000.0</td>\n      <td>110000.0</td>\n      <td>90'000 und 110'000 CHF</td>\n      <td>NaN</td>\n      <td>NaN</td>\n      <td>I don't have the exact salary for the position...</td>\n    </tr>\n    <tr>\n      <th>106</th>\n      <td>SAP Architect</td>\n      <td>TalentCloud Group GmbH</td>\n      <td>Festanstellung</td>\n      <td>Are you a highly motivated SAP Architect looki...</td>\n      <td>100</td>\n      <td>100</td>\n      <td>140000</td>\n      <td>180000</td>\n      <td>120000.0</td>\n      <td>140000.0</td>\n      <td>(120000) und (140000) CHF</td>\n      <td>90000.0</td>\n      <td>110000.0</td>\n      <td>(90'000) und (110'000) CHF</td>\n      <td>110000.0</td>\n      <td>130000.0</td>\n      <td>(110000) und (130000) CHF</td>\n      <td>NaN</td>\n      <td>NaN</td>\n      <td>120000 CHF</td>\n    </tr>\n    <tr>\n      <th>109</th>\n      <td>Automatisierungstechniker (m/w)</td>\n      <td>yellowshark</td>\n      <td>Festanstellung</td>\n      <td>Für unseren Kunden, ein renommiertes Unternehm...</td>\n      <td>100</td>\n      <td>100</td>\n      <td>80000</td>\n      <td>120000</td>\n      <td>70000.0</td>\n      <td>90000.0</td>\n      <td>(70'000 - 90'000) CHF</td>\n      <td>80000.0</td>\n      <td>100000.0</td>\n      <td>(80'000) und (100'000) CHF</td>\n      <td>70000.0</td>\n      <td>90000.0</td>\n      <td>(70000) und (90000) CHF</td>\n      <td>NaN</td>\n      <td>NaN</td>\n      <td>I don't have the exact salary for this positio...</td>\n    </tr>\n  </tbody>\n</table>\n</div>"
     },
     "execution_count": 188,
     "metadata": {},
     "output_type": "execute_result"
    }
   ],
   "source": [
    "llm_block1_2_3_4_fewshot[llm_block1_2_3_4_fewshot['block1_2_3_4_min_salary_fewshot'].isnull() & llm_block1_2_3_4_fewshot['block1_2_3_4_max_salary_fewshot'].isnull()]"
   ],
   "metadata": {
    "collapsed": false,
    "ExecuteTime": {
     "end_time": "2024-07-08T08:27:01.875640300Z",
     "start_time": "2024-07-08T08:27:01.794035200Z"
    }
   },
   "id": "f4a3b86a02e81c72"
  },
  {
   "cell_type": "markdown",
   "source": [
    "## LLM request with Block 1,2,3,4,5 and fewshot with Block 1,2,3,4,5 and salary\n",
    "Hier ist die Beschreibung, was Sie benötigen und tun müssen: {row['description']}.\n",
    "Hier ist die Beschreibung, was Sie benötigen und tun müssen: {description} \"\n"
   ],
   "metadata": {
    "collapsed": false
   },
   "id": "d61b50d372020c04"
  },
  {
   "cell_type": "code",
   "execution_count": 191,
   "outputs": [
    {
     "name": "stdout",
     "output_type": "stream",
     "text": [
      "0\n",
      "90000 110000\n",
      "1\n",
      "92000 113000\n",
      "2\n",
      "80000 100000\n",
      "3\n",
      "None None\n",
      "4\n",
      "90000 110000\n",
      "5\n",
      "112000 132000\n",
      "6\n",
      "100000 112000\n",
      "7\n",
      "90000 110000\n",
      "8\n",
      "80000 120000\n",
      "9\n",
      "80000 120000\n",
      "10\n",
      "None None\n",
      "11\n",
      "92000 110000\n",
      "12\n",
      "90000 110000\n",
      "13\n",
      "80000 100000\n",
      "14\n",
      "100000 120000\n",
      "15\n",
      "None None\n",
      "16\n",
      "120000 140000\n",
      "17\n",
      "90000 110000\n",
      "18\n",
      "60000 80000\n",
      "19\n",
      "None None\n",
      "20\n",
      "90000 110000\n",
      "21\n",
      "90000 110000\n",
      "22\n",
      "None None\n",
      "23\n",
      "90000 110000\n",
      "24\n",
      "80000 100000\n",
      "25\n",
      "80000 100000\n",
      "26\n",
      "90000 110000\n",
      "27\n",
      "90000 110000\n",
      "28\n",
      "90000 110000\n",
      "29\n",
      "80000 100000\n",
      "30\n",
      "65000 85000\n",
      "31\n",
      "80000 100000\n",
      "32\n",
      "90000 110000\n",
      "33\n",
      "90000 110000\n",
      "34\n",
      "80000 100000\n",
      "35\n",
      "90000 110000\n",
      "36\n",
      "90000 110000\n",
      "37\n",
      "90000 110000\n",
      "38\n",
      "90000 110000\n",
      "39\n",
      "80000 100000\n",
      "40\n",
      "80000 100000\n",
      "41\n",
      "90000 110000\n",
      "42\n",
      "90000 110000\n",
      "43\n",
      "80000 100000\n",
      "44\n",
      "90000 110000\n",
      "45\n",
      "90000 110000\n",
      "46\n",
      "90000 110000\n",
      "47\n",
      "90000 110000\n",
      "48\n",
      "110000 130000\n",
      "49\n",
      "90000 110000\n",
      "50\n",
      "90000 110000\n",
      "51\n",
      "90000 110000\n",
      "52\n",
      "65000 85000\n",
      "53\n",
      "90000 110000\n",
      "54\n",
      "90000 110000\n",
      "55\n",
      "90000 110000\n",
      "56\n",
      "None None\n",
      "57\n",
      "90000 110000\n",
      "58\n",
      "90000 110000\n",
      "59\n",
      "90000 110000\n",
      "60\n",
      "90000 110000\n",
      "61\n",
      "70000 90000\n",
      "62\n",
      "90000 110000\n",
      "63\n",
      "90000 110000\n",
      "64\n",
      "90000 110000\n",
      "65\n",
      "80000 100000\n",
      "66\n",
      "90000 110000\n",
      "67\n",
      "65000 85000\n",
      "68\n",
      "90000 110000\n",
      "69\n",
      "80000 100000\n",
      "70\n",
      "80000 100000\n",
      "71\n",
      "80000 100000\n",
      "72\n",
      "90000 110000\n",
      "73\n",
      "None None\n",
      "74\n",
      "90000 110000\n",
      "75\n",
      "80000 100000\n",
      "76\n",
      "80000 100000\n",
      "77\n",
      "80000 100000\n",
      "78\n",
      "90000 110000\n",
      "79\n",
      "90000 110000\n",
      "80\n",
      "90000 110000\n",
      "81\n",
      "65000 85000\n",
      "82\n",
      "90000 110000\n",
      "83\n",
      "90000 110000\n",
      "84\n",
      "90000 110000\n",
      "85\n",
      "90000 110000\n",
      "86\n",
      "90000 110000\n",
      "87\n",
      "90000 110000\n",
      "88\n",
      "80000 100000\n",
      "89\n",
      "80000 100000\n",
      "90\n",
      "90000 110000\n",
      "91\n",
      "90000 110000\n",
      "92\n",
      "70000 90000\n",
      "93\n",
      "90000 110000\n",
      "94\n",
      "90000 110000\n",
      "95\n",
      "80000 100000\n",
      "96\n",
      "90000 110000\n",
      "97\n",
      "90000 110000\n",
      "98\n",
      "65000 85000\n",
      "99\n",
      "80000 100000\n",
      "100\n",
      "80000 100000\n",
      "101\n",
      "None None\n",
      "102\n",
      "90000 110000\n",
      "103\n",
      "90000 110000\n",
      "104\n",
      "90000 110000\n",
      "105\n",
      "90000 110000\n",
      "106\n",
      "None None\n",
      "107\n",
      "None None\n",
      "108\n",
      "80000 100000\n",
      "109\n",
      "80000 100000\n"
     ]
    }
   ],
   "source": [
    "# change here for new prompt and message below ------------\n",
    "results_file = 'data/llm_block1_2_3_4_5_fewshot.csv'\n",
    "min = 'block1_2_3_4_5_min_salary_fewshot'\n",
    "max = 'block1_2_3_4_5_max_salary_fewshot'\n",
    "answer = 'block1_2_3_4_5_answer_fewshot'\n",
    "# Setup and load initial data\n",
    "if os.path.exists(results_file):\n",
    "    df = pd.read_csv(results_file)\n",
    "else:\n",
    "    df[min] = None  # Initialize columns if starting fresh\n",
    "    df[max] = None\n",
    "    df[answer] = None \n",
    "\n",
    "# change content here for new prompt and message below ------------\n",
    "def generate_query(row):\n",
    "    return {\n",
    "        \"role\": \"user\",\n",
    "        \"content\": f\"Gib mir nur das Gehalt im Format (\\d{1,3}(?:'\\d{3})*) und (\\d{1,3}(?:'\\d{3})) CHF für die Position {row['title']} bei der Firma {row['company']} in Zürich, Schweiz. Mit einer Arbeitszeit von {row['min_workload']} bis {row['max_workload']} Prozent  und der Vertragsart {row['contract_type']}. Hier ist die Beschreibung, was Sie benötigen und tun müssen: {row['description']}. Wenn du das genaue Gehalt nicht kennst, gib bitte eine Schätzung an. Der angegebene Gehaltsbereich sollte dabei eine maximale Spanne von 20000 CHF nicht überschreiten.\"\n",
    "    }\n",
    "\n",
    "def generate_message(title, company, min_salary, max_salary, min_workload, max_workload, contract_type,description):\n",
    "    return {\n",
    "        \"role\": \"user\",\n",
    "        \"content\": f\"Das Gehalt für die Position {title}  bei der Firma {company} mit einer Arbeitszeit von {min_workload} bis {max_workload} Prozent und der Vertragsart {contract_type} liegt zwischen {min_salary} und {max_salary}. Hier ist die Beschreibung, was Sie benötigen und tun müssen: {description} \"\n",
    "    }\n",
    "\n",
    "def run_model(limit):\n",
    "    start_index = df[min].last_valid_index() + 1 if df[max].last_valid_index() != None else 0\n",
    "    \n",
    "    example_messages = [generate_message(row['title'], row['company'], row['min_salary'], row['max_salary'], row['min_workload'], row['max_workload'], row['description'], row['contract_type']) for index, row in df_with_salary_few_shot.iterrows()]\n",
    "    \n",
    "    for index, row in df.iloc[start_index:start_index + limit].iterrows():\n",
    "        query_message = generate_query(row)\n",
    "        \n",
    "        # API call simulation\n",
    "        response = client.chat.completions.create(\n",
    "            messages= example_messages + [query_message],\n",
    "            model=\"llama3-70b-8192\",\n",
    "            temperature=0.0\n",
    "        )\n",
    "        \n",
    "        # Assuming 'response' is the variable containing the API response\n",
    "        if hasattr(response, 'headers'):\n",
    "            # Check if you're close to hitting the rate limits\n",
    "            remaining_tokens = int(response.headers.get('x-ratelimit-remaining-tokens', '100'))\n",
    "            remaining_requests = int(response.headers.get('x-ratelimit-remaining-requests', '100'))\n",
    "            \n",
    "            if remaining_tokens < 200:  # Threshold for tokens; adjust as needed\n",
    "                print(f\"Warning: Low token count! Only {remaining_tokens} tokens remaining.\")\n",
    "            if remaining_requests < 10:  # Threshold for requests; adjust as needed\n",
    "                print(f\"Warning: Low request count! Only {remaining_requests} requests remaining.\")\n",
    "\n",
    "        # Extract salaries from the completion\n",
    "        min_salary, max_salary = extract_salaries(response.choices[0].message.content)\n",
    "        print(index)\n",
    "        print(min_salary, max_salary)\n",
    "        \n",
    "        # Update DataFrame\n",
    "        df.at[index, min] = min_salary\n",
    "        df.at[index, max] = max_salary\n",
    "        df.at[index, answer] = response.choices[0].message.content\n",
    "        \n",
    "        # Save updated DataFrame in chunks or fully, depending on your preference\n",
    "        df.to_csv(results_file, index=False)\n",
    "\n",
    "# Testing the function with a limited number of entries\n",
    "run_model(10000)\n"
   ],
   "metadata": {
    "collapsed": false,
    "ExecuteTime": {
     "end_time": "2024-07-08T09:39:15.661014900Z",
     "start_time": "2024-07-08T08:45:48.656370800Z"
    }
   },
   "id": "214ed01a2cb55991"
  },
  {
   "cell_type": "code",
   "execution_count": 192,
   "outputs": [
    {
     "data": {
      "text/plain": "                                               title             company  \\\n0                             Software Engineer .Net  ELCA Informatik AG   \n1                      Digital Analyst / Web Analyst             Unic AG   \n2                             ICT Supporter 100% (a)       Spitex Zürich   \n3  KAUFMÄNNISCHES PRAKTIKUM (100%) - MIT FOKUS KU...           gebana AG   \n4  System Engineer für Microsoft-Technologien und...        konekkt GmbH   \n\n    contract_type                                        description  \\\n0  Festanstellung  Über ELCA Wir sind ELCA, einer der grössten Sc...   \n1  Festanstellung  Deine Aufgaben als Digital Analyst bei Unic   ...   \n2  Festanstellung  Möchtest du auch etwas bewegen und deine Arbei...   \n3       Praktikum  DEINE AUFGABEN IM KUND:INNENSERVICE – EINSATZ ...   \n4  Festanstellung  Wir präsentieren eine faszinierende Karrieremö...   \n\n   min_workload  max_workload  min_salary  max_salary  \\\n0            80           100      100000      130000   \n1            80           100       90000      113000   \n2           100           100       78000       96000   \n3           100           100       28300       28300   \n4            80           100       95000      125000   \n\n   block1_min_salary_fewshot  block1_max_salary_fewshot  ...  \\\n0                    90000.0                   110000.0  ...   \n1                    80000.0                   100000.0  ...   \n2                    70000.0                    90000.0  ...   \n3                    60000.0                    80000.0  ...   \n4                    90000.0                   110000.0  ...   \n\n      block1_2_answer_fewshot  block1_2_3_min_salary_fewshot  \\\n0  (90'000) und (110'000) CHF                        90000.0   \n1      80'000 und 100'000 CHF                        70000.0   \n2   (60'000) und (80'000) CHF                        70000.0   \n3       (60'000 - 80'000) CHF                            NaN   \n4  (90'000) und (110'000) CHF                        90000.0   \n\n   block1_2_3_max_salary_fewshot   block1_2_3_answer_fewshot  \\\n0                       110000.0  (90'000) und (110'000) CHF   \n1                        90000.0     (70000) und (90000) CHF   \n2                        90000.0     (70000) und (90000) CHF   \n3                            NaN         45000 und 65000 CHF   \n4                       110000.0  (90'000) und (110'000) CHF   \n\n   block1_2_3_4_min_salary_fewshot  block1_2_3_4_max_salary_fewshot  \\\n0                          90000.0                         110000.0   \n1                          80000.0                         100000.0   \n2                          80000.0                         100000.0   \n3                              NaN                              NaN   \n4                          90000.0                         110000.0   \n\n                         block1_2_3_4_answer_fewshot  \\\n0  Das Gehalt für die Position Software Engineer ...   \n1                               80'000 - 100'000 CHF   \n2                               80'000 - 100'000 CHF   \n3  Ich kenne das genaue Gehalt nicht, daher schät...   \n4                               90'000 - 110'000 CHF   \n\n   block1_2_3_4_5_min_salary_fewshot  block1_2_3_4_5_max_salary_fewshot  \\\n0                            90000.0                           110000.0   \n1                            92000.0                           113000.0   \n2                            80000.0                           100000.0   \n3                                NaN                                NaN   \n4                            90000.0                           110000.0   \n\n                       block1_2_3_4_5_answer_fewshot  \n0  Das Gehalt für die Position Software Engineer ...  \n1                               92'000 - 113'000 CHF  \n2  Das Gehalt beträgt zwischen 80'000 und 100'000...  \n3                                           2177 CHF  \n4                             (90'000 - 110'000) CHF  \n\n[5 rows x 23 columns]",
      "text/html": "<div>\n<style scoped>\n    .dataframe tbody tr th:only-of-type {\n        vertical-align: middle;\n    }\n\n    .dataframe tbody tr th {\n        vertical-align: top;\n    }\n\n    .dataframe thead th {\n        text-align: right;\n    }\n</style>\n<table border=\"1\" class=\"dataframe\">\n  <thead>\n    <tr style=\"text-align: right;\">\n      <th></th>\n      <th>title</th>\n      <th>company</th>\n      <th>contract_type</th>\n      <th>description</th>\n      <th>min_workload</th>\n      <th>max_workload</th>\n      <th>min_salary</th>\n      <th>max_salary</th>\n      <th>block1_min_salary_fewshot</th>\n      <th>block1_max_salary_fewshot</th>\n      <th>...</th>\n      <th>block1_2_answer_fewshot</th>\n      <th>block1_2_3_min_salary_fewshot</th>\n      <th>block1_2_3_max_salary_fewshot</th>\n      <th>block1_2_3_answer_fewshot</th>\n      <th>block1_2_3_4_min_salary_fewshot</th>\n      <th>block1_2_3_4_max_salary_fewshot</th>\n      <th>block1_2_3_4_answer_fewshot</th>\n      <th>block1_2_3_4_5_min_salary_fewshot</th>\n      <th>block1_2_3_4_5_max_salary_fewshot</th>\n      <th>block1_2_3_4_5_answer_fewshot</th>\n    </tr>\n  </thead>\n  <tbody>\n    <tr>\n      <th>0</th>\n      <td>Software Engineer .Net</td>\n      <td>ELCA Informatik AG</td>\n      <td>Festanstellung</td>\n      <td>Über ELCA Wir sind ELCA, einer der grössten Sc...</td>\n      <td>80</td>\n      <td>100</td>\n      <td>100000</td>\n      <td>130000</td>\n      <td>90000.0</td>\n      <td>110000.0</td>\n      <td>...</td>\n      <td>(90'000) und (110'000) CHF</td>\n      <td>90000.0</td>\n      <td>110000.0</td>\n      <td>(90'000) und (110'000) CHF</td>\n      <td>90000.0</td>\n      <td>110000.0</td>\n      <td>Das Gehalt für die Position Software Engineer ...</td>\n      <td>90000.0</td>\n      <td>110000.0</td>\n      <td>Das Gehalt für die Position Software Engineer ...</td>\n    </tr>\n    <tr>\n      <th>1</th>\n      <td>Digital Analyst / Web Analyst</td>\n      <td>Unic AG</td>\n      <td>Festanstellung</td>\n      <td>Deine Aufgaben als Digital Analyst bei Unic   ...</td>\n      <td>80</td>\n      <td>100</td>\n      <td>90000</td>\n      <td>113000</td>\n      <td>80000.0</td>\n      <td>100000.0</td>\n      <td>...</td>\n      <td>80'000 und 100'000 CHF</td>\n      <td>70000.0</td>\n      <td>90000.0</td>\n      <td>(70000) und (90000) CHF</td>\n      <td>80000.0</td>\n      <td>100000.0</td>\n      <td>80'000 - 100'000 CHF</td>\n      <td>92000.0</td>\n      <td>113000.0</td>\n      <td>92'000 - 113'000 CHF</td>\n    </tr>\n    <tr>\n      <th>2</th>\n      <td>ICT Supporter 100% (a)</td>\n      <td>Spitex Zürich</td>\n      <td>Festanstellung</td>\n      <td>Möchtest du auch etwas bewegen und deine Arbei...</td>\n      <td>100</td>\n      <td>100</td>\n      <td>78000</td>\n      <td>96000</td>\n      <td>70000.0</td>\n      <td>90000.0</td>\n      <td>...</td>\n      <td>(60'000) und (80'000) CHF</td>\n      <td>70000.0</td>\n      <td>90000.0</td>\n      <td>(70000) und (90000) CHF</td>\n      <td>80000.0</td>\n      <td>100000.0</td>\n      <td>80'000 - 100'000 CHF</td>\n      <td>80000.0</td>\n      <td>100000.0</td>\n      <td>Das Gehalt beträgt zwischen 80'000 und 100'000...</td>\n    </tr>\n    <tr>\n      <th>3</th>\n      <td>KAUFMÄNNISCHES PRAKTIKUM (100%) - MIT FOKUS KU...</td>\n      <td>gebana AG</td>\n      <td>Praktikum</td>\n      <td>DEINE AUFGABEN IM KUND:INNENSERVICE – EINSATZ ...</td>\n      <td>100</td>\n      <td>100</td>\n      <td>28300</td>\n      <td>28300</td>\n      <td>60000.0</td>\n      <td>80000.0</td>\n      <td>...</td>\n      <td>(60'000 - 80'000) CHF</td>\n      <td>NaN</td>\n      <td>NaN</td>\n      <td>45000 und 65000 CHF</td>\n      <td>NaN</td>\n      <td>NaN</td>\n      <td>Ich kenne das genaue Gehalt nicht, daher schät...</td>\n      <td>NaN</td>\n      <td>NaN</td>\n      <td>2177 CHF</td>\n    </tr>\n    <tr>\n      <th>4</th>\n      <td>System Engineer für Microsoft-Technologien und...</td>\n      <td>konekkt GmbH</td>\n      <td>Festanstellung</td>\n      <td>Wir präsentieren eine faszinierende Karrieremö...</td>\n      <td>80</td>\n      <td>100</td>\n      <td>95000</td>\n      <td>125000</td>\n      <td>90000.0</td>\n      <td>110000.0</td>\n      <td>...</td>\n      <td>(90'000) und (110'000) CHF</td>\n      <td>90000.0</td>\n      <td>110000.0</td>\n      <td>(90'000) und (110'000) CHF</td>\n      <td>90000.0</td>\n      <td>110000.0</td>\n      <td>90'000 - 110'000 CHF</td>\n      <td>90000.0</td>\n      <td>110000.0</td>\n      <td>(90'000 - 110'000) CHF</td>\n    </tr>\n  </tbody>\n</table>\n<p>5 rows × 23 columns</p>\n</div>"
     },
     "execution_count": 192,
     "metadata": {},
     "output_type": "execute_result"
    }
   ],
   "source": [
    "llm_block1_2_3_4_5_fewshot = pd.read_csv('data/llm_block1_2_3_4_5_fewshot.csv')\n",
    "llm_block1_2_3_4_5_fewshot.head()"
   ],
   "metadata": {
    "collapsed": false,
    "ExecuteTime": {
     "end_time": "2024-07-08T09:39:15.732537400Z",
     "start_time": "2024-07-08T09:39:15.655035900Z"
    }
   },
   "id": "fbf5262876ffe002"
  },
  {
   "cell_type": "code",
   "execution_count": 194,
   "outputs": [
    {
     "data": {
      "text/plain": "                                                 title  \\\n3    KAUFMÄNNISCHES PRAKTIKUM (100%) - MIT FOKUS KU...   \n10               Senior Software Engineer (80% - 100%)   \n15                    (Senior) Solution Architect .NET   \n19                                ServiceNow Developer   \n22                                Salesforce Developer   \n56                   C#/.NET Developer 80-100% (m/w/d)   \n73                       IT Consultant 80-100% (m/w/d)   \n101  Director (all genders), SAP Supply Chain Consu...   \n106                                      SAP Architect   \n107                             Office & Event Support   \n\n                    company   contract_type  \\\n3                 gebana AG       Praktikum   \n10              JobCloud AG  Festanstellung   \n15                N:SYNC AG  Festanstellung   \n19      Trinnovo Group GmbH       Freelance   \n22      Trinnovo Group GmbH       Freelance   \n56             konekkt GmbH  Festanstellung   \n73             konekkt GmbH  Festanstellung   \n101          JOB SCHWEIZ AG  Festanstellung   \n106  TalentCloud Group GmbH  Festanstellung   \n107   ETH Zürich Foundation       Praktikum   \n\n                                           description  min_workload  \\\n3    DEINE AUFGABEN IM KUND:INNENSERVICE – EINSATZ ...           100   \n10   At Jobcloud, we're not just a tech company, we...            80   \n15   Einführung Wir, die N:SYNC AG, zählen zu den f...           100   \n19   English      Start Date: ASAP  Contract Length...            80   \n22   English      Salesforce Developer   Start Date...            80   \n56   Das Unternehmen ist ein globales Informations-...           100   \n73   Unterstütze Kunden mit deiner Expertise! Unser...           100   \n101  Introduction  We are JOB SCHWEIZ AG, a recruit...            80   \n106  Are you a highly motivated SAP Architect looki...           100   \n107  Suchen Sie eine sinnstiftende Aufgabe in einem...            50   \n\n     max_workload  min_salary  max_salary  block1_min_salary_fewshot  \\\n3             100       28300       28300                    60000.0   \n10            100      104200      130800                    90000.0   \n15            100      110000      135000                   110000.0   \n19            100      240240      240240                    90000.0   \n22            100      251160      251160                    90000.0   \n56            100      105000      125000                    90000.0   \n73            100      105000      125000                    90000.0   \n101           100      200000      200000                        NaN   \n106           100      140000      180000                   120000.0   \n107            70       61152       61152                    60000.0   \n\n     block1_max_salary_fewshot  ...     block1_2_answer_fewshot  \\\n3                      80000.0  ...       (60'000 - 80'000) CHF   \n10                    110000.0  ...   (110000) und (130000) CHF   \n15                    130000.0  ...   (110000) und (130000) CHF   \n19                    110000.0  ...  (90'000) und (110'000) CHF   \n22                    110000.0  ...  (90'000) und (110'000) CHF   \n56                    110000.0  ...      90'000 und 110'000 CHF   \n73                    110000.0  ...        80'000 - 100'000 CHF   \n101                        NaN  ...   (120000) und (140000) CHF   \n106                   140000.0  ...  (90'000) und (110'000) CHF   \n107                    80000.0  ...     (60000) und (80000) CHF   \n\n     block1_2_3_min_salary_fewshot  block1_2_3_max_salary_fewshot  \\\n3                              NaN                            NaN   \n10                        110000.0                       130000.0   \n15                        110000.0                       130000.0   \n19                         90000.0                       110000.0   \n22                         90000.0                       110000.0   \n56                         90000.0                       110000.0   \n73                         80000.0                       100000.0   \n101                       110000.0                       130000.0   \n106                       110000.0                       130000.0   \n107                        60000.0                        80000.0   \n\n      block1_2_3_answer_fewshot  block1_2_3_4_min_salary_fewshot  \\\n3           45000 und 65000 CHF                              NaN   \n10    (110000) und (130000) CHF                         110000.0   \n15    (110000) und (130000) CHF                         120000.0   \n19   (90'000) und (110'000) CHF                          90000.0   \n22   (90'000) und (110'000) CHF                          90000.0   \n56       90'000 und 110'000 CHF                          90000.0   \n73       80'000 und 100'000 CHF                          90000.0   \n101   (110000) und (130000) CHF                         120000.0   \n106   (110000) und (130000) CHF                              NaN   \n107     (60000) und (80000) CHF                          40000.0   \n\n     block1_2_3_4_max_salary_fewshot  \\\n3                                NaN   \n10                          130000.0   \n15                          140000.0   \n19                          110000.0   \n22                          110000.0   \n56                          110000.0   \n73                          110000.0   \n101                         140000.0   \n106                              NaN   \n107                          60000.0   \n\n                           block1_2_3_4_answer_fewshot  \\\n3    Ich kenne das genaue Gehalt nicht, daher schät...   \n10   Das Gehalt für die Position Senior Software En...   \n15   Das Gehalt für die Position (Senior) Solution ...   \n19   Das Gehalt für die Position ServiceNow Develop...   \n22   Das Gehalt für die Position Salesforce Develop...   \n56   I don't have the exact salary for this positio...   \n73   Leider habe ich keine spezifische Gehaltsangab...   \n101  Das Gehalt für die Position Director (all gend...   \n106                                         120000 CHF   \n107  I don't have the exact salary for this positio...   \n\n     block1_2_3_4_5_min_salary_fewshot  block1_2_3_4_5_max_salary_fewshot  \\\n3                                  NaN                                NaN   \n10                                 NaN                                NaN   \n15                                 NaN                                NaN   \n19                                 NaN                                NaN   \n22                                 NaN                                NaN   \n56                                 NaN                                NaN   \n73                                 NaN                                NaN   \n101                                NaN                                NaN   \n106                                NaN                                NaN   \n107                                NaN                                NaN   \n\n                         block1_2_3_4_5_answer_fewshot  \n3                                             2177 CHF  \n10                                 104200 - 130800 CHF  \n15   Das Gehalt beträgt zwischen 120000 und 140000 ...  \n19              Das Gehalt beträgt 110 CHF pro Stunde.  \n22              Das Gehalt beträgt 120 CHF pro Stunde.  \n56                                (90000 - 110000) CHF  \n73   Das Gehalt beträgt zwischen 84000 und 102000 CHF.  \n101  Das Gehalt beträgt zwischen 120000 und 140000 ...  \n106                                120000 - 140000 CHF  \n107         Das Gehalt beträgt etwa 45000 - 65000 CHF.  \n\n[10 rows x 23 columns]",
      "text/html": "<div>\n<style scoped>\n    .dataframe tbody tr th:only-of-type {\n        vertical-align: middle;\n    }\n\n    .dataframe tbody tr th {\n        vertical-align: top;\n    }\n\n    .dataframe thead th {\n        text-align: right;\n    }\n</style>\n<table border=\"1\" class=\"dataframe\">\n  <thead>\n    <tr style=\"text-align: right;\">\n      <th></th>\n      <th>title</th>\n      <th>company</th>\n      <th>contract_type</th>\n      <th>description</th>\n      <th>min_workload</th>\n      <th>max_workload</th>\n      <th>min_salary</th>\n      <th>max_salary</th>\n      <th>block1_min_salary_fewshot</th>\n      <th>block1_max_salary_fewshot</th>\n      <th>...</th>\n      <th>block1_2_answer_fewshot</th>\n      <th>block1_2_3_min_salary_fewshot</th>\n      <th>block1_2_3_max_salary_fewshot</th>\n      <th>block1_2_3_answer_fewshot</th>\n      <th>block1_2_3_4_min_salary_fewshot</th>\n      <th>block1_2_3_4_max_salary_fewshot</th>\n      <th>block1_2_3_4_answer_fewshot</th>\n      <th>block1_2_3_4_5_min_salary_fewshot</th>\n      <th>block1_2_3_4_5_max_salary_fewshot</th>\n      <th>block1_2_3_4_5_answer_fewshot</th>\n    </tr>\n  </thead>\n  <tbody>\n    <tr>\n      <th>3</th>\n      <td>KAUFMÄNNISCHES PRAKTIKUM (100%) - MIT FOKUS KU...</td>\n      <td>gebana AG</td>\n      <td>Praktikum</td>\n      <td>DEINE AUFGABEN IM KUND:INNENSERVICE – EINSATZ ...</td>\n      <td>100</td>\n      <td>100</td>\n      <td>28300</td>\n      <td>28300</td>\n      <td>60000.0</td>\n      <td>80000.0</td>\n      <td>...</td>\n      <td>(60'000 - 80'000) CHF</td>\n      <td>NaN</td>\n      <td>NaN</td>\n      <td>45000 und 65000 CHF</td>\n      <td>NaN</td>\n      <td>NaN</td>\n      <td>Ich kenne das genaue Gehalt nicht, daher schät...</td>\n      <td>NaN</td>\n      <td>NaN</td>\n      <td>2177 CHF</td>\n    </tr>\n    <tr>\n      <th>10</th>\n      <td>Senior Software Engineer (80% - 100%)</td>\n      <td>JobCloud AG</td>\n      <td>Festanstellung</td>\n      <td>At Jobcloud, we're not just a tech company, we...</td>\n      <td>80</td>\n      <td>100</td>\n      <td>104200</td>\n      <td>130800</td>\n      <td>90000.0</td>\n      <td>110000.0</td>\n      <td>...</td>\n      <td>(110000) und (130000) CHF</td>\n      <td>110000.0</td>\n      <td>130000.0</td>\n      <td>(110000) und (130000) CHF</td>\n      <td>110000.0</td>\n      <td>130000.0</td>\n      <td>Das Gehalt für die Position Senior Software En...</td>\n      <td>NaN</td>\n      <td>NaN</td>\n      <td>104200 - 130800 CHF</td>\n    </tr>\n    <tr>\n      <th>15</th>\n      <td>(Senior) Solution Architect .NET</td>\n      <td>N:SYNC AG</td>\n      <td>Festanstellung</td>\n      <td>Einführung Wir, die N:SYNC AG, zählen zu den f...</td>\n      <td>100</td>\n      <td>100</td>\n      <td>110000</td>\n      <td>135000</td>\n      <td>110000.0</td>\n      <td>130000.0</td>\n      <td>...</td>\n      <td>(110000) und (130000) CHF</td>\n      <td>110000.0</td>\n      <td>130000.0</td>\n      <td>(110000) und (130000) CHF</td>\n      <td>120000.0</td>\n      <td>140000.0</td>\n      <td>Das Gehalt für die Position (Senior) Solution ...</td>\n      <td>NaN</td>\n      <td>NaN</td>\n      <td>Das Gehalt beträgt zwischen 120000 und 140000 ...</td>\n    </tr>\n    <tr>\n      <th>19</th>\n      <td>ServiceNow Developer</td>\n      <td>Trinnovo Group GmbH</td>\n      <td>Freelance</td>\n      <td>English      Start Date: ASAP  Contract Length...</td>\n      <td>80</td>\n      <td>100</td>\n      <td>240240</td>\n      <td>240240</td>\n      <td>90000.0</td>\n      <td>110000.0</td>\n      <td>...</td>\n      <td>(90'000) und (110'000) CHF</td>\n      <td>90000.0</td>\n      <td>110000.0</td>\n      <td>(90'000) und (110'000) CHF</td>\n      <td>90000.0</td>\n      <td>110000.0</td>\n      <td>Das Gehalt für die Position ServiceNow Develop...</td>\n      <td>NaN</td>\n      <td>NaN</td>\n      <td>Das Gehalt beträgt 110 CHF pro Stunde.</td>\n    </tr>\n    <tr>\n      <th>22</th>\n      <td>Salesforce Developer</td>\n      <td>Trinnovo Group GmbH</td>\n      <td>Freelance</td>\n      <td>English      Salesforce Developer   Start Date...</td>\n      <td>80</td>\n      <td>100</td>\n      <td>251160</td>\n      <td>251160</td>\n      <td>90000.0</td>\n      <td>110000.0</td>\n      <td>...</td>\n      <td>(90'000) und (110'000) CHF</td>\n      <td>90000.0</td>\n      <td>110000.0</td>\n      <td>(90'000) und (110'000) CHF</td>\n      <td>90000.0</td>\n      <td>110000.0</td>\n      <td>Das Gehalt für die Position Salesforce Develop...</td>\n      <td>NaN</td>\n      <td>NaN</td>\n      <td>Das Gehalt beträgt 120 CHF pro Stunde.</td>\n    </tr>\n    <tr>\n      <th>56</th>\n      <td>C#/.NET Developer 80-100% (m/w/d)</td>\n      <td>konekkt GmbH</td>\n      <td>Festanstellung</td>\n      <td>Das Unternehmen ist ein globales Informations-...</td>\n      <td>100</td>\n      <td>100</td>\n      <td>105000</td>\n      <td>125000</td>\n      <td>90000.0</td>\n      <td>110000.0</td>\n      <td>...</td>\n      <td>90'000 und 110'000 CHF</td>\n      <td>90000.0</td>\n      <td>110000.0</td>\n      <td>90'000 und 110'000 CHF</td>\n      <td>90000.0</td>\n      <td>110000.0</td>\n      <td>I don't have the exact salary for this positio...</td>\n      <td>NaN</td>\n      <td>NaN</td>\n      <td>(90000 - 110000) CHF</td>\n    </tr>\n    <tr>\n      <th>73</th>\n      <td>IT Consultant 80-100% (m/w/d)</td>\n      <td>konekkt GmbH</td>\n      <td>Festanstellung</td>\n      <td>Unterstütze Kunden mit deiner Expertise! Unser...</td>\n      <td>100</td>\n      <td>100</td>\n      <td>105000</td>\n      <td>125000</td>\n      <td>90000.0</td>\n      <td>110000.0</td>\n      <td>...</td>\n      <td>80'000 - 100'000 CHF</td>\n      <td>80000.0</td>\n      <td>100000.0</td>\n      <td>80'000 und 100'000 CHF</td>\n      <td>90000.0</td>\n      <td>110000.0</td>\n      <td>Leider habe ich keine spezifische Gehaltsangab...</td>\n      <td>NaN</td>\n      <td>NaN</td>\n      <td>Das Gehalt beträgt zwischen 84000 und 102000 CHF.</td>\n    </tr>\n    <tr>\n      <th>101</th>\n      <td>Director (all genders), SAP Supply Chain Consu...</td>\n      <td>JOB SCHWEIZ AG</td>\n      <td>Festanstellung</td>\n      <td>Introduction  We are JOB SCHWEIZ AG, a recruit...</td>\n      <td>80</td>\n      <td>100</td>\n      <td>200000</td>\n      <td>200000</td>\n      <td>NaN</td>\n      <td>NaN</td>\n      <td>...</td>\n      <td>(120000) und (140000) CHF</td>\n      <td>110000.0</td>\n      <td>130000.0</td>\n      <td>(110000) und (130000) CHF</td>\n      <td>120000.0</td>\n      <td>140000.0</td>\n      <td>Das Gehalt für die Position Director (all gend...</td>\n      <td>NaN</td>\n      <td>NaN</td>\n      <td>Das Gehalt beträgt zwischen 120000 und 140000 ...</td>\n    </tr>\n    <tr>\n      <th>106</th>\n      <td>SAP Architect</td>\n      <td>TalentCloud Group GmbH</td>\n      <td>Festanstellung</td>\n      <td>Are you a highly motivated SAP Architect looki...</td>\n      <td>100</td>\n      <td>100</td>\n      <td>140000</td>\n      <td>180000</td>\n      <td>120000.0</td>\n      <td>140000.0</td>\n      <td>...</td>\n      <td>(90'000) und (110'000) CHF</td>\n      <td>110000.0</td>\n      <td>130000.0</td>\n      <td>(110000) und (130000) CHF</td>\n      <td>NaN</td>\n      <td>NaN</td>\n      <td>120000 CHF</td>\n      <td>NaN</td>\n      <td>NaN</td>\n      <td>120000 - 140000 CHF</td>\n    </tr>\n    <tr>\n      <th>107</th>\n      <td>Office &amp; Event Support</td>\n      <td>ETH Zürich Foundation</td>\n      <td>Praktikum</td>\n      <td>Suchen Sie eine sinnstiftende Aufgabe in einem...</td>\n      <td>50</td>\n      <td>70</td>\n      <td>61152</td>\n      <td>61152</td>\n      <td>60000.0</td>\n      <td>80000.0</td>\n      <td>...</td>\n      <td>(60000) und (80000) CHF</td>\n      <td>60000.0</td>\n      <td>80000.0</td>\n      <td>(60000) und (80000) CHF</td>\n      <td>40000.0</td>\n      <td>60000.0</td>\n      <td>I don't have the exact salary for this positio...</td>\n      <td>NaN</td>\n      <td>NaN</td>\n      <td>Das Gehalt beträgt etwa 45000 - 65000 CHF.</td>\n    </tr>\n  </tbody>\n</table>\n<p>10 rows × 23 columns</p>\n</div>"
     },
     "execution_count": 194,
     "metadata": {},
     "output_type": "execute_result"
    }
   ],
   "source": [
    "llm_block1_2_3_4_5_fewshot[llm_block1_2_3_4_5_fewshot['block1_2_3_4_5_min_salary_fewshot'].isnull() & llm_block1_2_3_4_5_fewshot['block1_2_3_4_5_min_salary_fewshot'].isnull()]"
   ],
   "metadata": {
    "collapsed": false,
    "ExecuteTime": {
     "end_time": "2024-07-08T12:48:55.017926500Z",
     "start_time": "2024-07-08T12:48:54.975830900Z"
    }
   },
   "id": "35675fe7b9bfb392"
  },
  {
   "cell_type": "markdown",
   "source": [],
   "metadata": {
    "collapsed": false
   },
   "id": "cebdf03e3217644b"
  }
 ],
 "metadata": {
  "kernelspec": {
   "display_name": "Python 3",
   "language": "python",
   "name": "python3"
  },
  "language_info": {
   "codemirror_mode": {
    "name": "ipython",
    "version": 2
   },
   "file_extension": ".py",
   "mimetype": "text/x-python",
   "name": "python",
   "nbconvert_exporter": "python",
   "pygments_lexer": "ipython2",
   "version": "2.7.6"
  }
 },
 "nbformat": 4,
 "nbformat_minor": 5
}
