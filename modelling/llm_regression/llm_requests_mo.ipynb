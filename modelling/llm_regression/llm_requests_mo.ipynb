{
 "cells": [
  {
   "cell_type": "code",
   "outputs": [],
   "source": [
    "from groq import Groq\n",
    "import pandas as pd\n",
    "import re\n",
    "import os"
   ],
   "metadata": {
    "collapsed": false,
    "ExecuteTime": {
     "end_time": "2024-07-04T11:06:25.325461Z",
     "start_time": "2024-07-04T11:06:25.321253Z"
    }
   },
   "id": "68c14ca81e61966d",
   "execution_count": 7
  },
  {
   "cell_type": "code",
   "execution_count": 8,
   "outputs": [],
   "source": [
    "df = pd.read_csv('../../data_acquisition/data/df_with_salary.csv')\n",
    "df_with_salary_few_shot = pd.read_csv('../../data_acquisition/data/df_with_salary_few_shot.csv')"
   ],
   "metadata": {
    "collapsed": false,
    "ExecuteTime": {
     "end_time": "2024-07-04T11:06:25.375368Z",
     "start_time": "2024-07-04T11:06:25.360075Z"
    }
   },
   "id": "344a393be813049c"
  },
  {
   "cell_type": "code",
   "outputs": [
    {
     "data": {
      "text/plain": "                                               title             company  \\\n0                             Software Engineer .Net  ELCA Informatik AG   \n1                      Digital Analyst / Web Analyst             Unic AG   \n2                             ICT Supporter 100% (a)       Spitex Zürich   \n3  KAUFMÄNNISCHES PRAKTIKUM (100%) - MIT FOKUS KU...           gebana AG   \n4  System Engineer für Microsoft-Technologien und...        konekkt GmbH   \n\n    contract_type                                        description  \\\n0  Festanstellung  Über ELCA Wir sind ELCA, einer der grössten Sc...   \n1  Festanstellung  Deine Aufgaben als Digital Analyst bei Unic   ...   \n2  Festanstellung  Möchtest du auch etwas bewegen und deine Arbei...   \n3       Praktikum  DEINE AUFGABEN IM KUND:INNENSERVICE – EINSATZ ...   \n4  Festanstellung  Wir präsentieren eine faszinierende Karrieremö...   \n\n   min_workload  max_workload  min_salary  max_salary  \n0            80           100      100000      130000  \n1            80           100       90000      113000  \n2           100           100       78000       96000  \n3           100           100       28300       28300  \n4            80           100       95000      125000  ",
      "text/html": "<div>\n<style scoped>\n    .dataframe tbody tr th:only-of-type {\n        vertical-align: middle;\n    }\n\n    .dataframe tbody tr th {\n        vertical-align: top;\n    }\n\n    .dataframe thead th {\n        text-align: right;\n    }\n</style>\n<table border=\"1\" class=\"dataframe\">\n  <thead>\n    <tr style=\"text-align: right;\">\n      <th></th>\n      <th>title</th>\n      <th>company</th>\n      <th>contract_type</th>\n      <th>description</th>\n      <th>min_workload</th>\n      <th>max_workload</th>\n      <th>min_salary</th>\n      <th>max_salary</th>\n    </tr>\n  </thead>\n  <tbody>\n    <tr>\n      <th>0</th>\n      <td>Software Engineer .Net</td>\n      <td>ELCA Informatik AG</td>\n      <td>Festanstellung</td>\n      <td>Über ELCA Wir sind ELCA, einer der grössten Sc...</td>\n      <td>80</td>\n      <td>100</td>\n      <td>100000</td>\n      <td>130000</td>\n    </tr>\n    <tr>\n      <th>1</th>\n      <td>Digital Analyst / Web Analyst</td>\n      <td>Unic AG</td>\n      <td>Festanstellung</td>\n      <td>Deine Aufgaben als Digital Analyst bei Unic   ...</td>\n      <td>80</td>\n      <td>100</td>\n      <td>90000</td>\n      <td>113000</td>\n    </tr>\n    <tr>\n      <th>2</th>\n      <td>ICT Supporter 100% (a)</td>\n      <td>Spitex Zürich</td>\n      <td>Festanstellung</td>\n      <td>Möchtest du auch etwas bewegen und deine Arbei...</td>\n      <td>100</td>\n      <td>100</td>\n      <td>78000</td>\n      <td>96000</td>\n    </tr>\n    <tr>\n      <th>3</th>\n      <td>KAUFMÄNNISCHES PRAKTIKUM (100%) - MIT FOKUS KU...</td>\n      <td>gebana AG</td>\n      <td>Praktikum</td>\n      <td>DEINE AUFGABEN IM KUND:INNENSERVICE – EINSATZ ...</td>\n      <td>100</td>\n      <td>100</td>\n      <td>28300</td>\n      <td>28300</td>\n    </tr>\n    <tr>\n      <th>4</th>\n      <td>System Engineer für Microsoft-Technologien und...</td>\n      <td>konekkt GmbH</td>\n      <td>Festanstellung</td>\n      <td>Wir präsentieren eine faszinierende Karrieremö...</td>\n      <td>80</td>\n      <td>100</td>\n      <td>95000</td>\n      <td>125000</td>\n    </tr>\n  </tbody>\n</table>\n</div>"
     },
     "execution_count": 9,
     "metadata": {},
     "output_type": "execute_result"
    }
   ],
   "source": [
    "df.head()"
   ],
   "metadata": {
    "collapsed": false,
    "ExecuteTime": {
     "end_time": "2024-07-04T11:06:25.389865Z",
     "start_time": "2024-07-04T11:06:25.376403Z"
    }
   },
   "id": "b48f5a62fc082c7d",
   "execution_count": 9
  },
  {
   "cell_type": "markdown",
   "source": [
    "Block 0: Few shot 5 examples with salary \n",
    "Block 1: Job title \n",
    "Block 2: company \n",
    "Block 3: workload (min workload and max workload) \n",
    "Block 4: Contract type \n",
    "Block 5: description"
   ],
   "metadata": {
    "collapsed": false
   },
   "id": "1f7ebb475b7de49"
  },
  {
   "cell_type": "markdown",
   "source": [
    "# Set up for Usage"
   ],
   "metadata": {
    "collapsed": false
   },
   "id": "2b0bbbcc9dd062e6"
  },
  {
   "cell_type": "code",
   "execution_count": 17,
   "outputs": [],
   "source": [
    "client = Groq(\n",
    "    api_key=\"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\",\n",
    ")\n",
    "\n",
    "\n",
    "def extract_salaries(response):\n",
    "    # General regex pattern - covers most cases\n",
    "    general_pattern = re.compile(r\"(\\d{1,3}(?:['\\s]\\d{3})*)\\s*(?:-|und)\\s*(\\d{1,3}(?:['\\s]\\d{3})*)\\s*CHF\")\n",
    "    # Special regex pattern - handles \"CHF\" before the numbers and potential markdown\n",
    "    special_pattern = re.compile(r\"CHF\\s*(\\d{1,3}(?:[',\\s]\\d{3})*)\\s*[-–]\\s*CHF\\s*(\\d{1,3}(?:[',\\s]\\d{3})*)\")\n",
    "\n",
    "    # Try the general pattern first\n",
    "    matches = general_pattern.findall(response)\n",
    "    if matches:\n",
    "        min_salary, max_salary = [int(salary.replace(\"'\", \"\").replace(\",\", \"\").replace(\" \", \"\")) for salary in matches[0]]\n",
    "        return min_salary, max_salary\n",
    "    \n",
    "    # If no matches, try the special pattern\n",
    "    matches = special_pattern.findall(response)\n",
    "    if matches:\n",
    "        min_salary, max_salary = [int(salary.replace(\"'\", \"\").replace(\",\", \"\").replace(\" \", \"\")) for salary in matches[0]]\n",
    "        return min_salary, max_salary\n",
    "    \n",
    "    return None, None"
   ],
   "metadata": {
    "collapsed": false,
    "ExecuteTime": {
     "end_time": "2024-07-04T11:36:55.674214Z",
     "start_time": "2024-07-04T11:36:55.166427Z"
    }
   },
   "id": "87cc50308a0c6d98"
  },
  {
   "cell_type": "markdown",
   "source": [
    "## LLM request with Block 1 and fewshot with Block 1 and salary\n"
   ],
   "metadata": {
    "collapsed": false
   },
   "id": "9506903ebf744278"
  },
  {
   "cell_type": "code",
   "outputs": [
    {
     "name": "stdout",
     "output_type": "stream",
     "text": [
      "0\n",
      "90000 140000\n",
      "1\n",
      "None None\n",
      "2\n",
      "60000 90000\n",
      "3\n",
      "45000 60000\n",
      "4\n",
      "None None\n",
      "5\n",
      "None None\n"
     ]
    }
   ],
   "source": [
    "# change here for new prompt and message below ------------\n",
    "results_file = 'data/llm_block1_fewshot.csv'\n",
    "min = 'block1_min_salary_fewshot'\n",
    "max = 'block1_max_salary_fewshot'\n",
    "answer = 'block1_answer_fewshot'\n",
    "# Setup and load initial data\n",
    "if os.path.exists(results_file):\n",
    "    df = pd.read_csv(results_file)\n",
    "else:\n",
    "    df[min] = None  # Initialize columns if starting fresh\n",
    "    df[max] = None\n",
    "    df[answer] = None \n",
    "\n",
    "# change content here for new prompt and message below ------------\n",
    "def generate_query(row):\n",
    "    return {\n",
    "        \"role\": \"user\",\n",
    "        \"content\": f\"Gib mir nur das Gehalt im Format (\\d{1,3}(?:'\\d{3})*) und (\\d{1,3}(?:'\\d{3})) CHF für die Position {row['title']} in Zürich, Schweiz. Wenn du kein exaktes Gehalt hast gib eine Schätzung an.\"\n",
    "    }\n",
    "\n",
    "def generate_message(title, company, min_salary, max_salary, min_workload, max_workload, description):\n",
    "    return {\n",
    "        \"role\": \"user\",\n",
    "        \"content\": f\"Das Gehalt für die Position {title}  liegt zwischen {min_salary} und {max_salary}.\"\n",
    "    }\n",
    "\n",
    "def run_model(limit):\n",
    "    start_index = df[min].last_valid_index() + 1 if df[max].last_valid_index() != None else 0\n",
    "    example_messages = [generate_message(row['title'], row['company'], row['min_salary'], row['max_salary'], row['min_workload'], row['max_workload'], row['description']) for index, row in df_with_salary_few_shot.iterrows()]\n",
    "    \n",
    "    for index, row in df.iloc[start_index:start_index + limit].iterrows():\n",
    "        query_message = generate_query(row)\n",
    "        chat_completion = client.chat.completions.create(\n",
    "            messages= example_messages + [query_message], # change message for new prompt ------------\n",
    "            model=\"llama3-70b-8192\",\n",
    "            temperature=0.0\n",
    "        )\n",
    "        min_salary, max_salary = extract_salaries(chat_completion.choices[0].message.content)\n",
    "        print(index)\n",
    "        print(min_salary, max_salary)\n",
    "        \n",
    "        \n",
    "        # Update DataFrame\n",
    "        df.at[index, min] = min_salary\n",
    "        df.at[index, max] = max_salary\n",
    "        df.at[index, answer] = chat_completion.choices[0].message.content\n",
    "        \n",
    "    # Save updated DataFrame in chunks or fully, depending on your preference\n",
    "    df.to_csv(results_file, index=False)\n",
    "\n",
    "# Testing the function with a limited number of entries\n",
    "run_model(10000)"
   ],
   "metadata": {
    "collapsed": false,
    "is_executing": true,
    "ExecuteTime": {
     "start_time": "2024-07-04T11:37:19.047389Z"
    }
   },
   "id": "91b8369fcd67f53",
   "execution_count": null
  }
 ],
 "metadata": {
  "kernelspec": {
   "display_name": "Python 3",
   "language": "python",
   "name": "python3"
  },
  "language_info": {
   "codemirror_mode": {
    "name": "ipython",
    "version": 2
   },
   "file_extension": ".py",
   "mimetype": "text/x-python",
   "name": "python",
   "nbconvert_exporter": "python",
   "pygments_lexer": "ipython2",
   "version": "2.7.6"
  }
 },
 "nbformat": 4,
 "nbformat_minor": 5
}
