{
 "cells": [
  {
   "cell_type": "markdown",
   "source": [
    "# Evaluating the LLM on the dataset without fewshot learning"
   ],
   "metadata": {
    "collapsed": false
   },
   "id": "7368677545715f16"
  },
  {
   "cell_type": "code",
   "execution_count": 8,
   "id": "initial_id",
   "metadata": {
    "collapsed": true,
    "ExecuteTime": {
     "end_time": "2024-07-04T14:53:39.600038Z",
     "start_time": "2024-07-04T14:53:39.596488Z"
    }
   },
   "outputs": [],
   "source": [
    "import pandas as pd\n",
    "import numpy as np"
   ]
  },
  {
   "cell_type": "code",
   "outputs": [],
   "source": [
    "df = pd.read_csv('data/llm_block1_2_3_4_5.csv')\n",
    "\n",
    "# Ensure data types are correct; convert if necessary\n",
    "salary_columns = ['min_salary', 'max_salary', 'block1_min_salary', 'block1_max_salary', 'block1_2_min_salary', 'block1_2_max_salary', 'block1_2_3_4_5_min_salary', 'block1_2_3_4_5_max_salary']\n",
    "for col in salary_columns:\n",
    "    df[col] = pd.to_numeric(df[col], errors='coerce')"
   ],
   "metadata": {
    "collapsed": false,
    "ExecuteTime": {
     "end_time": "2024-07-04T14:53:18.942773Z",
     "start_time": "2024-07-04T14:53:18.924271Z"
    }
   },
   "id": "eab3622befea07e8",
   "execution_count": 6
  },
  {
   "cell_type": "code",
   "outputs": [
    {
     "name": "stdout",
     "output_type": "stream",
     "text": [
      "                                                 title  \\\n",
      "0                               Software Engineer .Net   \n",
      "1                        Digital Analyst / Web Analyst   \n",
      "2                               ICT Supporter 100% (a)   \n",
      "3    KAUFMÄNNISCHES PRAKTIKUM (100%) - MIT FOKUS KU...   \n",
      "4    System Engineer für Microsoft-Technologien und...   \n",
      "..                                                 ...   \n",
      "105                                Mainframe Developer   \n",
      "106                                      SAP Architect   \n",
      "107                             Office & Event Support   \n",
      "108                     IT-Test Engineer (m/w) 80-100%   \n",
      "109                    Automatisierungstechniker (m/w)   \n",
      "\n",
      "                    company   contract_type  \\\n",
      "0        ELCA Informatik AG  Festanstellung   \n",
      "1                   Unic AG  Festanstellung   \n",
      "2             Spitex Zürich  Festanstellung   \n",
      "3                 gebana AG       Praktikum   \n",
      "4              konekkt GmbH  Festanstellung   \n",
      "..                      ...             ...   \n",
      "105     Trinnovo Group GmbH       Freelance   \n",
      "106  TalentCloud Group GmbH  Festanstellung   \n",
      "107   ETH Zürich Foundation       Praktikum   \n",
      "108             yellowshark  Festanstellung   \n",
      "109             yellowshark  Festanstellung   \n",
      "\n",
      "                                           description  min_workload  \\\n",
      "0    Über ELCA Wir sind ELCA, einer der grössten Sc...            80   \n",
      "1    Deine Aufgaben als Digital Analyst bei Unic   ...            80   \n",
      "2    Möchtest du auch etwas bewegen und deine Arbei...           100   \n",
      "3    DEINE AUFGABEN IM KUND:INNENSERVICE – EINSATZ ...           100   \n",
      "4    Wir präsentieren eine faszinierende Karrieremö...            80   \n",
      "..                                                 ...           ...   \n",
      "105  English     Position: Mainframe Engineer (m/w/...            80   \n",
      "106  Are you a highly motivated SAP Architect looki...           100   \n",
      "107  Suchen Sie eine sinnstiftende Aufgabe in einem...            50   \n",
      "108  Für unseren Kunden im Raum Zürich suchen wir e...           100   \n",
      "109  Für unseren Kunden, ein renommiertes Unternehm...           100   \n",
      "\n",
      "     max_workload  min_salary  max_salary  block1_min_salary  \\\n",
      "0             100      100000      130000              90000   \n",
      "1             100       90000      113000              80000   \n",
      "2             100       78000       96000              80000   \n",
      "3             100       28300       28300              45000   \n",
      "4             100       95000      125000              90000   \n",
      "..            ...         ...         ...                ...   \n",
      "105           100      218400      218400              80000   \n",
      "106           100      140000      180000              90000   \n",
      "107            70       61152       61152              55000   \n",
      "108           100      110000      120000              80000   \n",
      "109           100       80000      120000              80000   \n",
      "\n",
      "     block1_max_salary  ...  \\\n",
      "0               110000  ...   \n",
      "1               100000  ...   \n",
      "2               100000  ...   \n",
      "3                65000  ...   \n",
      "4               110000  ...   \n",
      "..                 ...  ...   \n",
      "105             100000  ...   \n",
      "106             110000  ...   \n",
      "107              65000  ...   \n",
      "108             100000  ...   \n",
      "109             100000  ...   \n",
      "\n",
      "                                       block1_2_answer  block1_2_3_min_salary  \\\n",
      "0    Based on national averages and online sources,...                  90000   \n",
      "1    Based on national averages and online sources,...                  70000   \n",
      "2    Based on national averages and online sources,...                  60000   \n",
      "3    Based on national averages and online sources,...                  45000   \n",
      "4    Based on national averages and online sources,...                  90000   \n",
      "..                                                 ...                    ...   \n",
      "105  Based on national averages and online sources,...                  90000   \n",
      "106  Based on national averages and online sources,...                 120000   \n",
      "107  Based on national averages and online sources,...                  45000   \n",
      "108  Based on national averages and online sources,...                  80000   \n",
      "109  Based on national averages and online sources,...                  80000   \n",
      "\n",
      "     block1_2_3_max_salary                                  block1_2_3_answer  \\\n",
      "0                   110000  Based on national averages and online sources,...   \n",
      "1                    85000  Based on national averages and online sources,...   \n",
      "2                    80000  Based on national averages and online sources,...   \n",
      "3                    65000  Based on national averages and online sources,...   \n",
      "4                   110000  Based on national averages and online sources,...   \n",
      "..                     ...                                                ...   \n",
      "105                 110000  Based on national averages and online sources,...   \n",
      "106                 140000  Based on national averages and online sources,...   \n",
      "107                  63000  Based on national averages and online sources,...   \n",
      "108                 100000  Based on national averages and online sources,...   \n",
      "109                 100000  Based on national averages and online sources,...   \n",
      "\n",
      "     block1_2_3_4_min_salary  block1_2_3_4_max_salary  \\\n",
      "0                    90000.0                 110000.0   \n",
      "1                    90000.0                 110000.0   \n",
      "2                    80000.0                 100000.0   \n",
      "3                    45000.0                  55000.0   \n",
      "4                    90000.0                 110000.0   \n",
      "..                       ...                      ...   \n",
      "105                  90000.0                 110000.0   \n",
      "106                  90000.0                 110000.0   \n",
      "107                  45000.0                  55000.0   \n",
      "108                  90000.0                 110000.0   \n",
      "109                  80000.0                 100000.0   \n",
      "\n",
      "                                   block1_2_3_4_answer  \\\n",
      "0    Based on national averages and online sources,...   \n",
      "1    Based on national averages and online sources,...   \n",
      "2    Based on national averages and online sources,...   \n",
      "3    Based on national averages and online sources,...   \n",
      "4    Based on national averages and online sources,...   \n",
      "..                                                 ...   \n",
      "105  Based on market research and available data, h...   \n",
      "106  Based on national averages and online sources,...   \n",
      "107  Based on national averages and online sources,...   \n",
      "108  Based on national averages and online sources,...   \n",
      "109  Based on national averages and online sources,...   \n",
      "\n",
      "     block1_2_3_4_5_min_salary  block1_2_3_4_5_max_salary  \\\n",
      "0                      90000.0                   110000.0   \n",
      "1                      80000.0                   100000.0   \n",
      "2                      80000.0                   100000.0   \n",
      "3                      45000.0                    55000.0   \n",
      "4                      90000.0                   110000.0   \n",
      "..                         ...                        ...   \n",
      "105                    90000.0                   110000.0   \n",
      "106                    90000.0                   110000.0   \n",
      "107                    45000.0                    55000.0   \n",
      "108                    90000.0                   110000.0   \n",
      "109                    80000.0                   100000.0   \n",
      "\n",
      "                                 block1_2_3_4_5_answer  \n",
      "0    Based on national averages and online sources,...  \n",
      "1    Based on national averages and online sources,...  \n",
      "2    Based on national averages and online sources,...  \n",
      "3    Based on national averages and online sources,...  \n",
      "4    Based on national averages and online sources,...  \n",
      "..                                                 ...  \n",
      "105  Based on market research and available data, h...  \n",
      "106  Based on national averages and online sources,...  \n",
      "107  Based on national averages and online sources,...  \n",
      "108  Based on national averages and online sources,...  \n",
      "109  Based on national averages and online sources,...  \n",
      "\n",
      "[110 rows x 23 columns]\n"
     ]
    }
   ],
   "source": [
    "print(df)"
   ],
   "metadata": {
    "collapsed": false,
    "ExecuteTime": {
     "end_time": "2024-07-04T14:54:15.645358Z",
     "start_time": "2024-07-04T14:54:15.632484Z"
    }
   },
   "id": "647ccfcbde6c38ca",
   "execution_count": 12
  },
  {
   "cell_type": "code",
   "outputs": [],
   "source": [
    "def calculate_rmse(row, min_col, max_col, pred_min_col, pred_max_col):\n",
    "    actual_avg = (row[min_col] + row[max_col]) / 2\n",
    "    predicted_avg = (row[pred_min_col] + row[pred_max_col]) / 2\n",
    "    return np.sqrt((actual_avg - predicted_avg) ** 2)\n",
    "\n",
    "def calculate_overlap(row, min_col, max_col, pred_min_col, pred_max_col):\n",
    "    actual_min, actual_max = row[min_col], row[max_col]\n",
    "    predicted_min, predicted_max = row[pred_min_col], row[pred_max_col]\n",
    "    intersection_min = max(actual_min, predicted_min)\n",
    "    intersection_max = min(actual_max, predicted_max)\n",
    "    if intersection_max > intersection_min:\n",
    "        intersection = intersection_max - intersection_min\n",
    "        smaller_range = min(actual_max - actual_min, predicted_max - predicted_min)\n",
    "        return intersection / smaller_range\n",
    "    return 0"
   ],
   "metadata": {
    "collapsed": false,
    "ExecuteTime": {
     "end_time": "2024-07-08T07:11:04.924108Z",
     "start_time": "2024-07-08T07:11:04.917261Z"
    }
   },
   "id": "9ff1ec1195ca30fc",
   "execution_count": 19
  },
  {
   "cell_type": "code",
   "outputs": [
    {
     "name": "stdout",
     "output_type": "stream",
     "text": [
      "Average RMSE for block1_min_salary: 20453.563636363637\n",
      "Average Overlap Coefficient for block1_min_salary: 0.425\n",
      "Average RMSE for block1_2_min_salary: 20800.8\n",
      "Average Overlap Coefficient for block1_2_min_salary: 0.4067777777777778\n",
      "Average RMSE for block1_2_3_min_salary: 23080.836363636365\n",
      "Average Overlap Coefficient for block1_2_3_min_salary: 0.29556565656565653\n",
      "Average RMSE for block1_2_3_4_min_salary: 21448.550458715596\n",
      "Average Overlap Coefficient for block1_2_3_4_min_salary: 0.3883939393939394\n",
      "Average RMSE for block1_2_3_4_5_min_salary: 21540.29357798165\n",
      "Average Overlap Coefficient for block1_2_3_4_5_min_salary: 0.3838484848484849\n"
     ]
    }
   ],
   "source": [
    "blocks = [\n",
    "    ('block1_min_salary', 'block1_max_salary'),\n",
    "    ('block1_2_min_salary', 'block1_2_max_salary'),\n",
    "    ('block1_2_3_min_salary', 'block1_2_3_max_salary'),\n",
    "        ('block1_2_3_4_min_salary', 'block1_2_3_4_max_salary'),\n",
    "    ('block1_2_3_4_5_min_salary', 'block1_2_3_4_5_max_salary')\n",
    "]\n",
    "\n",
    "# Iterate over each block and calculate RMSE and overlap\n",
    "for min_col, max_col in blocks:\n",
    "    df[min_col + '_rmse'] = df.apply(calculate_rmse, axis=1, min_col='min_salary', max_col='max_salary', pred_min_col=min_col, pred_max_col=max_col)\n",
    "    df[min_col + '_overlap'] = df.apply(calculate_overlap, axis=1, min_col='min_salary', max_col='max_salary', pred_min_col=min_col, pred_max_col=max_col)\n",
    "\n",
    "# Calculate average RMSE and overlap for each block\n",
    "for min_col, _ in blocks:\n",
    "    average_rmse = df[min_col + '_rmse'].mean()\n",
    "    average_overlap = df[min_col + '_overlap'].mean()\n",
    "    print(f\"Average RMSE for {min_col}: {average_rmse}\")\n",
    "    print(f\"Average Overlap Coefficient for {min_col}: {average_overlap}\")\n"
   ],
   "metadata": {
    "collapsed": false,
    "ExecuteTime": {
     "end_time": "2024-07-08T07:13:06.592296Z",
     "start_time": "2024-07-08T07:13:06.555281Z"
    }
   },
   "id": "a965eb1bd5288a4e",
   "execution_count": 20
  },
  {
   "cell_type": "code",
   "outputs": [],
   "source": [],
   "metadata": {
    "collapsed": false
   },
   "id": "f1628d6635e8fd8f"
  }
 ],
 "metadata": {
  "kernelspec": {
   "display_name": "Python 3",
   "language": "python",
   "name": "python3"
  },
  "language_info": {
   "codemirror_mode": {
    "name": "ipython",
    "version": 2
   },
   "file_extension": ".py",
   "mimetype": "text/x-python",
   "name": "python",
   "nbconvert_exporter": "python",
   "pygments_lexer": "ipython2",
   "version": "2.7.6"
  }
 },
 "nbformat": 4,
 "nbformat_minor": 5
}
