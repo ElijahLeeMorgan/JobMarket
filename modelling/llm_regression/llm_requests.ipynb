{
 "cells": [
  {
   "cell_type": "code",
   "outputs": [],
   "source": [
    "from groq import Groq\n",
    "import pandas as pd\n",
    "import re\n",
    "import os"
   ],
   "metadata": {
    "collapsed": false,
    "ExecuteTime": {
     "end_time": "2024-07-03T14:48:28.944397Z",
     "start_time": "2024-07-03T14:48:28.940550Z"
    }
   },
   "id": "68c14ca81e61966d",
   "execution_count": 37
  },
  {
   "cell_type": "markdown",
   "source": [
    "# LLM API test"
   ],
   "metadata": {
    "collapsed": false
   },
   "id": "d9ed0ff92a8e8e25"
  },
  {
   "cell_type": "code",
   "outputs": [
    {
     "name": "stdout",
     "output_type": "stream",
     "text": [
      "According to various sources, the average salary range for an engineer in Zurich, Switzerland is:\n",
      "\n",
      "65,000 - 120,000 CHF per year\n"
     ]
    }
   ],
   "source": [
    "client = Groq(\n",
    "    api_key=\"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\",\n",
    ")\n",
    "\n",
    "chat_completion = client.chat.completions.create(\n",
    "    messages=[\n",
    "        {\n",
    "            \"role\": \"user\",\n",
    "            \"content\": \"What is the average salary of a Engineer in Zurich Switzerland in CHF? only return the salary range in CHF\",\n",
    "        }\n",
    "    ],\n",
    "    model=\"llama3-70b-8192\",\n",
    ")\n",
    "\n",
    "print(chat_completion.choices[0].message.content)"
   ],
   "metadata": {
    "collapsed": false,
    "ExecuteTime": {
     "end_time": "2024-07-03T14:11:57.329570Z",
     "start_time": "2024-07-03T14:11:55.252658Z"
    }
   },
   "id": "e710768a938d85eb",
   "execution_count": 19
  },
  {
   "cell_type": "markdown",
   "source": [
    "# Prediction loop for df"
   ],
   "metadata": {
    "collapsed": false
   },
   "id": "abdc6486094d9329"
  },
  {
   "cell_type": "code",
   "outputs": [],
   "source": [
    "df_with_salary = pd.read_csv(\"../../data_acquisition/data/df_with_salary.csv\")\n",
    "df_without_salary = pd.read_csv(\"../../data_acquisition/data/df_without_salary.csv\")\n",
    "df_with_salary_few_shot = pd.read_csv(\"../../data_acquisition/data/df_with_salary_few_shot.csv\")"
   ],
   "metadata": {
    "collapsed": false,
    "ExecuteTime": {
     "end_time": "2024-07-03T14:15:56.830637Z",
     "start_time": "2024-07-03T14:15:56.785624Z"
    }
   },
   "id": "f14c39ca57379b4b",
   "execution_count": 26
  },
  {
   "cell_type": "code",
   "outputs": [
    {
     "data": {
      "text/plain": "                                         title               company  \\\n0  Consultant Microsoft 365 / Modern Workplace  Online Consulting AG   \n1                 IT Supporter 80-100% (m/w/d)          konekkt GmbH   \n2             Avaloq Developer (m/w/d) 80-100%          konekkt GmbH   \n3          Frontend Entwickler 80-100% (m/w/d)          konekkt GmbH   \n4                                Projektleiter            Ascaion AG   \n\n    contract_type                                        description  \\\n0  Festanstellung  Das wirst du machen Bereit für den ultimativen...   \n1  Festanstellung  konekkt verbindet talentierte IT Fachkräfte mi...   \n2  Festanstellung  Tritt einem führenden IT-Dienstleister bei, de...   \n3  Festanstellung  konekkt verbindet talentierte IT Fachkräfte mi...   \n4  Festanstellung  Deine Aufgaben  Unterstützung Pre-Sale durch A...   \n\n   min_workload  max_workload  min_salary  max_salary  \n0            80           100       84000      102000  \n1           100           100       65000       85000  \n2            80           100      105000      125000  \n3           100           100       95000      115000  \n4            60           100       80000      140000  ",
      "text/html": "<div>\n<style scoped>\n    .dataframe tbody tr th:only-of-type {\n        vertical-align: middle;\n    }\n\n    .dataframe tbody tr th {\n        vertical-align: top;\n    }\n\n    .dataframe thead th {\n        text-align: right;\n    }\n</style>\n<table border=\"1\" class=\"dataframe\">\n  <thead>\n    <tr style=\"text-align: right;\">\n      <th></th>\n      <th>title</th>\n      <th>company</th>\n      <th>contract_type</th>\n      <th>description</th>\n      <th>min_workload</th>\n      <th>max_workload</th>\n      <th>min_salary</th>\n      <th>max_salary</th>\n    </tr>\n  </thead>\n  <tbody>\n    <tr>\n      <th>0</th>\n      <td>Consultant Microsoft 365 / Modern Workplace</td>\n      <td>Online Consulting AG</td>\n      <td>Festanstellung</td>\n      <td>Das wirst du machen Bereit für den ultimativen...</td>\n      <td>80</td>\n      <td>100</td>\n      <td>84000</td>\n      <td>102000</td>\n    </tr>\n    <tr>\n      <th>1</th>\n      <td>IT Supporter 80-100% (m/w/d)</td>\n      <td>konekkt GmbH</td>\n      <td>Festanstellung</td>\n      <td>konekkt verbindet talentierte IT Fachkräfte mi...</td>\n      <td>100</td>\n      <td>100</td>\n      <td>65000</td>\n      <td>85000</td>\n    </tr>\n    <tr>\n      <th>2</th>\n      <td>Avaloq Developer (m/w/d) 80-100%</td>\n      <td>konekkt GmbH</td>\n      <td>Festanstellung</td>\n      <td>Tritt einem führenden IT-Dienstleister bei, de...</td>\n      <td>80</td>\n      <td>100</td>\n      <td>105000</td>\n      <td>125000</td>\n    </tr>\n    <tr>\n      <th>3</th>\n      <td>Frontend Entwickler 80-100% (m/w/d)</td>\n      <td>konekkt GmbH</td>\n      <td>Festanstellung</td>\n      <td>konekkt verbindet talentierte IT Fachkräfte mi...</td>\n      <td>100</td>\n      <td>100</td>\n      <td>95000</td>\n      <td>115000</td>\n    </tr>\n    <tr>\n      <th>4</th>\n      <td>Projektleiter</td>\n      <td>Ascaion AG</td>\n      <td>Festanstellung</td>\n      <td>Deine Aufgaben  Unterstützung Pre-Sale durch A...</td>\n      <td>60</td>\n      <td>100</td>\n      <td>80000</td>\n      <td>140000</td>\n    </tr>\n  </tbody>\n</table>\n</div>"
     },
     "execution_count": 27,
     "metadata": {},
     "output_type": "execute_result"
    }
   ],
   "source": [
    "df_with_salary_few_shot.head()"
   ],
   "metadata": {
    "collapsed": false,
    "ExecuteTime": {
     "end_time": "2024-07-03T14:16:26.525414Z",
     "start_time": "2024-07-03T14:16:26.512911Z"
    }
   },
   "id": "604b4081b3fcdd6",
   "execution_count": 27
  },
  {
   "cell_type": "code",
   "outputs": [
    {
     "data": {
      "text/plain": "                                               title  \\\n0              Projektleiter / Consultant e-Case.Net   \n1         Senior Software Engineer 80 - 100% (m/w/d)   \n2                          System Engineer - Ansible   \n3  Softwareentwickler/in mit GIS-Erfahrung, Profe...   \n4                       SAP Consultant PP-PI (m/w/d)   \n\n                          company   contract_type  salary  \\\n0                     Infogate AG  Festanstellung     NaN   \n1                    Wey Group AG  Festanstellung     NaN   \n2  RMIT Professional Resources AG       Freelance     NaN   \n3                  EBP Schweiz AG  Festanstellung     NaN   \n4     Migros-Genossenschafts-Bund  Festanstellung     NaN   \n\n                                         description min_workload max_workload  \n0  Wer braucht Deine Verstärkung? 1991 waren wir ...           80          100  \n1  Deine Aufgaben:   Als Senior Software Engineer...           80          100  \n2  System Engineer Position einhergehend mit Kenn...           80          100  \n3  Dein Beitrag in unserem Team  Du entwickelst b...           60          100  \n4  \"Teamwork makes the dream work\" ist für dich k...           60          100  ",
      "text/html": "<div>\n<style scoped>\n    .dataframe tbody tr th:only-of-type {\n        vertical-align: middle;\n    }\n\n    .dataframe tbody tr th {\n        vertical-align: top;\n    }\n\n    .dataframe thead th {\n        text-align: right;\n    }\n</style>\n<table border=\"1\" class=\"dataframe\">\n  <thead>\n    <tr style=\"text-align: right;\">\n      <th></th>\n      <th>title</th>\n      <th>company</th>\n      <th>contract_type</th>\n      <th>salary</th>\n      <th>description</th>\n      <th>min_workload</th>\n      <th>max_workload</th>\n    </tr>\n  </thead>\n  <tbody>\n    <tr>\n      <th>0</th>\n      <td>Projektleiter / Consultant e-Case.Net</td>\n      <td>Infogate AG</td>\n      <td>Festanstellung</td>\n      <td>NaN</td>\n      <td>Wer braucht Deine Verstärkung? 1991 waren wir ...</td>\n      <td>80</td>\n      <td>100</td>\n    </tr>\n    <tr>\n      <th>1</th>\n      <td>Senior Software Engineer 80 - 100% (m/w/d)</td>\n      <td>Wey Group AG</td>\n      <td>Festanstellung</td>\n      <td>NaN</td>\n      <td>Deine Aufgaben:   Als Senior Software Engineer...</td>\n      <td>80</td>\n      <td>100</td>\n    </tr>\n    <tr>\n      <th>2</th>\n      <td>System Engineer - Ansible</td>\n      <td>RMIT Professional Resources AG</td>\n      <td>Freelance</td>\n      <td>NaN</td>\n      <td>System Engineer Position einhergehend mit Kenn...</td>\n      <td>80</td>\n      <td>100</td>\n    </tr>\n    <tr>\n      <th>3</th>\n      <td>Softwareentwickler/in mit GIS-Erfahrung, Profe...</td>\n      <td>EBP Schweiz AG</td>\n      <td>Festanstellung</td>\n      <td>NaN</td>\n      <td>Dein Beitrag in unserem Team  Du entwickelst b...</td>\n      <td>60</td>\n      <td>100</td>\n    </tr>\n    <tr>\n      <th>4</th>\n      <td>SAP Consultant PP-PI (m/w/d)</td>\n      <td>Migros-Genossenschafts-Bund</td>\n      <td>Festanstellung</td>\n      <td>NaN</td>\n      <td>\"Teamwork makes the dream work\" ist für dich k...</td>\n      <td>60</td>\n      <td>100</td>\n    </tr>\n  </tbody>\n</table>\n</div>"
     },
     "execution_count": 28,
     "metadata": {},
     "output_type": "execute_result"
    }
   ],
   "source": [
    "df_without_salary.head()"
   ],
   "metadata": {
    "collapsed": false,
    "ExecuteTime": {
     "end_time": "2024-07-03T14:16:40.266543Z",
     "start_time": "2024-07-03T14:16:40.254766Z"
    }
   },
   "id": "b48f5a62fc082c7d",
   "execution_count": 28
  },
  {
   "cell_type": "code",
   "outputs": [],
   "source": [
    "client = Groq(\n",
    "    api_key=\"\",\n",
    ")\n",
    "\n",
    "chat_completion = client.chat.completions.create(\n",
    "    messages=[\n",
    "        {\n",
    "            \"role\": \"user\",\n",
    "            \"content\": \"What is the average salary of a Engineer in Zurich Switzerland in CHF? only return the salary range in CHF\",\n",
    "        }\n",
    "    ],\n",
    "    model=\"llama3-70b-8192\",\n",
    ")\n",
    "\n",
    "print(chat_completion.choices[0].message.content)"
   ],
   "metadata": {
    "collapsed": false
   },
   "id": "6b46d66e8c57c5c0"
  },
  {
   "cell_type": "code",
   "outputs": [
    {
     "name": "stdout",
     "output_type": "stream",
     "text": [
      "0\n",
      "90000 120000\n",
      "1\n",
      "120000 150000\n",
      "2\n",
      "90000 120000\n",
      "3\n",
      "80000 120000\n",
      "4\n",
      "90000 120000\n",
      "5\n",
      "120000 180000\n",
      "6\n",
      "120000 150000\n",
      "7\n",
      "120000 150000\n",
      "8\n",
      "120000 150000\n",
      "9\n",
      "60000 80000\n",
      "10\n",
      "90000 140000\n",
      "11\n",
      "120000 180000\n",
      "12\n",
      "80000 120000\n",
      "13\n",
      "90000 120000\n",
      "14\n",
      "80000 120000\n",
      "15\n",
      "120000 150000\n",
      "16\n",
      "80000 120000\n",
      "17\n",
      "60000 90000\n",
      "18\n",
      "120000 180000\n",
      "19\n",
      "120000 180000\n",
      "20\n",
      "70000 90000\n",
      "21\n",
      "90000 120000\n",
      "22\n",
      "120000 160000\n",
      "23\n",
      "80000 120000\n",
      "24\n",
      "70000 110000\n",
      "25\n",
      "80000 120000\n",
      "26\n",
      "120000 150000\n",
      "27\n",
      "80000 110000\n",
      "28\n",
      "90000 120000\n",
      "29\n",
      "80000 120000\n",
      "30\n",
      "80000 110000\n",
      "31\n",
      "80000 110000\n",
      "32\n",
      "None None\n",
      "33\n",
      "120000 180000\n",
      "34\n",
      "80000 120000\n",
      "35\n",
      "45000 60000\n",
      "36\n",
      "110000 140000\n",
      "37\n",
      "80000 110000\n",
      "38\n",
      "None None\n",
      "39\n",
      "90000 120000\n",
      "40\n",
      "None None\n",
      "41\n",
      "80000 110000\n",
      "42\n",
      "80000 120000\n",
      "43\n",
      "80000 120000\n",
      "44\n",
      "80000 120000\n",
      "45\n",
      "90000 130000\n",
      "46\n",
      "120000 160000\n",
      "47\n",
      "80000 110000\n",
      "48\n",
      "70000 90000\n",
      "49\n",
      "70000 100000\n",
      "50\n",
      "90000 120000\n",
      "51\n",
      "90000 110000\n",
      "52\n",
      "90000 120000\n",
      "53\n",
      "None None\n",
      "54\n",
      "80000 120000\n",
      "55\n",
      "70000 90000\n",
      "56\n",
      "80000 110000\n",
      "57\n",
      "70000 100000\n",
      "58\n",
      "90000 120000\n"
     ]
    }
   ],
   "source": [
    "client = Groq(\n",
    "    api_key=\"\",\n",
    ")\n",
    "# Setup and load initial data\n",
    "results_file = 'data/llm_predictions.csv'\n",
    "if os.path.exists(results_file):\n",
    "    df_without_salary = pd.read_csv(results_file)\n",
    "else:\n",
    "    df_without_salary['llm_min_salary'] = None  # Initialize columns if starting fresh\n",
    "    df_without_salary['llm_max_salary'] = None\n",
    "    df_without_salary['llm_answer'] = None \n",
    "\n",
    "def generate_message(title, company, min_salary, max_salary, min_workload, max_workload, description):\n",
    "    return {\n",
    "        \"role\": \"user\",\n",
    "        \"content\": f\"Das Gehalt für die Position {title} bei der Firma {company} liegt zwischen {min_salary} und {max_salary} mit einer Arbeitszeit von {min_workload} bis {max_workload} Prozent. Hier ist die Beschreibung, was Sie benötigen und tun müssen: {description}\"\n",
    "    }\n",
    "\n",
    "def generate_query(row):\n",
    "    return {\n",
    "        \"role\": \"user\",\n",
    "        \"content\": f\"Gib mir nur das Gehalt im Format (\\d{1,3}(?:'\\d{3})*) und (\\d{1,3}(?:'\\d{3})*) CHF für die Position {row['title']} bei der Firma {row['company']} in Zürich, Schweiz. Wenn du kein exaktes Gehalt hast gib eine Schätzung an.\"\n",
    "    }\n",
    "\n",
    "def extract_salaries(response):\n",
    "    pattern = re.compile(r\"(\\d{1,3}(?:['\\s]\\d{3})*)\\s*(?:-|und)\\s*(\\d{1,3}(?:['\\s]\\d{3})*)\\s*CHF\")\n",
    "    matches = pattern.findall(response)\n",
    "    if matches:\n",
    "        min_salary, max_salary = [int(salary.replace(\"'\", \"\")) for salary in matches[0]]\n",
    "        return min_salary, max_salary\n",
    "    return None, None\n",
    "\n",
    "def run_model(limit):\n",
    "    start_index = df_without_salary['llm_min_salary'].last_valid_index() + 1 if df_without_salary['llm_min_salary'].last_valid_index() != None else 0\n",
    "    example_messages = [generate_message(row['title'], row['company'], row['min_salary'], row['max_salary'], row['min_workload'], row['max_workload'], row['description']) for index, row in df_with_salary_few_shot.iterrows()]\n",
    "    \n",
    "    for index, row in df_without_salary.iloc[start_index:start_index + limit].iterrows():\n",
    "        query_message = generate_query(row)\n",
    "        chat_completion = client.chat.completions.create(\n",
    "            messages=example_messages + [query_message],\n",
    "            model=\"llama3-70b-8192\",\n",
    "        )\n",
    "        min_salary, max_salary = extract_salaries(chat_completion.choices[0].message.content)\n",
    "        print(index)\n",
    "        print(min_salary, max_salary)\n",
    "        \n",
    "        \n",
    "        # Update DataFrame\n",
    "        df_without_salary.at[index, 'llm_min_salary'] = min_salary\n",
    "        df_without_salary.at[index, 'llm_max_salary'] = max_salary\n",
    "        df_without_salary.at[index, 'llm_answer'] = chat_completion.choices[0].message.content\n",
    "        \n",
    "    # Save updated DataFrame in chunks or fully, depending on your preference\n",
    "    df_without_salary.to_csv(results_file, index=False)\n",
    "\n",
    "# Testing the function with a limited number of entries\n",
    "run_model(10000)"
   ],
   "metadata": {
    "collapsed": false,
    "is_executing": true,
    "ExecuteTime": {
     "start_time": "2024-07-04T07:31:03.566711Z"
    }
   },
   "id": "a064dbc5e75140fe",
   "execution_count": null
  },
  {
   "cell_type": "code",
   "outputs": [
    {
     "data": {
      "text/plain": "array([nan])"
     },
     "execution_count": 47,
     "metadata": {},
     "output_type": "execute_result"
    }
   ],
   "source": [
    "dflol = pd.read_csv(\"data/llm_predictions.csv\")\n",
    "dflol['llm_max_salary'].unique()"
   ],
   "metadata": {
    "collapsed": false,
    "ExecuteTime": {
     "end_time": "2024-07-03T14:56:57.555933Z",
     "start_time": "2024-07-03T14:56:57.506714Z"
    }
   },
   "id": "cad16cb61682125a",
   "execution_count": 47
  }
 ],
 "metadata": {
  "kernelspec": {
   "display_name": "Python 3",
   "language": "python",
   "name": "python3"
  },
  "language_info": {
   "codemirror_mode": {
    "name": "ipython",
    "version": 2
   },
   "file_extension": ".py",
   "mimetype": "text/x-python",
   "name": "python",
   "nbconvert_exporter": "python",
   "pygments_lexer": "ipython2",
   "version": "2.7.6"
  }
 },
 "nbformat": 4,
 "nbformat_minor": 5
}
