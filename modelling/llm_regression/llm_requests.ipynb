{
 "cells": [
  {
   "cell_type": "code",
   "outputs": [],
   "source": [
    "import requests\n",
    "from groq import Groq"
   ],
   "metadata": {
    "collapsed": false,
    "ExecuteTime": {
     "end_time": "2024-07-03T12:53:19.702634Z",
     "start_time": "2024-07-03T12:53:18.601521Z"
    }
   },
   "id": "68c14ca81e61966d",
   "execution_count": 15
  },
  {
   "cell_type": "code",
   "outputs": [],
   "source": [
    "formatted_prompt = \"What is the average salary for a software engineer in Zurich in CHF?\""
   ],
   "metadata": {
    "collapsed": false,
    "ExecuteTime": {
     "end_time": "2024-07-03T12:46:04.089032Z",
     "start_time": "2024-07-03T12:46:04.085824Z"
    }
   },
   "id": "8402933da77cff74",
   "execution_count": 13
  },
  {
   "cell_type": "code",
   "execution_count": 14,
   "id": "initial_id",
   "metadata": {
    "collapsed": true,
    "ExecuteTime": {
     "end_time": "2024-07-03T12:46:07.308993Z",
     "start_time": "2024-07-03T12:46:05.149454Z"
    }
   },
   "outputs": [
    {
     "data": {
      "text/plain": "{'generated_text': 'What is the cost of living in Zurich?What are some tips for finding a job as a software engineer in Zurich?What are some tips for relocating to Zurich from another country?What are some things to consider when deciding whether to relocate to Zurich?What are some tips for learning German?What are some fun things to do in Zurich?What are some things to consider when renting a place to live in Zurich?What are some things to consider when buying a place to live in Zurich?What'}"
     },
     "execution_count": 14,
     "metadata": {},
     "output_type": "execute_result"
    }
   ],
   "source": [
    "url = \"http://dgx-a100.cloudlab.zhaw.ch:9175/generate\"\n",
    "payload = {\"inputs\": formatted_prompt, \"paramters\": {\"max_new_tokens\": 200}}\n",
    "headers = {\"Content-Type\": \"application/json\"}\n",
    "response = requests.post(url, json=payload, headers=headers)\n",
    "response.json()"
   ]
  },
  {
   "cell_type": "code",
   "outputs": [
    {
     "name": "stdout",
     "output_type": "stream",
     "text": [
      "According to various sources, the average salary range for an Engineer in Zurich, Switzerland is:\n",
      "\n",
      "CHF 80,000 - 120,000 per year.\n"
     ]
    }
   ],
   "source": [
    "client = Groq(\n",
    "    api_key=\"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\",\n",
    ")\n",
    "\n",
    "chat_completion = client.chat.completions.create(\n",
    "    messages=[\n",
    "        {\n",
    "            \"role\": \"user\",\n",
    "            \"content\": \"What is the average salary of a Engineer in Zurich in CHF? only return the salary range in CHF\",\n",
    "        }\n",
    "    ],\n",
    "    model=\"llama3-70b-8192\",\n",
    ")\n",
    "\n",
    "print(chat_completion.choices[0].message.content)"
   ],
   "metadata": {
    "collapsed": false,
    "ExecuteTime": {
     "end_time": "2024-07-03T12:56:06.720775Z",
     "start_time": "2024-07-03T12:56:05.486041Z"
    }
   },
   "id": "e710768a938d85eb",
   "execution_count": 17
  }
 ],
 "metadata": {
  "kernelspec": {
   "display_name": "Python 3",
   "language": "python",
   "name": "python3"
  },
  "language_info": {
   "codemirror_mode": {
    "name": "ipython",
    "version": 2
   },
   "file_extension": ".py",
   "mimetype": "text/x-python",
   "name": "python",
   "nbconvert_exporter": "python",
   "pygments_lexer": "ipython2",
   "version": "2.7.6"
  }
 },
 "nbformat": 4,
 "nbformat_minor": 5
}
