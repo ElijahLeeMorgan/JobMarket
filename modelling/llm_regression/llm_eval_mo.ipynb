{
 "cells": [
  {
   "cell_type": "markdown",
   "source": [
    "# Evaluating the LLM on the dataset "
   ],
   "metadata": {
    "collapsed": false
   },
   "id": "5affe3c624c65dc6"
  },
  {
   "cell_type": "code",
   "execution_count": 1,
   "outputs": [],
   "source": [
    "import pandas as pd\n",
    "import numpy as np"
   ],
   "metadata": {
    "collapsed": false,
    "ExecuteTime": {
     "end_time": "2024-07-09T07:18:51.918487600Z",
     "start_time": "2024-07-09T07:18:49.561578500Z"
    }
   },
   "id": "1c9d8a549da8114f"
  },
  {
   "cell_type": "code",
   "execution_count": 3,
   "outputs": [],
   "source": [
    "df = pd.read_csv('data/final_fewshot.csv')\n",
    "\n",
    "# Ensure data types are correct; convert if necessary\n",
    "salary_columns = ['min_salary', 'max_salary', 'block1_min_salary_fewshot', 'block1_max_salary_fewshot', 'block1_2_min_salary_fewshot', 'block1_2_max_salary_fewshot', 'block1_2_3_min_salary_fewshot', 'block1_2_3_max_salary_fewshot']\n",
    "for col in salary_columns:\n",
    "    df[col] = pd.to_numeric(df[col], errors='coerce')"
   ],
   "metadata": {
    "collapsed": false,
    "ExecuteTime": {
     "end_time": "2024-07-09T07:20:18.092214100Z",
     "start_time": "2024-07-09T07:20:18.064947400Z"
    }
   },
   "id": "a28c7b6010439a04"
  },
  {
   "cell_type": "code",
   "execution_count": 4,
   "outputs": [
    {
     "data": {
      "text/plain": "                                               title             company  \\\n0                             Software Engineer .Net  ELCA Informatik AG   \n1                      Digital Analyst / Web Analyst             Unic AG   \n2                             ICT Supporter 100% (a)       Spitex Zürich   \n3  KAUFMÄNNISCHES PRAKTIKUM (100%) - MIT FOKUS KU...           gebana AG   \n4  System Engineer für Microsoft-Technologien und...        konekkt GmbH   \n\n    contract_type                                        description  \\\n0  Festanstellung  Über ELCA Wir sind ELCA, einer der grössten Sc...   \n1  Festanstellung  Deine Aufgaben als Digital Analyst bei Unic   ...   \n2  Festanstellung  Möchtest du auch etwas bewegen und deine Arbei...   \n3       Praktikum  DEINE AUFGABEN IM KUND:INNENSERVICE – EINSATZ ...   \n4  Festanstellung  Wir präsentieren eine faszinierende Karrieremö...   \n\n   min_workload  max_workload  min_salary  max_salary  \\\n0            80           100      100000      130000   \n1            80           100       90000      113000   \n2           100           100       78000       96000   \n3           100           100       28300       28300   \n4            80           100       95000      125000   \n\n   block1_min_salary_fewshot  block1_max_salary_fewshot  ...  \\\n0                    90000.0                   110000.0  ...   \n1                    80000.0                   100000.0  ...   \n2                    70000.0                    90000.0  ...   \n3                    60000.0                    80000.0  ...   \n4                    90000.0                   110000.0  ...   \n\n      block1_2_answer_fewshot  block1_2_3_min_salary_fewshot  \\\n0  (90'000) und (110'000) CHF                        90000.0   \n1      80'000 und 100'000 CHF                        70000.0   \n2   (60'000) und (80'000) CHF                        70000.0   \n3       (60'000 - 80'000) CHF                        45000.0   \n4  (90'000) und (110'000) CHF                        90000.0   \n\n   block1_2_3_max_salary_fewshot   block1_2_3_answer_fewshot  \\\n0                       110000.0  (90'000) und (110'000) CHF   \n1                        90000.0     (70000) und (90000) CHF   \n2                        90000.0     (70000) und (90000) CHF   \n3                        65000.0         45000 und 65000 CHF   \n4                       110000.0  (90'000) und (110'000) CHF   \n\n   block1_2_3_4_min_salary_fewshot  block1_2_3_4_max_salary_fewshot  \\\n0                          90000.0                         110000.0   \n1                          80000.0                         100000.0   \n2                          80000.0                         100000.0   \n3                              NaN                              NaN   \n4                          90000.0                         110000.0   \n\n                         block1_2_3_4_answer_fewshot  \\\n0  Das Gehalt für die Position Software Engineer ...   \n1                               80'000 - 100'000 CHF   \n2                               80'000 - 100'000 CHF   \n3  Ich kenne das genaue Gehalt nicht, daher schät...   \n4                               90'000 - 110'000 CHF   \n\n   block1_2_3_4_5_min_salary_fewshot  block1_2_3_4_5_max_salary_fewshot  \\\n0                            90000.0                           110000.0   \n1                            92000.0                           113000.0   \n2                            80000.0                           100000.0   \n3                                NaN                                NaN   \n4                            90000.0                           110000.0   \n\n                       block1_2_3_4_5_answer_fewshot  \n0  Das Gehalt für die Position Software Engineer ...  \n1                               92'000 - 113'000 CHF  \n2  Das Gehalt beträgt zwischen 80'000 und 100'000...  \n3                                           2177 CHF  \n4                             (90'000 - 110'000) CHF  \n\n[5 rows x 23 columns]",
      "text/html": "<div>\n<style scoped>\n    .dataframe tbody tr th:only-of-type {\n        vertical-align: middle;\n    }\n\n    .dataframe tbody tr th {\n        vertical-align: top;\n    }\n\n    .dataframe thead th {\n        text-align: right;\n    }\n</style>\n<table border=\"1\" class=\"dataframe\">\n  <thead>\n    <tr style=\"text-align: right;\">\n      <th></th>\n      <th>title</th>\n      <th>company</th>\n      <th>contract_type</th>\n      <th>description</th>\n      <th>min_workload</th>\n      <th>max_workload</th>\n      <th>min_salary</th>\n      <th>max_salary</th>\n      <th>block1_min_salary_fewshot</th>\n      <th>block1_max_salary_fewshot</th>\n      <th>...</th>\n      <th>block1_2_answer_fewshot</th>\n      <th>block1_2_3_min_salary_fewshot</th>\n      <th>block1_2_3_max_salary_fewshot</th>\n      <th>block1_2_3_answer_fewshot</th>\n      <th>block1_2_3_4_min_salary_fewshot</th>\n      <th>block1_2_3_4_max_salary_fewshot</th>\n      <th>block1_2_3_4_answer_fewshot</th>\n      <th>block1_2_3_4_5_min_salary_fewshot</th>\n      <th>block1_2_3_4_5_max_salary_fewshot</th>\n      <th>block1_2_3_4_5_answer_fewshot</th>\n    </tr>\n  </thead>\n  <tbody>\n    <tr>\n      <th>0</th>\n      <td>Software Engineer .Net</td>\n      <td>ELCA Informatik AG</td>\n      <td>Festanstellung</td>\n      <td>Über ELCA Wir sind ELCA, einer der grössten Sc...</td>\n      <td>80</td>\n      <td>100</td>\n      <td>100000</td>\n      <td>130000</td>\n      <td>90000.0</td>\n      <td>110000.0</td>\n      <td>...</td>\n      <td>(90'000) und (110'000) CHF</td>\n      <td>90000.0</td>\n      <td>110000.0</td>\n      <td>(90'000) und (110'000) CHF</td>\n      <td>90000.0</td>\n      <td>110000.0</td>\n      <td>Das Gehalt für die Position Software Engineer ...</td>\n      <td>90000.0</td>\n      <td>110000.0</td>\n      <td>Das Gehalt für die Position Software Engineer ...</td>\n    </tr>\n    <tr>\n      <th>1</th>\n      <td>Digital Analyst / Web Analyst</td>\n      <td>Unic AG</td>\n      <td>Festanstellung</td>\n      <td>Deine Aufgaben als Digital Analyst bei Unic   ...</td>\n      <td>80</td>\n      <td>100</td>\n      <td>90000</td>\n      <td>113000</td>\n      <td>80000.0</td>\n      <td>100000.0</td>\n      <td>...</td>\n      <td>80'000 und 100'000 CHF</td>\n      <td>70000.0</td>\n      <td>90000.0</td>\n      <td>(70000) und (90000) CHF</td>\n      <td>80000.0</td>\n      <td>100000.0</td>\n      <td>80'000 - 100'000 CHF</td>\n      <td>92000.0</td>\n      <td>113000.0</td>\n      <td>92'000 - 113'000 CHF</td>\n    </tr>\n    <tr>\n      <th>2</th>\n      <td>ICT Supporter 100% (a)</td>\n      <td>Spitex Zürich</td>\n      <td>Festanstellung</td>\n      <td>Möchtest du auch etwas bewegen und deine Arbei...</td>\n      <td>100</td>\n      <td>100</td>\n      <td>78000</td>\n      <td>96000</td>\n      <td>70000.0</td>\n      <td>90000.0</td>\n      <td>...</td>\n      <td>(60'000) und (80'000) CHF</td>\n      <td>70000.0</td>\n      <td>90000.0</td>\n      <td>(70000) und (90000) CHF</td>\n      <td>80000.0</td>\n      <td>100000.0</td>\n      <td>80'000 - 100'000 CHF</td>\n      <td>80000.0</td>\n      <td>100000.0</td>\n      <td>Das Gehalt beträgt zwischen 80'000 und 100'000...</td>\n    </tr>\n    <tr>\n      <th>3</th>\n      <td>KAUFMÄNNISCHES PRAKTIKUM (100%) - MIT FOKUS KU...</td>\n      <td>gebana AG</td>\n      <td>Praktikum</td>\n      <td>DEINE AUFGABEN IM KUND:INNENSERVICE – EINSATZ ...</td>\n      <td>100</td>\n      <td>100</td>\n      <td>28300</td>\n      <td>28300</td>\n      <td>60000.0</td>\n      <td>80000.0</td>\n      <td>...</td>\n      <td>(60'000 - 80'000) CHF</td>\n      <td>45000.0</td>\n      <td>65000.0</td>\n      <td>45000 und 65000 CHF</td>\n      <td>NaN</td>\n      <td>NaN</td>\n      <td>Ich kenne das genaue Gehalt nicht, daher schät...</td>\n      <td>NaN</td>\n      <td>NaN</td>\n      <td>2177 CHF</td>\n    </tr>\n    <tr>\n      <th>4</th>\n      <td>System Engineer für Microsoft-Technologien und...</td>\n      <td>konekkt GmbH</td>\n      <td>Festanstellung</td>\n      <td>Wir präsentieren eine faszinierende Karrieremö...</td>\n      <td>80</td>\n      <td>100</td>\n      <td>95000</td>\n      <td>125000</td>\n      <td>90000.0</td>\n      <td>110000.0</td>\n      <td>...</td>\n      <td>(90'000) und (110'000) CHF</td>\n      <td>90000.0</td>\n      <td>110000.0</td>\n      <td>(90'000) und (110'000) CHF</td>\n      <td>90000.0</td>\n      <td>110000.0</td>\n      <td>90'000 - 110'000 CHF</td>\n      <td>90000.0</td>\n      <td>110000.0</td>\n      <td>(90'000 - 110'000) CHF</td>\n    </tr>\n  </tbody>\n</table>\n<p>5 rows × 23 columns</p>\n</div>"
     },
     "execution_count": 4,
     "metadata": {},
     "output_type": "execute_result"
    }
   ],
   "source": [
    "df.head()"
   ],
   "metadata": {
    "collapsed": false,
    "ExecuteTime": {
     "end_time": "2024-07-09T07:20:46.010602900Z",
     "start_time": "2024-07-09T07:20:45.967623800Z"
    }
   },
   "id": "9fe7a2b5dfe6e932"
  },
  {
   "cell_type": "code",
   "execution_count": 5,
   "outputs": [],
   "source": [
    "def calculate_rmse(row, min_col, max_col, pred_min_col, pred_max_col):\n",
    "    actual_avg = (row[min_col] + row[max_col]) / 2\n",
    "    predicted_avg = (row[pred_min_col] + row[pred_max_col]) / 2\n",
    "    return np.sqrt((actual_avg - predicted_avg) ** 2)\n",
    "\n",
    "def calculate_overlap(row, min_col, max_col, pred_min_col, pred_max_col):\n",
    "    actual_min, actual_max = row[min_col], row[max_col]\n",
    "    predicted_min, predicted_max = row[pred_min_col], row[pred_max_col]\n",
    "    intersection_min = max(actual_min, predicted_min)\n",
    "    intersection_max = min(actual_max, predicted_max)\n",
    "    if intersection_max > intersection_min:\n",
    "        intersection = intersection_max - intersection_min\n",
    "        smaller_range = min(actual_max - actual_min, predicted_max - predicted_min)\n",
    "        return intersection / smaller_range\n",
    "    return 0"
   ],
   "metadata": {
    "collapsed": false,
    "ExecuteTime": {
     "end_time": "2024-07-09T07:21:31.289513Z",
     "start_time": "2024-07-09T07:21:31.264438900Z"
    }
   },
   "id": "17fb2d9dba719484"
  },
  {
   "cell_type": "code",
   "execution_count": 6,
   "outputs": [
    {
     "name": "stdout",
     "output_type": "stream",
     "text": [
      "Average RMSE for block1_min_salary_fewshot: 19828.072727272727\n",
      "Average Overlap Coefficient for block1_min_salary_fewshot: 0.43021212121212127\n",
      "Average RMSE for block1_2_min_salary_fewshot: 20891.70909090909\n",
      "Average Overlap Coefficient for block1_2_min_salary_fewshot: 0.396010101010101\n",
      "Average RMSE for block1_2_3_min_salary_fewshot: 21209.890909090907\n",
      "Average Overlap Coefficient for block1_2_3_min_salary_fewshot: 0.3737878787878788\n"
     ]
    }
   ],
   "source": [
    "blocks = [\n",
    "    ('block1_min_salary_fewshot', 'block1_max_salary_fewshot'),\n",
    "    ('block1_2_min_salary_fewshot', 'block1_2_max_salary_fewshot'),\n",
    "    ('block1_2_3_min_salary_fewshot', 'block1_2_3_max_salary_fewshot')\n",
    "]\n",
    "\n",
    "# Iterate over each block and calculate RMSE and overlap\n",
    "for min_col, max_col in blocks:\n",
    "    df[min_col + '_rmse'] = df.apply(calculate_rmse, axis=1, min_col='min_salary', max_col='max_salary', pred_min_col=min_col, pred_max_col=max_col)\n",
    "    df[min_col + '_overlap'] = df.apply(calculate_overlap, axis=1, min_col='min_salary', max_col='max_salary', pred_min_col=min_col, pred_max_col=max_col)\n",
    "\n",
    "# Calculate average RMSE and overlap for each block\n",
    "for min_col, _ in blocks:\n",
    "    average_rmse = df[min_col + '_rmse'].mean()\n",
    "    average_overlap = df[min_col + '_overlap'].mean()\n",
    "    print(f\"Average RMSE for {min_col}: {average_rmse}\")\n",
    "    print(f\"Average Overlap Coefficient for {min_col}: {average_overlap}\")"
   ],
   "metadata": {
    "collapsed": false,
    "ExecuteTime": {
     "end_time": "2024-07-09T07:22:20.650348400Z",
     "start_time": "2024-07-09T07:22:20.593778Z"
    }
   },
   "id": "2626b292c7ec1c6e"
  }
 ],
 "metadata": {
  "kernelspec": {
   "display_name": "Python 3",
   "language": "python",
   "name": "python3"
  },
  "language_info": {
   "codemirror_mode": {
    "name": "ipython",
    "version": 2
   },
   "file_extension": ".py",
   "mimetype": "text/x-python",
   "name": "python",
   "nbconvert_exporter": "python",
   "pygments_lexer": "ipython2",
   "version": "2.7.6"
  }
 },
 "nbformat": 4,
 "nbformat_minor": 5
}
