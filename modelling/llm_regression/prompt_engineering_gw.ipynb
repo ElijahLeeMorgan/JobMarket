{
 "cells": [
  {
   "cell_type": "code",
   "execution_count": 1,
   "id": "initial_id",
   "metadata": {
    "collapsed": true,
    "ExecuteTime": {
     "end_time": "2024-07-04T08:08:01.284834Z",
     "start_time": "2024-07-04T08:07:57.944132Z"
    }
   },
   "outputs": [],
   "source": [
    "from groq import Groq\n",
    "import pandas as pd\n",
    "import re\n",
    "import os"
   ]
  },
  {
   "cell_type": "markdown",
   "source": [
    "# Import the data"
   ],
   "metadata": {
    "collapsed": false
   },
   "id": "837ccfa8aec3efdc"
  },
  {
   "cell_type": "code",
   "outputs": [],
   "source": [
    "df = pd.read_csv('../../data_acquisition/data/df_with_salary.csv')"
   ],
   "metadata": {
    "collapsed": false,
    "ExecuteTime": {
     "end_time": "2024-07-04T08:10:06.712469Z",
     "start_time": "2024-07-04T08:10:06.699217Z"
    }
   },
   "id": "ee6b030f8ead1176",
   "execution_count": 3
  },
  {
   "cell_type": "code",
   "outputs": [
    {
     "data": {
      "text/plain": "                                               title             company  \\\n0                             Software Engineer .Net  ELCA Informatik AG   \n1                      Digital Analyst / Web Analyst             Unic AG   \n2                             ICT Supporter 100% (a)       Spitex Zürich   \n3  KAUFMÄNNISCHES PRAKTIKUM (100%) - MIT FOKUS KU...           gebana AG   \n4  System Engineer für Microsoft-Technologien und...        konekkt GmbH   \n\n    contract_type                                        description  \\\n0  Festanstellung  Über ELCA Wir sind ELCA, einer der grössten Sc...   \n1  Festanstellung  Deine Aufgaben als Digital Analyst bei Unic   ...   \n2  Festanstellung  Möchtest du auch etwas bewegen und deine Arbei...   \n3       Praktikum  DEINE AUFGABEN IM KUND:INNENSERVICE – EINSATZ ...   \n4  Festanstellung  Wir präsentieren eine faszinierende Karrieremö...   \n\n   min_workload  max_workload  min_salary  max_salary  \n0            80           100      100000      130000  \n1            80           100       90000      113000  \n2           100           100       78000       96000  \n3           100           100       28300       28300  \n4            80           100       95000      125000  ",
      "text/html": "<div>\n<style scoped>\n    .dataframe tbody tr th:only-of-type {\n        vertical-align: middle;\n    }\n\n    .dataframe tbody tr th {\n        vertical-align: top;\n    }\n\n    .dataframe thead th {\n        text-align: right;\n    }\n</style>\n<table border=\"1\" class=\"dataframe\">\n  <thead>\n    <tr style=\"text-align: right;\">\n      <th></th>\n      <th>title</th>\n      <th>company</th>\n      <th>contract_type</th>\n      <th>description</th>\n      <th>min_workload</th>\n      <th>max_workload</th>\n      <th>min_salary</th>\n      <th>max_salary</th>\n    </tr>\n  </thead>\n  <tbody>\n    <tr>\n      <th>0</th>\n      <td>Software Engineer .Net</td>\n      <td>ELCA Informatik AG</td>\n      <td>Festanstellung</td>\n      <td>Über ELCA Wir sind ELCA, einer der grössten Sc...</td>\n      <td>80</td>\n      <td>100</td>\n      <td>100000</td>\n      <td>130000</td>\n    </tr>\n    <tr>\n      <th>1</th>\n      <td>Digital Analyst / Web Analyst</td>\n      <td>Unic AG</td>\n      <td>Festanstellung</td>\n      <td>Deine Aufgaben als Digital Analyst bei Unic   ...</td>\n      <td>80</td>\n      <td>100</td>\n      <td>90000</td>\n      <td>113000</td>\n    </tr>\n    <tr>\n      <th>2</th>\n      <td>ICT Supporter 100% (a)</td>\n      <td>Spitex Zürich</td>\n      <td>Festanstellung</td>\n      <td>Möchtest du auch etwas bewegen und deine Arbei...</td>\n      <td>100</td>\n      <td>100</td>\n      <td>78000</td>\n      <td>96000</td>\n    </tr>\n    <tr>\n      <th>3</th>\n      <td>KAUFMÄNNISCHES PRAKTIKUM (100%) - MIT FOKUS KU...</td>\n      <td>gebana AG</td>\n      <td>Praktikum</td>\n      <td>DEINE AUFGABEN IM KUND:INNENSERVICE – EINSATZ ...</td>\n      <td>100</td>\n      <td>100</td>\n      <td>28300</td>\n      <td>28300</td>\n    </tr>\n    <tr>\n      <th>4</th>\n      <td>System Engineer für Microsoft-Technologien und...</td>\n      <td>konekkt GmbH</td>\n      <td>Festanstellung</td>\n      <td>Wir präsentieren eine faszinierende Karrieremö...</td>\n      <td>80</td>\n      <td>100</td>\n      <td>95000</td>\n      <td>125000</td>\n    </tr>\n  </tbody>\n</table>\n</div>"
     },
     "execution_count": 6,
     "metadata": {},
     "output_type": "execute_result"
    }
   ],
   "source": [
    "df.head()"
   ],
   "metadata": {
    "collapsed": false,
    "ExecuteTime": {
     "end_time": "2024-07-04T08:10:22.530883Z",
     "start_time": "2024-07-04T08:10:22.520637Z"
    }
   },
   "id": "e28c0ac9230cf5ba",
   "execution_count": 6
  },
  {
   "cell_type": "markdown",
   "source": [
    "# Prompt blocks definition\n",
    "Block 0: Few shot 5 examples with salary\n",
    "Block 1: Job title\n",
    "Block 2: company\n",
    "Block 3: workload (min workload and max workload)\n",
    "Block 4: Contract type\n",
    "Block 5: description"
   ],
   "metadata": {
    "collapsed": false
   },
   "id": "56e68f428561d6cc"
  },
  {
   "cell_type": "markdown",
   "source": [
    "# Set up for ussage"
   ],
   "metadata": {
    "collapsed": false
   },
   "id": "7ad4ad1157be8a23"
  },
  {
   "cell_type": "code",
   "outputs": [],
   "source": [
    "client = Groq(\n",
    "    api_key=\"\",\n",
    ")\n",
    "\n",
    "def generate_message(title, company, min_salary, max_salary, min_workload, max_workload, description):\n",
    "    return {\n",
    "        \"role\": \"user\",\n",
    "        \"content\": f\"Das Gehalt für die Position {title} bei der Firma {company} liegt zwischen {min_salary} und {max_salary} mit einer Arbeitszeit von {min_workload} bis {max_workload} Prozent. Hier ist die Beschreibung, was Sie benötigen und tun müssen: {description}\"\n",
    "    }\n",
    "\n",
    "def extract_salaries(response):\n",
    "    pattern = re.compile(r\"(\\d{1,3}(?:[',\\s]\\d{3})*)\\s*-\\s*(\\d{1,3}(?:[',\\s]\\d{3})*)\\s*CHF\")\n",
    "    matches = pattern.findall(response)\n",
    "    if matches:\n",
    "        min_salary, max_salary = [int(salary.replace(\"'\", \"\")) for salary in matches[0]]\n",
    "        return min_salary, max_salary\n",
    "    return None, None"
   ],
   "metadata": {
    "collapsed": false,
    "ExecuteTime": {
     "end_time": "2024-07-04T08:56:52.810191Z",
     "start_time": "2024-07-04T08:56:52.328544Z"
    }
   },
   "id": "bc61a00fd5a1eef8",
   "execution_count": 19
  },
  {
   "cell_type": "markdown",
   "source": [
    "## LLM request with Block 1"
   ],
   "metadata": {
    "collapsed": false
   },
   "id": "b425e1b2730f4361"
  },
  {
   "cell_type": "code",
   "outputs": [],
   "source": [
    "# change here for new prompt and message below ------------\n",
    "results_file = 'data/llm_block1.csv'\n",
    "min = 'block1_min_salary'\n",
    "max = 'block1_max_salary'\n",
    "answer = 'block1_answer'\n",
    "# Setup and load initial data\n",
    "if os.path.exists(results_file):\n",
    "    df_without_salary = pd.read_csv(results_file)\n",
    "else:\n",
    "    df[min] = None  # Initialize columns if starting fresh\n",
    "    df[max] = None\n",
    "    df[answer] = None \n",
    "\n",
    "# change content here for new prompt and message below ------------\n",
    "def generate_query(row):\n",
    "    return {\n",
    "        \"role\": \"user\",\n",
    "        \"content\": f\"Gib mir nur das Gehalt im Format (\\d{1,3}(?:'\\d{3})*) und (\\d{1,3}(?:'\\d{3})*) CHF für die Position {row['title']} in Zürich, Schweiz. Wenn du kein exaktes Gehalt hast gib eine Schätzung an.\"\n",
    "    }\n",
    "\n",
    "def run_model(limit):\n",
    "    start_index = df[min].last_valid_index() + 1 if df[max].last_valid_index() != None else 0\n",
    "\n",
    "    \n",
    "    for index, row in df.iloc[start_index:start_index + limit].iterrows():\n",
    "        query_message = generate_query(row)\n",
    "        chat_completion = client.chat.completions.create(\n",
    "            messages= [query_message], # change message for new prompt ------------\n",
    "            model=\"llama3-70b-8192\",\n",
    "            temperature=0.0\n",
    "        )\n",
    "        min_salary, max_salary = extract_salaries(chat_completion.choices[0].message.content)\n",
    "        print(index)\n",
    "        print(min_salary, max_salary)\n",
    "        \n",
    "        \n",
    "        # Update DataFrame\n",
    "        df.at[index, min] = min_salary\n",
    "        df.at[index, max] = max_salary\n",
    "        df.at[index, answer] = chat_completion.choices[0].message.content\n",
    "        \n",
    "    # Save updated DataFrame in chunks or fully, depending on your preference\n",
    "    df.to_csv(results_file, index=False)\n",
    "\n",
    "# Testing the function with a limited number of entries\n",
    "run_model(10000)"
   ],
   "metadata": {
    "collapsed": false,
    "ExecuteTime": {
     "end_time": "2024-07-04T08:57:03.641841Z",
     "start_time": "2024-07-04T08:57:03.603921Z"
    }
   },
   "id": "a5416e8a07b8ae46",
   "execution_count": 21
  },
  {
   "cell_type": "code",
   "outputs": [
    {
     "data": {
      "text/plain": "                                               title             company  \\\n0                             Software Engineer .Net  ELCA Informatik AG   \n1                      Digital Analyst / Web Analyst             Unic AG   \n2                             ICT Supporter 100% (a)       Spitex Zürich   \n3  KAUFMÄNNISCHES PRAKTIKUM (100%) - MIT FOKUS KU...           gebana AG   \n4  System Engineer für Microsoft-Technologien und...        konekkt GmbH   \n\n    contract_type                                        description  \\\n0  Festanstellung  Über ELCA Wir sind ELCA, einer der grössten Sc...   \n1  Festanstellung  Deine Aufgaben als Digital Analyst bei Unic   ...   \n2  Festanstellung  Möchtest du auch etwas bewegen und deine Arbei...   \n3       Praktikum  DEINE AUFGABEN IM KUND:INNENSERVICE – EINSATZ ...   \n4  Festanstellung  Wir präsentieren eine faszinierende Karrieremö...   \n\n   min_workload  max_workload  min_salary  max_salary  block1_min_salary  \\\n0            80           100      100000      130000            80000.0   \n1            80           100       90000      113000            80000.0   \n2           100           100       78000       96000            80000.0   \n3           100           100       28300       28300             4500.0   \n4            80           100       95000      125000            90000.0   \n\n   block1_max_salary                                      block1_answer  \\\n0           140000.0  Based on national averages and online sources,...   \n1           120000.0  Based on national averages and online sources,...   \n2           110000.0  Based on national averages and online sources,...   \n3             6000.0  Based on national averages and online sources,...   \n4           140000.0  Based on national averages and online sources,...   \n\n   block1_2_3_min_salary  block1_2_3_max_salary  \\\n0                80000.0               110000.0   \n1                65000.0                85000.0   \n2                80000.0               110000.0   \n3                45000.0                60000.0   \n4                90000.0               120000.0   \n\n                                   block1_2_3_answer  \n0  Based on national averages and online sources,...  \n1  Based on national averages and online sources,...  \n2  Based on national averages and online sources,...  \n3  Based on national averages and online sources,...  \n4  Based on national averages and online sources,...  ",
      "text/html": "<div>\n<style scoped>\n    .dataframe tbody tr th:only-of-type {\n        vertical-align: middle;\n    }\n\n    .dataframe tbody tr th {\n        vertical-align: top;\n    }\n\n    .dataframe thead th {\n        text-align: right;\n    }\n</style>\n<table border=\"1\" class=\"dataframe\">\n  <thead>\n    <tr style=\"text-align: right;\">\n      <th></th>\n      <th>title</th>\n      <th>company</th>\n      <th>contract_type</th>\n      <th>description</th>\n      <th>min_workload</th>\n      <th>max_workload</th>\n      <th>min_salary</th>\n      <th>max_salary</th>\n      <th>block1_min_salary</th>\n      <th>block1_max_salary</th>\n      <th>block1_answer</th>\n      <th>block1_2_3_min_salary</th>\n      <th>block1_2_3_max_salary</th>\n      <th>block1_2_3_answer</th>\n    </tr>\n  </thead>\n  <tbody>\n    <tr>\n      <th>0</th>\n      <td>Software Engineer .Net</td>\n      <td>ELCA Informatik AG</td>\n      <td>Festanstellung</td>\n      <td>Über ELCA Wir sind ELCA, einer der grössten Sc...</td>\n      <td>80</td>\n      <td>100</td>\n      <td>100000</td>\n      <td>130000</td>\n      <td>80000.0</td>\n      <td>140000.0</td>\n      <td>Based on national averages and online sources,...</td>\n      <td>80000.0</td>\n      <td>110000.0</td>\n      <td>Based on national averages and online sources,...</td>\n    </tr>\n    <tr>\n      <th>1</th>\n      <td>Digital Analyst / Web Analyst</td>\n      <td>Unic AG</td>\n      <td>Festanstellung</td>\n      <td>Deine Aufgaben als Digital Analyst bei Unic   ...</td>\n      <td>80</td>\n      <td>100</td>\n      <td>90000</td>\n      <td>113000</td>\n      <td>80000.0</td>\n      <td>120000.0</td>\n      <td>Based on national averages and online sources,...</td>\n      <td>65000.0</td>\n      <td>85000.0</td>\n      <td>Based on national averages and online sources,...</td>\n    </tr>\n    <tr>\n      <th>2</th>\n      <td>ICT Supporter 100% (a)</td>\n      <td>Spitex Zürich</td>\n      <td>Festanstellung</td>\n      <td>Möchtest du auch etwas bewegen und deine Arbei...</td>\n      <td>100</td>\n      <td>100</td>\n      <td>78000</td>\n      <td>96000</td>\n      <td>80000.0</td>\n      <td>110000.0</td>\n      <td>Based on national averages and online sources,...</td>\n      <td>80000.0</td>\n      <td>110000.0</td>\n      <td>Based on national averages and online sources,...</td>\n    </tr>\n    <tr>\n      <th>3</th>\n      <td>KAUFMÄNNISCHES PRAKTIKUM (100%) - MIT FOKUS KU...</td>\n      <td>gebana AG</td>\n      <td>Praktikum</td>\n      <td>DEINE AUFGABEN IM KUND:INNENSERVICE – EINSATZ ...</td>\n      <td>100</td>\n      <td>100</td>\n      <td>28300</td>\n      <td>28300</td>\n      <td>4500.0</td>\n      <td>6000.0</td>\n      <td>Based on national averages and online sources,...</td>\n      <td>45000.0</td>\n      <td>60000.0</td>\n      <td>Based on national averages and online sources,...</td>\n    </tr>\n    <tr>\n      <th>4</th>\n      <td>System Engineer für Microsoft-Technologien und...</td>\n      <td>konekkt GmbH</td>\n      <td>Festanstellung</td>\n      <td>Wir präsentieren eine faszinierende Karrieremö...</td>\n      <td>80</td>\n      <td>100</td>\n      <td>95000</td>\n      <td>125000</td>\n      <td>90000.0</td>\n      <td>140000.0</td>\n      <td>Based on national averages and online sources,...</td>\n      <td>90000.0</td>\n      <td>120000.0</td>\n      <td>Based on national averages and online sources,...</td>\n    </tr>\n  </tbody>\n</table>\n</div>"
     },
     "execution_count": 22,
     "metadata": {},
     "output_type": "execute_result"
    }
   ],
   "source": [
    "df_block1 = pd.read_csv('data/llm_block1.csv')\n",
    "df_block1.head()"
   ],
   "metadata": {
    "collapsed": false,
    "ExecuteTime": {
     "end_time": "2024-07-04T08:57:06.235398Z",
     "start_time": "2024-07-04T08:57:06.200715Z"
    }
   },
   "id": "bda37c7d6cda9c77",
   "execution_count": 22
  },
  {
   "cell_type": "code",
   "outputs": [
    {
     "data": {
      "text/plain": "                                                 title        company  \\\n8                      Qualitätsmanager:in 80-100% (a)  Spitex Zürich   \n25                System Administrator 80-100% (m/w/d)   konekkt GmbH   \n52                 IT Support Engineer 80-100% (m/w/d)   konekkt GmbH   \n61           ICT System Administrator 80-100 % (m/w/d)   konekkt GmbH   \n65   IT Support Engineer – Lösungsfinder im Tech-Um...   konekkt GmbH   \n70            ICT System Administrator 80-100% (m/w/d)   konekkt GmbH   \n81             IT System Administrator 80-100% (m/w/d)   konekkt GmbH   \n89             IT System Administrator 80-100% (m/w/d)   konekkt GmbH   \n92                   IT System Administrator 80 - 100%   konekkt GmbH   \n98                 IT Support Engineer 80-100% (m/w/d)   konekkt GmbH   \n103                 Software Engineer C# m/w (80-100%)    yellowshark   \n\n      contract_type                                        description  \\\n8    Festanstellung  Möchtest du auch etwas bewegen und deine Arbei...   \n25   Festanstellung  Unser Partner ist einer der führenden IT-Lösun...   \n52   Festanstellung  Begleite ein renommiertes Unternehmen in der V...   \n61   Festanstellung  Unser Kunde ist ein dynamischer, innovativer u...   \n65   Festanstellung  Wir präsentieren Dir eine herausragende Gelege...   \n70   Festanstellung  Unterstützung und Sicherstellung des reibungsl...   \n81   Festanstellung  Gestalte die technische Infrastruktur in der I...   \n89   Festanstellung  Die einstellende Organisation, ein renommierte...   \n92   Festanstellung  Unser Partner ist ein junges dynamisches Unter...   \n98   Festanstellung  Unser Partner konzipiert und entwickelt massge...   \n103  Festanstellung  Im Auftrag Ihres zukünftigen Arbeitgebers such...   \n\n     min_workload  max_workload  min_salary  max_salary  block1_min_salary  \\\n8              80           100       94000      115000                NaN   \n25            100           100       90000      110000                NaN   \n52            100           100       70000       95000                NaN   \n61            100           100       95000      115000                NaN   \n65             80           100       70000       95000                NaN   \n70            100           100       90000      115000                NaN   \n81            100           100       95000      115000                NaN   \n89            100           100       95000      115000                NaN   \n92            100           100      100000      120000                NaN   \n98            100           100       75000       95000                NaN   \n103            80           100       85000      120000                NaN   \n\n     block1_max_salary                                      block1_answer  \n8                  NaN  Based on national averages and online sources,...  \n25                 NaN  Based on national averages and online sources,...  \n52                 NaN  Based on national averages and online sources,...  \n61                 NaN  Based on national averages and online sources,...  \n65                 NaN  Based on national averages and online sources,...  \n70                 NaN  Based on national averages and online sources,...  \n81                 NaN  Based on national averages and online sources,...  \n89                 NaN  Based on national averages and online sources,...  \n92                 NaN  Based on national averages and online sources,...  \n98                 NaN  Based on national averages and online sources,...  \n103                NaN  Based on national averages and online sources,...  ",
      "text/html": "<div>\n<style scoped>\n    .dataframe tbody tr th:only-of-type {\n        vertical-align: middle;\n    }\n\n    .dataframe tbody tr th {\n        vertical-align: top;\n    }\n\n    .dataframe thead th {\n        text-align: right;\n    }\n</style>\n<table border=\"1\" class=\"dataframe\">\n  <thead>\n    <tr style=\"text-align: right;\">\n      <th></th>\n      <th>title</th>\n      <th>company</th>\n      <th>contract_type</th>\n      <th>description</th>\n      <th>min_workload</th>\n      <th>max_workload</th>\n      <th>min_salary</th>\n      <th>max_salary</th>\n      <th>block1_min_salary</th>\n      <th>block1_max_salary</th>\n      <th>block1_answer</th>\n    </tr>\n  </thead>\n  <tbody>\n    <tr>\n      <th>8</th>\n      <td>Qualitätsmanager:in 80-100% (a)</td>\n      <td>Spitex Zürich</td>\n      <td>Festanstellung</td>\n      <td>Möchtest du auch etwas bewegen und deine Arbei...</td>\n      <td>80</td>\n      <td>100</td>\n      <td>94000</td>\n      <td>115000</td>\n      <td>NaN</td>\n      <td>NaN</td>\n      <td>Based on national averages and online sources,...</td>\n    </tr>\n    <tr>\n      <th>25</th>\n      <td>System Administrator 80-100% (m/w/d)</td>\n      <td>konekkt GmbH</td>\n      <td>Festanstellung</td>\n      <td>Unser Partner ist einer der führenden IT-Lösun...</td>\n      <td>100</td>\n      <td>100</td>\n      <td>90000</td>\n      <td>110000</td>\n      <td>NaN</td>\n      <td>NaN</td>\n      <td>Based on national averages and online sources,...</td>\n    </tr>\n    <tr>\n      <th>52</th>\n      <td>IT Support Engineer 80-100% (m/w/d)</td>\n      <td>konekkt GmbH</td>\n      <td>Festanstellung</td>\n      <td>Begleite ein renommiertes Unternehmen in der V...</td>\n      <td>100</td>\n      <td>100</td>\n      <td>70000</td>\n      <td>95000</td>\n      <td>NaN</td>\n      <td>NaN</td>\n      <td>Based on national averages and online sources,...</td>\n    </tr>\n    <tr>\n      <th>61</th>\n      <td>ICT System Administrator 80-100 % (m/w/d)</td>\n      <td>konekkt GmbH</td>\n      <td>Festanstellung</td>\n      <td>Unser Kunde ist ein dynamischer, innovativer u...</td>\n      <td>100</td>\n      <td>100</td>\n      <td>95000</td>\n      <td>115000</td>\n      <td>NaN</td>\n      <td>NaN</td>\n      <td>Based on national averages and online sources,...</td>\n    </tr>\n    <tr>\n      <th>65</th>\n      <td>IT Support Engineer – Lösungsfinder im Tech-Um...</td>\n      <td>konekkt GmbH</td>\n      <td>Festanstellung</td>\n      <td>Wir präsentieren Dir eine herausragende Gelege...</td>\n      <td>80</td>\n      <td>100</td>\n      <td>70000</td>\n      <td>95000</td>\n      <td>NaN</td>\n      <td>NaN</td>\n      <td>Based on national averages and online sources,...</td>\n    </tr>\n    <tr>\n      <th>70</th>\n      <td>ICT System Administrator 80-100% (m/w/d)</td>\n      <td>konekkt GmbH</td>\n      <td>Festanstellung</td>\n      <td>Unterstützung und Sicherstellung des reibungsl...</td>\n      <td>100</td>\n      <td>100</td>\n      <td>90000</td>\n      <td>115000</td>\n      <td>NaN</td>\n      <td>NaN</td>\n      <td>Based on national averages and online sources,...</td>\n    </tr>\n    <tr>\n      <th>81</th>\n      <td>IT System Administrator 80-100% (m/w/d)</td>\n      <td>konekkt GmbH</td>\n      <td>Festanstellung</td>\n      <td>Gestalte die technische Infrastruktur in der I...</td>\n      <td>100</td>\n      <td>100</td>\n      <td>95000</td>\n      <td>115000</td>\n      <td>NaN</td>\n      <td>NaN</td>\n      <td>Based on national averages and online sources,...</td>\n    </tr>\n    <tr>\n      <th>89</th>\n      <td>IT System Administrator 80-100% (m/w/d)</td>\n      <td>konekkt GmbH</td>\n      <td>Festanstellung</td>\n      <td>Die einstellende Organisation, ein renommierte...</td>\n      <td>100</td>\n      <td>100</td>\n      <td>95000</td>\n      <td>115000</td>\n      <td>NaN</td>\n      <td>NaN</td>\n      <td>Based on national averages and online sources,...</td>\n    </tr>\n    <tr>\n      <th>92</th>\n      <td>IT System Administrator 80 - 100%</td>\n      <td>konekkt GmbH</td>\n      <td>Festanstellung</td>\n      <td>Unser Partner ist ein junges dynamisches Unter...</td>\n      <td>100</td>\n      <td>100</td>\n      <td>100000</td>\n      <td>120000</td>\n      <td>NaN</td>\n      <td>NaN</td>\n      <td>Based on national averages and online sources,...</td>\n    </tr>\n    <tr>\n      <th>98</th>\n      <td>IT Support Engineer 80-100% (m/w/d)</td>\n      <td>konekkt GmbH</td>\n      <td>Festanstellung</td>\n      <td>Unser Partner konzipiert und entwickelt massge...</td>\n      <td>100</td>\n      <td>100</td>\n      <td>75000</td>\n      <td>95000</td>\n      <td>NaN</td>\n      <td>NaN</td>\n      <td>Based on national averages and online sources,...</td>\n    </tr>\n    <tr>\n      <th>103</th>\n      <td>Software Engineer C# m/w (80-100%)</td>\n      <td>yellowshark</td>\n      <td>Festanstellung</td>\n      <td>Im Auftrag Ihres zukünftigen Arbeitgebers such...</td>\n      <td>80</td>\n      <td>100</td>\n      <td>85000</td>\n      <td>120000</td>\n      <td>NaN</td>\n      <td>NaN</td>\n      <td>Based on national averages and online sources,...</td>\n    </tr>\n  </tbody>\n</table>\n</div>"
     },
     "execution_count": 18,
     "metadata": {},
     "output_type": "execute_result"
    }
   ],
   "source": [
    "# all block1_answers where block1_max_salary is null and block1_min_salary is null\n",
    "df_block1[df_block1['block1_max_salary'].isnull() & df_block1['block1_min_salary'].isnull()]\n"
   ],
   "metadata": {
    "collapsed": false,
    "ExecuteTime": {
     "end_time": "2024-07-04T08:54:41.994548Z",
     "start_time": "2024-07-04T08:54:41.980995Z"
    }
   },
   "id": "26738d107826d663",
   "execution_count": 18
  },
  {
   "cell_type": "markdown",
   "source": [
    "# LLM request with Block 1 2 3 "
   ],
   "metadata": {
    "collapsed": false
   },
   "id": "76e1c6467261c5d4"
  },
  {
   "cell_type": "code",
   "outputs": [
    {
     "name": "stdout",
     "output_type": "stream",
     "text": [
      "0\n",
      "80000 110000\n",
      "1\n",
      "65000 85000\n",
      "2\n",
      "80000 110000\n",
      "3\n",
      "45000 60000\n",
      "4\n",
      "90000 120000\n",
      "5\n",
      "None None\n",
      "6\n",
      "90000 140000\n",
      "7\n",
      "None None\n",
      "8\n",
      "80000 110000\n",
      "9\n",
      "90000 120000\n",
      "10\n",
      "120000 140000\n",
      "11\n",
      "80000 120000\n",
      "12\n",
      "110000 140000\n",
      "13\n",
      "80000 120000\n",
      "14\n",
      "120000 180000\n",
      "15\n",
      "None None\n",
      "16\n",
      "None None\n",
      "17\n",
      "80000 120000\n",
      "18\n",
      "80000 140000\n",
      "19\n",
      "90000 140000\n",
      "20\n",
      "90000 120000\n",
      "21\n",
      "90000 120000\n",
      "22\n",
      "90000 120000\n",
      "23\n",
      "90000 120000\n",
      "24\n",
      "None None\n",
      "25\n",
      "None None\n",
      "26\n",
      "80000 110000\n",
      "27\n",
      "90000 120000\n",
      "28\n",
      "90000 120000\n",
      "29\n",
      "90000 120000\n",
      "30\n",
      "80000 110000\n",
      "31\n",
      "90000 120000\n",
      "32\n",
      "95000 125000\n",
      "33\n",
      "90000 120000\n",
      "34\n",
      "90000 120000\n",
      "35\n",
      "110000 140000\n",
      "36\n",
      "90000 120000\n",
      "37\n",
      "110000 140000\n",
      "38\n",
      "90000 120000\n",
      "39\n",
      "90000 120000\n",
      "40\n",
      "90000 120000\n",
      "41\n",
      "90000 120000\n",
      "42\n",
      "90000 120000\n",
      "43\n",
      "90000 120000\n",
      "44\n",
      "None None\n",
      "45\n",
      "90000 120000\n",
      "46\n",
      "90000 120000\n",
      "47\n",
      "90000 120000\n",
      "48\n",
      "120000 150000\n",
      "49\n",
      "120000 180000\n",
      "50\n",
      "120000 150000\n",
      "51\n",
      "90000 120000\n",
      "52\n",
      "None None\n",
      "53\n",
      "90000 120000\n",
      "54\n",
      "90000 120000\n",
      "55\n",
      "80000 110000\n",
      "56\n",
      "90000 120000\n",
      "57\n",
      "90000 120000\n",
      "58\n",
      "90000 120000\n",
      "59\n",
      "95000 125000\n",
      "60\n",
      "None None\n",
      "61\n",
      "None None\n",
      "62\n",
      "110000 140000\n",
      "63\n",
      "90000 120000\n",
      "64\n",
      "90000 120000\n",
      "65\n",
      "None None\n",
      "66\n",
      "90000 120000\n",
      "67\n",
      "80000 110000\n",
      "68\n",
      "90000 120000\n",
      "69\n",
      "None None\n",
      "70\n",
      "None None\n",
      "71\n",
      "None None\n",
      "72\n",
      "90000 120000\n",
      "73\n",
      "90000 110000\n",
      "74\n",
      "110000 140000\n",
      "75\n",
      "90000 120000\n",
      "76\n",
      "90000 120000\n",
      "77\n",
      "90000 120000\n",
      "78\n",
      "None None\n",
      "79\n",
      "None None\n",
      "80\n",
      "90000 120000\n",
      "81\n",
      "None None\n",
      "82\n",
      "90000 140000\n",
      "83\n",
      "80000 120000\n",
      "84\n",
      "90000 120000\n",
      "85\n",
      "90000 120000\n",
      "86\n",
      "90000 120000\n",
      "87\n",
      "90000 120000\n",
      "88\n",
      "90000 120000\n",
      "89\n",
      "None None\n",
      "90\n",
      "90000 120000\n",
      "91\n",
      "80000 120000\n",
      "92\n",
      "None None\n",
      "93\n",
      "95000 115000\n",
      "94\n",
      "90000 120000\n",
      "95\n",
      "90000 120000\n",
      "96\n",
      "90000 120000\n",
      "97\n",
      "120000 150000\n",
      "98\n",
      "None None\n",
      "99\n",
      "90000 110000\n",
      "100\n",
      "90000 120000\n",
      "101\n",
      "140000 180000\n",
      "102\n",
      "None None\n",
      "103\n",
      "80000 110000\n",
      "104\n",
      "90000 120000\n",
      "105\n",
      "90000 120000\n",
      "106\n",
      "None None\n",
      "107\n",
      "55000 75000\n",
      "108\n",
      "None None\n",
      "109\n",
      "80000 120000\n"
     ]
    }
   ],
   "source": [
    "# change here for new prompt and message below ------------\n",
    "results_file = 'data/llm_block1_2_3.csv'\n",
    "min = 'block1_2_3_min_salary'\n",
    "max = 'block1_2_3_max_salary'\n",
    "answer = 'block1_2_3_answer'\n",
    "# Setup and load initial data\n",
    "if os.path.exists(results_file):\n",
    "    df_without_salary = pd.read_csv(results_file)\n",
    "else:\n",
    "    df[min] = None  # Initialize columns if starting fresh\n",
    "    df[max] = None\n",
    "    df[answer] = None \n",
    "\n",
    "# change content here for new prompt and message below ------------\n",
    "def generate_query(row):\n",
    "    return {\n",
    "        \"role\": \"user\",\n",
    "        \"content\": f\"Gib mir nur das Gehalt im Format (\\d{1,3}(?:'\\d{3})*) und (\\d{1,3}(?:'\\d{3})*) CHF für die Position {row['title']} bei der Firma {row['company']} in Zürich, Schweiz. Mit einer Arbeitszeit von {row['min_workload']} bis {row['max_workload']} Prozent. Wenn du kein exaktes Gehalt hast gib eine Schätzung an.\"\n",
    "    }\n",
    "\n",
    "def run_model(limit):\n",
    "    start_index = df[min].last_valid_index() + 1 if df[max].last_valid_index() != None else 0\n",
    "\n",
    "    \n",
    "    for index, row in df.iloc[start_index:start_index + limit].iterrows():\n",
    "        query_message = generate_query(row)\n",
    "        chat_completion = client.chat.completions.create(\n",
    "            messages= [query_message], # change message for new prompt ------------\n",
    "            model=\"llama3-70b-8192\",\n",
    "            temperature=0.0\n",
    "        )\n",
    "        min_salary, max_salary = extract_salaries(chat_completion.choices[0].message.content)\n",
    "        print(index)\n",
    "        print(min_salary, max_salary)\n",
    "        \n",
    "        \n",
    "        # Update DataFrame\n",
    "        df.at[index, min] = min_salary\n",
    "        df.at[index, max] = max_salary\n",
    "        df.at[index, answer] = chat_completion.choices[0].message.content\n",
    "        \n",
    "    # Save updated DataFrame in chunks or fully, depending on your preference\n",
    "    df.to_csv(results_file, index=False)\n",
    "\n",
    "# Testing the function with a limited number of entries\n",
    "run_model(10000)"
   ],
   "metadata": {
    "collapsed": false,
    "ExecuteTime": {
     "end_time": "2024-07-04T08:54:15.842676Z",
     "start_time": "2024-07-04T08:50:31.020008Z"
    }
   },
   "id": "7c8c4860b401b677",
   "execution_count": 17
  }
 ],
 "metadata": {
  "kernelspec": {
   "display_name": "Python 3",
   "language": "python",
   "name": "python3"
  },
  "language_info": {
   "codemirror_mode": {
    "name": "ipython",
    "version": 2
   },
   "file_extension": ".py",
   "mimetype": "text/x-python",
   "name": "python",
   "nbconvert_exporter": "python",
   "pygments_lexer": "ipython2",
   "version": "2.7.6"
  }
 },
 "nbformat": 4,
 "nbformat_minor": 5
}
