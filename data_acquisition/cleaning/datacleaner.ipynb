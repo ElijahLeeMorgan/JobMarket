{
 "cells": [
  {
   "cell_type": "markdown",
   "source": [
    "# Data cleaning"
   ],
   "metadata": {
    "collapsed": false
   },
   "id": "4b07bd9e16642077"
  },
  {
   "cell_type": "code",
   "outputs": [],
   "source": [
    "import pandas as pd\n",
    "import numpy as np"
   ],
   "metadata": {
    "collapsed": false,
    "ExecuteTime": {
     "end_time": "2024-07-09T11:51:02.861552100Z",
     "start_time": "2024-07-09T11:51:02.415941900Z"
    }
   },
   "id": "a5f75cbae0ca3e18",
   "execution_count": 3
  },
  {
   "cell_type": "code",
   "outputs": [],
   "source": [
    "df = pd.read_json('../data/all_jobs_data.json')"
   ],
   "metadata": {
    "collapsed": false,
    "ExecuteTime": {
     "end_time": "2024-07-09T12:52:51.297397700Z",
     "start_time": "2024-07-09T12:52:51.213140100Z"
    }
   },
   "id": "a66929a8c7aa9993",
   "execution_count": 6
  },
  {
   "cell_type": "code",
   "outputs": [
    {
     "data": {
      "text/plain": "                                                title  \\\n0               Projektleiter / Consultant e-Case.Net   \n1          Senior Software Engineer 80 - 100% (m/w/d)   \n2                           System Engineer - Ansible   \n3   Softwareentwickler/in mit GIS-Erfahrung, Profe...   \n4                        SAP Consultant PP-PI (m/w/d)   \n..                                                ...   \n95                          Head Platform Development   \n96            IT Governance Manager (f/m/d) 80 - 100%   \n97                     Application Manager (a) 50-70%   \n98                        System Engineer CRM (w/m/d)   \n99     Product Owner Policy Center (m/w/d) 80 - 100 %   \n\n                                              company   contract_type  \\\n0                                         Infogate AG  Festanstellung   \n1                                        Wey Group AG  Festanstellung   \n2                      RMIT Professional Resources AG       Freelance   \n3                                      EBP Schweiz AG  Festanstellung   \n4                         Migros-Genossenschafts-Bund  Festanstellung   \n..                                                ...             ...   \n95                             ZWEI Wealth Experts AG  Festanstellung   \n96                          Burckhardt Compression AG  Festanstellung   \n97                                 Equans Services AG  Festanstellung   \n98                        Migros-Genossenschafts-Bund  Festanstellung   \n99  Zürich Versicherungs-Gesellschaft AG / Zurich ...  Festanstellung   \n\n      workload                salary  \\\n0   80% – 100%  Salary not specified   \n1   80% – 100%  Salary not specified   \n2   80% – 100%  Salary not specified   \n3   60% – 100%  Salary not specified   \n4   60% – 100%  Salary not specified   \n..         ...                   ...   \n95  80% – 100%  Salary not specified   \n96  80% – 100%  Salary not specified   \n97   50% – 70%  Salary not specified   \n98  60% – 100%  Salary not specified   \n99  80% – 100%  Salary not specified   \n\n                                          description  \n0   Wer braucht Deine Verstärkung? 1991 waren wir ...  \n1   Deine Aufgaben:   Als Senior Software Engineer...  \n2   System Engineer Position einhergehend mit Kenn...  \n3   Dein Beitrag in unserem Team  Du entwickelst b...  \n4   \"Teamwork makes the dream work\" ist für dich k...  \n..                                                ...  \n95  Deine Kernaufgaben  Projektplanung und -leitun...  \n96  Your daily contribution:   Ensure the effectiv...  \n97  Equans Switzerland. Echt was bewegen. Als führ...  \n98  Der Bereich Digital Business des Migros-Genoss...  \n99  Inspiriert dich der Gedanke, Einfluss auf die ...  \n\n[100 rows x 6 columns]",
      "text/html": "<div>\n<style scoped>\n    .dataframe tbody tr th:only-of-type {\n        vertical-align: middle;\n    }\n\n    .dataframe tbody tr th {\n        vertical-align: top;\n    }\n\n    .dataframe thead th {\n        text-align: right;\n    }\n</style>\n<table border=\"1\" class=\"dataframe\">\n  <thead>\n    <tr style=\"text-align: right;\">\n      <th></th>\n      <th>title</th>\n      <th>company</th>\n      <th>contract_type</th>\n      <th>workload</th>\n      <th>salary</th>\n      <th>description</th>\n    </tr>\n  </thead>\n  <tbody>\n    <tr>\n      <th>0</th>\n      <td>Projektleiter / Consultant e-Case.Net</td>\n      <td>Infogate AG</td>\n      <td>Festanstellung</td>\n      <td>80% – 100%</td>\n      <td>Salary not specified</td>\n      <td>Wer braucht Deine Verstärkung? 1991 waren wir ...</td>\n    </tr>\n    <tr>\n      <th>1</th>\n      <td>Senior Software Engineer 80 - 100% (m/w/d)</td>\n      <td>Wey Group AG</td>\n      <td>Festanstellung</td>\n      <td>80% – 100%</td>\n      <td>Salary not specified</td>\n      <td>Deine Aufgaben:   Als Senior Software Engineer...</td>\n    </tr>\n    <tr>\n      <th>2</th>\n      <td>System Engineer - Ansible</td>\n      <td>RMIT Professional Resources AG</td>\n      <td>Freelance</td>\n      <td>80% – 100%</td>\n      <td>Salary not specified</td>\n      <td>System Engineer Position einhergehend mit Kenn...</td>\n    </tr>\n    <tr>\n      <th>3</th>\n      <td>Softwareentwickler/in mit GIS-Erfahrung, Profe...</td>\n      <td>EBP Schweiz AG</td>\n      <td>Festanstellung</td>\n      <td>60% – 100%</td>\n      <td>Salary not specified</td>\n      <td>Dein Beitrag in unserem Team  Du entwickelst b...</td>\n    </tr>\n    <tr>\n      <th>4</th>\n      <td>SAP Consultant PP-PI (m/w/d)</td>\n      <td>Migros-Genossenschafts-Bund</td>\n      <td>Festanstellung</td>\n      <td>60% – 100%</td>\n      <td>Salary not specified</td>\n      <td>\"Teamwork makes the dream work\" ist für dich k...</td>\n    </tr>\n    <tr>\n      <th>...</th>\n      <td>...</td>\n      <td>...</td>\n      <td>...</td>\n      <td>...</td>\n      <td>...</td>\n      <td>...</td>\n    </tr>\n    <tr>\n      <th>95</th>\n      <td>Head Platform Development</td>\n      <td>ZWEI Wealth Experts AG</td>\n      <td>Festanstellung</td>\n      <td>80% – 100%</td>\n      <td>Salary not specified</td>\n      <td>Deine Kernaufgaben  Projektplanung und -leitun...</td>\n    </tr>\n    <tr>\n      <th>96</th>\n      <td>IT Governance Manager (f/m/d) 80 - 100%</td>\n      <td>Burckhardt Compression AG</td>\n      <td>Festanstellung</td>\n      <td>80% – 100%</td>\n      <td>Salary not specified</td>\n      <td>Your daily contribution:   Ensure the effectiv...</td>\n    </tr>\n    <tr>\n      <th>97</th>\n      <td>Application Manager (a) 50-70%</td>\n      <td>Equans Services AG</td>\n      <td>Festanstellung</td>\n      <td>50% – 70%</td>\n      <td>Salary not specified</td>\n      <td>Equans Switzerland. Echt was bewegen. Als führ...</td>\n    </tr>\n    <tr>\n      <th>98</th>\n      <td>System Engineer CRM (w/m/d)</td>\n      <td>Migros-Genossenschafts-Bund</td>\n      <td>Festanstellung</td>\n      <td>60% – 100%</td>\n      <td>Salary not specified</td>\n      <td>Der Bereich Digital Business des Migros-Genoss...</td>\n    </tr>\n    <tr>\n      <th>99</th>\n      <td>Product Owner Policy Center (m/w/d) 80 - 100 %</td>\n      <td>Zürich Versicherungs-Gesellschaft AG / Zurich ...</td>\n      <td>Festanstellung</td>\n      <td>80% – 100%</td>\n      <td>Salary not specified</td>\n      <td>Inspiriert dich der Gedanke, Einfluss auf die ...</td>\n    </tr>\n  </tbody>\n</table>\n<p>100 rows × 6 columns</p>\n</div>"
     },
     "execution_count": 5,
     "metadata": {},
     "output_type": "execute_result"
    }
   ],
   "source": [
    "df.head(100)"
   ],
   "metadata": {
    "collapsed": false,
    "ExecuteTime": {
     "end_time": "2024-07-09T11:51:05.031444Z",
     "start_time": "2024-07-09T11:51:05.004247200Z"
    }
   },
   "id": "a58cca984cb17c6a",
   "execution_count": 5
  },
  {
   "cell_type": "code",
   "outputs": [
    {
     "data": {
      "text/plain": "                                               title  \\\n0              Projektleiter / Consultant e-Case.Net   \n1         Senior Software Engineer 80 - 100% (m/w/d)   \n2                          System Engineer - Ansible   \n3  Softwareentwickler/in mit GIS-Erfahrung, Profe...   \n4                       SAP Consultant PP-PI (m/w/d)   \n5  Application Manager SAP Healthcare (IS-H) (a) ...   \n6           Senior .NET Software Engineer E-Mobility   \n7                        Application Manager (w/m/d)   \n8         Head of Vertical Platforms m/w/d (80-100%)   \n9                 IT Servicedesk Mitarbeiter:in 100%   \n\n                                 company   contract_type  \\\n0                            Infogate AG  Festanstellung   \n1                           Wey Group AG  Festanstellung   \n2         RMIT Professional Resources AG       Freelance   \n3                         EBP Schweiz AG  Festanstellung   \n4            Migros-Genossenschafts-Bund  Festanstellung   \n5                          Hirslanden AG  Festanstellung   \n6                             Humanis AG  Festanstellung   \n7            Migros-Genossenschafts-Bund  Festanstellung   \n8  localsearch (Swisscom Directories AG)  Festanstellung   \n9                     Digitalmaterial AG  Festanstellung   \n\n                 salary                                        description  \\\n0  Salary not specified  Wer braucht Deine Verstärkung? 1991 waren wir ...   \n1  Salary not specified  Deine Aufgaben:   Als Senior Software Engineer...   \n2  Salary not specified  System Engineer Position einhergehend mit Kenn...   \n3  Salary not specified  Dein Beitrag in unserem Team  Du entwickelst b...   \n4  Salary not specified  \"Teamwork makes the dream work\" ist für dich k...   \n5  Salary not specified  Application Manager SAP Healthcare (IS-H) (a) ...   \n6  Salary not specified  \"Unter dem Motto 'Energizing Assets' ermöglich...   \n7  Salary not specified  Unser Corporate Finance Solutions Team betreut...   \n8  Salary not specified  localsearch ist der führende Marketing- und We...   \n9  Salary not specified  Deine Aufgaben  Die Bedürfnisse unserer Kunden...   \n\n  min_workload max_workload  \n0           80          100  \n1           80          100  \n2           80          100  \n3           60          100  \n4           60          100  \n5           60          100  \n6          100          100  \n7           60          100  \n8           80          100  \n9          100          100  ",
      "text/html": "<div>\n<style scoped>\n    .dataframe tbody tr th:only-of-type {\n        vertical-align: middle;\n    }\n\n    .dataframe tbody tr th {\n        vertical-align: top;\n    }\n\n    .dataframe thead th {\n        text-align: right;\n    }\n</style>\n<table border=\"1\" class=\"dataframe\">\n  <thead>\n    <tr style=\"text-align: right;\">\n      <th></th>\n      <th>title</th>\n      <th>company</th>\n      <th>contract_type</th>\n      <th>salary</th>\n      <th>description</th>\n      <th>min_workload</th>\n      <th>max_workload</th>\n    </tr>\n  </thead>\n  <tbody>\n    <tr>\n      <th>0</th>\n      <td>Projektleiter / Consultant e-Case.Net</td>\n      <td>Infogate AG</td>\n      <td>Festanstellung</td>\n      <td>Salary not specified</td>\n      <td>Wer braucht Deine Verstärkung? 1991 waren wir ...</td>\n      <td>80</td>\n      <td>100</td>\n    </tr>\n    <tr>\n      <th>1</th>\n      <td>Senior Software Engineer 80 - 100% (m/w/d)</td>\n      <td>Wey Group AG</td>\n      <td>Festanstellung</td>\n      <td>Salary not specified</td>\n      <td>Deine Aufgaben:   Als Senior Software Engineer...</td>\n      <td>80</td>\n      <td>100</td>\n    </tr>\n    <tr>\n      <th>2</th>\n      <td>System Engineer - Ansible</td>\n      <td>RMIT Professional Resources AG</td>\n      <td>Freelance</td>\n      <td>Salary not specified</td>\n      <td>System Engineer Position einhergehend mit Kenn...</td>\n      <td>80</td>\n      <td>100</td>\n    </tr>\n    <tr>\n      <th>3</th>\n      <td>Softwareentwickler/in mit GIS-Erfahrung, Profe...</td>\n      <td>EBP Schweiz AG</td>\n      <td>Festanstellung</td>\n      <td>Salary not specified</td>\n      <td>Dein Beitrag in unserem Team  Du entwickelst b...</td>\n      <td>60</td>\n      <td>100</td>\n    </tr>\n    <tr>\n      <th>4</th>\n      <td>SAP Consultant PP-PI (m/w/d)</td>\n      <td>Migros-Genossenschafts-Bund</td>\n      <td>Festanstellung</td>\n      <td>Salary not specified</td>\n      <td>\"Teamwork makes the dream work\" ist für dich k...</td>\n      <td>60</td>\n      <td>100</td>\n    </tr>\n    <tr>\n      <th>5</th>\n      <td>Application Manager SAP Healthcare (IS-H) (a) ...</td>\n      <td>Hirslanden AG</td>\n      <td>Festanstellung</td>\n      <td>Salary not specified</td>\n      <td>Application Manager SAP Healthcare (IS-H) (a) ...</td>\n      <td>60</td>\n      <td>100</td>\n    </tr>\n    <tr>\n      <th>6</th>\n      <td>Senior .NET Software Engineer E-Mobility</td>\n      <td>Humanis AG</td>\n      <td>Festanstellung</td>\n      <td>Salary not specified</td>\n      <td>\"Unter dem Motto 'Energizing Assets' ermöglich...</td>\n      <td>100</td>\n      <td>100</td>\n    </tr>\n    <tr>\n      <th>7</th>\n      <td>Application Manager (w/m/d)</td>\n      <td>Migros-Genossenschafts-Bund</td>\n      <td>Festanstellung</td>\n      <td>Salary not specified</td>\n      <td>Unser Corporate Finance Solutions Team betreut...</td>\n      <td>60</td>\n      <td>100</td>\n    </tr>\n    <tr>\n      <th>8</th>\n      <td>Head of Vertical Platforms m/w/d (80-100%)</td>\n      <td>localsearch (Swisscom Directories AG)</td>\n      <td>Festanstellung</td>\n      <td>Salary not specified</td>\n      <td>localsearch ist der führende Marketing- und We...</td>\n      <td>80</td>\n      <td>100</td>\n    </tr>\n    <tr>\n      <th>9</th>\n      <td>IT Servicedesk Mitarbeiter:in 100%</td>\n      <td>Digitalmaterial AG</td>\n      <td>Festanstellung</td>\n      <td>Salary not specified</td>\n      <td>Deine Aufgaben  Die Bedürfnisse unserer Kunden...</td>\n      <td>100</td>\n      <td>100</td>\n    </tr>\n  </tbody>\n</table>\n</div>"
     },
     "execution_count": 4,
     "metadata": {},
     "output_type": "execute_result"
    }
   ],
   "source": [
    "# Function to split workload into min_workload and max_workload\n",
    "def split_workload(workload):\n",
    "    if '–' in workload:\n",
    "        min_workload, max_workload = workload.split('–')\n",
    "        min_workload = min_workload.strip().replace('%', '')\n",
    "        max_workload = max_workload.strip().replace('%', '')\n",
    "    else:\n",
    "        min_workload = max_workload = workload.replace('%', '').strip()\n",
    "    return pd.Series([min_workload, max_workload])\n",
    "\n",
    "# Apply the function to the workload column\n",
    "df[['min_workload', 'max_workload']] = df['workload'].apply(split_workload)\n",
    "\n",
    "df = df.drop('workload', axis=1)\n",
    "\n",
    "df.head(10)"
   ],
   "metadata": {
    "collapsed": false,
    "ExecuteTime": {
     "end_time": "2024-07-03T14:07:17.169457Z",
     "start_time": "2024-07-03T14:07:17.020303Z"
    }
   },
   "id": "62deeeb21a55fa00",
   "execution_count": 4
  },
  {
   "cell_type": "code",
   "outputs": [],
   "source": [
    "# replace the value with contract type 'Entec AG' and 'EveryWare AG' to None\n",
    "df['contract_type'] = df['contract_type'].replace(['Entec AG', 'EveryWare AG', 'Razoon AG', 'A. Baggenstos & Co. AG'], None)"
   ],
   "metadata": {
    "collapsed": false,
    "ExecuteTime": {
     "end_time": "2024-07-03T14:07:17.176842Z",
     "start_time": "2024-07-03T14:07:17.171461Z"
    }
   },
   "id": "b53061bb1cfdbdf7",
   "execution_count": 5
  },
  {
   "cell_type": "code",
   "outputs": [],
   "source": [
    "df['salary'] = df['salary'].replace(['Salary not specified'], None)"
   ],
   "metadata": {
    "collapsed": false,
    "ExecuteTime": {
     "end_time": "2024-07-03T14:07:17.183973Z",
     "start_time": "2024-07-03T14:07:17.178849Z"
    }
   },
   "id": "9b3b0a33e22a3794",
   "execution_count": 6
  },
  {
   "cell_type": "code",
   "outputs": [
    {
     "data": {
      "text/plain": "                                               title  \\\n0              Projektleiter / Consultant e-Case.Net   \n1         Senior Software Engineer 80 - 100% (m/w/d)   \n2                          System Engineer - Ansible   \n3  Softwareentwickler/in mit GIS-Erfahrung, Profe...   \n4                       SAP Consultant PP-PI (m/w/d)   \n\n                          company   contract_type salary  \\\n0                     Infogate AG  Festanstellung   None   \n1                    Wey Group AG  Festanstellung   None   \n2  RMIT Professional Resources AG       Freelance   None   \n3                  EBP Schweiz AG  Festanstellung   None   \n4     Migros-Genossenschafts-Bund  Festanstellung   None   \n\n                                         description min_workload max_workload  \n0  Wer braucht Deine Verstärkung? 1991 waren wir ...           80          100  \n1  Deine Aufgaben:   Als Senior Software Engineer...           80          100  \n2  System Engineer Position einhergehend mit Kenn...           80          100  \n3  Dein Beitrag in unserem Team  Du entwickelst b...           60          100  \n4  \"Teamwork makes the dream work\" ist für dich k...           60          100  ",
      "text/html": "<div>\n<style scoped>\n    .dataframe tbody tr th:only-of-type {\n        vertical-align: middle;\n    }\n\n    .dataframe tbody tr th {\n        vertical-align: top;\n    }\n\n    .dataframe thead th {\n        text-align: right;\n    }\n</style>\n<table border=\"1\" class=\"dataframe\">\n  <thead>\n    <tr style=\"text-align: right;\">\n      <th></th>\n      <th>title</th>\n      <th>company</th>\n      <th>contract_type</th>\n      <th>salary</th>\n      <th>description</th>\n      <th>min_workload</th>\n      <th>max_workload</th>\n    </tr>\n  </thead>\n  <tbody>\n    <tr>\n      <th>0</th>\n      <td>Projektleiter / Consultant e-Case.Net</td>\n      <td>Infogate AG</td>\n      <td>Festanstellung</td>\n      <td>None</td>\n      <td>Wer braucht Deine Verstärkung? 1991 waren wir ...</td>\n      <td>80</td>\n      <td>100</td>\n    </tr>\n    <tr>\n      <th>1</th>\n      <td>Senior Software Engineer 80 - 100% (m/w/d)</td>\n      <td>Wey Group AG</td>\n      <td>Festanstellung</td>\n      <td>None</td>\n      <td>Deine Aufgaben:   Als Senior Software Engineer...</td>\n      <td>80</td>\n      <td>100</td>\n    </tr>\n    <tr>\n      <th>2</th>\n      <td>System Engineer - Ansible</td>\n      <td>RMIT Professional Resources AG</td>\n      <td>Freelance</td>\n      <td>None</td>\n      <td>System Engineer Position einhergehend mit Kenn...</td>\n      <td>80</td>\n      <td>100</td>\n    </tr>\n    <tr>\n      <th>3</th>\n      <td>Softwareentwickler/in mit GIS-Erfahrung, Profe...</td>\n      <td>EBP Schweiz AG</td>\n      <td>Festanstellung</td>\n      <td>None</td>\n      <td>Dein Beitrag in unserem Team  Du entwickelst b...</td>\n      <td>60</td>\n      <td>100</td>\n    </tr>\n    <tr>\n      <th>4</th>\n      <td>SAP Consultant PP-PI (m/w/d)</td>\n      <td>Migros-Genossenschafts-Bund</td>\n      <td>Festanstellung</td>\n      <td>None</td>\n      <td>\"Teamwork makes the dream work\" ist für dich k...</td>\n      <td>60</td>\n      <td>100</td>\n    </tr>\n  </tbody>\n</table>\n</div>"
     },
     "execution_count": 7,
     "metadata": {},
     "output_type": "execute_result"
    }
   ],
   "source": [
    "df.head()"
   ],
   "metadata": {
    "collapsed": false,
    "ExecuteTime": {
     "end_time": "2024-07-03T14:07:17.194945Z",
     "start_time": "2024-07-03T14:07:17.184976Z"
    }
   },
   "id": "4d8fae9357b5917b",
   "execution_count": 7
  },
  {
   "cell_type": "code",
   "outputs": [],
   "source": [
    "# create 2 dataframes one for rows with salaray and one for rows without salary\n",
    "df_with_salary = df[df['salary'].notnull()]\n",
    "df_without_salary = df[df['salary'].isnull()]"
   ],
   "metadata": {
    "collapsed": false,
    "ExecuteTime": {
     "end_time": "2024-07-03T14:07:17.203053Z",
     "start_time": "2024-07-03T14:07:17.195950Z"
    }
   },
   "id": "4844c47904e87c8e",
   "execution_count": 8
  },
  {
   "cell_type": "code",
   "outputs": [
    {
     "name": "stderr",
     "output_type": "stream",
     "text": [
      "C:\\Users\\41793\\AppData\\Local\\Temp\\ipykernel_2948\\2335014968.py:31: SettingWithCopyWarning: \n",
      "A value is trying to be set on a copy of a slice from a DataFrame.\n",
      "Try using .loc[row_indexer,col_indexer] = value instead\n",
      "\n",
      "See the caveats in the documentation: https://pandas.pydata.org/pandas-docs/stable/user_guide/indexing.html#returning-a-view-versus-a-copy\n",
      "  df_with_salary[['min_salary', 'max_salary']] = df_with_salary['salary'].apply(split_salary)\n",
      "C:\\Users\\41793\\AppData\\Local\\Temp\\ipykernel_2948\\2335014968.py:31: SettingWithCopyWarning: \n",
      "A value is trying to be set on a copy of a slice from a DataFrame.\n",
      "Try using .loc[row_indexer,col_indexer] = value instead\n",
      "\n",
      "See the caveats in the documentation: https://pandas.pydata.org/pandas-docs/stable/user_guide/indexing.html#returning-a-view-versus-a-copy\n",
      "  df_with_salary[['min_salary', 'max_salary']] = df_with_salary['salary'].apply(split_salary)\n"
     ]
    }
   ],
   "source": [
    "# Function to convert hourly wage to annual salary\n",
    "def hourly_to_annual(hourly_wage):\n",
    "    return int(hourly_wage) * 42 * 52\n",
    "\n",
    "# Function to split salary into min_salary and max_salary\n",
    "def split_salary(salary):\n",
    "    if salary is None:\n",
    "        return pd.Series([None, None])\n",
    "    \n",
    "    # Replace special characters and text\n",
    "    salary = salary.replace('CHF', '').replace(' ', '').replace(' ', '').replace('/Jahr', '').replace('min.', '').strip()\n",
    "    \n",
    "    if '/Stunde' in salary:\n",
    "        hourly_wage = salary.replace('/Stunde', '').strip()\n",
    "        annual_salary = hourly_to_annual(hourly_wage)\n",
    "        return pd.Series([annual_salary, annual_salary])\n",
    "    \n",
    "    if '–' in salary:\n",
    "        min_salary, max_salary = salary.split('–')\n",
    "    elif '-' in salary:\n",
    "        min_salary, max_salary = salary.split('-')\n",
    "    else:\n",
    "        min_salary = max_salary = salary.strip()\n",
    "    \n",
    "    min_salary = min_salary.strip().replace(',', '')\n",
    "    max_salary = max_salary.strip().replace(',', '')\n",
    "    \n",
    "    return pd.Series([int(min_salary), int(max_salary)])\n",
    "\n",
    "# Apply the function to the salary column and directly create the new columns\n",
    "df_with_salary[['min_salary', 'max_salary']] = df_with_salary['salary'].apply(split_salary)\n",
    "\n",
    "\n"
   ],
   "metadata": {
    "collapsed": false,
    "ExecuteTime": {
     "end_time": "2024-07-03T14:07:17.224266Z",
     "start_time": "2024-07-03T14:07:17.204056Z"
    }
   },
   "id": "6b94d781d0c2f4a0",
   "execution_count": 9
  },
  {
   "cell_type": "code",
   "outputs": [
    {
     "name": "stderr",
     "output_type": "stream",
     "text": [
      "C:\\Users\\41793\\AppData\\Local\\Temp\\ipykernel_2948\\1011646922.py:3: SettingWithCopyWarning: \n",
      "A value is trying to be set on a copy of a slice from a DataFrame\n",
      "\n",
      "See the caveats in the documentation: https://pandas.pydata.org/pandas-docs/stable/user_guide/indexing.html#returning-a-view-versus-a-copy\n",
      "  df_with_salary.drop('salary', axis=1, inplace=True)\n"
     ]
    }
   ],
   "source": [
    "df_with_salary.head()\n",
    "#remove the salary column\n",
    "df_with_salary.drop('salary', axis=1, inplace=True)"
   ],
   "metadata": {
    "collapsed": false,
    "ExecuteTime": {
     "end_time": "2024-07-03T14:07:17.231009Z",
     "start_time": "2024-07-03T14:07:17.225270Z"
    }
   },
   "id": "3b57649e7f18945",
   "execution_count": 10
  },
  {
   "cell_type": "code",
   "outputs": [
    {
     "data": {
      "text/plain": "                                                 title             company  \\\n100                                      Projektleiter          Ascaion AG   \n121                             Software Engineer .Net  ELCA Informatik AG   \n302                      Digital Analyst / Web Analyst             Unic AG   \n306                             ICT Supporter 100% (a)       Spitex Zürich   \n318  KAUFMÄNNISCHES PRAKTIKUM (100%) - MIT FOKUS KU...           gebana AG   \n\n      contract_type                                        description  \\\n100  Festanstellung  Deine Aufgaben  Unterstützung Pre-Sale durch A...   \n121  Festanstellung  Über ELCA Wir sind ELCA, einer der grössten Sc...   \n302  Festanstellung  Deine Aufgaben als Digital Analyst bei Unic   ...   \n306  Festanstellung  Möchtest du auch etwas bewegen und deine Arbei...   \n318       Praktikum  DEINE AUFGABEN IM KUND:INNENSERVICE – EINSATZ ...   \n\n    min_workload max_workload  min_salary  max_salary  \n100           60          100       80000      140000  \n121           80          100      100000      130000  \n302           80          100       90000      113000  \n306          100          100       78000       96000  \n318          100          100       28300       28300  ",
      "text/html": "<div>\n<style scoped>\n    .dataframe tbody tr th:only-of-type {\n        vertical-align: middle;\n    }\n\n    .dataframe tbody tr th {\n        vertical-align: top;\n    }\n\n    .dataframe thead th {\n        text-align: right;\n    }\n</style>\n<table border=\"1\" class=\"dataframe\">\n  <thead>\n    <tr style=\"text-align: right;\">\n      <th></th>\n      <th>title</th>\n      <th>company</th>\n      <th>contract_type</th>\n      <th>description</th>\n      <th>min_workload</th>\n      <th>max_workload</th>\n      <th>min_salary</th>\n      <th>max_salary</th>\n    </tr>\n  </thead>\n  <tbody>\n    <tr>\n      <th>100</th>\n      <td>Projektleiter</td>\n      <td>Ascaion AG</td>\n      <td>Festanstellung</td>\n      <td>Deine Aufgaben  Unterstützung Pre-Sale durch A...</td>\n      <td>60</td>\n      <td>100</td>\n      <td>80000</td>\n      <td>140000</td>\n    </tr>\n    <tr>\n      <th>121</th>\n      <td>Software Engineer .Net</td>\n      <td>ELCA Informatik AG</td>\n      <td>Festanstellung</td>\n      <td>Über ELCA Wir sind ELCA, einer der grössten Sc...</td>\n      <td>80</td>\n      <td>100</td>\n      <td>100000</td>\n      <td>130000</td>\n    </tr>\n    <tr>\n      <th>302</th>\n      <td>Digital Analyst / Web Analyst</td>\n      <td>Unic AG</td>\n      <td>Festanstellung</td>\n      <td>Deine Aufgaben als Digital Analyst bei Unic   ...</td>\n      <td>80</td>\n      <td>100</td>\n      <td>90000</td>\n      <td>113000</td>\n    </tr>\n    <tr>\n      <th>306</th>\n      <td>ICT Supporter 100% (a)</td>\n      <td>Spitex Zürich</td>\n      <td>Festanstellung</td>\n      <td>Möchtest du auch etwas bewegen und deine Arbei...</td>\n      <td>100</td>\n      <td>100</td>\n      <td>78000</td>\n      <td>96000</td>\n    </tr>\n    <tr>\n      <th>318</th>\n      <td>KAUFMÄNNISCHES PRAKTIKUM (100%) - MIT FOKUS KU...</td>\n      <td>gebana AG</td>\n      <td>Praktikum</td>\n      <td>DEINE AUFGABEN IM KUND:INNENSERVICE – EINSATZ ...</td>\n      <td>100</td>\n      <td>100</td>\n      <td>28300</td>\n      <td>28300</td>\n    </tr>\n  </tbody>\n</table>\n</div>"
     },
     "execution_count": 11,
     "metadata": {},
     "output_type": "execute_result"
    }
   ],
   "source": [
    "df_with_salary.head()"
   ],
   "metadata": {
    "collapsed": false,
    "ExecuteTime": {
     "end_time": "2024-07-03T14:07:17.240472Z",
     "start_time": "2024-07-03T14:07:17.232012Z"
    }
   },
   "id": "588a30e0c74abf00",
   "execution_count": 11
  },
  {
   "cell_type": "code",
   "outputs": [
    {
     "name": "stderr",
     "output_type": "stream",
     "text": [
      "C:\\Users\\41793\\AppData\\Local\\Temp\\ipykernel_2948\\2429596313.py:3: SettingWithCopyWarning: \n",
      "A value is trying to be set on a copy of a slice from a DataFrame\n",
      "\n",
      "See the caveats in the documentation: https://pandas.pydata.org/pandas-docs/stable/user_guide/indexing.html#returning-a-view-versus-a-copy\n",
      "  df_with_salary.drop(df_with_salary_few_shot.index, inplace=True)\n"
     ]
    }
   ],
   "source": [
    "np.random.seed(11)\n",
    "df_with_salary_few_shot = df_with_salary.sample(5, random_state=11)\n",
    "df_with_salary.drop(df_with_salary_few_shot.index, inplace=True)"
   ],
   "metadata": {
    "collapsed": false,
    "ExecuteTime": {
     "end_time": "2024-07-03T14:09:22.395801Z",
     "start_time": "2024-07-03T14:09:22.389053Z"
    }
   },
   "id": "75d25c3a3cd2b07f",
   "execution_count": 16
  },
  {
   "cell_type": "code",
   "outputs": [
    {
     "data": {
      "text/plain": "                                           title               company  \\\n497  Consultant Microsoft 365 / Modern Workplace  Online Consulting AG   \n916                 IT Supporter 80-100% (m/w/d)          konekkt GmbH   \n913             Avaloq Developer (m/w/d) 80-100%          konekkt GmbH   \n877          Frontend Entwickler 80-100% (m/w/d)          konekkt GmbH   \n100                                Projektleiter            Ascaion AG   \n\n      contract_type                                        description  \\\n497  Festanstellung  Das wirst du machen Bereit für den ultimativen...   \n916  Festanstellung  konekkt verbindet talentierte IT Fachkräfte mi...   \n913  Festanstellung  Tritt einem führenden IT-Dienstleister bei, de...   \n877  Festanstellung  konekkt verbindet talentierte IT Fachkräfte mi...   \n100  Festanstellung  Deine Aufgaben  Unterstützung Pre-Sale durch A...   \n\n    min_workload max_workload  min_salary  max_salary  \n497           80          100       84000      102000  \n916          100          100       65000       85000  \n913           80          100      105000      125000  \n877          100          100       95000      115000  \n100           60          100       80000      140000  ",
      "text/html": "<div>\n<style scoped>\n    .dataframe tbody tr th:only-of-type {\n        vertical-align: middle;\n    }\n\n    .dataframe tbody tr th {\n        vertical-align: top;\n    }\n\n    .dataframe thead th {\n        text-align: right;\n    }\n</style>\n<table border=\"1\" class=\"dataframe\">\n  <thead>\n    <tr style=\"text-align: right;\">\n      <th></th>\n      <th>title</th>\n      <th>company</th>\n      <th>contract_type</th>\n      <th>description</th>\n      <th>min_workload</th>\n      <th>max_workload</th>\n      <th>min_salary</th>\n      <th>max_salary</th>\n    </tr>\n  </thead>\n  <tbody>\n    <tr>\n      <th>497</th>\n      <td>Consultant Microsoft 365 / Modern Workplace</td>\n      <td>Online Consulting AG</td>\n      <td>Festanstellung</td>\n      <td>Das wirst du machen Bereit für den ultimativen...</td>\n      <td>80</td>\n      <td>100</td>\n      <td>84000</td>\n      <td>102000</td>\n    </tr>\n    <tr>\n      <th>916</th>\n      <td>IT Supporter 80-100% (m/w/d)</td>\n      <td>konekkt GmbH</td>\n      <td>Festanstellung</td>\n      <td>konekkt verbindet talentierte IT Fachkräfte mi...</td>\n      <td>100</td>\n      <td>100</td>\n      <td>65000</td>\n      <td>85000</td>\n    </tr>\n    <tr>\n      <th>913</th>\n      <td>Avaloq Developer (m/w/d) 80-100%</td>\n      <td>konekkt GmbH</td>\n      <td>Festanstellung</td>\n      <td>Tritt einem führenden IT-Dienstleister bei, de...</td>\n      <td>80</td>\n      <td>100</td>\n      <td>105000</td>\n      <td>125000</td>\n    </tr>\n    <tr>\n      <th>877</th>\n      <td>Frontend Entwickler 80-100% (m/w/d)</td>\n      <td>konekkt GmbH</td>\n      <td>Festanstellung</td>\n      <td>konekkt verbindet talentierte IT Fachkräfte mi...</td>\n      <td>100</td>\n      <td>100</td>\n      <td>95000</td>\n      <td>115000</td>\n    </tr>\n    <tr>\n      <th>100</th>\n      <td>Projektleiter</td>\n      <td>Ascaion AG</td>\n      <td>Festanstellung</td>\n      <td>Deine Aufgaben  Unterstützung Pre-Sale durch A...</td>\n      <td>60</td>\n      <td>100</td>\n      <td>80000</td>\n      <td>140000</td>\n    </tr>\n  </tbody>\n</table>\n</div>"
     },
     "execution_count": 13,
     "metadata": {},
     "output_type": "execute_result"
    }
   ],
   "source": [
    "df_with_salary_few_shot.head()"
   ],
   "metadata": {
    "collapsed": false,
    "ExecuteTime": {
     "end_time": "2024-07-03T14:07:17.256424Z",
     "start_time": "2024-07-03T14:07:17.247092Z"
    }
   },
   "id": "9e8c5b92b6527e4b",
   "execution_count": 13
  },
  {
   "cell_type": "code",
   "outputs": [],
   "source": [
    "df_with_salary_few_shot.to_csv('../data/df_with_salary_few_shot.csv', index=False)\n",
    "df_with_salary.to_csv('../data/df_with_salary.csv', index=False)\n",
    "df_without_salary.to_csv('../data/df_without_salary.csv', index=False)"
   ],
   "metadata": {
    "collapsed": false,
    "ExecuteTime": {
     "end_time": "2024-07-03T14:09:49.413965Z",
     "start_time": "2024-07-03T14:09:49.344851Z"
    }
   },
   "id": "74a7da9c9bd1e565",
   "execution_count": 18
  }
 ],
 "metadata": {
  "kernelspec": {
   "display_name": "Python 3",
   "language": "python",
   "name": "python3"
  },
  "language_info": {
   "codemirror_mode": {
    "name": "ipython",
    "version": 2
   },
   "file_extension": ".py",
   "mimetype": "text/x-python",
   "name": "python",
   "nbconvert_exporter": "python",
   "pygments_lexer": "ipython2",
   "version": "2.7.6"
  }
 },
 "nbformat": 4,
 "nbformat_minor": 5
}
